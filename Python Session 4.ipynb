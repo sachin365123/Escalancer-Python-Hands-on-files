{
 "cells": [
  {
   "cell_type": "markdown",
   "id": "a1c0c5e3-b8fd-4269-a37b-cedebea8af69",
   "metadata": {},
   "source": [
    "## Message"
   ]
  },
  {
   "cell_type": "code",
   "execution_count": 4,
   "id": "79c97f91-a260-43d0-859b-f15fc63a94b6",
   "metadata": {},
   "outputs": [
    {
     "name": "stdout",
     "output_type": "stream",
     "text": [
      "Sachin Saxena\n"
     ]
    }
   ],
   "source": [
    "print(\"Sachin Saxena\")"
   ]
  },
  {
   "cell_type": "code",
   "execution_count": 7,
   "id": "50648b22-370e-4eb7-96c7-4915e16e2019",
   "metadata": {},
   "outputs": [
    {
     "name": "stdout",
     "output_type": "stream",
     "text": [
      "Data Science\n"
     ]
    }
   ],
   "source": [
    "print(\"Data Science\")"
   ]
  },
  {
   "cell_type": "code",
   "execution_count": 8,
   "id": "bf76da39-793f-49a1-878d-89b71c239e08",
   "metadata": {},
   "outputs": [
    {
     "name": "stdout",
     "output_type": "stream",
     "text": [
      "Machine Learning\n"
     ]
    }
   ],
   "source": [
    "print(\"Machine Learning\")"
   ]
  },
  {
   "cell_type": "markdown",
   "id": "f8997acd-e337-4b9f-9005-a8ab754bc489",
   "metadata": {},
   "source": [
    "## Variables"
   ]
  },
  {
   "cell_type": "code",
   "execution_count": 9,
   "id": "f9be351c-d4e9-4a89-9020-daf5db9b982e",
   "metadata": {},
   "outputs": [
    {
     "name": "stdout",
     "output_type": "stream",
     "text": [
      "16\n"
     ]
    }
   ],
   "source": [
    "a=7\n",
    "b=9\n",
    "print(a+b)"
   ]
  },
  {
   "cell_type": "code",
   "execution_count": 10,
   "id": "79040216-cd9a-429b-ac27-032d122b4008",
   "metadata": {},
   "outputs": [
    {
     "name": "stdout",
     "output_type": "stream",
     "text": [
      "-2\n"
     ]
    }
   ],
   "source": [
    "a=7\n",
    "b=9\n",
    "print(a-b)"
   ]
  },
  {
   "cell_type": "code",
   "execution_count": 11,
   "id": "606228e9-55f1-4e46-925f-b631ef2630b8",
   "metadata": {},
   "outputs": [
    {
     "name": "stdout",
     "output_type": "stream",
     "text": [
      "140728851022824\n"
     ]
    }
   ],
   "source": [
    "print(id(a))"
   ]
  },
  {
   "cell_type": "code",
   "execution_count": 12,
   "id": "fa022de2-f7e7-4f64-a28b-af8188db8f22",
   "metadata": {},
   "outputs": [
    {
     "name": "stdout",
     "output_type": "stream",
     "text": [
      "140728851022888\n"
     ]
    }
   ],
   "source": [
    "print(id(b))"
   ]
  },
  {
   "cell_type": "code",
   "execution_count": 13,
   "id": "a4dbdd87-9f48-4e2d-8675-497e97c12e2e",
   "metadata": {},
   "outputs": [
    {
     "name": "stdout",
     "output_type": "stream",
     "text": [
      "7\n"
     ]
    }
   ],
   "source": [
    "print(a)"
   ]
  },
  {
   "cell_type": "code",
   "execution_count": 14,
   "id": "f7bf461d-7ead-4d6d-ad4d-53e2f0d85597",
   "metadata": {},
   "outputs": [
    {
     "name": "stdout",
     "output_type": "stream",
     "text": [
      "9\n"
     ]
    }
   ],
   "source": [
    "print(b)"
   ]
  },
  {
   "cell_type": "markdown",
   "id": "7448facf-5df5-439e-b7e6-35f69a4f8acb",
   "metadata": {},
   "source": [
    "## String in Python"
   ]
  },
  {
   "cell_type": "code",
   "execution_count": 1,
   "id": "d74793d6-f1dd-45f0-9b89-5249d40cdf18",
   "metadata": {},
   "outputs": [
    {
     "name": "stdout",
     "output_type": "stream",
     "text": [
      "Data Science and Machine Learning\n"
     ]
    }
   ],
   "source": [
    "print(\"Data Science and Machine Learning\")"
   ]
  },
  {
   "cell_type": "code",
   "execution_count": 11,
   "id": "3278b621-f9c8-4089-ba30-b72911f712f4",
   "metadata": {},
   "outputs": [
    {
     "name": "stdout",
     "output_type": "stream",
     "text": [
      "Data Science and 'ML' Machine Learning\n"
     ]
    }
   ],
   "source": [
    "print(\"Data Science and \\'ML\\' Machine Learning\")"
   ]
  },
  {
   "cell_type": "code",
   "execution_count": 13,
   "id": "0467c023-07ed-4434-b7ab-1fe35c4b6b2f",
   "metadata": {},
   "outputs": [
    {
     "name": "stdout",
     "output_type": "stream",
     "text": [
      " IMDb.com, Inc. or its affiliates. \n",
      "All rights reserved. Box Office Mojo \n",
      "and IMDb are trademarks or \n",
      "registered trademarks of IMDb.com,\n",
      "Inc. or its affiliates. \n",
      "Conditions of Use and Privacy Policy \n",
      "under which this service is provided to you.\n"
     ]
    }
   ],
   "source": [
    "print(''' IMDb.com, Inc. or its affiliates. \n",
    "All rights reserved. Box Office Mojo \n",
    "and IMDb are trademarks or \n",
    "registered trademarks of IMDb.com,\n",
    "Inc. or its affiliates. \n",
    "Conditions of Use and Privacy Policy \n",
    "under which this service is provided to you.''')"
   ]
  },
  {
   "cell_type": "code",
   "execution_count": 9,
   "id": "afd027bf-d676-4127-aca1-5bd38b270d09",
   "metadata": {},
   "outputs": [
    {
     "name": "stdout",
     "output_type": "stream",
     "text": [
      "Data Engineer is the \n",
      "role of Python. \n",
      "ML is the key \n",
      "element of this course\n"
     ]
    }
   ],
   "source": [
    "# New line Raw mode\n",
    "print(\"Data Engineer is the \\nrole of Python. \\nML is the key \\nelement of this course\")"
   ]
  },
  {
   "cell_type": "code",
   "execution_count": 10,
   "id": "9cbc2a31-eb4f-40bc-974b-a90cffcc369f",
   "metadata": {},
   "outputs": [
    {
     "name": "stdout",
     "output_type": "stream",
     "text": [
      "Data Engineer is the role of Python. \"ML\" is the key element of this course\n"
     ]
    }
   ],
   "source": [
    "# Double Quote\n",
    "print(\"Data Engineer is the role of Python. \\\"ML\\\" is the key element of this course\")"
   ]
  },
  {
   "cell_type": "code",
   "execution_count": 13,
   "id": "c3f60513-8ed9-4096-98c3-1647ac1fffb6",
   "metadata": {},
   "outputs": [
    {
     "name": "stdout",
     "output_type": "stream",
     "text": [
      "Data Engineer is the role of \tPython. \t\t\tML is the key \telement of this course\n"
     ]
    }
   ],
   "source": [
    "# Tab \n",
    "print(\"Data Engineer is the role of \\tPython. \\t\\t\\tML is the key \\telement of this course\")"
   ]
  },
  {
   "cell_type": "code",
   "execution_count": 25,
   "id": "ed5189e0-aed2-42eb-ba95-c93d236d4bd7",
   "metadata": {},
   "outputs": [
    {
     "name": "stdout",
     "output_type": "stream",
     "text": [
      "Data Engineer is the role of Python. 'ML' is the key element of this course\n"
     ]
    }
   ],
   "source": [
    "# Single Quote\n",
    "print(\"Data Engineer is the role of Python. \\'ML\\' is the key element of this course\")"
   ]
  },
  {
   "cell_type": "code",
   "execution_count": 18,
   "id": "eac5dfe9-1252-470d-812a-e5dfcbccbfc5",
   "metadata": {},
   "outputs": [
    {
     "name": "stdout",
     "output_type": "stream",
     "text": [
      "Data Engineer is the role of Python. \\ML is the key element of this course\n",
      "Data Engineer is \\not the role of Python. \\ML is \\the key element of this course\n"
     ]
    }
   ],
   "source": [
    "# Backslash\n",
    "print(\"Data Engineer is the role of Python. \\\\ML is the key element of this course\")\n",
    "print(\"Data Engineer is \\\\not the role of Python. \\ML is \\\\the key element of this course\")"
   ]
  },
  {
   "cell_type": "code",
   "execution_count": 19,
   "id": "23a13370-0bd3-41f7-ae4d-c94b890d319e",
   "metadata": {},
   "outputs": [
    {
     "name": "stdout",
     "output_type": "stream",
     "text": [
      "True\\the True\n"
     ]
    }
   ],
   "source": [
    "print('True\\\\the True')"
   ]
  },
  {
   "cell_type": "markdown",
   "id": "cfefb7b0-94de-48b7-ad2d-eb0331542dba",
   "metadata": {},
   "source": [
    "## Concatenation in String"
   ]
  },
  {
   "cell_type": "code",
   "execution_count": 4,
   "id": "f83d5def-95e5-4f2c-8c09-f09a8f986d11",
   "metadata": {},
   "outputs": [
    {
     "name": "stdout",
     "output_type": "stream",
     "text": [
      "Machine Learning Sachin\n"
     ]
    }
   ],
   "source": [
    "# var='Machine Learning'+' '+'Sachin'\n",
    "var=\"Machine Learning\"+' '+'Sachin'\n",
    "print(var)"
   ]
  },
  {
   "cell_type": "code",
   "execution_count": 39,
   "id": "ed149134-44d8-48c2-9193-1999baed555b",
   "metadata": {},
   "outputs": [
    {
     "name": "stdout",
     "output_type": "stream",
     "text": [
      "Data Scientist Data Scientist Data Scientist Data Scientist Data Scientist \n"
     ]
    }
   ],
   "source": [
    "var='Data Scientist '*5\n",
    "print(var)"
   ]
  },
  {
   "cell_type": "code",
   "execution_count": 40,
   "id": "bd6bee8d-f219-4ecd-88a8-504e7ce02b53",
   "metadata": {},
   "outputs": [],
   "source": [
    "First_name='Ajay Sain'\n",
    "Second_name='Ajay Sain'"
   ]
  },
  {
   "cell_type": "code",
   "execution_count": 41,
   "id": "b5687be4-1147-4de0-b47c-b193c192d33a",
   "metadata": {},
   "outputs": [
    {
     "name": "stdout",
     "output_type": "stream",
     "text": [
      "2257148790448\n"
     ]
    }
   ],
   "source": [
    "print(id(First_name))"
   ]
  },
  {
   "cell_type": "code",
   "execution_count": 48,
   "id": "b095e0e5-b9b1-48c4-a1bf-553f26e13d72",
   "metadata": {},
   "outputs": [
    {
     "name": "stdout",
     "output_type": "stream",
     "text": [
      "2257148790768\n",
      "140720300737512\n"
     ]
    }
   ],
   "source": [
    "print(id(Second_name))\n",
    "var=7\n",
    "print(id(var))"
   ]
  },
  {
   "cell_type": "code",
   "execution_count": 43,
   "id": "6663233a-44ee-4695-ae3c-9a2a7d993e7f",
   "metadata": {},
   "outputs": [
    {
     "name": "stdout",
     "output_type": "stream",
     "text": [
      "Ajay Sain\n"
     ]
    }
   ],
   "source": [
    "print(Second_name)"
   ]
  },
  {
   "cell_type": "code",
   "execution_count": 47,
   "id": "3887a5b8-175b-4f70-95d4-85d47d84a736",
   "metadata": {},
   "outputs": [
    {
     "name": "stdout",
     "output_type": "stream",
     "text": [
      "S\n"
     ]
    }
   ],
   "source": [
    "print(Second_name[5])"
   ]
  },
  {
   "cell_type": "code",
   "execution_count": 49,
   "id": "8731a31f-eb70-41de-8fd5-04902628a3ca",
   "metadata": {},
   "outputs": [],
   "source": [
    "name='Sachin Kumar Saxena'"
   ]
  },
  {
   "cell_type": "code",
   "execution_count": 52,
   "id": "30f1ef57-b486-404a-9720-71ad646c74ab",
   "metadata": {},
   "outputs": [
    {
     "name": "stdout",
     "output_type": "stream",
     "text": [
      "Saxena\n"
     ]
    }
   ],
   "source": [
    "print(name[13:22])"
   ]
  },
  {
   "cell_type": "code",
   "execution_count": 59,
   "id": "6a9e6405-f59b-45da-9ad0-fe7f4847bef8",
   "metadata": {},
   "outputs": [
    {
     "name": "stdout",
     "output_type": "stream",
     "text": [
      "Sachin Kumar Sax\n"
     ]
    }
   ],
   "source": [
    "print(name[:16])"
   ]
  },
  {
   "cell_type": "code",
   "execution_count": 61,
   "id": "468d570a-0b5e-4d73-9a6a-612a16c6cb4f",
   "metadata": {},
   "outputs": [
    {
     "name": "stdout",
     "output_type": "stream",
     "text": [
      "Sachin Kumar Saxena\n"
     ]
    }
   ],
   "source": [
    "print(name)"
   ]
  },
  {
   "cell_type": "code",
   "execution_count": 60,
   "id": "7943905e-9925-42eb-af69-50e7d561af5c",
   "metadata": {},
   "outputs": [
    {
     "name": "stdout",
     "output_type": "stream",
     "text": [
      "ahnKm\n"
     ]
    }
   ],
   "source": [
    "print(name[1:10:2])"
   ]
  },
  {
   "cell_type": "markdown",
   "id": "9f1e6273-0516-4a80-a5b3-75c6719381b8",
   "metadata": {},
   "source": [
    "## Functions in String"
   ]
  },
  {
   "cell_type": "code",
   "execution_count": 5,
   "id": "70b7d5c2-1047-4242-a9c8-eb6e65b31cc4",
   "metadata": {},
   "outputs": [
    {
     "name": "stdin",
     "output_type": "stream",
     "text": [
      "Enter your 4 digit PIN....  4715\n"
     ]
    }
   ],
   "source": [
    "atm_pin=int(input(\"Enter your 4 digit PIN.... \"))"
   ]
  },
  {
   "cell_type": "code",
   "execution_count": 6,
   "id": "b55a46ef-6108-4e65-96f7-5e7726b05d57",
   "metadata": {},
   "outputs": [
    {
     "name": "stdin",
     "output_type": "stream",
     "text": [
      "Enter your amount to withdraw....  85000\n"
     ]
    }
   ],
   "source": [
    "Amount=int(input(\"Enter your amount to withdraw.... \"))"
   ]
  },
  {
   "cell_type": "code",
   "execution_count": 7,
   "id": "a05463b4-ebbf-493c-83e0-d297df1aef85",
   "metadata": {},
   "outputs": [
    {
     "data": {
      "text/plain": [
       "85000"
      ]
     },
     "execution_count": 7,
     "metadata": {},
     "output_type": "execute_result"
    }
   ],
   "source": [
    "Amount"
   ]
  },
  {
   "cell_type": "code",
   "execution_count": 8,
   "id": "9d866ae4-d29c-4698-beec-43967aec5392",
   "metadata": {},
   "outputs": [
    {
     "data": {
      "text/plain": [
       "4715"
      ]
     },
     "execution_count": 8,
     "metadata": {},
     "output_type": "execute_result"
    }
   ],
   "source": [
    "atm_pin"
   ]
  },
  {
   "cell_type": "code",
   "execution_count": 9,
   "id": "10ea39db-ad45-4a44-a99f-45570121904d",
   "metadata": {},
   "outputs": [
    {
     "data": {
      "text/plain": [
       "int"
      ]
     },
     "execution_count": 9,
     "metadata": {},
     "output_type": "execute_result"
    }
   ],
   "source": [
    "type(atm_pin)"
   ]
  },
  {
   "cell_type": "code",
   "execution_count": 31,
   "id": "3e092930-5b26-4df0-bacf-895db36bcf01",
   "metadata": {},
   "outputs": [
    {
     "data": {
      "text/plain": [
       "12815"
      ]
     },
     "execution_count": 31,
     "metadata": {},
     "output_type": "execute_result"
    }
   ],
   "source": [
    "Amount+atm_pin"
   ]
  },
  {
   "cell_type": "code",
   "execution_count": 32,
   "id": "06bcb8fa-cde9-46c7-b1b7-374a9a31457c",
   "metadata": {},
   "outputs": [
    {
     "name": "stdout",
     "output_type": "stream",
     "text": [
      "Ruchika Punwatkar\n"
     ]
    }
   ],
   "source": [
    "var=\"Ruchika Punwatkar\"\n",
    "print(var)"
   ]
  },
  {
   "cell_type": "code",
   "execution_count": 33,
   "id": "8e6f27d7-c054-432e-8abb-6225e62686c3",
   "metadata": {},
   "outputs": [
    {
     "data": {
      "text/plain": [
       "17"
      ]
     },
     "execution_count": 33,
     "metadata": {},
     "output_type": "execute_result"
    }
   ],
   "source": [
    "len(var)"
   ]
  },
  {
   "cell_type": "code",
   "execution_count": 34,
   "id": "a3bf864b-cba6-486a-95cc-868033679651",
   "metadata": {},
   "outputs": [
    {
     "data": {
      "text/plain": [
       "17"
      ]
     },
     "execution_count": 34,
     "metadata": {},
     "output_type": "execute_result"
    }
   ],
   "source": [
    "len(\"Ruchika Punwatkar\")"
   ]
  },
  {
   "cell_type": "code",
   "execution_count": 36,
   "id": "cb5bc04f-3f13-41f6-8a9f-66526db648e3",
   "metadata": {},
   "outputs": [
    {
     "data": {
      "text/plain": [
       "3"
      ]
     },
     "execution_count": 36,
     "metadata": {},
     "output_type": "execute_result"
    }
   ],
   "source": [
    "var=int(3.9)\n",
    "var"
   ]
  },
  {
   "cell_type": "code",
   "execution_count": 37,
   "id": "82f4377c-a69f-406f-b8fe-faa71f663776",
   "metadata": {},
   "outputs": [
    {
     "data": {
      "text/plain": [
       "'8'"
      ]
     },
     "execution_count": 37,
     "metadata": {},
     "output_type": "execute_result"
    }
   ],
   "source": [
    "var3=str(8)\n",
    "var3"
   ]
  },
  {
   "cell_type": "code",
   "execution_count": 38,
   "id": "2294a099-ac78-4bdc-b66c-5f8900cb92d9",
   "metadata": {},
   "outputs": [
    {
     "name": "stdout",
     "output_type": "stream",
     "text": [
      "There are 1200 numbers \n"
     ]
    }
   ],
   "source": [
    "print(f\"There are {20*10*6} numbers \")"
   ]
  },
  {
   "cell_type": "code",
   "execution_count": 39,
   "id": "30177244-93b6-4f5b-90b3-966e1b8f80f4",
   "metadata": {},
   "outputs": [
    {
     "data": {
      "text/plain": [
       "'sachin'"
      ]
     },
     "execution_count": 39,
     "metadata": {},
     "output_type": "execute_result"
    }
   ],
   "source": [
    "\"SACHIN\".lower()"
   ]
  },
  {
   "cell_type": "code",
   "execution_count": 10,
   "id": "67bf3e44-e356-477c-8f63-4fb444201087",
   "metadata": {},
   "outputs": [
    {
     "data": {
      "text/plain": [
       "'SACHIN'"
      ]
     },
     "execution_count": 10,
     "metadata": {},
     "output_type": "execute_result"
    }
   ],
   "source": [
    "'sachin'.upper()"
   ]
  },
  {
   "cell_type": "code",
   "execution_count": 11,
   "id": "e89cad0e-6814-4f1c-ab8b-816165c48d0c",
   "metadata": {},
   "outputs": [
    {
     "data": {
      "text/plain": [
       "'shalini'"
      ]
     },
     "execution_count": 11,
     "metadata": {},
     "output_type": "execute_result"
    }
   ],
   "source": [
    "\"SHALINI\".lower()"
   ]
  },
  {
   "cell_type": "code",
   "execution_count": 12,
   "id": "e506c0d5-f5b2-43dc-818d-bbae364ee5d1",
   "metadata": {},
   "outputs": [
    {
     "data": {
      "text/plain": [
       "'SHALKNK'"
      ]
     },
     "execution_count": 12,
     "metadata": {},
     "output_type": "execute_result"
    }
   ],
   "source": [
    "\"SHALINI\".replace('I','K')"
   ]
  },
  {
   "cell_type": "code",
   "execution_count": 48,
   "id": "fd49a734-87c7-409f-9126-5d8207f5ae50",
   "metadata": {},
   "outputs": [
    {
     "data": {
      "text/plain": [
       "10"
      ]
     },
     "execution_count": 48,
     "metadata": {},
     "output_type": "execute_result"
    }
   ],
   "source": [
    "'Class DS Class'.find('l',7)"
   ]
  },
  {
   "cell_type": "code",
   "execution_count": 13,
   "id": "870d77f5-5a79-4a3e-a7ca-cdf5b317e438",
   "metadata": {},
   "outputs": [
    {
     "data": {
      "text/plain": [
       "'end'"
      ]
     },
     "execution_count": 13,
     "metadata": {},
     "output_type": "execute_result"
    }
   ],
   "source": [
    "msg = \"________end_________\"\n",
    "msg.strip('_')"
   ]
  },
  {
   "cell_type": "code",
   "execution_count": 14,
   "id": "3360aa68-84fc-4464-b75e-3acdb56a04e0",
   "metadata": {},
   "outputs": [
    {
     "data": {
      "text/plain": [
       "'end'"
      ]
     },
     "execution_count": 14,
     "metadata": {},
     "output_type": "execute_result"
    }
   ],
   "source": [
    "msg = \"      end      \"\n",
    "msg.strip(' ')"
   ]
  },
  {
   "cell_type": "code",
   "execution_count": 15,
   "id": "17579dd3-a7dc-4d6b-8c1b-c4df12c4ba26",
   "metadata": {},
   "outputs": [
    {
     "data": {
      "text/plain": [
       "'end,,,,,'"
      ]
     },
     "execution_count": 15,
     "metadata": {},
     "output_type": "execute_result"
    }
   ],
   "source": [
    "msg = \",,,,,end,,,,,\"\n",
    "msg.lstrip(',')"
   ]
  },
  {
   "cell_type": "code",
   "execution_count": 16,
   "id": "55c186a9-98fa-48df-84ef-8ee4cf3701bc",
   "metadata": {},
   "outputs": [
    {
     "data": {
      "text/plain": [
       "',,,,,end'"
      ]
     },
     "execution_count": 16,
     "metadata": {},
     "output_type": "execute_result"
    }
   ],
   "source": [
    "msg = \",,,,,end,,,,,\"\n",
    "msg.rstrip(',')"
   ]
  },
  {
   "cell_type": "code",
   "execution_count": 59,
   "id": "5bbd751c-c632-4b56-8dd9-47d93cb7e5e1",
   "metadata": {},
   "outputs": [
    {
     "data": {
      "text/plain": [
       "10"
      ]
     },
     "execution_count": 59,
     "metadata": {},
     "output_type": "execute_result"
    }
   ],
   "source": [
    "msg = \"Cat in a hat\"\n",
    "msg.find('a',8)"
   ]
  },
  {
   "cell_type": "code",
   "execution_count": 60,
   "id": "5f94fb1c-f794-4a36-8115-9a6a70f6e60e",
   "metadata": {},
   "outputs": [
    {
     "data": {
      "text/plain": [
       "10"
      ]
     },
     "execution_count": 60,
     "metadata": {},
     "output_type": "execute_result"
    }
   ],
   "source": [
    "msg = \"Cat in a hat\"\n",
    "msg.rfind('a')"
   ]
  },
  {
   "cell_type": "code",
   "execution_count": 17,
   "id": "df5a7aa2-86ec-413e-bca3-7ba99a534e00",
   "metadata": {},
   "outputs": [
    {
     "data": {
      "text/plain": [
       "1"
      ]
     },
     "execution_count": 17,
     "metadata": {},
     "output_type": "execute_result"
    }
   ],
   "source": [
    "msg = \"Cat in a hat\"\n",
    "msg.index('a')"
   ]
  },
  {
   "cell_type": "code",
   "execution_count": 71,
   "id": "b265d894-7c88-4acd-9751-c26fd5949493",
   "metadata": {},
   "outputs": [],
   "source": [
    "msg=msg.replace('a','K')"
   ]
  },
  {
   "cell_type": "code",
   "execution_count": 72,
   "id": "04ff951a-7130-409c-8cf4-17f2c8f86476",
   "metadata": {},
   "outputs": [
    {
     "data": {
      "text/plain": [
       "'CKt in K hKt'"
      ]
     },
     "execution_count": 72,
     "metadata": {},
     "output_type": "execute_result"
    }
   ],
   "source": [
    "msg"
   ]
  },
  {
   "cell_type": "code",
   "execution_count": 83,
   "id": "f0a340bc-fc51-481d-8a94-92682f0225a7",
   "metadata": {},
   "outputs": [
    {
     "data": {
      "text/plain": [
       "'CAt in K hKt'"
      ]
     },
     "execution_count": 83,
     "metadata": {},
     "output_type": "execute_result"
    }
   ],
   "source": [
    "msg.replace('K','A',1)"
   ]
  },
  {
   "cell_type": "markdown",
   "id": "e14b5993-a0ca-4a34-bf1c-75a1948c5560",
   "metadata": {},
   "source": [
    "## Numbers"
   ]
  },
  {
   "cell_type": "code",
   "execution_count": 21,
   "id": "eec1ca69-3397-4e0c-b381-03cf106aad1f",
   "metadata": {},
   "outputs": [
    {
     "data": {
      "text/plain": [
       "float"
      ]
     },
     "execution_count": 21,
     "metadata": {},
     "output_type": "execute_result"
    }
   ],
   "source": [
    "# Question 1: What is the result of:\n",
    "\n",
    "num1 = 10 + 25+3.0\n",
    "type(num1)"
   ]
  },
  {
   "cell_type": "code",
   "execution_count": 22,
   "id": "8e2f2e3c-eaa2-4d7b-b9c8-918f1b60c56b",
   "metadata": {},
   "outputs": [
    {
     "name": "stdout",
     "output_type": "stream",
     "text": [
      "10\n"
     ]
    }
   ],
   "source": [
    "# Question 2: What is the result of:\n",
    "\n",
    "x = abs(-10)\n",
    "print(x)"
   ]
  },
  {
   "cell_type": "code",
   "execution_count": 24,
   "id": "a82ca9f8-a114-46b9-ac8b-c6f4ebcdf6ee",
   "metadata": {},
   "outputs": [
    {
     "name": "stdout",
     "output_type": "stream",
     "text": [
      "6\n"
     ]
    }
   ],
   "source": [
    "# Question 3: What is the result of:\n",
    "\n",
    "x = (5 // 2) * 3\n",
    "print(x)"
   ]
  },
  {
   "cell_type": "code",
   "execution_count": 26,
   "id": "e2121f23-edd1-4c1b-881d-c6cee89cbad1",
   "metadata": {},
   "outputs": [
    {
     "name": "stdout",
     "output_type": "stream",
     "text": [
      "70\n"
     ]
    }
   ],
   "source": [
    "# Question 4: What is the result of:\n",
    "\n",
    "x = (25 % 9) * 10\n",
    "print(x)"
   ]
  },
  {
   "cell_type": "code",
   "execution_count": 32,
   "id": "82812340-efd4-43e9-b138-9ecb3ebb052f",
   "metadata": {},
   "outputs": [
    {
     "name": "stdout",
     "output_type": "stream",
     "text": [
      "150\n"
     ]
    }
   ],
   "source": [
    "# Question 5: What is the result of:\n",
    "\n",
    "x = 150 + 3 ** 3 % (18 % 5)\n",
    "print(x)\n"
   ]
  },
  {
   "cell_type": "code",
   "execution_count": 48,
   "id": "06a81f63-3b80-4933-a5c4-f4e117f6c510",
   "metadata": {},
   "outputs": [
    {
     "data": {
      "text/plain": [
       "True"
      ]
     },
     "execution_count": 48,
     "metadata": {},
     "output_type": "execute_result"
    }
   ],
   "source": [
    "# Question 6:What is the result of:\n",
    "\n",
    "bool(\"I love Python\")"
   ]
  },
  {
   "cell_type": "code",
   "execution_count": 42,
   "id": "4216a701-3918-4b6e-8605-038d7bc8d9e3",
   "metadata": {},
   "outputs": [
    {
     "data": {
      "text/plain": [
       "False"
      ]
     },
     "execution_count": 42,
     "metadata": {},
     "output_type": "execute_result"
    }
   ],
   "source": [
    "bool(\"\")"
   ]
  },
  {
   "cell_type": "code",
   "execution_count": 43,
   "id": "3572a935-769d-455d-9f01-4ff37e66fe9b",
   "metadata": {},
   "outputs": [
    {
     "data": {
      "text/plain": [
       "False"
      ]
     },
     "execution_count": 43,
     "metadata": {},
     "output_type": "execute_result"
    }
   ],
   "source": [
    "bool(False)"
   ]
  },
  {
   "cell_type": "code",
   "execution_count": 44,
   "id": "4e5201dc-ebce-453f-ab4d-b07a09efd912",
   "metadata": {},
   "outputs": [
    {
     "data": {
      "text/plain": [
       "False"
      ]
     },
     "execution_count": 44,
     "metadata": {},
     "output_type": "execute_result"
    }
   ],
   "source": [
    "bool(0)"
   ]
  },
  {
   "cell_type": "code",
   "execution_count": 45,
   "id": "71c15767-0408-41e3-a121-14b3f3bb91cd",
   "metadata": {},
   "outputs": [
    {
     "data": {
      "text/plain": [
       "True"
      ]
     },
     "execution_count": 45,
     "metadata": {},
     "output_type": "execute_result"
    }
   ],
   "source": [
    "bool(-9)"
   ]
  },
  {
   "cell_type": "code",
   "execution_count": 49,
   "id": "c02c9fd9-f756-4fe8-97c6-85826ec75704",
   "metadata": {},
   "outputs": [
    {
     "data": {
      "text/plain": [
       "False"
      ]
     },
     "execution_count": 49,
     "metadata": {},
     "output_type": "execute_result"
    }
   ],
   "source": [
    "# Question 7: What is the result of:\n",
    "\n",
    "bool(0.0)"
   ]
  },
  {
   "cell_type": "code",
   "execution_count": 51,
   "id": "dd820ccf-36be-4a9f-ae99-c3bbab2797f1",
   "metadata": {},
   "outputs": [
    {
     "name": "stdout",
     "output_type": "stream",
     "text": [
      "True\n"
     ]
    }
   ],
   "source": [
    "# Question 8:What is the result of:\n",
    "\n",
    "var=(25 % 5 == 33 % 11) and (10 ** 3 >= 300)\n",
    "print(var)"
   ]
  },
  {
   "cell_type": "code",
   "execution_count": 53,
   "id": "79e4b765-28fb-45d5-a515-b255b4e1596a",
   "metadata": {},
   "outputs": [
    {
     "name": "stdout",
     "output_type": "stream",
     "text": [
      "True\n"
     ]
    }
   ],
   "source": [
    "# Question 9: What is the result of:\n",
    "\n",
    "var=(25 % 5 == 33 % 10) or (10 ** 3 != 300)\n",
    "print(var)"
   ]
  },
  {
   "cell_type": "code",
   "execution_count": 66,
   "id": "78f12268-5103-45ae-ad8b-a6a77285bccb",
   "metadata": {},
   "outputs": [
    {
     "data": {
      "text/plain": [
       "True"
      ]
     },
     "execution_count": 66,
     "metadata": {},
     "output_type": "execute_result"
    }
   ],
   "source": [
    "# Question 10:What is the result of:\n",
    "\n",
    "not(25 % 5 == 33 % 10) or (10 ** 4 > 3000)"
   ]
  },
  {
   "cell_type": "markdown",
   "id": "8dd0b6be-9364-4917-8408-eb3a41d8ac5b",
   "metadata": {},
   "source": [
    "## List"
   ]
  },
  {
   "cell_type": "code",
   "execution_count": 71,
   "id": "562a8d17-79f8-4590-a13a-c22e260e4b71",
   "metadata": {},
   "outputs": [
    {
     "name": "stdout",
     "output_type": "stream",
     "text": [
      "<class 'list'>\n"
     ]
    }
   ],
   "source": [
    "var=[3,'Data',8.7,'P']\n",
    "print(type(var))"
   ]
  },
  {
   "cell_type": "code",
   "execution_count": 73,
   "id": "34a54838-c649-4082-b729-be05b20c6302",
   "metadata": {},
   "outputs": [],
   "source": [
    "# Question 11: Given the list below, answer the following question:\n",
    "\n",
    "mylist = [\"Europe\", \"Asia\", \"North America\", \"South America\", \"Africa\", \"Australia\", 2009, 2140, 12.5, 6.25]\n",
    "\n",
    "\n",
    "# What is the result of len(mylist) * 25 / 5 ?"
   ]
  },
  {
   "cell_type": "code",
   "execution_count": 84,
   "id": "1efa3826-b685-48d0-9395-0260a3bef002",
   "metadata": {},
   "outputs": [
    {
     "data": {
      "text/plain": [
       "158"
      ]
     },
     "execution_count": 84,
     "metadata": {},
     "output_type": "execute_result"
    }
   ],
   "source": [
    "var=[52,14,87,15,10,158,6]\n",
    "max(var)"
   ]
  },
  {
   "cell_type": "code",
   "execution_count": 105,
   "id": "87e15ae4-6084-427c-97ac-b053694af455",
   "metadata": {},
   "outputs": [
    {
     "name": "stdout",
     "output_type": "stream",
     "text": [
      "[52, 14, 87, 15, 10, 158, 6, -52, 5214]\n"
     ]
    }
   ],
   "source": [
    "var=[52,14,87,15,10,158,6,-52]\n",
    "var.append(5214)\n",
    "print(var)"
   ]
  },
  {
   "cell_type": "code",
   "execution_count": 107,
   "id": "2b9b08bf-451b-4944-b2f4-b79b0b6fc645",
   "metadata": {},
   "outputs": [
    {
     "data": {
      "text/plain": [
       "[52, 14, 87, 15, 10, 158, 6, -52, 5214, 74, 74]"
      ]
     },
     "execution_count": 107,
     "metadata": {},
     "output_type": "execute_result"
    }
   ],
   "source": [
    "var.append(74)\n",
    "var"
   ]
  },
  {
   "cell_type": "code",
   "execution_count": 88,
   "id": "bfa5d9e3-9edf-4867-99da-5084aa06a11f",
   "metadata": {},
   "outputs": [],
   "source": [
    "# Question 12: Given the list below, answer the following question:\n",
    "\n",
    "mylist = [\"Europe\", \"Asia\", \"North America\", \"South America\", \"Africa\", \"Australia\", 2009, 2140, 12.5, 6.25]\n",
    "\n",
    "# What is the result of max(mylist) ?"
   ]
  },
  {
   "cell_type": "code",
   "execution_count": 90,
   "id": "f49c14ea-a65b-48e0-a0a4-c37b71d89af6",
   "metadata": {},
   "outputs": [],
   "source": [
    "# max(mylist)"
   ]
  },
  {
   "cell_type": "code",
   "execution_count": 97,
   "id": "7c2e2d6b-3537-4adb-aad2-121da4ea8f44",
   "metadata": {},
   "outputs": [
    {
     "data": {
      "text/plain": [
       "'North America'"
      ]
     },
     "execution_count": 97,
     "metadata": {},
     "output_type": "execute_result"
    }
   ],
   "source": [
    "# Question 13: Given the list below, answer the following question:\n",
    "\n",
    "mylist = [\"Europe\", \"Asia\", \"North America\", \"South America\", \"Africa\", \"Australia\", 2009, 2140, 12.5, 6.25]\n",
    "\n",
    "mylist[2]"
   ]
  },
  {
   "cell_type": "code",
   "execution_count": 108,
   "id": "94eeddfc-91b5-4957-a0ff-404141cef3ce",
   "metadata": {},
   "outputs": [],
   "source": [
    "# Question 14:Given the list below, answer the following question:\n",
    "\n",
    "mylist = [\"Europe\", \"Asia\", \"North America\", \"South America\", \"Africa\", \"Australia\", 2009, 2140, 12.5, 6.25]\n",
    "\n",
    "\n",
    "# How would you add a list containing \"B\", \"T\" and \"C\" as an element of mylist?"
   ]
  },
  {
   "cell_type": "code",
   "execution_count": null,
   "id": "3dfe89ee-6d6f-4e2a-aca8-5c69b51f6085",
   "metadata": {},
   "outputs": [],
   "source": []
  },
  {
   "cell_type": "code",
   "execution_count": 109,
   "id": "9ff68f38-19ff-4f10-bc54-a1cfc30f5dd3",
   "metadata": {},
   "outputs": [
    {
     "data": {
      "text/plain": [
       "['Europe',\n",
       " 'Asia',\n",
       " 'North America',\n",
       " 'South America',\n",
       " 'Africa',\n",
       " 'Australia',\n",
       " 2009,\n",
       " 2140,\n",
       " 12.5,\n",
       " 6.25,\n",
       " ['B', 'T', 'C']]"
      ]
     },
     "execution_count": 109,
     "metadata": {},
     "output_type": "execute_result"
    }
   ],
   "source": [
    "mylist.append(['B','T','C'])\n",
    "mylist"
   ]
  },
  {
   "cell_type": "code",
   "execution_count": 116,
   "id": "9daaf8f0-c012-4241-ba39-70c12f731fbd",
   "metadata": {},
   "outputs": [],
   "source": [
    "var=[4.2,1,6]\n",
    "var.append(['B','C','T'])"
   ]
  },
  {
   "cell_type": "code",
   "execution_count": 114,
   "id": "6aa6a7ae-c431-4c02-ba0c-6e313cdb7692",
   "metadata": {},
   "outputs": [],
   "source": [
    "var.append('C')"
   ]
  },
  {
   "cell_type": "code",
   "execution_count": 117,
   "id": "8480464f-7987-4db3-bb5a-8ff1ce9abfe5",
   "metadata": {},
   "outputs": [
    {
     "data": {
      "text/plain": [
       "[4.2, 1, 6, ['B', 'C', 'T']]"
      ]
     },
     "execution_count": 117,
     "metadata": {},
     "output_type": "execute_result"
    }
   ],
   "source": [
    "var"
   ]
  },
  {
   "cell_type": "code",
   "execution_count": 1,
   "id": "1b1ee080-d13a-45ec-9ce4-417438d01bd9",
   "metadata": {},
   "outputs": [
    {
     "data": {
      "text/plain": [
       "[5, 7, 1, 5, 7, 1]"
      ]
     },
     "execution_count": 1,
     "metadata": {},
     "output_type": "execute_result"
    }
   ],
   "source": [
    "var=[5,7,1]\n",
    "var+var"
   ]
  },
  {
   "cell_type": "code",
   "execution_count": 2,
   "id": "3e3fe66d-a247-41f3-9984-bb49f6aec02d",
   "metadata": {},
   "outputs": [
    {
     "data": {
      "text/plain": [
       "[5, 7, 1, 5, 7, 1, 5, 7, 1]"
      ]
     },
     "execution_count": 2,
     "metadata": {},
     "output_type": "execute_result"
    }
   ],
   "source": [
    "var=[5,7,1]\n",
    "var*3"
   ]
  },
  {
   "cell_type": "code",
   "execution_count": 3,
   "id": "78abc5d8-a1a3-454e-88db-9ec324895e28",
   "metadata": {},
   "outputs": [],
   "source": [
    "a,b,c=var"
   ]
  },
  {
   "cell_type": "code",
   "execution_count": 15,
   "id": "ca9565a5-b3d7-4a84-877a-3db2a61fc12d",
   "metadata": {},
   "outputs": [],
   "source": [
    "var1=[8,9,10]\n",
    "var2=[8,9,10]\n",
    "# var1"
   ]
  },
  {
   "cell_type": "code",
   "execution_count": 16,
   "id": "6258d412-71a6-4073-a769-7f15d8147ac7",
   "metadata": {},
   "outputs": [
    {
     "data": {
      "text/plain": [
       "True"
      ]
     },
     "execution_count": 16,
     "metadata": {},
     "output_type": "execute_result"
    }
   ],
   "source": [
    "var2==var1"
   ]
  },
  {
   "cell_type": "code",
   "execution_count": 17,
   "id": "fbc83cce-0bcd-4192-bddf-63ab1eb52776",
   "metadata": {},
   "outputs": [
    {
     "data": {
      "text/plain": [
       "False"
      ]
     },
     "execution_count": 17,
     "metadata": {},
     "output_type": "execute_result"
    }
   ],
   "source": [
    "var2 is var1"
   ]
  },
  {
   "cell_type": "code",
   "execution_count": 20,
   "id": "deb20e1f-f815-4975-a2ab-4c34c4e0fe79",
   "metadata": {},
   "outputs": [
    {
     "data": {
      "text/plain": [
       "[8, 9, 10]"
      ]
     },
     "execution_count": 20,
     "metadata": {},
     "output_type": "execute_result"
    }
   ],
   "source": [
    "var1"
   ]
  },
  {
   "cell_type": "code",
   "execution_count": 21,
   "id": "f75c095c-d57f-41d3-bebd-1d057c8d8d4c",
   "metadata": {},
   "outputs": [],
   "source": [
    "var1.remove(9)"
   ]
  },
  {
   "cell_type": "code",
   "execution_count": 22,
   "id": "472bcb96-d4d3-44f4-a08a-a8a437d2c4fe",
   "metadata": {},
   "outputs": [
    {
     "data": {
      "text/plain": [
       "[8, 10]"
      ]
     },
     "execution_count": 22,
     "metadata": {},
     "output_type": "execute_result"
    }
   ],
   "source": [
    "var1"
   ]
  },
  {
   "cell_type": "code",
   "execution_count": 19,
   "id": "60b50569-e019-420e-b0c1-0eb22538c019",
   "metadata": {},
   "outputs": [
    {
     "data": {
      "text/plain": [
       "3028086001280"
      ]
     },
     "execution_count": 19,
     "metadata": {},
     "output_type": "execute_result"
    }
   ],
   "source": [
    "id(var1)"
   ]
  },
  {
   "cell_type": "markdown",
   "id": "439aada3-b717-47b0-9ca6-d4167a660864",
   "metadata": {},
   "source": [
    "## Set"
   ]
  },
  {
   "cell_type": "code",
   "execution_count": 23,
   "id": "ffcb98bd-28b9-4ad9-ac56-747ead784272",
   "metadata": {},
   "outputs": [
    {
     "data": {
      "text/plain": [
       "set"
      ]
     },
     "execution_count": 23,
     "metadata": {},
     "output_type": "execute_result"
    }
   ],
   "source": [
    "var1={26,100}\n",
    "type(var1)"
   ]
  },
  {
   "cell_type": "code",
   "execution_count": 24,
   "id": "a486cd78-17aa-4b6a-8f76-03725825ee49",
   "metadata": {},
   "outputs": [],
   "source": [
    "list1=[4,8,9]\n",
    "set1=set(list1)"
   ]
  },
  {
   "cell_type": "code",
   "execution_count": 25,
   "id": "e58dc3b4-1dd3-4b89-9bb9-e3c60cedfd89",
   "metadata": {},
   "outputs": [
    {
     "data": {
      "text/plain": [
       "{4, 8, 9}"
      ]
     },
     "execution_count": 25,
     "metadata": {},
     "output_type": "execute_result"
    }
   ],
   "source": [
    "set1"
   ]
  },
  {
   "cell_type": "code",
   "execution_count": 29,
   "id": "e5b2cc01-51c5-422d-8cc1-83fe125c5c8a",
   "metadata": {},
   "outputs": [],
   "source": [
    "var={4,8,9}\n",
    "# var[1]\n",
    "# type(var)"
   ]
  },
  {
   "cell_type": "code",
   "execution_count": 34,
   "id": "97e982db-52ab-42ce-ba97-e869913e5156",
   "metadata": {},
   "outputs": [
    {
     "data": {
      "text/plain": [
       "{1, 4, 7, 8, 9}"
      ]
     },
     "execution_count": 34,
     "metadata": {},
     "output_type": "execute_result"
    }
   ],
   "source": [
    "var={4,8,9,7,1,8,1}\n",
    "var"
   ]
  },
  {
   "cell_type": "code",
   "execution_count": 32,
   "id": "967cd4b5-2b62-4995-828e-c7b0b52c742a",
   "metadata": {},
   "outputs": [
    {
     "data": {
      "text/plain": [
       "{4, 8, 9, 15}"
      ]
     },
     "execution_count": 32,
     "metadata": {},
     "output_type": "execute_result"
    }
   ],
   "source": [
    "var"
   ]
  },
  {
   "cell_type": "code",
   "execution_count": 42,
   "id": "df0d927c-f4e7-4bd1-aa2d-d88a6b60dbd9",
   "metadata": {},
   "outputs": [],
   "source": [
    "# Question 1: Given the list below answer the following question.\n",
    "\n",
    "list1 = [\"Hello\", \"Hi\", \"Greetings\", \"Cheers\", \"Hi\", \"hello\", \"Greetings!\"]\n",
    "\n",
    "# What would be the correct result of set(list1) ?"
   ]
  },
  {
   "cell_type": "code",
   "execution_count": 43,
   "id": "79281dfb-1f55-40a4-a4a5-f3f32f50e0b8",
   "metadata": {},
   "outputs": [
    {
     "ename": "TypeError",
     "evalue": "'set' object is not callable",
     "output_type": "error",
     "traceback": [
      "\u001b[1;31m---------------------------------------------------------------------------\u001b[0m",
      "\u001b[1;31mTypeError\u001b[0m                                 Traceback (most recent call last)",
      "Cell \u001b[1;32mIn[43], line 1\u001b[0m\n\u001b[1;32m----> 1\u001b[0m var\u001b[38;5;241m=\u001b[39m\u001b[38;5;28mset\u001b[39m(list1)\n\u001b[0;32m      2\u001b[0m \u001b[38;5;28mprint\u001b[39m(var)\n",
      "\u001b[1;31mTypeError\u001b[0m: 'set' object is not callable"
     ]
    }
   ],
   "source": [
    "var=set(list1)\n",
    "print(var)"
   ]
  },
  {
   "cell_type": "code",
   "execution_count": null,
   "id": "aed4a154-79bc-425f-84f8-cbe92619b4af",
   "metadata": {},
   "outputs": [],
   "source": []
  },
  {
   "cell_type": "code",
   "execution_count": 37,
   "id": "e25fcfff-5d87-42e2-8992-8ade6a80c539",
   "metadata": {},
   "outputs": [
    {
     "ename": "TypeError",
     "evalue": "'set' object is not callable",
     "output_type": "error",
     "traceback": [
      "\u001b[1;31m---------------------------------------------------------------------------\u001b[0m",
      "\u001b[1;31mTypeError\u001b[0m                                 Traceback (most recent call last)",
      "Cell \u001b[1;32mIn[37], line 1\u001b[0m\n\u001b[1;32m----> 1\u001b[0m \u001b[38;5;28mset\u001b[39m(list1)\n",
      "\u001b[1;31mTypeError\u001b[0m: 'set' object is not callable"
     ]
    }
   ],
   "source": []
  },
  {
   "cell_type": "code",
   "execution_count": 44,
   "id": "f0f45826-2b3d-4109-a66b-1a9160a1b94b",
   "metadata": {},
   "outputs": [
    {
     "data": {
      "text/plain": [
       "7"
      ]
     },
     "execution_count": 44,
     "metadata": {},
     "output_type": "execute_result"
    }
   ],
   "source": [
    "# Question 2: Given the code below answer the following question.\n",
    "\n",
    "set1 = {26, 200, 2001, 92, 550, 2001, 338, 92.0, 11}\n",
    "len(set1)\n",
    "\n",
    "# What is the length of set1?"
   ]
  },
  {
   "cell_type": "code",
   "execution_count": 47,
   "id": "53de37e2-5c3e-446d-b946-b3b3089a8c56",
   "metadata": {},
   "outputs": [],
   "source": [
    "# Question 3: Given the set below answer the following question.\n",
    "\n",
    "set1 = {26, 200, 2001, 92, 550, 2001, 338, 92.0, 11}\n",
    "# (11 in set1) and (52/2 in set1)\n",
    "# What is the result of (11 in set1) and (52/2 in set1) ?"
   ]
  },
  {
   "cell_type": "code",
   "execution_count": 48,
   "id": "1a0bbb77-46f9-4d56-a1e5-bd8f9ca4174f",
   "metadata": {},
   "outputs": [
    {
     "data": {
      "text/plain": [
       "True"
      ]
     },
     "execution_count": 48,
     "metadata": {},
     "output_type": "execute_result"
    }
   ],
   "source": [
    "(11 in set1) and (52/2 in set1)"
   ]
  },
  {
   "cell_type": "code",
   "execution_count": 53,
   "id": "82e866a4-0d2a-4531-91ce-7ed4f7541efd",
   "metadata": {},
   "outputs": [],
   "source": [
    "# Question 4: Given the set below answer the following question.\n",
    "\n",
    "set1 = {26, 200, 2001, 92, 550, 2001, 338, 92.0, 11}\n",
    "set1.add(550)\n",
    "\n",
    "# What is the result of set1.add(550) ?"
   ]
  },
  {
   "cell_type": "code",
   "execution_count": 54,
   "id": "7e02c66f-5044-487c-8667-fd93afc2cc00",
   "metadata": {},
   "outputs": [
    {
     "data": {
      "text/plain": [
       "{11, 26, 92, 200, 338, 550, 2001}"
      ]
     },
     "execution_count": 54,
     "metadata": {},
     "output_type": "execute_result"
    }
   ],
   "source": [
    "set1"
   ]
  },
  {
   "cell_type": "code",
   "execution_count": 50,
   "id": "d90c41e2-5420-48aa-9c7f-5e88648fe85f",
   "metadata": {},
   "outputs": [
    {
     "data": {
      "text/plain": [
       "False"
      ]
     },
     "execution_count": 50,
     "metadata": {},
     "output_type": "execute_result"
    }
   ],
   "source": [
    "# in operator\n",
    "x={4,9,8}\n",
    "62 in x"
   ]
  },
  {
   "cell_type": "code",
   "execution_count": 52,
   "id": "b2d6ebbf-17d7-4ddd-bc4b-49bad25c04e9",
   "metadata": {},
   "outputs": [
    {
     "data": {
      "text/plain": [
       "{1, 2, 3, 5}"
      ]
     },
     "execution_count": 52,
     "metadata": {},
     "output_type": "execute_result"
    }
   ],
   "source": [
    "# add opeartor\n",
    "x={1,3,5}\n",
    "x.add(2)\n",
    "x"
   ]
  },
  {
   "cell_type": "code",
   "execution_count": 68,
   "id": "234a89aa-fe42-4bed-b09a-03c6f662dff0",
   "metadata": {},
   "outputs": [],
   "source": [
    "# Question 5: Given the set below answer the following question.\n",
    "\n",
    "set1 = {26, 200, 2001, 92, 550, 2001, 338, 92.0, 11}\n",
    "\n",
    "# How would you remove 550 from set1?"
   ]
  },
  {
   "cell_type": "code",
   "execution_count": 67,
   "id": "d26e15c4-9032-49ac-9add-8832677b2620",
   "metadata": {},
   "outputs": [],
   "source": [
    "set1.remove(550)\n",
    "# set1.pop()\n",
    "# del set1"
   ]
  },
  {
   "cell_type": "code",
   "execution_count": 69,
   "id": "65945b7e-9a14-4ebc-8d7a-792b77e4af5a",
   "metadata": {},
   "outputs": [
    {
     "data": {
      "text/plain": [
       "{11, 26, 92, 200, 338, 550, 2001}"
      ]
     },
     "execution_count": 69,
     "metadata": {},
     "output_type": "execute_result"
    }
   ],
   "source": [
    "set1"
   ]
  },
  {
   "cell_type": "code",
   "execution_count": 70,
   "id": "d64d6a3d-ec83-4181-a729-ec69c617e809",
   "metadata": {},
   "outputs": [
    {
     "data": {
      "text/plain": [
       "{25, 29, 334, 650, 1002}"
      ]
     },
     "execution_count": 70,
     "metadata": {},
     "output_type": "execute_result"
    }
   ],
   "source": [
    "# Question 6: Given the sets below answer the following question.\n",
    "\n",
    "set1 = {26, 200, 2001, 92, 550}\n",
    "set2 = {334, 92, 29, 650, 550, 25, 1002}\n",
    "\n",
    "\n",
    "# Which of the following lines of code results in {200, 2001, 26} ?\n",
    "# set2.difference(set1)\n",
    "set1.difference(set2)\n",
    "# set1.intersect(set2)"
   ]
  }
 ],
 "metadata": {
  "kernelspec": {
   "display_name": "Python 3 (ipykernel)",
   "language": "python",
   "name": "python3"
  },
  "language_info": {
   "codemirror_mode": {
    "name": "ipython",
    "version": 3
   },
   "file_extension": ".py",
   "mimetype": "text/x-python",
   "name": "python",
   "nbconvert_exporter": "python",
   "pygments_lexer": "ipython3",
   "version": "3.11.7"
  }
 },
 "nbformat": 4,
 "nbformat_minor": 5
}
