{
  "nbformat": 4,
  "nbformat_minor": 0,
  "metadata": {
    "colab": {
      "provenance": []
    },
    "kernelspec": {
      "name": "python3",
      "display_name": "Python 3"
    },
    "language_info": {
      "name": "python"
    }
  },
  "cells": [
    {
      "cell_type": "code",
      "execution_count": 9,
      "metadata": {
        "colab": {
          "base_uri": "https://localhost:8080/"
        },
        "id": "5-GGsm4UDIP7",
        "outputId": "f1a9df4a-ef12-482a-9106-9821da327c9c"
      },
      "outputs": [
        {
          "output_type": "stream",
          "name": "stdout",
          "text": [
            "Largest is  5\n",
            "[1, 2, 3, 4, 5]\n",
            "Second Largest is  5\n"
          ]
        }
      ],
      "source": [
        "# Exercise 13 - Dictionaries\n",
        "# Given the code below, use the correct function on\n",
        "# line 3 in order to get the smallest key in the dictionary.\n",
        "\n",
        "crypto = {1: \"Bitcoin\", 2: \"Ethereum\", 3: \"Litecoin\", 4: \"Stellar\", 5: \"XRP\"}\n",
        "\n",
        "key = max(crypto)\n",
        "\n",
        "list1=[]\n",
        "print(\"Largest is \",key)\n",
        "for i in crypto.keys():\n",
        "    list1.append(i)\n",
        "sorted(list1)\n",
        "list1.pop()\n",
        "\n",
        "print(list1)\n",
        "print(\"Second Largest is \",key)"
      ]
    },
    {
      "cell_type": "code",
      "source": [],
      "metadata": {
        "id": "3ftPobM7HmfN"
      },
      "execution_count": null,
      "outputs": []
    },
    {
      "cell_type": "markdown",
      "source": [
        "**While Loop**"
      ],
      "metadata": {
        "id": "taEfxA5nHoTd"
      }
    },
    {
      "cell_type": "code",
      "source": [
        "j=1   # initioal condition\n",
        "while j<10:\n",
        "  print(j,\"Hello\")\n",
        "  j+=1"
      ],
      "metadata": {
        "colab": {
          "base_uri": "https://localhost:8080/"
        },
        "id": "ACtcBrSlFWzq",
        "outputId": "8d18603e-ea2c-49cc-a33c-352cd42eb1db"
      },
      "execution_count": 11,
      "outputs": [
        {
          "output_type": "stream",
          "name": "stdout",
          "text": [
            "1 Hello\n",
            "2 Hello\n",
            "3 Hello\n",
            "4 Hello\n",
            "5 Hello\n",
            "6 Hello\n",
            "7 Hello\n",
            "8 Hello\n",
            "9 Hello\n"
          ]
        }
      ]
    },
    {
      "cell_type": "markdown",
      "source": [
        "**For Loop**"
      ],
      "metadata": {
        "id": "9bxT4AdQHrvS"
      }
    },
    {
      "cell_type": "code",
      "source": [
        "for i in range(1,1):\n",
        "  print(i,\"Hello\")"
      ],
      "metadata": {
        "id": "BuEp85DqFXSI"
      },
      "execution_count": 13,
      "outputs": []
    },
    {
      "cell_type": "code",
      "source": [
        "# Exercise 1 - Loops\n",
        "# Write a for loop that iterates over the x list and prints out all the elements of the list.\n",
        "\n",
        "x = [10, 12, 13, 14, 17, 19, 21, 22, 25]\n",
        "\n",
        "for i in x:\n",
        "  print(i, end=\"  \")\n",
        "\n"
      ],
      "metadata": {
        "colab": {
          "base_uri": "https://localhost:8080/"
        },
        "id": "fv7FEy51FXVs",
        "outputId": "41be9f26-0254-496e-cef9-f1573879cbe2"
      },
      "execution_count": 17,
      "outputs": [
        {
          "output_type": "stream",
          "name": "stdout",
          "text": [
            "10  12  13  14  17  19  21  22  25  "
          ]
        }
      ]
    },
    {
      "cell_type": "code",
      "source": [
        "# Exercise 2 - Loops\n",
        "# Write a for loop that iterates over the x list and prints\n",
        "# out the remainders of each element of the list divided by 3.\n",
        "\n",
        "\n",
        "x = [10, 12, 13, 14, 17, 19, 21, 22, 25]\n",
        "\n",
        "for i in x:\n",
        "  print(i%3)\n",
        "\n"
      ],
      "metadata": {
        "colab": {
          "base_uri": "https://localhost:8080/"
        },
        "id": "lqo0n-zuFXZ8",
        "outputId": "a5c67b78-88f1-4373-9b93-65fa4039bb6b"
      },
      "execution_count": 18,
      "outputs": [
        {
          "output_type": "stream",
          "name": "stdout",
          "text": [
            "1\n",
            "0\n",
            "1\n",
            "2\n",
            "2\n",
            "1\n",
            "0\n",
            "1\n",
            "1\n"
          ]
        }
      ]
    },
    {
      "cell_type": "code",
      "source": [
        "# Exercise 3 - Loops\n",
        "# Write a for loop that iterates over the x list and\n",
        "# prints out all the elements of the list in reversed order and multiplied by 10.\n",
        "\n",
        "\n",
        "x = [10, 12, 13, 14, 17, 19, 21, 22, 25]\n",
        "\n",
        "for i in sorted(x, reverse=True):\n",
        "  print(i)"
      ],
      "metadata": {
        "colab": {
          "base_uri": "https://localhost:8080/"
        },
        "id": "wDzFfo7CJd-j",
        "outputId": "1c345eab-169f-45e8-a3c1-3bf129efe71c"
      },
      "execution_count": 22,
      "outputs": [
        {
          "output_type": "stream",
          "name": "stdout",
          "text": [
            "25\n",
            "22\n",
            "21\n",
            "19\n",
            "17\n",
            "14\n",
            "13\n",
            "12\n",
            "10\n"
          ]
        }
      ]
    },
    {
      "cell_type": "code",
      "source": [
        "# Exercise 4 - Loops\n",
        "# Write a for loop that iterates over the x list and\n",
        "# prints out all the elements of the list divided by 2 and the string Great job!\n",
        "# after the list is exhausted.\n",
        "\n",
        "\n",
        "x = [10, 12, 13, 14, 17, 19, 21, 22, 25]\n",
        "\n",
        "for i in x:\n",
        "  print(i/2)\n",
        "else:\n",
        "  print(\"Great Job!!!\")\n",
        "\n"
      ],
      "metadata": {
        "colab": {
          "base_uri": "https://localhost:8080/"
        },
        "id": "R1-Nl5daFXeo",
        "outputId": "d041c1aa-c315-480d-f539-b50b655b360c"
      },
      "execution_count": 23,
      "outputs": [
        {
          "output_type": "stream",
          "name": "stdout",
          "text": [
            "5.0\n",
            "6.0\n",
            "6.5\n",
            "7.0\n",
            "8.5\n",
            "9.5\n",
            "10.5\n",
            "11.0\n",
            "12.5\n",
            "Great Job!!!\n"
          ]
        }
      ]
    },
    {
      "cell_type": "code",
      "source": [
        "i=1\n",
        "while i<=10:\n",
        "  print(i)\n",
        "  i=i+1\n",
        "\n",
        "\n",
        "print(\"Current value of i= \",i)"
      ],
      "metadata": {
        "colab": {
          "base_uri": "https://localhost:8080/"
        },
        "id": "9U0xeH5zKzV5",
        "outputId": "6fcdb87f-b077-47d2-c84e-e1a27de7067b"
      },
      "execution_count": 27,
      "outputs": [
        {
          "output_type": "stream",
          "name": "stdout",
          "text": [
            "1\n",
            "2\n",
            "3\n",
            "4\n",
            "5\n",
            "6\n",
            "7\n",
            "8\n",
            "9\n",
            "10\n",
            "Current value of i=  11\n"
          ]
        }
      ]
    },
    {
      "cell_type": "code",
      "source": [
        "# Exercise 5  - Loops\n",
        "# Write a for loop that iterates over the x list and prints out the index of each element.\n",
        "\n",
        "\n",
        "\n",
        "x = [10, 12, 13, 14, 17, 19, 21, 22, 25,10, 12, 13, 14, 17, 19, 21, 22, 25]\n",
        "\n",
        "for i in x:\n",
        "  print(\"The index of \",i,\"is \",x.index(i))\n"
      ],
      "metadata": {
        "colab": {
          "base_uri": "https://localhost:8080/"
        },
        "id": "QpXmEX_dLcuU",
        "outputId": "d5253c83-f5ef-42d4-a2ae-016c7b94fab1"
      },
      "execution_count": 35,
      "outputs": [
        {
          "output_type": "stream",
          "name": "stdout",
          "text": [
            "The index of  10 is  0\n",
            "The index of  12 is  1\n",
            "The index of  13 is  2\n",
            "The index of  14 is  3\n",
            "The index of  17 is  4\n",
            "The index of  19 is  5\n",
            "The index of  21 is  6\n",
            "The index of  22 is  7\n",
            "The index of  25 is  8\n",
            "The index of  10 is  0\n",
            "The index of  12 is  1\n",
            "The index of  13 is  2\n",
            "The index of  14 is  3\n",
            "The index of  17 is  4\n",
            "The index of  19 is  5\n",
            "The index of  21 is  6\n",
            "The index of  22 is  7\n",
            "The index of  25 is  8\n"
          ]
        }
      ]
    },
    {
      "cell_type": "code",
      "source": [
        "# Exercise 6  - Loops\n",
        "# Write a while loop that prints out the value of x squared\n",
        "# while x is less than or equal to 5. Be careful not to end up with an infinite loop!\n",
        "\n",
        "# sales=float(input(\"What is the sales value?   \"))\n",
        "# sales =[25.7,12.6,74.5,25.7,12.6,74.5]\n",
        "# interest_rate=sales^2+1\n",
        "# gst=[sales^2]\n",
        "\n",
        "x = 0\n",
        "\n",
        "while x<=5:\n",
        "  print(x**2)\n",
        "  x+=1\n",
        "\n"
      ],
      "metadata": {
        "colab": {
          "base_uri": "https://localhost:8080/"
        },
        "id": "Hg1skm9uLwS6",
        "outputId": "e002d305-064c-4d0b-accb-5d5262f4e2ca"
      },
      "execution_count": 37,
      "outputs": [
        {
          "output_type": "stream",
          "name": "stdout",
          "text": [
            "0\n",
            "1\n",
            "4\n",
            "9\n",
            "16\n",
            "25\n"
          ]
        }
      ]
    },
    {
      "cell_type": "code",
      "source": [
        "# Exercise 7  - Loops\n",
        "# Write a while loop that prints out the value of x times 10 while\n",
        "# x is less than or equal to 4 and then prints out Done! when x becomes larger than 4.\n",
        "# Be careful not to end up with an infinite loop!\n",
        "\n",
        "x = 0\n",
        "\n",
        "while x<=8:\n",
        "  print(x*10)\n",
        "  x+=1\n",
        "else:\n",
        "  print(\"Print done!!\")\n"
      ],
      "metadata": {
        "colab": {
          "base_uri": "https://localhost:8080/"
        },
        "id": "qXX0hgekM9-l",
        "outputId": "7e974bc2-c425-4289-8502-9ce1717caa31"
      },
      "execution_count": 50,
      "outputs": [
        {
          "output_type": "stream",
          "name": "stdout",
          "text": [
            "0\n",
            "10\n",
            "20\n",
            "30\n",
            "40\n",
            "50\n",
            "60\n",
            "70\n",
            "80\n",
            "Print done!!\n"
          ]
        }
      ]
    },
    {
      "cell_type": "code",
      "source": [
        "# Exercise 8  - Loops\n",
        "# Write a while loop that prints out the absolute value of x while x is negative.\n",
        "# Be careful not to end up with an infinite loop!\n",
        "\n",
        "x = -7\n",
        "\n",
        "while x<0:\n",
        "  print(abs(x))\n",
        "  x+=1"
      ],
      "metadata": {
        "colab": {
          "base_uri": "https://localhost:8080/"
        },
        "id": "gD_Vv0TTOuNj",
        "outputId": "be266aad-1439-4cd0-a5ae-fbae5383e9b3"
      },
      "execution_count": 49,
      "outputs": [
        {
          "output_type": "stream",
          "name": "stdout",
          "text": [
            "7\n",
            "6\n",
            "5\n",
            "4\n",
            "3\n",
            "2\n",
            "1\n"
          ]
        }
      ]
    },
    {
      "cell_type": "code",
      "source": [
        "# Exercise 9 - Loops\n",
        "\n",
        "# Write a while loop that prints out the value of x times y while x is greater than or equal to 5\n",
        "# and less than 10, and prints out the result of x divided by y when x becomes 10.\n",
        "# Be careful not to end up with an infinite loop!\n",
        "\n",
        "x = 5\n",
        "y = 2\n",
        "\n",
        "while x>=5 and x<10:\n",
        "  print(x*y)\n",
        "  x=x+1\n",
        "else:\n",
        "  print(x/y)\n",
        "\n"
      ],
      "metadata": {
        "colab": {
          "base_uri": "https://localhost:8080/"
        },
        "id": "-h6mfFrVOy9B",
        "outputId": "fec6e19b-d313-4825-9a14-64a50fa17fd1"
      },
      "execution_count": 51,
      "outputs": [
        {
          "output_type": "stream",
          "name": "stdout",
          "text": [
            "10\n",
            "12\n",
            "14\n",
            "16\n",
            "18\n",
            "5.0\n"
          ]
        }
      ]
    }
  ]
}