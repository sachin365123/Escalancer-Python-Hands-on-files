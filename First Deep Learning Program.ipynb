{
  "nbformat": 4,
  "nbformat_minor": 0,
  "metadata": {
    "colab": {
      "name": "deep_learning_first_program.ipynb",
      "provenance": []
    },
    "kernelspec": {
      "name": "python3",
      "display_name": "Python 3"
    }
  },
  "cells": [
    {
      "cell_type": "markdown",
      "metadata": {
        "id": "vxBy29ozM6y5"
      },
      "source": [
        "##Deep learning की शुरुआत के लिए पहला program. \n",
        "##A first deep learning program for any beginner (in Hindi). \n",
        "\n",
        "The code in this Colab notebook is inspired from the first colab notebook of the course \"Introduction to TensorFlow for Artificial Intelligence, Machine Learning, and Deep Learning\". \n",
        "\n",
        "The current version is maintained by Kshitiz Verma."
      ]
    },
    {
      "cell_type": "markdown",
      "metadata": {
        "id": "K-2mJP8NSERT"
      },
      "source": [
        "\n",
        "\n",
        "```\n",
        "Tensorflow को import करना पड़ेगा उसे use कर पाने से पहले| इसी प्रकार बाकि 2 import statements भी इसलिए हैं क्यूंकि हम उन packages को भी use करने वाले हैं| कुछ भी install करने की ज़रूरत नहीं है क्योंकि सारी calculations Google servers पर होंगी| इस program मैं हम ये मान के चल रहे हैं कि आप सभी को Python पहले से आती है| किसी भी cell को execute करने के लिए Shift+Enter का प्रयोग करें ।\n",
        "```\n",
        "\n"
      ]
    },
    {
      "cell_type": "code",
      "metadata": {
        "id": "3wiyG3k-Tkrh"
      },
      "source": [
        "import tensorflow as tf\n",
        "import numpy as np\n",
        "from tensorflow import keras"
      ],
      "execution_count": 1,
      "outputs": []
    },
    {
      "cell_type": "markdown",
      "metadata": {
        "id": "gnR1HL8pVPBm"
      },
      "source": [
        "सारे required packages import  कर  लेने  के  बाद  अब  हमें  हमारा  deep learning model  बनाना है |  आपने अगर  हमारी  theory  classes   को  ढंग  से  देखा  है  तो  आप  ये  आराम  से  समझ  जाएँगे  कि  अगली  लाइन  क्या  कर  रही  है |  अगर  आपको  समझ  नही  आता  है  तो  इसका  मतलब  है  कि  अभी  आपने deep learning  की theory  को  नहीं  समझा  है |  आप  पहले  theory  को  समझिए  फिर  आपको  ये  program  समझ  आएगा |  ज़्यादा  जानकारी  के  लिए  इस  [YouTube link](https://www.youtube.com/watch?v=SUUqnHqvD4E&list=PLxlkzujLkmQ9Q37ic_aRpn4B-Ne57aifZ) पर click कीजिए |"
      ]
    },
    {
      "cell_type": "markdown",
      "metadata": {
        "id": "LYOVBBrxZ8wv"
      },
      "source": [
        "हम एक बेहद ही सरल neural network बनाने जा रहे हैं ।  इसमें एक ही layer है और एक ही neuron है । Input भी सिर्फ एक number ही है । इसलिए input की dimensions एक scalar की ही हैं । "
      ]
    },
    {
      "cell_type": "code",
      "metadata": {
        "id": "hMeobq1LZ4-P"
      },
      "source": [
        "model = tf.keras.Sequential([keras.layers.Dense(units=1, input_shape=[1])])"
      ],
      "execution_count": 2,
      "outputs": []
    },
    {
      "cell_type": "markdown",
      "metadata": {
        "id": "WE0gF9-7ir0p"
      },
      "source": [
        "अब एक बार हमने अपना model बना लिया है तो हमें इसको train करना है । लेकिन train करने से पहले हमें ये decide करना है कि हम कौनसा loss function use करेंगे और कौनसा optimzer use करेंगे । "
      ]
    },
    {
      "cell_type": "code",
      "metadata": {
        "id": "YDFgFGR7j2vk"
      },
      "source": [
        "model.compile(optimizer='sgd', loss='mean_squared_error')"
      ],
      "execution_count": 3,
      "outputs": []
    },
    {
      "cell_type": "markdown",
      "metadata": {
        "id": "vWzV6m2wj9fj"
      },
      "source": [
        "इतना कर लेने के बाद हम training set बनाते हैं । नोट कीजियेगा कि इसमें सिर्फ 6 examples हैं । "
      ]
    },
    {
      "cell_type": "code",
      "metadata": {
        "id": "R6eUmlhLktZz"
      },
      "source": [
        "x=np.array([1.0, 2.0,  3.0, 4.0, 6.0, 7.0], dtype=float)\n",
        "y=np.array([4.0, 6.0,  8.0, 10.0, 14.0, 16.0], dtype=float)"
      ],
      "execution_count": 4,
      "outputs": []
    },
    {
      "cell_type": "markdown",
      "metadata": {
        "id": "x0GjAaBikynl"
      },
      "source": [
        "अब हम इस neural network को  इस training set पे train करते हैं ।"
      ]
    },
    {
      "cell_type": "code",
      "metadata": {
        "id": "F9NsbbWClFQb",
        "colab": {
          "base_uri": "https://localhost:8080/"
        },
        "outputId": "39e24f9f-2e36-4a04-ac86-e557daa70f1c"
      },
      "source": [
        "model.fit(x,y,epochs=15)"
      ],
      "execution_count": 7,
      "outputs": [
        {
          "output_type": "stream",
          "name": "stdout",
          "text": [
            "Epoch 1/15\n",
            "1/1 [==============================] - 0s 8ms/step - loss: 0.8397\n",
            "Epoch 2/15\n",
            "1/1 [==============================] - 0s 6ms/step - loss: 0.7703\n",
            "Epoch 3/15\n",
            "1/1 [==============================] - 0s 8ms/step - loss: 0.7410\n",
            "Epoch 4/15\n",
            "1/1 [==============================] - 0s 6ms/step - loss: 0.7263\n",
            "Epoch 5/15\n",
            "1/1 [==============================] - 0s 6ms/step - loss: 0.7168\n",
            "Epoch 6/15\n",
            "1/1 [==============================] - 0s 6ms/step - loss: 0.7094\n",
            "Epoch 7/15\n",
            "1/1 [==============================] - 0s 7ms/step - loss: 0.7026\n",
            "Epoch 8/15\n",
            "1/1 [==============================] - 0s 7ms/step - loss: 0.6962\n",
            "Epoch 9/15\n",
            "1/1 [==============================] - 0s 8ms/step - loss: 0.6899\n",
            "Epoch 10/15\n",
            "1/1 [==============================] - 0s 7ms/step - loss: 0.6837\n",
            "Epoch 11/15\n",
            "1/1 [==============================] - 0s 7ms/step - loss: 0.6776\n",
            "Epoch 12/15\n",
            "1/1 [==============================] - 0s 6ms/step - loss: 0.6715\n",
            "Epoch 13/15\n",
            "1/1 [==============================] - 0s 6ms/step - loss: 0.6655\n",
            "Epoch 14/15\n",
            "1/1 [==============================] - 0s 6ms/step - loss: 0.6596\n",
            "Epoch 15/15\n",
            "1/1 [==============================] - 0s 6ms/step - loss: 0.6537\n"
          ]
        },
        {
          "output_type": "execute_result",
          "data": {
            "text/plain": [
              "<keras.callbacks.History at 0x7f5e422a6310>"
            ]
          },
          "metadata": {},
          "execution_count": 7
        }
      ]
    },
    {
      "cell_type": "markdown",
      "metadata": {
        "id": "anKWRebClJDe"
      },
      "source": [
        "अब हम हमारे trained neural network को prediction के लिए इस्तेमाल करते हैं । "
      ]
    },
    {
      "cell_type": "code",
      "metadata": {
        "id": "Tc_kLk5hR1Cm",
        "colab": {
          "base_uri": "https://localhost:8080/"
        },
        "outputId": "b89116c9-4fd5-45e9-d8f0-6fe8c2c9160b"
      },
      "source": [
        "print(model.predict([6.0]))"
      ],
      "execution_count": 9,
      "outputs": [
        {
          "output_type": "stream",
          "name": "stdout",
          "text": [
            "[[14.356633]]\n"
          ]
        }
      ]
    }
  ]
}