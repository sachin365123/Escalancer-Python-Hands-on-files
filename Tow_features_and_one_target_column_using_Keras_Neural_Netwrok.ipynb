{
  "nbformat": 4,
  "nbformat_minor": 0,
  "metadata": {
    "colab": {
      "provenance": []
    },
    "kernelspec": {
      "name": "python3",
      "display_name": "Python 3"
    },
    "language_info": {
      "name": "python"
    }
  },
  "cells": [
    {
      "cell_type": "code",
      "execution_count": 6,
      "metadata": {
        "colab": {
          "base_uri": "https://localhost:8080/"
        },
        "id": "weLDJhzrM6D3",
        "outputId": "7a91cf00-a022-47d5-a2b7-66d48991b261"
      },
      "outputs": [
        {
          "output_type": "stream",
          "name": "stdout",
          "text": [
            "   feature1  feature2  label\n",
            "0         0         1      0\n",
            "1         1         1      1\n",
            "2         0         0      0\n",
            "3         1         0      1\n",
            "4         0         1      1\n"
          ]
        }
      ],
      "source": [
        "import pandas as pd\n",
        "\n",
        "# Sample data\n",
        "data = {\n",
        "    'feature1': [0, 1, 0, 1, 0],\n",
        "    'feature2': [1, 1, 0, 0, 1],\n",
        "    'label': [0, 1, 0, 1, 1]\n",
        "}\n",
        "\n",
        "df = pd.DataFrame(data)\n",
        "print(df)\n"
      ]
    },
    {
      "cell_type": "code",
      "source": [
        "import numpy as np\n",
        "from keras.models import Sequential\n",
        "from keras.layers import Dense\n",
        "\n",
        "# Convert dataframe to numpy arrays\n",
        "X = np.array(df[['feature1', 'feature2']])\n",
        "y = np.array(df['label'])\n",
        "\n",
        "# Define the model\n",
        "model = Sequential()\n",
        "model.add(Dense(8, input_dim=2, activation='relu'))\n",
        "model.add(Dense(1, activation='sigmoid'))\n",
        "\n",
        "# Compile the model\n",
        "model.compile(loss='binary_crossentropy', optimizer='adam', metrics=['accuracy'])\n",
        "\n",
        "# Train the model\n",
        "model.fit(X, y, epochs=100, batch_size=2)\n",
        "\n",
        "# Make predictions\n",
        "predictions = model.predict(X)\n",
        "rounded_predictions = np.round(predictions)\n",
        "print(rounded_predictions)\n"
      ],
      "metadata": {
        "colab": {
          "base_uri": "https://localhost:8080/"
        },
        "id": "WNkNR5OqPRC8",
        "outputId": "2012e4fd-b4f2-4a1f-8371-a36da4817938"
      },
      "execution_count": 11,
      "outputs": [
        {
          "output_type": "stream",
          "name": "stdout",
          "text": [
            "Epoch 1/100\n",
            "3/3 [==============================] - 1s 5ms/step - loss: 0.5464 - accuracy: 0.8000\n",
            "Epoch 2/100\n",
            "3/3 [==============================] - 0s 4ms/step - loss: 0.5449 - accuracy: 0.6000\n",
            "Epoch 3/100\n",
            "3/3 [==============================] - 0s 4ms/step - loss: 0.5432 - accuracy: 0.6000\n",
            "Epoch 4/100\n",
            "3/3 [==============================] - 0s 5ms/step - loss: 0.5421 - accuracy: 0.6000\n",
            "Epoch 5/100\n",
            "3/3 [==============================] - 0s 5ms/step - loss: 0.5405 - accuracy: 0.6000\n",
            "Epoch 6/100\n",
            "3/3 [==============================] - 0s 4ms/step - loss: 0.5395 - accuracy: 0.6000\n",
            "Epoch 7/100\n",
            "3/3 [==============================] - 0s 5ms/step - loss: 0.5383 - accuracy: 0.6000\n",
            "Epoch 8/100\n",
            "3/3 [==============================] - 0s 4ms/step - loss: 0.5368 - accuracy: 0.6000\n",
            "Epoch 9/100\n",
            "3/3 [==============================] - 0s 6ms/step - loss: 0.5357 - accuracy: 0.6000\n",
            "Epoch 10/100\n",
            "3/3 [==============================] - 0s 4ms/step - loss: 0.5343 - accuracy: 0.6000\n",
            "Epoch 11/100\n",
            "3/3 [==============================] - 0s 4ms/step - loss: 0.5336 - accuracy: 0.6000\n",
            "Epoch 12/100\n",
            "3/3 [==============================] - 0s 4ms/step - loss: 0.5322 - accuracy: 0.6000\n",
            "Epoch 13/100\n",
            "3/3 [==============================] - 0s 5ms/step - loss: 0.5311 - accuracy: 0.6000\n",
            "Epoch 14/100\n",
            "3/3 [==============================] - 0s 5ms/step - loss: 0.5294 - accuracy: 0.6000\n",
            "Epoch 15/100\n",
            "3/3 [==============================] - 0s 4ms/step - loss: 0.5285 - accuracy: 0.6000\n",
            "Epoch 16/100\n",
            "3/3 [==============================] - 0s 4ms/step - loss: 0.5275 - accuracy: 0.6000\n",
            "Epoch 17/100\n",
            "3/3 [==============================] - 0s 4ms/step - loss: 0.5264 - accuracy: 0.6000\n",
            "Epoch 18/100\n",
            "3/3 [==============================] - 0s 4ms/step - loss: 0.5257 - accuracy: 0.6000\n",
            "Epoch 19/100\n",
            "3/3 [==============================] - 0s 4ms/step - loss: 0.5244 - accuracy: 0.6000\n",
            "Epoch 20/100\n",
            "3/3 [==============================] - 0s 5ms/step - loss: 0.5234 - accuracy: 0.6000\n",
            "Epoch 21/100\n",
            "3/3 [==============================] - 0s 5ms/step - loss: 0.5225 - accuracy: 0.6000\n",
            "Epoch 22/100\n",
            "3/3 [==============================] - 0s 5ms/step - loss: 0.5214 - accuracy: 0.6000\n",
            "Epoch 23/100\n",
            "3/3 [==============================] - 0s 4ms/step - loss: 0.5208 - accuracy: 0.6000\n",
            "Epoch 24/100\n",
            "3/3 [==============================] - 0s 4ms/step - loss: 0.5197 - accuracy: 0.6000\n",
            "Epoch 25/100\n",
            "3/3 [==============================] - 0s 4ms/step - loss: 0.5189 - accuracy: 0.6000\n",
            "Epoch 26/100\n",
            "3/3 [==============================] - 0s 7ms/step - loss: 0.5181 - accuracy: 0.8000\n",
            "Epoch 27/100\n",
            "3/3 [==============================] - 0s 5ms/step - loss: 0.5169 - accuracy: 0.8000\n",
            "Epoch 28/100\n",
            "3/3 [==============================] - 0s 8ms/step - loss: 0.5162 - accuracy: 0.8000\n",
            "Epoch 29/100\n",
            "3/3 [==============================] - 0s 7ms/step - loss: 0.5152 - accuracy: 0.8000\n",
            "Epoch 30/100\n",
            "3/3 [==============================] - 0s 5ms/step - loss: 0.5140 - accuracy: 0.8000\n",
            "Epoch 31/100\n",
            "3/3 [==============================] - 0s 5ms/step - loss: 0.5132 - accuracy: 0.8000\n",
            "Epoch 32/100\n",
            "3/3 [==============================] - 0s 5ms/step - loss: 0.5127 - accuracy: 0.8000\n",
            "Epoch 33/100\n",
            "3/3 [==============================] - 0s 6ms/step - loss: 0.5113 - accuracy: 0.8000\n",
            "Epoch 34/100\n",
            "3/3 [==============================] - 0s 5ms/step - loss: 0.5104 - accuracy: 0.8000\n",
            "Epoch 35/100\n",
            "3/3 [==============================] - 0s 5ms/step - loss: 0.5094 - accuracy: 0.8000\n",
            "Epoch 36/100\n",
            "3/3 [==============================] - 0s 5ms/step - loss: 0.5086 - accuracy: 0.8000\n",
            "Epoch 37/100\n",
            "3/3 [==============================] - 0s 5ms/step - loss: 0.5079 - accuracy: 0.8000\n",
            "Epoch 38/100\n",
            "3/3 [==============================] - 0s 5ms/step - loss: 0.5069 - accuracy: 0.8000\n",
            "Epoch 39/100\n",
            "3/3 [==============================] - 0s 7ms/step - loss: 0.5061 - accuracy: 0.8000\n",
            "Epoch 40/100\n",
            "3/3 [==============================] - 0s 5ms/step - loss: 0.5052 - accuracy: 0.8000\n",
            "Epoch 41/100\n",
            "3/3 [==============================] - 0s 6ms/step - loss: 0.5047 - accuracy: 0.8000\n",
            "Epoch 42/100\n",
            "3/3 [==============================] - 0s 6ms/step - loss: 0.5034 - accuracy: 0.8000\n",
            "Epoch 43/100\n",
            "3/3 [==============================] - 0s 5ms/step - loss: 0.5024 - accuracy: 0.8000\n",
            "Epoch 44/100\n",
            "3/3 [==============================] - 0s 7ms/step - loss: 0.5017 - accuracy: 0.8000\n",
            "Epoch 45/100\n",
            "3/3 [==============================] - 0s 5ms/step - loss: 0.5005 - accuracy: 0.8000\n",
            "Epoch 46/100\n",
            "3/3 [==============================] - 0s 8ms/step - loss: 0.5001 - accuracy: 0.8000\n",
            "Epoch 47/100\n",
            "3/3 [==============================] - 0s 5ms/step - loss: 0.4989 - accuracy: 0.8000\n",
            "Epoch 48/100\n",
            "3/3 [==============================] - 0s 5ms/step - loss: 0.4979 - accuracy: 0.8000\n",
            "Epoch 49/100\n",
            "3/3 [==============================] - 0s 5ms/step - loss: 0.4968 - accuracy: 0.8000\n",
            "Epoch 50/100\n",
            "3/3 [==============================] - 0s 5ms/step - loss: 0.4965 - accuracy: 0.8000\n",
            "Epoch 51/100\n",
            "3/3 [==============================] - 0s 5ms/step - loss: 0.4953 - accuracy: 0.8000\n",
            "Epoch 52/100\n",
            "3/3 [==============================] - 0s 5ms/step - loss: 0.4943 - accuracy: 0.8000\n",
            "Epoch 53/100\n",
            "3/3 [==============================] - 0s 7ms/step - loss: 0.4933 - accuracy: 0.8000\n",
            "Epoch 54/100\n",
            "3/3 [==============================] - 0s 6ms/step - loss: 0.4923 - accuracy: 0.8000\n",
            "Epoch 55/100\n",
            "3/3 [==============================] - 0s 5ms/step - loss: 0.4916 - accuracy: 0.8000\n",
            "Epoch 56/100\n",
            "3/3 [==============================] - 0s 5ms/step - loss: 0.4907 - accuracy: 0.8000\n",
            "Epoch 57/100\n",
            "3/3 [==============================] - 0s 5ms/step - loss: 0.4900 - accuracy: 0.8000\n",
            "Epoch 58/100\n",
            "3/3 [==============================] - 0s 5ms/step - loss: 0.4888 - accuracy: 0.8000\n",
            "Epoch 59/100\n",
            "3/3 [==============================] - 0s 5ms/step - loss: 0.4881 - accuracy: 0.8000\n",
            "Epoch 60/100\n",
            "3/3 [==============================] - 0s 6ms/step - loss: 0.4873 - accuracy: 0.8000\n",
            "Epoch 61/100\n",
            "3/3 [==============================] - 0s 6ms/step - loss: 0.4865 - accuracy: 0.8000\n",
            "Epoch 62/100\n",
            "3/3 [==============================] - 0s 7ms/step - loss: 0.4855 - accuracy: 0.8000\n",
            "Epoch 63/100\n",
            "3/3 [==============================] - 0s 6ms/step - loss: 0.4850 - accuracy: 0.8000\n",
            "Epoch 64/100\n",
            "3/3 [==============================] - 0s 6ms/step - loss: 0.4843 - accuracy: 0.8000\n",
            "Epoch 65/100\n",
            "3/3 [==============================] - 0s 5ms/step - loss: 0.4837 - accuracy: 0.8000\n",
            "Epoch 66/100\n",
            "3/3 [==============================] - 0s 4ms/step - loss: 0.4828 - accuracy: 0.8000\n",
            "Epoch 67/100\n",
            "3/3 [==============================] - 0s 5ms/step - loss: 0.4824 - accuracy: 0.8000\n",
            "Epoch 68/100\n",
            "3/3 [==============================] - 0s 5ms/step - loss: 0.4818 - accuracy: 0.8000\n",
            "Epoch 69/100\n",
            "3/3 [==============================] - 0s 5ms/step - loss: 0.4810 - accuracy: 0.8000\n",
            "Epoch 70/100\n",
            "3/3 [==============================] - 0s 5ms/step - loss: 0.4804 - accuracy: 0.8000\n",
            "Epoch 71/100\n",
            "3/3 [==============================] - 0s 5ms/step - loss: 0.4798 - accuracy: 0.8000\n",
            "Epoch 72/100\n",
            "3/3 [==============================] - 0s 5ms/step - loss: 0.4792 - accuracy: 0.8000\n",
            "Epoch 73/100\n",
            "3/3 [==============================] - 0s 6ms/step - loss: 0.4784 - accuracy: 0.8000\n",
            "Epoch 74/100\n",
            "3/3 [==============================] - 0s 5ms/step - loss: 0.4777 - accuracy: 0.8000\n",
            "Epoch 75/100\n",
            "3/3 [==============================] - 0s 5ms/step - loss: 0.4773 - accuracy: 0.8000\n",
            "Epoch 76/100\n",
            "3/3 [==============================] - 0s 5ms/step - loss: 0.4769 - accuracy: 0.8000\n",
            "Epoch 77/100\n",
            "3/3 [==============================] - 0s 5ms/step - loss: 0.4761 - accuracy: 0.8000\n",
            "Epoch 78/100\n",
            "3/3 [==============================] - 0s 5ms/step - loss: 0.4755 - accuracy: 0.8000\n",
            "Epoch 79/100\n",
            "3/3 [==============================] - 0s 5ms/step - loss: 0.4747 - accuracy: 0.8000\n",
            "Epoch 80/100\n",
            "3/3 [==============================] - 0s 5ms/step - loss: 0.4743 - accuracy: 0.8000\n",
            "Epoch 81/100\n",
            "3/3 [==============================] - 0s 6ms/step - loss: 0.4737 - accuracy: 0.8000\n",
            "Epoch 82/100\n",
            "3/3 [==============================] - 0s 5ms/step - loss: 0.4729 - accuracy: 0.8000\n",
            "Epoch 83/100\n",
            "3/3 [==============================] - 0s 5ms/step - loss: 0.4723 - accuracy: 0.8000\n",
            "Epoch 84/100\n",
            "3/3 [==============================] - 0s 5ms/step - loss: 0.4716 - accuracy: 0.8000\n",
            "Epoch 85/100\n",
            "3/3 [==============================] - 0s 5ms/step - loss: 0.4709 - accuracy: 0.8000\n",
            "Epoch 86/100\n",
            "3/3 [==============================] - 0s 5ms/step - loss: 0.4706 - accuracy: 0.8000\n",
            "Epoch 87/100\n",
            "3/3 [==============================] - 0s 5ms/step - loss: 0.4698 - accuracy: 0.8000\n",
            "Epoch 88/100\n",
            "3/3 [==============================] - 0s 5ms/step - loss: 0.4691 - accuracy: 0.8000\n",
            "Epoch 89/100\n",
            "3/3 [==============================] - 0s 5ms/step - loss: 0.4684 - accuracy: 0.8000\n",
            "Epoch 90/100\n",
            "3/3 [==============================] - 0s 5ms/step - loss: 0.4679 - accuracy: 0.8000\n",
            "Epoch 91/100\n",
            "3/3 [==============================] - 0s 4ms/step - loss: 0.4673 - accuracy: 0.8000\n",
            "Epoch 92/100\n",
            "3/3 [==============================] - 0s 4ms/step - loss: 0.4668 - accuracy: 0.8000\n",
            "Epoch 93/100\n",
            "3/3 [==============================] - 0s 5ms/step - loss: 0.4660 - accuracy: 0.8000\n",
            "Epoch 94/100\n",
            "3/3 [==============================] - 0s 4ms/step - loss: 0.4656 - accuracy: 0.8000\n",
            "Epoch 95/100\n",
            "3/3 [==============================] - 0s 4ms/step - loss: 0.4652 - accuracy: 0.8000\n",
            "Epoch 96/100\n",
            "3/3 [==============================] - 0s 4ms/step - loss: 0.4645 - accuracy: 0.8000\n",
            "Epoch 97/100\n",
            "3/3 [==============================] - 0s 7ms/step - loss: 0.4642 - accuracy: 0.8000\n",
            "Epoch 98/100\n",
            "3/3 [==============================] - 0s 6ms/step - loss: 0.4637 - accuracy: 0.8000\n",
            "Epoch 99/100\n",
            "3/3 [==============================] - 0s 5ms/step - loss: 0.4630 - accuracy: 0.8000\n",
            "Epoch 100/100\n",
            "3/3 [==============================] - 0s 5ms/step - loss: 0.4623 - accuracy: 0.8000\n"
          ]
        },
        {
          "output_type": "stream",
          "name": "stderr",
          "text": [
            "WARNING:tensorflow:5 out of the last 5 calls to <function Model.make_predict_function.<locals>.predict_function at 0x7f8e550b1480> triggered tf.function retracing. Tracing is expensive and the excessive number of tracings could be due to (1) creating @tf.function repeatedly in a loop, (2) passing tensors with different shapes, (3) passing Python objects instead of tensors. For (1), please define your @tf.function outside of the loop. For (2), @tf.function has reduce_retracing=True option that can avoid unnecessary retracing. For (3), please refer to https://www.tensorflow.org/guide/function#controlling_retracing and https://www.tensorflow.org/api_docs/python/tf/function for  more details.\n"
          ]
        },
        {
          "output_type": "stream",
          "name": "stdout",
          "text": [
            "1/1 [==============================] - 0s 76ms/step\n",
            "[[1.]\n",
            " [1.]\n",
            " [0.]\n",
            " [1.]\n",
            " [1.]]\n"
          ]
        }
      ]
    },
    {
      "cell_type": "code",
      "source": [
        "from keras.models import Sequential\n",
        "from keras.layers import Dense\n",
        "from keras.utils.vis_utils import plot_model\n",
        "\n",
        "model = Sequential()\n",
        "model.add(Dense(8, input_dim=2, activation='relu'))\n",
        "model.add(Dense(1, activation='sigmoid'))\n",
        "\n",
        "plot_model(model, to_file='model.png', show_shapes=True)\n"
      ],
      "metadata": {
        "colab": {
          "base_uri": "https://localhost:8080/",
          "height": 312
        },
        "id": "4gjHZopQNUZ7",
        "outputId": "c8ef34e0-89a8-48b5-cbd3-dace885ad585"
      },
      "execution_count": 13,
      "outputs": [
        {
          "output_type": "execute_result",
          "data": {
            "image/png": "[encoded data removed]",
            "text/plain": [
              "<IPython.core.display.Image object>"
            ]
          },
          "metadata": {},
          "execution_count": 13
        }
      ]
    },
    {
      "cell_type": "code",
      "source": [
        "# In the line model.add(Dense(8, input_dim=2, activation='relu')),\n",
        "# the number 8 represents the number of neurons in the hidden layer of the neural network.\n",
        "# The choice of the number of neurons in a hidden layer is a design decision and\n",
        "# can vary based on the complexity of the problem at hand.\n",
        "\n",
        "# In this case, we have chosen to use 8 neurons in the hidden layer for illustrative purposes.\n",
        "# You can adjust this number based on the specific requirements of your problem.\n",
        "#  Increasing the number of neurons in the hidden layer can potentially allow the network to learn more\n",
        "# complex patterns in the data, but it may also increase the computational complexity of the model.\n",
        "\n",
        "# The line model.add(Dense(1, activation='sigmoid')) represents the output layer of the neural network.\n",
        "# It consists of a single neuron because we have a binary classification problem with one output class.\n",
        "# The activation function used in the output layer is the sigmoid function, which squashes the output\n",
        "# values between 0 and 1, representing the probability of belonging to the positive class."
      ],
      "metadata": {
        "id": "-ZvxSfD6RBTf"
      },
      "execution_count": 15,
      "outputs": []
    },
    {
      "cell_type": "code",
      "source": [
        "print(model.summary())"
      ],
      "metadata": {
        "colab": {
          "base_uri": "https://localhost:8080/"
        },
        "id": "EwRQhUtEQrVx",
        "outputId": "9c823699-85c5-46a4-a3e4-573128dda741"
      },
      "execution_count": 14,
      "outputs": [
        {
          "output_type": "stream",
          "name": "stdout",
          "text": [
            "Model: \"sequential_8\"\n",
            "_________________________________________________________________\n",
            " Layer (type)                Output Shape              Param #   \n",
            "=================================================================\n",
            " dense_15 (Dense)            (None, 8)                 24        \n",
            "                                                                 \n",
            " dense_16 (Dense)            (None, 1)                 9         \n",
            "                                                                 \n",
            "=================================================================\n",
            "Total params: 33\n",
            "Trainable params: 33\n",
            "Non-trainable params: 0\n",
            "_________________________________________________________________\n",
            "None\n"
          ]
        }
      ]
    },
    {
      "cell_type": "code",
      "source": [
        "# Parameters:\n",
        "# number_of_parameters = (number_of_inputs + 1) * number_of_neurons\n",
        "number_of_parameters = (2 + 1) * 8"
      ],
      "metadata": {
        "id": "WnCtrx-mRe-d"
      },
      "execution_count": 18,
      "outputs": []
    },
    {
      "cell_type": "code",
      "source": [
        "number_of_parameters"
      ],
      "metadata": {
        "colab": {
          "base_uri": "https://localhost:8080/"
        },
        "id": "-DbRVcwURzIc",
        "outputId": "e7353002-f065-47c2-dae7-889dfc98f82b"
      },
      "execution_count": 19,
      "outputs": [
        {
          "output_type": "execute_result",
          "data": {
            "text/plain": [
              "24"
            ]
          },
          "metadata": {},
          "execution_count": 19
        }
      ]
    },
    {
      "cell_type": "code",
      "source": [
        "# In this formula, number_of_inputs represents the number of neurons in the previous layer\n",
        "#  (or the input layer for the first hidden layer), and number_of_neurons represents the number\n",
        "#  of neurons in the current layer.\n",
        "\n",
        "# Let's calculate the number of parameters for each layer in the example code you provided:"
      ],
      "metadata": {
        "id": "NNP0v1W7R448"
      },
      "execution_count": 20,
      "outputs": []
    },
    {
      "cell_type": "code",
      "source": [
        "from keras.models import Sequential\n",
        "from keras.layers import Dense\n",
        "\n",
        "model = Sequential()\n",
        "model.add(Dense(8, input_dim=2, activation='relu'))\n",
        "model.add(Dense(1, activation='sigmoid'))\n",
        "\n",
        "# Calculate number of parameters for each layer\n",
        "for layer in model.layers:\n",
        "    layer_parameters = layer.count_params()\n",
        "    print(f\"Layer {layer.name} has {layer_parameters} parameters.\")\n"
      ],
      "metadata": {
        "colab": {
          "base_uri": "https://localhost:8080/"
        },
        "id": "mYpgV_UlSDWh",
        "outputId": "2d8fc6c8-23e7-4529-b2f8-9f8fe1015de7"
      },
      "execution_count": 21,
      "outputs": [
        {
          "output_type": "stream",
          "name": "stdout",
          "text": [
            "Layer dense_17 has 24 parameters.\n",
            "Layer dense_18 has 9 parameters.\n"
          ]
        }
      ]
    },
    {
      "cell_type": "code",
      "source": [],
      "metadata": {
        "id": "j_KhrWMyRgY2"
      },
      "execution_count": null,
      "outputs": []
    }
  ]
}