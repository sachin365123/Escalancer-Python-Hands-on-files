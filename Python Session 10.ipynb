{
 "cells": [
  {
   "cell_type": "markdown",
   "id": "a1c0c5e3-b8fd-4269-a37b-cedebea8af69",
   "metadata": {},
   "source": [
    "## Message"
   ]
  },
  {
   "cell_type": "code",
   "execution_count": 4,
   "id": "79c97f91-a260-43d0-859b-f15fc63a94b6",
   "metadata": {},
   "outputs": [
    {
     "name": "stdout",
     "output_type": "stream",
     "text": [
      "Sachin Saxena\n"
     ]
    }
   ],
   "source": [
    "print(\"Sachin Saxena\")"
   ]
  },
  {
   "cell_type": "code",
   "execution_count": 7,
   "id": "50648b22-370e-4eb7-96c7-4915e16e2019",
   "metadata": {},
   "outputs": [
    {
     "name": "stdout",
     "output_type": "stream",
     "text": [
      "Data Science\n"
     ]
    }
   ],
   "source": [
    "print(\"Data Science\")"
   ]
  },
  {
   "cell_type": "code",
   "execution_count": 8,
   "id": "bf76da39-793f-49a1-878d-89b71c239e08",
   "metadata": {},
   "outputs": [
    {
     "name": "stdout",
     "output_type": "stream",
     "text": [
      "Machine Learning\n"
     ]
    }
   ],
   "source": [
    "print(\"Machine Learning\")"
   ]
  },
  {
   "cell_type": "markdown",
   "id": "f8997acd-e337-4b9f-9005-a8ab754bc489",
   "metadata": {},
   "source": [
    "## Variables"
   ]
  },
  {
   "cell_type": "code",
   "execution_count": 9,
   "id": "f9be351c-d4e9-4a89-9020-daf5db9b982e",
   "metadata": {},
   "outputs": [
    {
     "name": "stdout",
     "output_type": "stream",
     "text": [
      "16\n"
     ]
    }
   ],
   "source": [
    "a=7\n",
    "b=9\n",
    "print(a+b)"
   ]
  },
  {
   "cell_type": "code",
   "execution_count": 10,
   "id": "79040216-cd9a-429b-ac27-032d122b4008",
   "metadata": {},
   "outputs": [
    {
     "name": "stdout",
     "output_type": "stream",
     "text": [
      "-2\n"
     ]
    }
   ],
   "source": [
    "a=7\n",
    "b=9\n",
    "print(a-b)"
   ]
  },
  {
   "cell_type": "code",
   "execution_count": 11,
   "id": "606228e9-55f1-4e46-925f-b631ef2630b8",
   "metadata": {},
   "outputs": [
    {
     "name": "stdout",
     "output_type": "stream",
     "text": [
      "140728851022824\n"
     ]
    }
   ],
   "source": [
    "print(id(a))"
   ]
  },
  {
   "cell_type": "code",
   "execution_count": 12,
   "id": "fa022de2-f7e7-4f64-a28b-af8188db8f22",
   "metadata": {},
   "outputs": [
    {
     "name": "stdout",
     "output_type": "stream",
     "text": [
      "140728851022888\n"
     ]
    }
   ],
   "source": [
    "print(id(b))"
   ]
  },
  {
   "cell_type": "code",
   "execution_count": 13,
   "id": "a4dbdd87-9f48-4e2d-8675-497e97c12e2e",
   "metadata": {},
   "outputs": [
    {
     "name": "stdout",
     "output_type": "stream",
     "text": [
      "7\n"
     ]
    }
   ],
   "source": [
    "print(a)"
   ]
  },
  {
   "cell_type": "code",
   "execution_count": 14,
   "id": "f7bf461d-7ead-4d6d-ad4d-53e2f0d85597",
   "metadata": {},
   "outputs": [
    {
     "name": "stdout",
     "output_type": "stream",
     "text": [
      "9\n"
     ]
    }
   ],
   "source": [
    "print(b)"
   ]
  },
  {
   "cell_type": "markdown",
   "id": "7448facf-5df5-439e-b7e6-35f69a4f8acb",
   "metadata": {},
   "source": [
    "## String in Python"
   ]
  },
  {
   "cell_type": "code",
   "execution_count": 1,
   "id": "d74793d6-f1dd-45f0-9b89-5249d40cdf18",
   "metadata": {},
   "outputs": [
    {
     "name": "stdout",
     "output_type": "stream",
     "text": [
      "Data Science and Machine Learning\n"
     ]
    }
   ],
   "source": [
    "print(\"Data Science and Machine Learning\")"
   ]
  },
  {
   "cell_type": "code",
   "execution_count": 11,
   "id": "3278b621-f9c8-4089-ba30-b72911f712f4",
   "metadata": {},
   "outputs": [
    {
     "name": "stdout",
     "output_type": "stream",
     "text": [
      "Data Science and 'ML' Machine Learning\n"
     ]
    }
   ],
   "source": [
    "print(\"Data Science and \\'ML\\' Machine Learning\")"
   ]
  },
  {
   "cell_type": "code",
   "execution_count": 13,
   "id": "0467c023-07ed-4434-b7ab-1fe35c4b6b2f",
   "metadata": {},
   "outputs": [
    {
     "name": "stdout",
     "output_type": "stream",
     "text": [
      " IMDb.com, Inc. or its affiliates. \n",
      "All rights reserved. Box Office Mojo \n",
      "and IMDb are trademarks or \n",
      "registered trademarks of IMDb.com,\n",
      "Inc. or its affiliates. \n",
      "Conditions of Use and Privacy Policy \n",
      "under which this service is provided to you.\n"
     ]
    }
   ],
   "source": [
    "print(''' IMDb.com, Inc. or its affiliates. \n",
    "All rights reserved. Box Office Mojo \n",
    "and IMDb are trademarks or \n",
    "registered trademarks of IMDb.com,\n",
    "Inc. or its affiliates. \n",
    "Conditions of Use and Privacy Policy \n",
    "under which this service is provided to you.''')"
   ]
  },
  {
   "cell_type": "code",
   "execution_count": 9,
   "id": "afd027bf-d676-4127-aca1-5bd38b270d09",
   "metadata": {},
   "outputs": [
    {
     "name": "stdout",
     "output_type": "stream",
     "text": [
      "Data Engineer is the \n",
      "role of Python. \n",
      "ML is the key \n",
      "element of this course\n"
     ]
    }
   ],
   "source": [
    "# New line Raw mode\n",
    "print(\"Data Engineer is the \\nrole of Python. \\nML is the key \\nelement of this course\")"
   ]
  },
  {
   "cell_type": "code",
   "execution_count": 10,
   "id": "9cbc2a31-eb4f-40bc-974b-a90cffcc369f",
   "metadata": {},
   "outputs": [
    {
     "name": "stdout",
     "output_type": "stream",
     "text": [
      "Data Engineer is the role of Python. \"ML\" is the key element of this course\n"
     ]
    }
   ],
   "source": [
    "# Double Quote\n",
    "print(\"Data Engineer is the role of Python. \\\"ML\\\" is the key element of this course\")"
   ]
  },
  {
   "cell_type": "code",
   "execution_count": 13,
   "id": "c3f60513-8ed9-4096-98c3-1647ac1fffb6",
   "metadata": {},
   "outputs": [
    {
     "name": "stdout",
     "output_type": "stream",
     "text": [
      "Data Engineer is the role of \tPython. \t\t\tML is the key \telement of this course\n"
     ]
    }
   ],
   "source": [
    "# Tab \n",
    "print(\"Data Engineer is the role of \\tPython. \\t\\t\\tML is the key \\telement of this course\")"
   ]
  },
  {
   "cell_type": "code",
   "execution_count": 25,
   "id": "ed5189e0-aed2-42eb-ba95-c93d236d4bd7",
   "metadata": {},
   "outputs": [
    {
     "name": "stdout",
     "output_type": "stream",
     "text": [
      "Data Engineer is the role of Python. 'ML' is the key element of this course\n"
     ]
    }
   ],
   "source": [
    "# Single Quote\n",
    "print(\"Data Engineer is the role of Python. \\'ML\\' is the key element of this course\")"
   ]
  },
  {
   "cell_type": "code",
   "execution_count": 18,
   "id": "eac5dfe9-1252-470d-812a-e5dfcbccbfc5",
   "metadata": {},
   "outputs": [
    {
     "name": "stdout",
     "output_type": "stream",
     "text": [
      "Data Engineer is the role of Python. \\ML is the key element of this course\n",
      "Data Engineer is \\not the role of Python. \\ML is \\the key element of this course\n"
     ]
    }
   ],
   "source": [
    "# Backslash\n",
    "print(\"Data Engineer is the role of Python. \\\\ML is the key element of this course\")\n",
    "print(\"Data Engineer is \\\\not the role of Python. \\ML is \\\\the key element of this course\")"
   ]
  },
  {
   "cell_type": "code",
   "execution_count": 19,
   "id": "23a13370-0bd3-41f7-ae4d-c94b890d319e",
   "metadata": {},
   "outputs": [
    {
     "name": "stdout",
     "output_type": "stream",
     "text": [
      "True\\the True\n"
     ]
    }
   ],
   "source": [
    "print('True\\\\the True')"
   ]
  },
  {
   "cell_type": "markdown",
   "id": "cfefb7b0-94de-48b7-ad2d-eb0331542dba",
   "metadata": {},
   "source": [
    "## Concatenation in String"
   ]
  },
  {
   "cell_type": "code",
   "execution_count": 4,
   "id": "f83d5def-95e5-4f2c-8c09-f09a8f986d11",
   "metadata": {},
   "outputs": [
    {
     "name": "stdout",
     "output_type": "stream",
     "text": [
      "Machine Learning Sachin\n"
     ]
    }
   ],
   "source": [
    "# var='Machine Learning'+' '+'Sachin'\n",
    "var=\"Machine Learning\"+' '+'Sachin'\n",
    "print(var)"
   ]
  },
  {
   "cell_type": "code",
   "execution_count": 39,
   "id": "ed149134-44d8-48c2-9193-1999baed555b",
   "metadata": {},
   "outputs": [
    {
     "name": "stdout",
     "output_type": "stream",
     "text": [
      "Data Scientist Data Scientist Data Scientist Data Scientist Data Scientist \n"
     ]
    }
   ],
   "source": [
    "var='Data Scientist '*5\n",
    "print(var)"
   ]
  },
  {
   "cell_type": "code",
   "execution_count": 40,
   "id": "bd6bee8d-f219-4ecd-88a8-504e7ce02b53",
   "metadata": {},
   "outputs": [],
   "source": [
    "First_name='Ajay Sain'\n",
    "Second_name='Ajay Sain'"
   ]
  },
  {
   "cell_type": "code",
   "execution_count": 41,
   "id": "b5687be4-1147-4de0-b47c-b193c192d33a",
   "metadata": {},
   "outputs": [
    {
     "name": "stdout",
     "output_type": "stream",
     "text": [
      "2257148790448\n"
     ]
    }
   ],
   "source": [
    "print(id(First_name))"
   ]
  },
  {
   "cell_type": "code",
   "execution_count": 48,
   "id": "b095e0e5-b9b1-48c4-a1bf-553f26e13d72",
   "metadata": {},
   "outputs": [
    {
     "name": "stdout",
     "output_type": "stream",
     "text": [
      "2257148790768\n",
      "140720300737512\n"
     ]
    }
   ],
   "source": [
    "print(id(Second_name))\n",
    "var=7\n",
    "print(id(var))"
   ]
  },
  {
   "cell_type": "code",
   "execution_count": 43,
   "id": "6663233a-44ee-4695-ae3c-9a2a7d993e7f",
   "metadata": {},
   "outputs": [
    {
     "name": "stdout",
     "output_type": "stream",
     "text": [
      "Ajay Sain\n"
     ]
    }
   ],
   "source": [
    "print(Second_name)"
   ]
  },
  {
   "cell_type": "code",
   "execution_count": 47,
   "id": "3887a5b8-175b-4f70-95d4-85d47d84a736",
   "metadata": {},
   "outputs": [
    {
     "name": "stdout",
     "output_type": "stream",
     "text": [
      "S\n"
     ]
    }
   ],
   "source": [
    "print(Second_name[5])"
   ]
  },
  {
   "cell_type": "code",
   "execution_count": 49,
   "id": "8731a31f-eb70-41de-8fd5-04902628a3ca",
   "metadata": {},
   "outputs": [],
   "source": [
    "name='Sachin Kumar Saxena'"
   ]
  },
  {
   "cell_type": "code",
   "execution_count": 52,
   "id": "30f1ef57-b486-404a-9720-71ad646c74ab",
   "metadata": {},
   "outputs": [
    {
     "name": "stdout",
     "output_type": "stream",
     "text": [
      "Saxena\n"
     ]
    }
   ],
   "source": [
    "print(name[13:22])"
   ]
  },
  {
   "cell_type": "code",
   "execution_count": 59,
   "id": "6a9e6405-f59b-45da-9ad0-fe7f4847bef8",
   "metadata": {},
   "outputs": [
    {
     "name": "stdout",
     "output_type": "stream",
     "text": [
      "Sachin Kumar Sax\n"
     ]
    }
   ],
   "source": [
    "print(name[:16])"
   ]
  },
  {
   "cell_type": "code",
   "execution_count": 61,
   "id": "468d570a-0b5e-4d73-9a6a-612a16c6cb4f",
   "metadata": {},
   "outputs": [
    {
     "name": "stdout",
     "output_type": "stream",
     "text": [
      "Sachin Kumar Saxena\n"
     ]
    }
   ],
   "source": [
    "print(name)"
   ]
  },
  {
   "cell_type": "code",
   "execution_count": 60,
   "id": "7943905e-9925-42eb-af69-50e7d561af5c",
   "metadata": {},
   "outputs": [
    {
     "name": "stdout",
     "output_type": "stream",
     "text": [
      "ahnKm\n"
     ]
    }
   ],
   "source": [
    "print(name[1:10:2])"
   ]
  },
  {
   "cell_type": "markdown",
   "id": "9f1e6273-0516-4a80-a5b3-75c6719381b8",
   "metadata": {},
   "source": [
    "## Functions in String"
   ]
  },
  {
   "cell_type": "code",
   "execution_count": 5,
   "id": "70b7d5c2-1047-4242-a9c8-eb6e65b31cc4",
   "metadata": {},
   "outputs": [
    {
     "name": "stdin",
     "output_type": "stream",
     "text": [
      "Enter your 4 digit PIN....  4715\n"
     ]
    }
   ],
   "source": [
    "atm_pin=int(input(\"Enter your 4 digit PIN.... \"))"
   ]
  },
  {
   "cell_type": "code",
   "execution_count": 6,
   "id": "b55a46ef-6108-4e65-96f7-5e7726b05d57",
   "metadata": {},
   "outputs": [
    {
     "name": "stdin",
     "output_type": "stream",
     "text": [
      "Enter your amount to withdraw....  85000\n"
     ]
    }
   ],
   "source": [
    "Amount=int(input(\"Enter your amount to withdraw.... \"))"
   ]
  },
  {
   "cell_type": "code",
   "execution_count": 7,
   "id": "a05463b4-ebbf-493c-83e0-d297df1aef85",
   "metadata": {},
   "outputs": [
    {
     "data": {
      "text/plain": [
       "85000"
      ]
     },
     "execution_count": 7,
     "metadata": {},
     "output_type": "execute_result"
    }
   ],
   "source": [
    "Amount"
   ]
  },
  {
   "cell_type": "code",
   "execution_count": 8,
   "id": "9d866ae4-d29c-4698-beec-43967aec5392",
   "metadata": {},
   "outputs": [
    {
     "data": {
      "text/plain": [
       "4715"
      ]
     },
     "execution_count": 8,
     "metadata": {},
     "output_type": "execute_result"
    }
   ],
   "source": [
    "atm_pin"
   ]
  },
  {
   "cell_type": "code",
   "execution_count": 9,
   "id": "10ea39db-ad45-4a44-a99f-45570121904d",
   "metadata": {},
   "outputs": [
    {
     "data": {
      "text/plain": [
       "int"
      ]
     },
     "execution_count": 9,
     "metadata": {},
     "output_type": "execute_result"
    }
   ],
   "source": [
    "type(atm_pin)"
   ]
  },
  {
   "cell_type": "code",
   "execution_count": 31,
   "id": "3e092930-5b26-4df0-bacf-895db36bcf01",
   "metadata": {},
   "outputs": [
    {
     "data": {
      "text/plain": [
       "12815"
      ]
     },
     "execution_count": 31,
     "metadata": {},
     "output_type": "execute_result"
    }
   ],
   "source": [
    "Amount+atm_pin"
   ]
  },
  {
   "cell_type": "code",
   "execution_count": 32,
   "id": "06bcb8fa-cde9-46c7-b1b7-374a9a31457c",
   "metadata": {},
   "outputs": [
    {
     "name": "stdout",
     "output_type": "stream",
     "text": [
      "Ruchika Punwatkar\n"
     ]
    }
   ],
   "source": [
    "var=\"Ruchika Punwatkar\"\n",
    "print(var)"
   ]
  },
  {
   "cell_type": "code",
   "execution_count": 33,
   "id": "8e6f27d7-c054-432e-8abb-6225e62686c3",
   "metadata": {},
   "outputs": [
    {
     "data": {
      "text/plain": [
       "17"
      ]
     },
     "execution_count": 33,
     "metadata": {},
     "output_type": "execute_result"
    }
   ],
   "source": [
    "len(var)"
   ]
  },
  {
   "cell_type": "code",
   "execution_count": 34,
   "id": "a3bf864b-cba6-486a-95cc-868033679651",
   "metadata": {},
   "outputs": [
    {
     "data": {
      "text/plain": [
       "17"
      ]
     },
     "execution_count": 34,
     "metadata": {},
     "output_type": "execute_result"
    }
   ],
   "source": [
    "len(\"Ruchika Punwatkar\")"
   ]
  },
  {
   "cell_type": "code",
   "execution_count": 36,
   "id": "cb5bc04f-3f13-41f6-8a9f-66526db648e3",
   "metadata": {},
   "outputs": [
    {
     "data": {
      "text/plain": [
       "3"
      ]
     },
     "execution_count": 36,
     "metadata": {},
     "output_type": "execute_result"
    }
   ],
   "source": [
    "var=int(3.9)\n",
    "var"
   ]
  },
  {
   "cell_type": "code",
   "execution_count": 37,
   "id": "82f4377c-a69f-406f-b8fe-faa71f663776",
   "metadata": {},
   "outputs": [
    {
     "data": {
      "text/plain": [
       "'8'"
      ]
     },
     "execution_count": 37,
     "metadata": {},
     "output_type": "execute_result"
    }
   ],
   "source": [
    "var3=str(8)\n",
    "var3"
   ]
  },
  {
   "cell_type": "code",
   "execution_count": 38,
   "id": "2294a099-ac78-4bdc-b66c-5f8900cb92d9",
   "metadata": {},
   "outputs": [
    {
     "name": "stdout",
     "output_type": "stream",
     "text": [
      "There are 1200 numbers \n"
     ]
    }
   ],
   "source": [
    "print(f\"There are {20*10*6} numbers \")"
   ]
  },
  {
   "cell_type": "code",
   "execution_count": 39,
   "id": "30177244-93b6-4f5b-90b3-966e1b8f80f4",
   "metadata": {},
   "outputs": [
    {
     "data": {
      "text/plain": [
       "'sachin'"
      ]
     },
     "execution_count": 39,
     "metadata": {},
     "output_type": "execute_result"
    }
   ],
   "source": [
    "\"SACHIN\".lower()"
   ]
  },
  {
   "cell_type": "code",
   "execution_count": 10,
   "id": "67bf3e44-e356-477c-8f63-4fb444201087",
   "metadata": {},
   "outputs": [
    {
     "data": {
      "text/plain": [
       "'SACHIN'"
      ]
     },
     "execution_count": 10,
     "metadata": {},
     "output_type": "execute_result"
    }
   ],
   "source": [
    "'sachin'.upper()"
   ]
  },
  {
   "cell_type": "code",
   "execution_count": 11,
   "id": "e89cad0e-6814-4f1c-ab8b-816165c48d0c",
   "metadata": {},
   "outputs": [
    {
     "data": {
      "text/plain": [
       "'shalini'"
      ]
     },
     "execution_count": 11,
     "metadata": {},
     "output_type": "execute_result"
    }
   ],
   "source": [
    "\"SHALINI\".lower()"
   ]
  },
  {
   "cell_type": "code",
   "execution_count": 12,
   "id": "e506c0d5-f5b2-43dc-818d-bbae364ee5d1",
   "metadata": {},
   "outputs": [
    {
     "data": {
      "text/plain": [
       "'SHALKNK'"
      ]
     },
     "execution_count": 12,
     "metadata": {},
     "output_type": "execute_result"
    }
   ],
   "source": [
    "\"SHALINI\".replace('I','K')"
   ]
  },
  {
   "cell_type": "code",
   "execution_count": 48,
   "id": "fd49a734-87c7-409f-9126-5d8207f5ae50",
   "metadata": {},
   "outputs": [
    {
     "data": {
      "text/plain": [
       "10"
      ]
     },
     "execution_count": 48,
     "metadata": {},
     "output_type": "execute_result"
    }
   ],
   "source": [
    "'Class DS Class'.find('l',7)"
   ]
  },
  {
   "cell_type": "code",
   "execution_count": 13,
   "id": "870d77f5-5a79-4a3e-a7ca-cdf5b317e438",
   "metadata": {},
   "outputs": [
    {
     "data": {
      "text/plain": [
       "'end'"
      ]
     },
     "execution_count": 13,
     "metadata": {},
     "output_type": "execute_result"
    }
   ],
   "source": [
    "msg = \"________end_________\"\n",
    "msg.strip('_')"
   ]
  },
  {
   "cell_type": "code",
   "execution_count": 14,
   "id": "3360aa68-84fc-4464-b75e-3acdb56a04e0",
   "metadata": {},
   "outputs": [
    {
     "data": {
      "text/plain": [
       "'end'"
      ]
     },
     "execution_count": 14,
     "metadata": {},
     "output_type": "execute_result"
    }
   ],
   "source": [
    "msg = \"      end      \"\n",
    "msg.strip(' ')"
   ]
  },
  {
   "cell_type": "code",
   "execution_count": 15,
   "id": "17579dd3-a7dc-4d6b-8c1b-c4df12c4ba26",
   "metadata": {},
   "outputs": [
    {
     "data": {
      "text/plain": [
       "'end,,,,,'"
      ]
     },
     "execution_count": 15,
     "metadata": {},
     "output_type": "execute_result"
    }
   ],
   "source": [
    "msg = \",,,,,end,,,,,\"\n",
    "msg.lstrip(',')"
   ]
  },
  {
   "cell_type": "code",
   "execution_count": 16,
   "id": "55c186a9-98fa-48df-84ef-8ee4cf3701bc",
   "metadata": {},
   "outputs": [
    {
     "data": {
      "text/plain": [
       "',,,,,end'"
      ]
     },
     "execution_count": 16,
     "metadata": {},
     "output_type": "execute_result"
    }
   ],
   "source": [
    "msg = \",,,,,end,,,,,\"\n",
    "msg.rstrip(',')"
   ]
  },
  {
   "cell_type": "code",
   "execution_count": 59,
   "id": "5bbd751c-c632-4b56-8dd9-47d93cb7e5e1",
   "metadata": {},
   "outputs": [
    {
     "data": {
      "text/plain": [
       "10"
      ]
     },
     "execution_count": 59,
     "metadata": {},
     "output_type": "execute_result"
    }
   ],
   "source": [
    "msg = \"Cat in a hat\"\n",
    "msg.find('a',8)"
   ]
  },
  {
   "cell_type": "code",
   "execution_count": 60,
   "id": "5f94fb1c-f794-4a36-8115-9a6a70f6e60e",
   "metadata": {},
   "outputs": [
    {
     "data": {
      "text/plain": [
       "10"
      ]
     },
     "execution_count": 60,
     "metadata": {},
     "output_type": "execute_result"
    }
   ],
   "source": [
    "msg = \"Cat in a hat\"\n",
    "msg.rfind('a')"
   ]
  },
  {
   "cell_type": "code",
   "execution_count": 17,
   "id": "df5a7aa2-86ec-413e-bca3-7ba99a534e00",
   "metadata": {},
   "outputs": [
    {
     "data": {
      "text/plain": [
       "1"
      ]
     },
     "execution_count": 17,
     "metadata": {},
     "output_type": "execute_result"
    }
   ],
   "source": [
    "msg = \"Cat in a hat\"\n",
    "msg.index('a')"
   ]
  },
  {
   "cell_type": "code",
   "execution_count": 71,
   "id": "b265d894-7c88-4acd-9751-c26fd5949493",
   "metadata": {},
   "outputs": [],
   "source": [
    "msg=msg.replace('a','K')"
   ]
  },
  {
   "cell_type": "code",
   "execution_count": 72,
   "id": "04ff951a-7130-409c-8cf4-17f2c8f86476",
   "metadata": {},
   "outputs": [
    {
     "data": {
      "text/plain": [
       "'CKt in K hKt'"
      ]
     },
     "execution_count": 72,
     "metadata": {},
     "output_type": "execute_result"
    }
   ],
   "source": [
    "msg"
   ]
  },
  {
   "cell_type": "code",
   "execution_count": 83,
   "id": "f0a340bc-fc51-481d-8a94-92682f0225a7",
   "metadata": {},
   "outputs": [
    {
     "data": {
      "text/plain": [
       "'CAt in K hKt'"
      ]
     },
     "execution_count": 83,
     "metadata": {},
     "output_type": "execute_result"
    }
   ],
   "source": [
    "msg.replace('K','A',1)"
   ]
  },
  {
   "cell_type": "markdown",
   "id": "e14b5993-a0ca-4a34-bf1c-75a1948c5560",
   "metadata": {},
   "source": [
    "## Numbers"
   ]
  },
  {
   "cell_type": "code",
   "execution_count": 21,
   "id": "eec1ca69-3397-4e0c-b381-03cf106aad1f",
   "metadata": {},
   "outputs": [
    {
     "data": {
      "text/plain": [
       "float"
      ]
     },
     "execution_count": 21,
     "metadata": {},
     "output_type": "execute_result"
    }
   ],
   "source": [
    "# Question 1: What is the result of:\n",
    "\n",
    "num1 = 10 + 25+3.0\n",
    "type(num1)"
   ]
  },
  {
   "cell_type": "code",
   "execution_count": 22,
   "id": "8e2f2e3c-eaa2-4d7b-b9c8-918f1b60c56b",
   "metadata": {},
   "outputs": [
    {
     "name": "stdout",
     "output_type": "stream",
     "text": [
      "10\n"
     ]
    }
   ],
   "source": [
    "# Question 2: What is the result of:\n",
    "\n",
    "x = abs(-10)\n",
    "print(x)"
   ]
  },
  {
   "cell_type": "code",
   "execution_count": 24,
   "id": "a82ca9f8-a114-46b9-ac8b-c6f4ebcdf6ee",
   "metadata": {},
   "outputs": [
    {
     "name": "stdout",
     "output_type": "stream",
     "text": [
      "6\n"
     ]
    }
   ],
   "source": [
    "# Question 3: What is the result of:\n",
    "\n",
    "x = (5 // 2) * 3\n",
    "print(x)"
   ]
  },
  {
   "cell_type": "code",
   "execution_count": 26,
   "id": "e2121f23-edd1-4c1b-881d-c6cee89cbad1",
   "metadata": {},
   "outputs": [
    {
     "name": "stdout",
     "output_type": "stream",
     "text": [
      "70\n"
     ]
    }
   ],
   "source": [
    "# Question 4: What is the result of:\n",
    "\n",
    "x = (25 % 9) * 10\n",
    "print(x)"
   ]
  },
  {
   "cell_type": "code",
   "execution_count": 32,
   "id": "82812340-efd4-43e9-b138-9ecb3ebb052f",
   "metadata": {},
   "outputs": [
    {
     "name": "stdout",
     "output_type": "stream",
     "text": [
      "150\n"
     ]
    }
   ],
   "source": [
    "# Question 5: What is the result of:\n",
    "\n",
    "x = 150 + 3 ** 3 % (18 % 5)\n",
    "print(x)\n"
   ]
  },
  {
   "cell_type": "code",
   "execution_count": 48,
   "id": "06a81f63-3b80-4933-a5c4-f4e117f6c510",
   "metadata": {},
   "outputs": [
    {
     "data": {
      "text/plain": [
       "True"
      ]
     },
     "execution_count": 48,
     "metadata": {},
     "output_type": "execute_result"
    }
   ],
   "source": [
    "# Question 6:What is the result of:\n",
    "\n",
    "bool(\"I love Python\")"
   ]
  },
  {
   "cell_type": "code",
   "execution_count": 42,
   "id": "4216a701-3918-4b6e-8605-038d7bc8d9e3",
   "metadata": {},
   "outputs": [
    {
     "data": {
      "text/plain": [
       "False"
      ]
     },
     "execution_count": 42,
     "metadata": {},
     "output_type": "execute_result"
    }
   ],
   "source": [
    "bool(\"\")"
   ]
  },
  {
   "cell_type": "code",
   "execution_count": 43,
   "id": "3572a935-769d-455d-9f01-4ff37e66fe9b",
   "metadata": {},
   "outputs": [
    {
     "data": {
      "text/plain": [
       "False"
      ]
     },
     "execution_count": 43,
     "metadata": {},
     "output_type": "execute_result"
    }
   ],
   "source": [
    "bool(False)"
   ]
  },
  {
   "cell_type": "code",
   "execution_count": 44,
   "id": "4e5201dc-ebce-453f-ab4d-b07a09efd912",
   "metadata": {},
   "outputs": [
    {
     "data": {
      "text/plain": [
       "False"
      ]
     },
     "execution_count": 44,
     "metadata": {},
     "output_type": "execute_result"
    }
   ],
   "source": [
    "bool(0)"
   ]
  },
  {
   "cell_type": "code",
   "execution_count": 45,
   "id": "71c15767-0408-41e3-a121-14b3f3bb91cd",
   "metadata": {},
   "outputs": [
    {
     "data": {
      "text/plain": [
       "True"
      ]
     },
     "execution_count": 45,
     "metadata": {},
     "output_type": "execute_result"
    }
   ],
   "source": [
    "bool(-9)"
   ]
  },
  {
   "cell_type": "code",
   "execution_count": 49,
   "id": "c02c9fd9-f756-4fe8-97c6-85826ec75704",
   "metadata": {},
   "outputs": [
    {
     "data": {
      "text/plain": [
       "False"
      ]
     },
     "execution_count": 49,
     "metadata": {},
     "output_type": "execute_result"
    }
   ],
   "source": [
    "# Question 7: What is the result of:\n",
    "\n",
    "bool(0.0)"
   ]
  },
  {
   "cell_type": "code",
   "execution_count": 51,
   "id": "dd820ccf-36be-4a9f-ae99-c3bbab2797f1",
   "metadata": {},
   "outputs": [
    {
     "name": "stdout",
     "output_type": "stream",
     "text": [
      "True\n"
     ]
    }
   ],
   "source": [
    "# Question 8:What is the result of:\n",
    "\n",
    "var=(25 % 5 == 33 % 11) and (10 ** 3 >= 300)\n",
    "print(var)"
   ]
  },
  {
   "cell_type": "code",
   "execution_count": 53,
   "id": "79e4b765-28fb-45d5-a515-b255b4e1596a",
   "metadata": {},
   "outputs": [
    {
     "name": "stdout",
     "output_type": "stream",
     "text": [
      "True\n"
     ]
    }
   ],
   "source": [
    "# Question 9: What is the result of:\n",
    "\n",
    "var=(25 % 5 == 33 % 10) or (10 ** 3 != 300)\n",
    "print(var)"
   ]
  },
  {
   "cell_type": "code",
   "execution_count": 66,
   "id": "78f12268-5103-45ae-ad8b-a6a77285bccb",
   "metadata": {},
   "outputs": [
    {
     "data": {
      "text/plain": [
       "True"
      ]
     },
     "execution_count": 66,
     "metadata": {},
     "output_type": "execute_result"
    }
   ],
   "source": [
    "# Question 10:What is the result of:\n",
    "\n",
    "not(25 % 5 == 33 % 10) or (10 ** 4 > 3000)"
   ]
  },
  {
   "cell_type": "markdown",
   "id": "8dd0b6be-9364-4917-8408-eb3a41d8ac5b",
   "metadata": {},
   "source": [
    "## List"
   ]
  },
  {
   "cell_type": "code",
   "execution_count": 71,
   "id": "562a8d17-79f8-4590-a13a-c22e260e4b71",
   "metadata": {},
   "outputs": [
    {
     "name": "stdout",
     "output_type": "stream",
     "text": [
      "<class 'list'>\n"
     ]
    }
   ],
   "source": [
    "var=[3,'Data',8.7,'P']\n",
    "print(type(var))"
   ]
  },
  {
   "cell_type": "code",
   "execution_count": 73,
   "id": "34a54838-c649-4082-b729-be05b20c6302",
   "metadata": {},
   "outputs": [],
   "source": [
    "# Question 11: Given the list below, answer the following question:\n",
    "\n",
    "mylist = [\"Europe\", \"Asia\", \"North America\", \"South America\", \"Africa\", \"Australia\", 2009, 2140, 12.5, 6.25]\n",
    "\n",
    "\n",
    "# What is the result of len(mylist) * 25 / 5 ?"
   ]
  },
  {
   "cell_type": "code",
   "execution_count": 84,
   "id": "1efa3826-b685-48d0-9395-0260a3bef002",
   "metadata": {},
   "outputs": [
    {
     "data": {
      "text/plain": [
       "158"
      ]
     },
     "execution_count": 84,
     "metadata": {},
     "output_type": "execute_result"
    }
   ],
   "source": [
    "var=[52,14,87,15,10,158,6]\n",
    "max(var)"
   ]
  },
  {
   "cell_type": "code",
   "execution_count": 105,
   "id": "87e15ae4-6084-427c-97ac-b053694af455",
   "metadata": {},
   "outputs": [
    {
     "name": "stdout",
     "output_type": "stream",
     "text": [
      "[52, 14, 87, 15, 10, 158, 6, -52, 5214]\n"
     ]
    }
   ],
   "source": [
    "var=[52,14,87,15,10,158,6,-52]\n",
    "var.append(5214)\n",
    "print(var)"
   ]
  },
  {
   "cell_type": "code",
   "execution_count": 107,
   "id": "2b9b08bf-451b-4944-b2f4-b79b0b6fc645",
   "metadata": {},
   "outputs": [
    {
     "data": {
      "text/plain": [
       "[52, 14, 87, 15, 10, 158, 6, -52, 5214, 74, 74]"
      ]
     },
     "execution_count": 107,
     "metadata": {},
     "output_type": "execute_result"
    }
   ],
   "source": [
    "var.append(74)\n",
    "var"
   ]
  },
  {
   "cell_type": "code",
   "execution_count": 88,
   "id": "bfa5d9e3-9edf-4867-99da-5084aa06a11f",
   "metadata": {},
   "outputs": [],
   "source": [
    "# Question 12: Given the list below, answer the following question:\n",
    "\n",
    "mylist = [\"Europe\", \"Asia\", \"North America\", \"South America\", \"Africa\", \"Australia\", 2009, 2140, 12.5, 6.25]\n",
    "\n",
    "# What is the result of max(mylist) ?"
   ]
  },
  {
   "cell_type": "code",
   "execution_count": 90,
   "id": "f49c14ea-a65b-48e0-a0a4-c37b71d89af6",
   "metadata": {},
   "outputs": [],
   "source": [
    "# max(mylist)"
   ]
  },
  {
   "cell_type": "code",
   "execution_count": 97,
   "id": "7c2e2d6b-3537-4adb-aad2-121da4ea8f44",
   "metadata": {},
   "outputs": [
    {
     "data": {
      "text/plain": [
       "'North America'"
      ]
     },
     "execution_count": 97,
     "metadata": {},
     "output_type": "execute_result"
    }
   ],
   "source": [
    "# Question 13: Given the list below, answer the following question:\n",
    "\n",
    "mylist = [\"Europe\", \"Asia\", \"North America\", \"South America\", \"Africa\", \"Australia\", 2009, 2140, 12.5, 6.25]\n",
    "\n",
    "mylist[2]"
   ]
  },
  {
   "cell_type": "code",
   "execution_count": 108,
   "id": "94eeddfc-91b5-4957-a0ff-404141cef3ce",
   "metadata": {},
   "outputs": [],
   "source": [
    "# Question 14:Given the list below, answer the following question:\n",
    "\n",
    "mylist = [\"Europe\", \"Asia\", \"North America\", \"South America\", \"Africa\", \"Australia\", 2009, 2140, 12.5, 6.25]\n",
    "\n",
    "\n",
    "# How would you add a list containing \"B\", \"T\" and \"C\" as an element of mylist?"
   ]
  },
  {
   "cell_type": "code",
   "execution_count": null,
   "id": "3dfe89ee-6d6f-4e2a-aca8-5c69b51f6085",
   "metadata": {},
   "outputs": [],
   "source": []
  },
  {
   "cell_type": "code",
   "execution_count": 109,
   "id": "9ff68f38-19ff-4f10-bc54-a1cfc30f5dd3",
   "metadata": {},
   "outputs": [
    {
     "data": {
      "text/plain": [
       "['Europe',\n",
       " 'Asia',\n",
       " 'North America',\n",
       " 'South America',\n",
       " 'Africa',\n",
       " 'Australia',\n",
       " 2009,\n",
       " 2140,\n",
       " 12.5,\n",
       " 6.25,\n",
       " ['B', 'T', 'C']]"
      ]
     },
     "execution_count": 109,
     "metadata": {},
     "output_type": "execute_result"
    }
   ],
   "source": [
    "mylist.append(['B','T','C'])\n",
    "mylist"
   ]
  },
  {
   "cell_type": "code",
   "execution_count": 116,
   "id": "9daaf8f0-c012-4241-ba39-70c12f731fbd",
   "metadata": {},
   "outputs": [],
   "source": [
    "var=[4.2,1,6]\n",
    "var.append(['B','C','T'])"
   ]
  },
  {
   "cell_type": "code",
   "execution_count": 114,
   "id": "6aa6a7ae-c431-4c02-ba0c-6e313cdb7692",
   "metadata": {},
   "outputs": [],
   "source": [
    "var.append('C')"
   ]
  },
  {
   "cell_type": "code",
   "execution_count": 117,
   "id": "8480464f-7987-4db3-bb5a-8ff1ce9abfe5",
   "metadata": {},
   "outputs": [
    {
     "data": {
      "text/plain": [
       "[4.2, 1, 6, ['B', 'C', 'T']]"
      ]
     },
     "execution_count": 117,
     "metadata": {},
     "output_type": "execute_result"
    }
   ],
   "source": [
    "var"
   ]
  },
  {
   "cell_type": "code",
   "execution_count": 1,
   "id": "1b1ee080-d13a-45ec-9ce4-417438d01bd9",
   "metadata": {},
   "outputs": [
    {
     "data": {
      "text/plain": [
       "[5, 7, 1, 5, 7, 1]"
      ]
     },
     "execution_count": 1,
     "metadata": {},
     "output_type": "execute_result"
    }
   ],
   "source": [
    "var=[5,7,1]\n",
    "var+var"
   ]
  },
  {
   "cell_type": "code",
   "execution_count": 2,
   "id": "3e3fe66d-a247-41f3-9984-bb49f6aec02d",
   "metadata": {},
   "outputs": [
    {
     "data": {
      "text/plain": [
       "[5, 7, 1, 5, 7, 1, 5, 7, 1]"
      ]
     },
     "execution_count": 2,
     "metadata": {},
     "output_type": "execute_result"
    }
   ],
   "source": [
    "var=[5,7,1]\n",
    "var*3"
   ]
  },
  {
   "cell_type": "code",
   "execution_count": 3,
   "id": "78abc5d8-a1a3-454e-88db-9ec324895e28",
   "metadata": {},
   "outputs": [],
   "source": [
    "a,b,c=var"
   ]
  },
  {
   "cell_type": "code",
   "execution_count": 15,
   "id": "ca9565a5-b3d7-4a84-877a-3db2a61fc12d",
   "metadata": {},
   "outputs": [],
   "source": [
    "var1=[8,9,10]\n",
    "var2=[8,9,10]\n",
    "# var1"
   ]
  },
  {
   "cell_type": "code",
   "execution_count": 16,
   "id": "6258d412-71a6-4073-a769-7f15d8147ac7",
   "metadata": {},
   "outputs": [
    {
     "data": {
      "text/plain": [
       "True"
      ]
     },
     "execution_count": 16,
     "metadata": {},
     "output_type": "execute_result"
    }
   ],
   "source": [
    "var2==var1"
   ]
  },
  {
   "cell_type": "code",
   "execution_count": 17,
   "id": "fbc83cce-0bcd-4192-bddf-63ab1eb52776",
   "metadata": {},
   "outputs": [
    {
     "data": {
      "text/plain": [
       "False"
      ]
     },
     "execution_count": 17,
     "metadata": {},
     "output_type": "execute_result"
    }
   ],
   "source": [
    "var2 is var1"
   ]
  },
  {
   "cell_type": "code",
   "execution_count": 20,
   "id": "deb20e1f-f815-4975-a2ab-4c34c4e0fe79",
   "metadata": {},
   "outputs": [
    {
     "data": {
      "text/plain": [
       "[8, 9, 10]"
      ]
     },
     "execution_count": 20,
     "metadata": {},
     "output_type": "execute_result"
    }
   ],
   "source": [
    "var1"
   ]
  },
  {
   "cell_type": "code",
   "execution_count": 21,
   "id": "f75c095c-d57f-41d3-bebd-1d057c8d8d4c",
   "metadata": {},
   "outputs": [],
   "source": [
    "var1.remove(9)"
   ]
  },
  {
   "cell_type": "code",
   "execution_count": 22,
   "id": "472bcb96-d4d3-44f4-a08a-a8a437d2c4fe",
   "metadata": {},
   "outputs": [
    {
     "data": {
      "text/plain": [
       "[8, 10]"
      ]
     },
     "execution_count": 22,
     "metadata": {},
     "output_type": "execute_result"
    }
   ],
   "source": [
    "var1"
   ]
  },
  {
   "cell_type": "code",
   "execution_count": 19,
   "id": "60b50569-e019-420e-b0c1-0eb22538c019",
   "metadata": {},
   "outputs": [
    {
     "data": {
      "text/plain": [
       "3028086001280"
      ]
     },
     "execution_count": 19,
     "metadata": {},
     "output_type": "execute_result"
    }
   ],
   "source": [
    "id(var1)"
   ]
  },
  {
   "cell_type": "markdown",
   "id": "439aada3-b717-47b0-9ca6-d4167a660864",
   "metadata": {},
   "source": [
    "## Set"
   ]
  },
  {
   "cell_type": "code",
   "execution_count": 23,
   "id": "ffcb98bd-28b9-4ad9-ac56-747ead784272",
   "metadata": {},
   "outputs": [
    {
     "data": {
      "text/plain": [
       "set"
      ]
     },
     "execution_count": 23,
     "metadata": {},
     "output_type": "execute_result"
    }
   ],
   "source": [
    "var1={26,100}\n",
    "type(var1)"
   ]
  },
  {
   "cell_type": "code",
   "execution_count": 24,
   "id": "a486cd78-17aa-4b6a-8f76-03725825ee49",
   "metadata": {},
   "outputs": [],
   "source": [
    "list1=[4,8,9]\n",
    "set1=set(list1)"
   ]
  },
  {
   "cell_type": "code",
   "execution_count": 25,
   "id": "e58dc3b4-1dd3-4b89-9bb9-e3c60cedfd89",
   "metadata": {},
   "outputs": [
    {
     "data": {
      "text/plain": [
       "{4, 8, 9}"
      ]
     },
     "execution_count": 25,
     "metadata": {},
     "output_type": "execute_result"
    }
   ],
   "source": [
    "set1"
   ]
  },
  {
   "cell_type": "code",
   "execution_count": 29,
   "id": "e5b2cc01-51c5-422d-8cc1-83fe125c5c8a",
   "metadata": {},
   "outputs": [],
   "source": [
    "var={4,8,9}\n",
    "# var[1]\n",
    "# type(var)"
   ]
  },
  {
   "cell_type": "code",
   "execution_count": 34,
   "id": "97e982db-52ab-42ce-ba97-e869913e5156",
   "metadata": {},
   "outputs": [
    {
     "data": {
      "text/plain": [
       "{1, 4, 7, 8, 9}"
      ]
     },
     "execution_count": 34,
     "metadata": {},
     "output_type": "execute_result"
    }
   ],
   "source": [
    "var={4,8,9,7,1,8,1}\n",
    "var"
   ]
  },
  {
   "cell_type": "code",
   "execution_count": 32,
   "id": "967cd4b5-2b62-4995-828e-c7b0b52c742a",
   "metadata": {},
   "outputs": [
    {
     "data": {
      "text/plain": [
       "{4, 8, 9, 15}"
      ]
     },
     "execution_count": 32,
     "metadata": {},
     "output_type": "execute_result"
    }
   ],
   "source": [
    "var"
   ]
  },
  {
   "cell_type": "code",
   "execution_count": 42,
   "id": "df0d927c-f4e7-4bd1-aa2d-d88a6b60dbd9",
   "metadata": {},
   "outputs": [],
   "source": [
    "# Question 1: Given the list below answer the following question.\n",
    "\n",
    "list1 = [\"Hello\", \"Hi\", \"Greetings\", \"Cheers\", \"Hi\", \"hello\", \"Greetings!\"]\n",
    "\n",
    "# What would be the correct result of set(list1) ?"
   ]
  },
  {
   "cell_type": "code",
   "execution_count": 43,
   "id": "79281dfb-1f55-40a4-a4a5-f3f32f50e0b8",
   "metadata": {},
   "outputs": [
    {
     "ename": "TypeError",
     "evalue": "'set' object is not callable",
     "output_type": "error",
     "traceback": [
      "\u001b[1;31m---------------------------------------------------------------------------\u001b[0m",
      "\u001b[1;31mTypeError\u001b[0m                                 Traceback (most recent call last)",
      "Cell \u001b[1;32mIn[43], line 1\u001b[0m\n\u001b[1;32m----> 1\u001b[0m var\u001b[38;5;241m=\u001b[39m\u001b[38;5;28mset\u001b[39m(list1)\n\u001b[0;32m      2\u001b[0m \u001b[38;5;28mprint\u001b[39m(var)\n",
      "\u001b[1;31mTypeError\u001b[0m: 'set' object is not callable"
     ]
    }
   ],
   "source": [
    "var=set(list1)\n",
    "print(var)"
   ]
  },
  {
   "cell_type": "code",
   "execution_count": null,
   "id": "aed4a154-79bc-425f-84f8-cbe92619b4af",
   "metadata": {},
   "outputs": [],
   "source": []
  },
  {
   "cell_type": "code",
   "execution_count": 37,
   "id": "e25fcfff-5d87-42e2-8992-8ade6a80c539",
   "metadata": {},
   "outputs": [
    {
     "ename": "TypeError",
     "evalue": "'set' object is not callable",
     "output_type": "error",
     "traceback": [
      "\u001b[1;31m---------------------------------------------------------------------------\u001b[0m",
      "\u001b[1;31mTypeError\u001b[0m                                 Traceback (most recent call last)",
      "Cell \u001b[1;32mIn[37], line 1\u001b[0m\n\u001b[1;32m----> 1\u001b[0m \u001b[38;5;28mset\u001b[39m(list1)\n",
      "\u001b[1;31mTypeError\u001b[0m: 'set' object is not callable"
     ]
    }
   ],
   "source": []
  },
  {
   "cell_type": "code",
   "execution_count": 44,
   "id": "f0f45826-2b3d-4109-a66b-1a9160a1b94b",
   "metadata": {},
   "outputs": [
    {
     "data": {
      "text/plain": [
       "7"
      ]
     },
     "execution_count": 44,
     "metadata": {},
     "output_type": "execute_result"
    }
   ],
   "source": [
    "# Question 2: Given the code below answer the following question.\n",
    "\n",
    "set1 = {26, 200, 2001, 92, 550, 2001, 338, 92.0, 11}\n",
    "len(set1)\n",
    "\n",
    "# What is the length of set1?"
   ]
  },
  {
   "cell_type": "code",
   "execution_count": 47,
   "id": "53de37e2-5c3e-446d-b946-b3b3089a8c56",
   "metadata": {},
   "outputs": [],
   "source": [
    "# Question 3: Given the set below answer the following question.\n",
    "\n",
    "set1 = {26, 200, 2001, 92, 550, 2001, 338, 92.0, 11}\n",
    "# (11 in set1) and (52/2 in set1)\n",
    "# What is the result of (11 in set1) and (52/2 in set1) ?"
   ]
  },
  {
   "cell_type": "code",
   "execution_count": 48,
   "id": "1a0bbb77-46f9-4d56-a1e5-bd8f9ca4174f",
   "metadata": {},
   "outputs": [
    {
     "data": {
      "text/plain": [
       "True"
      ]
     },
     "execution_count": 48,
     "metadata": {},
     "output_type": "execute_result"
    }
   ],
   "source": [
    "(11 in set1) and (52/2 in set1)"
   ]
  },
  {
   "cell_type": "code",
   "execution_count": 53,
   "id": "82e866a4-0d2a-4531-91ce-7ed4f7541efd",
   "metadata": {},
   "outputs": [],
   "source": [
    "# Question 4: Given the set below answer the following question.\n",
    "\n",
    "set1 = {26, 200, 2001, 92, 550, 2001, 338, 92.0, 11}\n",
    "set1.add(550)\n",
    "\n",
    "# What is the result of set1.add(550) ?"
   ]
  },
  {
   "cell_type": "code",
   "execution_count": 54,
   "id": "7e02c66f-5044-487c-8667-fd93afc2cc00",
   "metadata": {},
   "outputs": [
    {
     "data": {
      "text/plain": [
       "{11, 26, 92, 200, 338, 550, 2001}"
      ]
     },
     "execution_count": 54,
     "metadata": {},
     "output_type": "execute_result"
    }
   ],
   "source": [
    "set1"
   ]
  },
  {
   "cell_type": "code",
   "execution_count": 50,
   "id": "d90c41e2-5420-48aa-9c7f-5e88648fe85f",
   "metadata": {},
   "outputs": [
    {
     "data": {
      "text/plain": [
       "False"
      ]
     },
     "execution_count": 50,
     "metadata": {},
     "output_type": "execute_result"
    }
   ],
   "source": [
    "# in operator\n",
    "x={4,9,8}\n",
    "62 in x"
   ]
  },
  {
   "cell_type": "code",
   "execution_count": 52,
   "id": "b2d6ebbf-17d7-4ddd-bc4b-49bad25c04e9",
   "metadata": {},
   "outputs": [
    {
     "data": {
      "text/plain": [
       "{1, 2, 3, 5}"
      ]
     },
     "execution_count": 52,
     "metadata": {},
     "output_type": "execute_result"
    }
   ],
   "source": [
    "# add opeartor\n",
    "x={1,3,5}\n",
    "x.add(2)\n",
    "x"
   ]
  },
  {
   "cell_type": "code",
   "execution_count": 68,
   "id": "234a89aa-fe42-4bed-b09a-03c6f662dff0",
   "metadata": {},
   "outputs": [],
   "source": [
    "# Question 5: Given the set below answer the following question.\n",
    "\n",
    "set1 = {26, 200, 2001, 92, 550, 2001, 338, 92.0, 11}\n",
    "\n",
    "# How would you remove 550 from set1?"
   ]
  },
  {
   "cell_type": "code",
   "execution_count": 67,
   "id": "d26e15c4-9032-49ac-9add-8832677b2620",
   "metadata": {},
   "outputs": [],
   "source": [
    "set1.remove(550)\n",
    "# set1.pop()\n",
    "# del set1"
   ]
  },
  {
   "cell_type": "code",
   "execution_count": 69,
   "id": "65945b7e-9a14-4ebc-8d7a-792b77e4af5a",
   "metadata": {},
   "outputs": [
    {
     "data": {
      "text/plain": [
       "{11, 26, 92, 200, 338, 550, 2001}"
      ]
     },
     "execution_count": 69,
     "metadata": {},
     "output_type": "execute_result"
    }
   ],
   "source": [
    "set1"
   ]
  },
  {
   "cell_type": "code",
   "execution_count": 73,
   "id": "d64d6a3d-ec83-4181-a729-ec69c617e809",
   "metadata": {},
   "outputs": [
    {
     "data": {
      "text/plain": [
       "{26, 200, 2001}"
      ]
     },
     "execution_count": 73,
     "metadata": {},
     "output_type": "execute_result"
    }
   ],
   "source": [
    "# Question 6: Given the sets below answer the following question.\n",
    "\n",
    "set1 = {26, 200, 2001, 92, 550}\n",
    "set2 = {334, 92, 29, 650, 550, 25, 1002}\n",
    "\n",
    "\n",
    "# Which of the following lines of code results in {200, 2001, 26} ?\n",
    "# set2.difference(set1)\n",
    "set1.difference(set2)\n",
    "# set1.intersect(set2)"
   ]
  },
  {
   "cell_type": "markdown",
   "id": "3e429597-fc2e-4b86-ac82-f2434640ba27",
   "metadata": {},
   "source": [
    "## Tuple"
   ]
  },
  {
   "cell_type": "code",
   "execution_count": 12,
   "id": "09174197-fa03-4f8f-9c8e-086282db7157",
   "metadata": {},
   "outputs": [
    {
     "data": {
      "text/plain": [
       "int"
      ]
     },
     "execution_count": 12,
     "metadata": {},
     "output_type": "execute_result"
    }
   ],
   "source": [
    "var1=(50)\n",
    "type(var1)"
   ]
  },
  {
   "cell_type": "code",
   "execution_count": 14,
   "id": "2afbcb23-26a0-46d2-bcae-485f9703f004",
   "metadata": {},
   "outputs": [
    {
     "data": {
      "text/plain": [
       "1"
      ]
     },
     "execution_count": 14,
     "metadata": {},
     "output_type": "execute_result"
    }
   ],
   "source": [
    "# Mutable or non mutable\n",
    "var1=(8,9,1,3)\n",
    "var1[2]"
   ]
  },
  {
   "cell_type": "code",
   "execution_count": 15,
   "id": "35a56ff9-4a13-4327-9159-9c6e33c9dd4e",
   "metadata": {},
   "outputs": [],
   "source": [
    "# Question 1: Given the tuple below answer the following question.\n",
    "\n",
    "mytuple = (100, 250, 300, 450, 500, \"Python\", \"Java\", \"C++\")\n",
    "\n",
    "# What is the result of mytuple[0:3] ?"
   ]
  },
  {
   "cell_type": "code",
   "execution_count": 16,
   "id": "9e31f075-d3b2-446e-9baa-a21c875eaba5",
   "metadata": {},
   "outputs": [
    {
     "data": {
      "text/plain": [
       "(100, 250, 300)"
      ]
     },
     "execution_count": 16,
     "metadata": {},
     "output_type": "execute_result"
    }
   ],
   "source": [
    "mytuple[0:3]"
   ]
  },
  {
   "cell_type": "code",
   "execution_count": 17,
   "id": "4cd084b1-35fc-46df-8339-3e18862228ee",
   "metadata": {},
   "outputs": [],
   "source": [
    "# Question 2: Given the tuple below answer the following question.\n",
    "\n",
    "mytuple = (100, 250, 300, 450, 500, \"Python\", \"Java\", \"C++\")\n",
    "\n",
    "# What is the result of mytuple[7:] ?"
   ]
  },
  {
   "cell_type": "code",
   "execution_count": 18,
   "id": "f172c6c1-c0ae-428b-a5b8-ce7c436d5564",
   "metadata": {},
   "outputs": [
    {
     "data": {
      "text/plain": [
       "('C++',)"
      ]
     },
     "execution_count": 18,
     "metadata": {},
     "output_type": "execute_result"
    }
   ],
   "source": [
    " mytuple[7:] "
   ]
  },
  {
   "cell_type": "code",
   "execution_count": 20,
   "id": "cf500eeb-450d-4297-8b2a-7c7d378a8936",
   "metadata": {},
   "outputs": [],
   "source": [
    "# Question 3: Given the tuple below answer the following question.\n",
    "\n",
    "mytuple = (100, 250, 300, 450, 500, \"Python\", \"Java\", \"C++\")\n",
    "\n",
    "# What is the result of mytuple[-5:-2] ?"
   ]
  },
  {
   "cell_type": "code",
   "execution_count": 21,
   "id": "4cb4e5cc-8032-4a3a-aecb-90e12de8353c",
   "metadata": {},
   "outputs": [
    {
     "data": {
      "text/plain": [
       "(450, 500, 'Python')"
      ]
     },
     "execution_count": 21,
     "metadata": {},
     "output_type": "execute_result"
    }
   ],
   "source": [
    "mytuple[-5:-2]"
   ]
  },
  {
   "cell_type": "code",
   "execution_count": 22,
   "id": "af78c329-9e6b-471f-80a0-3caa4bdda352",
   "metadata": {},
   "outputs": [
    {
     "data": {
      "text/plain": [
       "()"
      ]
     },
     "execution_count": 22,
     "metadata": {},
     "output_type": "execute_result"
    }
   ],
   "source": [
    "mytuple[-2:-5]"
   ]
  },
  {
   "cell_type": "code",
   "execution_count": 23,
   "id": "faaebf5a-44ab-4cbc-b4dc-4215c2182ba7",
   "metadata": {},
   "outputs": [],
   "source": [
    "# Question 4: Given the code below answer the following question.\n",
    "\n",
    "mytuple = (100, 250, 300, 450, 500)\n",
    "(a, b, c, d, e) = mytuple\n",
    "\n",
    "# What is the result of d % 10 ?"
   ]
  },
  {
   "cell_type": "code",
   "execution_count": 24,
   "id": "99b1fc26-d7a2-412d-b45c-e75544135cfe",
   "metadata": {},
   "outputs": [
    {
     "data": {
      "text/plain": [
       "0"
      ]
     },
     "execution_count": 24,
     "metadata": {},
     "output_type": "execute_result"
    }
   ],
   "source": [
    "d%10"
   ]
  },
  {
   "cell_type": "code",
   "execution_count": 25,
   "id": "b130eb5d-30d6-4219-b9a6-3a2e9bc8aa83",
   "metadata": {},
   "outputs": [
    {
     "data": {
      "text/plain": [
       "45"
      ]
     },
     "execution_count": 25,
     "metadata": {},
     "output_type": "execute_result"
    }
   ],
   "source": [
    "d//10"
   ]
  },
  {
   "cell_type": "code",
   "execution_count": 26,
   "id": "b444e69b-9dfc-4cd1-92cb-8ca638fcc6a8",
   "metadata": {},
   "outputs": [
    {
     "data": {
      "text/plain": [
       "45.0"
      ]
     },
     "execution_count": 26,
     "metadata": {},
     "output_type": "execute_result"
    }
   ],
   "source": [
    "d/10"
   ]
  },
  {
   "cell_type": "code",
   "execution_count": 29,
   "id": "63a4a416-ca7b-4471-8917-c08b0ce61fd1",
   "metadata": {},
   "outputs": [],
   "source": [
    "# Question 5: Given the tuple below answer the following question.\n",
    "\n",
    "mytuple = (100, 250, 300, 450, 500)\n",
    "\n",
    "# What is the result of min(mytuple) ?"
   ]
  },
  {
   "cell_type": "code",
   "execution_count": 30,
   "id": "4bd2784e-7192-4c25-878c-aaad7c5ed4ae",
   "metadata": {},
   "outputs": [
    {
     "data": {
      "text/plain": [
       "100"
      ]
     },
     "execution_count": 30,
     "metadata": {},
     "output_type": "execute_result"
    }
   ],
   "source": [
    "min(mytuple)"
   ]
  },
  {
   "cell_type": "code",
   "execution_count": 32,
   "id": "eb621a9f-b040-4261-83fb-685334a3ea3a",
   "metadata": {},
   "outputs": [],
   "source": [
    "# Question 6:Given the tuple below answer the following question.\n",
    "\n",
    "mytuple = (100, 250, 300, 450, 500, \"Python\", \"Java\", \"C++\")\n",
    "\n",
    "# What is the result of (mytuple + (410, 430, 450, 205 * 2, 900 // 2, 445)).count(450) ?"
   ]
  },
  {
   "cell_type": "code",
   "execution_count": null,
   "id": "bbf66e31-2f9a-4318-9e6b-37df8f38fbef",
   "metadata": {},
   "outputs": [],
   "source": []
  },
  {
   "cell_type": "code",
   "execution_count": 49,
   "id": "9b132fda-c65f-4577-bf1b-3c110bfbe7f5",
   "metadata": {},
   "outputs": [],
   "source": [
    "mytuple = (100, 250, 300, 450, 500, \"Python\", \"Java\", \"C++\")"
   ]
  },
  {
   "cell_type": "code",
   "execution_count": 50,
   "id": "5ba7b6d1-0491-4b32-b445-8c15fdd31878",
   "metadata": {},
   "outputs": [
    {
     "data": {
      "text/plain": [
       "(100, 250, 300, 450, 500, 'Python', 'Java', 'C++')"
      ]
     },
     "execution_count": 50,
     "metadata": {},
     "output_type": "execute_result"
    }
   ],
   "source": [
    "mytuple"
   ]
  },
  {
   "cell_type": "code",
   "execution_count": 33,
   "id": "bd6e7e0c-fc8e-4899-9025-9760720c033c",
   "metadata": {},
   "outputs": [
    {
     "data": {
      "text/plain": [
       "(100,\n",
       " 250,\n",
       " 300,\n",
       " 450,\n",
       " 500,\n",
       " 'Python',\n",
       " 'Java',\n",
       " 'C++',\n",
       " 410,\n",
       " 430,\n",
       " 450,\n",
       " 410,\n",
       " 450,\n",
       " 445)"
      ]
     },
     "execution_count": 33,
     "metadata": {},
     "output_type": "execute_result"
    }
   ],
   "source": [
    "(mytuple + (410, 430, 450, 205 * 2, 900 // 2, 445))"
   ]
  },
  {
   "cell_type": "code",
   "execution_count": 34,
   "id": "7ace5344-1bc3-4f9b-854e-f38da4b63fc7",
   "metadata": {},
   "outputs": [
    {
     "data": {
      "text/plain": [
       "3"
      ]
     },
     "execution_count": 34,
     "metadata": {},
     "output_type": "execute_result"
    }
   ],
   "source": [
    "(mytuple + (410, 430, 450, 205 * 2, 900 // 2, 445)).count(450)"
   ]
  },
  {
   "cell_type": "code",
   "execution_count": 35,
   "id": "4a4da8ad-cea3-48f9-ab23-5a8e6be2cdf0",
   "metadata": {},
   "outputs": [],
   "source": [
    "# Question 7: Given the tuple below answer the following question.\n",
    "\n",
    "mytuple = (100, 250, 300, 450, 500, 650, 700, 850, 900)\n",
    "\n",
    "# What is the result of mytuple[1::3] ?"
   ]
  },
  {
   "cell_type": "code",
   "execution_count": 48,
   "id": "a7c4db47-f172-4c6a-9a26-6d3573835133",
   "metadata": {},
   "outputs": [
    {
     "data": {
      "text/plain": [
       "(250, 500, 850)"
      ]
     },
     "execution_count": 48,
     "metadata": {},
     "output_type": "execute_result"
    }
   ],
   "source": [
    "mytuple = (100, 250, 300, 450, 500, 650, 700, 850, 900)\n",
    "mytuple[1::3]"
   ]
  },
  {
   "cell_type": "code",
   "execution_count": 47,
   "id": "b34d9ef2-3d0a-4ade-8ef8-ee7648ca28ba",
   "metadata": {},
   "outputs": [
    {
     "data": {
      "text/plain": [
       "(250, 500, 850)"
      ]
     },
     "execution_count": 47,
     "metadata": {},
     "output_type": "execute_result"
    }
   ],
   "source": [
    "mytuple[1::3]"
   ]
  },
  {
   "cell_type": "code",
   "execution_count": null,
   "id": "2e0c8cf7-d574-4e2d-be6a-76c52adc36f8",
   "metadata": {},
   "outputs": [],
   "source": [
    "# Question 8:Given the tuple below answer the following question.\n",
    "\n",
    "mytuple = (100, 250, 300, 250, 500, 650, 700, 250, 900)\n",
    "\n",
    "How would you find the location (index) of the first occurrence of 250 in mytuple?"
   ]
  },
  {
   "cell_type": "code",
   "execution_count": 39,
   "id": "8630e1e5-6829-413f-86fd-8ba0f419b588",
   "metadata": {},
   "outputs": [
    {
     "data": {
      "text/plain": [
       "1"
      ]
     },
     "execution_count": 39,
     "metadata": {},
     "output_type": "execute_result"
    }
   ],
   "source": [
    "# mytuple.find(250)\n",
    "mytuple.index(250)\n",
    "# mytuple.count(250)"
   ]
  },
  {
   "cell_type": "code",
   "execution_count": 52,
   "id": "3cc50b0e-bf79-4a6f-850d-2dec90b8cc11",
   "metadata": {},
   "outputs": [],
   "source": [
    "mytuple=(67,8,58,94,90,54,67)\n",
    "(a,b,c,d,e,f,g) = mytuple"
   ]
  },
  {
   "cell_type": "code",
   "execution_count": 56,
   "id": "a69b0b19-353c-446d-a9c0-43de1ac61692",
   "metadata": {},
   "outputs": [
    {
     "data": {
      "text/plain": [
       "67"
      ]
     },
     "execution_count": 56,
     "metadata": {},
     "output_type": "execute_result"
    }
   ],
   "source": []
  },
  {
   "cell_type": "markdown",
   "id": "12b05f8b-bc9d-4e3b-bc84-f9f5a544818a",
   "metadata": {},
   "source": [
    "## Range"
   ]
  },
  {
   "cell_type": "code",
   "execution_count": 41,
   "id": "a3307ad9-d080-47b4-a14d-210b5a770d18",
   "metadata": {},
   "outputs": [
    {
     "data": {
      "text/plain": [
       "range(0, 100)"
      ]
     },
     "execution_count": 41,
     "metadata": {},
     "output_type": "execute_result"
    }
   ],
   "source": [
    "myrange=range(100)\n",
    "myrange"
   ]
  },
  {
   "cell_type": "code",
   "execution_count": 43,
   "id": "6fd97d6a-22c8-496d-86c1-f01e80c1ea79",
   "metadata": {},
   "outputs": [
    {
     "data": {
      "text/plain": [
       "range(0, 5)"
      ]
     },
     "execution_count": 43,
     "metadata": {},
     "output_type": "execute_result"
    }
   ],
   "source": [
    "myrange=range(5)\n",
    "myrange"
   ]
  },
  {
   "cell_type": "code",
   "execution_count": 57,
   "id": "0a88d5a5-f0c6-4318-87c9-0c02d5369228",
   "metadata": {},
   "outputs": [],
   "source": [
    "# Question 1: Given the range below answer the following question.\n",
    "\n",
    "myrange = range(100)\n",
    "\n",
    "# What is the result of type(myrange) ?"
   ]
  },
  {
   "cell_type": "code",
   "execution_count": 58,
   "id": "5ccfd198-7227-4267-8265-22a0df876b09",
   "metadata": {},
   "outputs": [
    {
     "data": {
      "text/plain": [
       "range"
      ]
     },
     "execution_count": 58,
     "metadata": {},
     "output_type": "execute_result"
    }
   ],
   "source": [
    "type(myrange)"
   ]
  },
  {
   "cell_type": "code",
   "execution_count": 59,
   "id": "bf9907fc-8258-4840-9624-c878d259abbe",
   "metadata": {},
   "outputs": [],
   "source": [
    "# Question 2: Given the range below answer the following question.\n",
    "\n",
    "myrange = range(0, 20)\n",
    "\n",
    "# What is the result of list(myrange) ?"
   ]
  },
  {
   "cell_type": "code",
   "execution_count": 60,
   "id": "cb7c1e86-5ce3-4516-94e5-d22df7441dee",
   "metadata": {},
   "outputs": [
    {
     "data": {
      "text/plain": [
       "[0, 1, 2, 3, 4, 5, 6, 7, 8, 9, 10, 11, 12, 13, 14, 15, 16, 17, 18, 19]"
      ]
     },
     "execution_count": 60,
     "metadata": {},
     "output_type": "execute_result"
    }
   ],
   "source": [
    "list(myrange)"
   ]
  },
  {
   "cell_type": "code",
   "execution_count": 61,
   "id": "d7a7aa55-b7c8-4a0d-ba18-7c4451b9ace8",
   "metadata": {},
   "outputs": [],
   "source": [
    "# Question 3: Given the range below answer the following question.\n",
    "\n",
    "myrange = range(5, 15)\n",
    "\n",
    "# What is the result of tuple(myrange) ?"
   ]
  },
  {
   "cell_type": "code",
   "execution_count": 62,
   "id": "ae29a15f-08fc-40e3-ba33-e27a18c7414b",
   "metadata": {},
   "outputs": [
    {
     "data": {
      "text/plain": [
       "(5, 6, 7, 8, 9, 10, 11, 12, 13, 14)"
      ]
     },
     "execution_count": 62,
     "metadata": {},
     "output_type": "execute_result"
    }
   ],
   "source": [
    "tuple(myrange)"
   ]
  },
  {
   "cell_type": "code",
   "execution_count": 63,
   "id": "b10ee36e-c20b-4cdf-921f-7d23772cd73a",
   "metadata": {},
   "outputs": [],
   "source": [
    "# Question 4: Given the range below answer the following question.\n",
    "\n",
    "myrange = range(11)[::2]\n",
    "\n",
    "# What is the result of list(myrange) ?"
   ]
  },
  {
   "cell_type": "code",
   "execution_count": 67,
   "id": "29b72917-05e8-4c9c-81ec-31161ba84595",
   "metadata": {},
   "outputs": [
    {
     "data": {
      "text/plain": [
       "range(0, 11)"
      ]
     },
     "execution_count": 67,
     "metadata": {},
     "output_type": "execute_result"
    }
   ],
   "source": [
    "myrange = range(11)\n",
    "myrange"
   ]
  },
  {
   "cell_type": "code",
   "execution_count": 64,
   "id": "65ecd9a6-5c22-4cd3-8850-e67d3f38e2c8",
   "metadata": {},
   "outputs": [
    {
     "data": {
      "text/plain": [
       "[0, 2, 4, 6, 8, 10]"
      ]
     },
     "execution_count": 64,
     "metadata": {},
     "output_type": "execute_result"
    }
   ],
   "source": [
    "list(myrange)"
   ]
  },
  {
   "cell_type": "code",
   "execution_count": 68,
   "id": "4b65de82-3d82-4f12-895d-093351b4afe3",
   "metadata": {},
   "outputs": [],
   "source": [
    "# Question 5: Given the range below answer the following question.\n",
    "\n",
    "myrange = range(3, 15, 2)\n",
    "\n",
    "# What is the result of list(myrange) ?"
   ]
  },
  {
   "cell_type": "code",
   "execution_count": 70,
   "id": "64c15e55-529d-4099-b019-902e5917785c",
   "metadata": {},
   "outputs": [
    {
     "data": {
      "text/plain": [
       "[3, 5, 7, 9, 11, 13]"
      ]
     },
     "execution_count": 70,
     "metadata": {},
     "output_type": "execute_result"
    }
   ],
   "source": [
    "list(myrange)"
   ]
  },
  {
   "cell_type": "code",
   "execution_count": 71,
   "id": "88058dbc-7812-46c4-a4df-b3da225cbf60",
   "metadata": {},
   "outputs": [],
   "source": [
    "# Question 6: Given the range below answer the following question.\n",
    "\n",
    "myrange = range(10, 19, 3)\n",
    "\n",
    "# What is the result of list(myrange)[2] ?"
   ]
  },
  {
   "cell_type": "code",
   "execution_count": 72,
   "id": "dc3b3b2a-b8c1-46f6-9e75-f839b3d5ef14",
   "metadata": {},
   "outputs": [
    {
     "data": {
      "text/plain": [
       "16"
      ]
     },
     "execution_count": 72,
     "metadata": {},
     "output_type": "execute_result"
    }
   ],
   "source": [
    "list(myrange)[2]"
   ]
  },
  {
   "cell_type": "code",
   "execution_count": 74,
   "id": "930dfbf2-a458-4cc9-8501-b7514afb4dcd",
   "metadata": {},
   "outputs": [],
   "source": [
    "# Question 7: Given the range below answer the following question.\n",
    "\n",
    "myrange = range(10, 16, 2)[::2]\n",
    "\n",
    "# What is the result of list(myrange) ?"
   ]
  },
  {
   "cell_type": "code",
   "execution_count": 75,
   "id": "36f008d4-8721-48d5-9a79-55b5e75e2ff9",
   "metadata": {},
   "outputs": [
    {
     "data": {
      "text/plain": [
       "[10, 14]"
      ]
     },
     "execution_count": 75,
     "metadata": {},
     "output_type": "execute_result"
    }
   ],
   "source": [
    "list(myrange)"
   ]
  },
  {
   "cell_type": "code",
   "execution_count": 76,
   "id": "d3acdff8-33de-4765-830e-4433c543bb12",
   "metadata": {},
   "outputs": [],
   "source": [
    "# Question 8: Given the range below answer the following question.\n",
    "\n",
    "myrange = range(5, 15, 4)[::-1]\n",
    "\n",
    "# What is the result of list(myrange) ?"
   ]
  },
  {
   "cell_type": "code",
   "execution_count": 77,
   "id": "ef2c9be7-54b2-4759-8d84-506e4f35b3e8",
   "metadata": {},
   "outputs": [
    {
     "data": {
      "text/plain": [
       "range(13, 1, -4)"
      ]
     },
     "execution_count": 77,
     "metadata": {},
     "output_type": "execute_result"
    }
   ],
   "source": [
    "myrange"
   ]
  },
  {
   "cell_type": "code",
   "execution_count": 78,
   "id": "9a18da84-3ec9-4d71-ba54-91e172f6610c",
   "metadata": {},
   "outputs": [
    {
     "data": {
      "text/plain": [
       "[13, 9, 5]"
      ]
     },
     "execution_count": 78,
     "metadata": {},
     "output_type": "execute_result"
    }
   ],
   "source": [
    "list(myrange)"
   ]
  },
  {
   "cell_type": "markdown",
   "id": "76fb0b5e-9b1a-44f2-a252-969ce88be59d",
   "metadata": {},
   "source": [
    "## Concatenation in String"
   ]
  },
  {
   "cell_type": "code",
   "execution_count": 2,
   "id": "75960300-1155-4daa-ada0-156798b7c332",
   "metadata": {},
   "outputs": [
    {
     "data": {
      "text/plain": [
       "'Machine Learning is producing more jobs !!!!'"
      ]
     },
     "execution_count": 2,
     "metadata": {},
     "output_type": "execute_result"
    }
   ],
   "source": [
    "string=\"Machine Learning\"+\" \"+\"is producing more jobs !!!!\"\n",
    "string"
   ]
  },
  {
   "cell_type": "code",
   "execution_count": 3,
   "id": "d35c4b45-d7ee-414d-a1b9-2ccd59c364d8",
   "metadata": {},
   "outputs": [
    {
     "data": {
      "text/plain": [
       "'Machine Learning is producing more jobs !!!! Machine Learning is producing more jobs !!!! Machine Learning is producing more jobs !!!! '"
      ]
     },
     "execution_count": 3,
     "metadata": {},
     "output_type": "execute_result"
    }
   ],
   "source": [
    "string=\"Machine Learning\"+\" \"+\"is producing more jobs !!!! \"\n",
    "string*3"
   ]
  },
  {
   "cell_type": "markdown",
   "id": "93d38948-c850-4f08-94d7-0b065bac4557",
   "metadata": {},
   "source": [
    "## Dictionary"
   ]
  },
  {
   "cell_type": "code",
   "execution_count": 4,
   "id": "770df5b3-fda4-4515-a8aa-fe351e5b9c6e",
   "metadata": {},
   "outputs": [],
   "source": [
    "report_card={'Name':'Payal', 'Subject_Name':'Data Science','Marks':58}"
   ]
  },
  {
   "cell_type": "code",
   "execution_count": 5,
   "id": "8abc8f7b-ef49-4477-a0bf-265cbca98fb8",
   "metadata": {},
   "outputs": [
    {
     "data": {
      "text/plain": [
       "{'Name': 'Payal', 'Subject_Name': 'Data Science', 'Marks': 58}"
      ]
     },
     "execution_count": 5,
     "metadata": {},
     "output_type": "execute_result"
    }
   ],
   "source": [
    "report_card"
   ]
  },
  {
   "cell_type": "code",
   "execution_count": 6,
   "id": "98534eb2-6058-4a43-aae1-3af10623272c",
   "metadata": {},
   "outputs": [
    {
     "data": {
      "text/plain": [
       "{'Name': 'Shalini', 'Subject_Name': 'Data Science', 'Marks': 58}"
      ]
     },
     "execution_count": 6,
     "metadata": {},
     "output_type": "execute_result"
    }
   ],
   "source": [
    "report_card={'Name':'Payal', 'Subject_Name':'Data Science','Marks':58,'Name':'Shalini'}\n",
    "report_card"
   ]
  },
  {
   "cell_type": "code",
   "execution_count": 7,
   "id": "fe7eae4d-472a-4732-b395-a86353899033",
   "metadata": {},
   "outputs": [
    {
     "data": {
      "text/plain": [
       "{'Name': ['Payal', 'Sonali', 'Mohit'],\n",
       " 'Subject_Name': ['Data Science', 'Math', 'English'],\n",
       " 'Marks': [58, 86, 91]}"
      ]
     },
     "execution_count": 7,
     "metadata": {},
     "output_type": "execute_result"
    }
   ],
   "source": [
    "report_card={'Name':['Payal','Sonali','Mohit'], 'Subject_Name':['Data Science','Math','English'],'Marks':[58,86,91]}\n",
    "report_card"
   ]
  },
  {
   "cell_type": "code",
   "execution_count": 8,
   "id": "5a0679ef-46bf-4b29-9735-788f248468f0",
   "metadata": {},
   "outputs": [
    {
     "data": {
      "text/plain": [
       "{'Name': ['Payal', 'Sonali', 'Mohit'],\n",
       " 'Subject_Name': ['Data Science', 'Math', 'English'],\n",
       " 'Marks': [58, 86, 91]}"
      ]
     },
     "execution_count": 8,
     "metadata": {},
     "output_type": "execute_result"
    }
   ],
   "source": [
    "report_card"
   ]
  },
  {
   "cell_type": "code",
   "execution_count": 10,
   "id": "30404adb-1698-4fe0-b8c6-7ba47af7bb1e",
   "metadata": {},
   "outputs": [
    {
     "data": {
      "text/plain": [
       "dict_keys(['Name', 'Subject_Name', 'Marks'])"
      ]
     },
     "execution_count": 10,
     "metadata": {},
     "output_type": "execute_result"
    }
   ],
   "source": [
    "report_card.keys()"
   ]
  },
  {
   "cell_type": "code",
   "execution_count": 11,
   "id": "368aee7a-b5a3-45fd-a7dc-9189fd0beac7",
   "metadata": {},
   "outputs": [
    {
     "data": {
      "text/plain": [
       "dict_values([['Payal', 'Sonali', 'Mohit'], ['Data Science', 'Math', 'English'], [58, 86, 91]])"
      ]
     },
     "execution_count": 11,
     "metadata": {},
     "output_type": "execute_result"
    }
   ],
   "source": [
    "report_card.values()"
   ]
  },
  {
   "cell_type": "code",
   "execution_count": 12,
   "id": "27f42cd9-72ad-4454-b3c7-13c5ede4bbf4",
   "metadata": {},
   "outputs": [
    {
     "data": {
      "text/plain": [
       "dict_items([('Name', ['Payal', 'Sonali', 'Mohit']), ('Subject_Name', ['Data Science', 'Math', 'English']), ('Marks', [58, 86, 91])])"
      ]
     },
     "execution_count": 12,
     "metadata": {},
     "output_type": "execute_result"
    }
   ],
   "source": [
    "report_card.items()"
   ]
  },
  {
   "cell_type": "code",
   "execution_count": 13,
   "id": "07f0ab8e-27be-4f06-87b3-9e615f4221e1",
   "metadata": {},
   "outputs": [],
   "source": [
    "# Question 1:Considering the dictionary below (showing the population of some of the\n",
    "# Eastern European countries) answer the following question.\n",
    "\n",
    "ee_countries = {\"Ukraine\": \"43.7M\", \"Russia\": \"143.8M\", \"Poland\": \"38.1M\", \n",
    "                \"Romania\": \"19.5M\", \"Bulgaria\": \"6.9M\", \"Hungary\": \"9.6M\", \"Moldova\": \"4.1M\"}\n",
    "\n",
    "\n",
    "\n",
    "# Which is the correct way of returning the population of Moldova (as a string)?"
   ]
  },
  {
   "cell_type": "code",
   "execution_count": 14,
   "id": "841a13fb-b34e-4944-b115-36aebfb934c3",
   "metadata": {},
   "outputs": [
    {
     "data": {
      "text/plain": [
       "{'Ukraine': '43.7M',\n",
       " 'Russia': '143.8M',\n",
       " 'Poland': '38.1M',\n",
       " 'Romania': '19.5M',\n",
       " 'Bulgaria': '6.9M',\n",
       " 'Hungary': '9.6M',\n",
       " 'Moldova': '4.1M'}"
      ]
     },
     "execution_count": 14,
     "metadata": {},
     "output_type": "execute_result"
    }
   ],
   "source": [
    "ee_countries['Moldova']"
   ]
  },
  {
   "cell_type": "code",
   "execution_count": 15,
   "id": "ae453e78-2159-423b-88b7-d33a9a25cecb",
   "metadata": {},
   "outputs": [
    {
     "data": {
      "text/plain": [
       "'4.1M'"
      ]
     },
     "execution_count": 15,
     "metadata": {},
     "output_type": "execute_result"
    }
   ],
   "source": [
    "ee_countries['Moldova']"
   ]
  },
  {
   "cell_type": "code",
   "execution_count": 16,
   "id": "229a6228-1f46-4a3a-b6ba-9cbfc19bd857",
   "metadata": {},
   "outputs": [],
   "source": [
    "# Question 2:Considering the dictionary below (showing the \n",
    "# population of some of the Eastern European countries) answer the following question.\n",
    "\n",
    "ee_countries = {\"Ukraine\": \"43.7M\", \"Russia\": \"143.8M\",\n",
    "                \"Poland\": \"38.1M\", \"Romania\": \"19.5M\", \"Bulgaria\": \"6.9M\",\n",
    "                \"Hungary\": \"9.6M\", \"Moldova\": \"4.1M\"}\n",
    "\n",
    "# Which is the correct way of updating the population value for Bulgaria?"
   ]
  },
  {
   "cell_type": "code",
   "execution_count": 17,
   "id": "cacddb9f-c250-4e0a-8a94-83075d1b4c30",
   "metadata": {},
   "outputs": [],
   "source": [
    "ee_countries[\"Bulgaria\"]='45M'"
   ]
  },
  {
   "cell_type": "code",
   "execution_count": 18,
   "id": "5673059d-a953-4386-b6b7-9a2dca318037",
   "metadata": {},
   "outputs": [
    {
     "data": {
      "text/plain": [
       "{'Ukraine': '43.7M',\n",
       " 'Russia': '143.8M',\n",
       " 'Poland': '38.1M',\n",
       " 'Romania': '19.5M',\n",
       " 'Bulgaria': '7M',\n",
       " 'Hungary': '9.6M',\n",
       " 'Moldova': '4.1M'}"
      ]
     },
     "execution_count": 18,
     "metadata": {},
     "output_type": "execute_result"
    }
   ],
   "source": [
    "ee_countries"
   ]
  },
  {
   "cell_type": "code",
   "execution_count": 19,
   "id": "34d509b5-1065-4861-abaf-1b0c6c835305",
   "metadata": {},
   "outputs": [],
   "source": [
    "# Question 3:\n",
    "# Considering the dictionary below (showing the population of some of the Eastern European countries) \n",
    "# answer the following question.\n",
    "\n",
    "ee_countries = {\"Ukraine\": \"43.7M\", \"Russia\": \"143.8M\", \"Poland\": \"38.1M\", \n",
    "                \"Romania\": \"19.5M\", \"Bulgaria\": \"6.9M\", \"Hungary\": \"9.6M\",\n",
    "                \"Moldova\": \"4.1M\", \"Estonia\": \"1.3M\"}\n",
    "\n",
    "\n",
    "\n",
    "# Which is the correct way of deleting Estonia from the dictionary?"
   ]
  },
  {
   "cell_type": "code",
   "execution_count": 20,
   "id": "da9fd209-e4d6-4c82-80d6-7abc550b6391",
   "metadata": {},
   "outputs": [],
   "source": [
    "del ee_countries['Estonia']"
   ]
  },
  {
   "cell_type": "code",
   "execution_count": 21,
   "id": "f28bd30f-84b5-43a0-8af2-334989b0ce7d",
   "metadata": {},
   "outputs": [
    {
     "data": {
      "text/plain": [
       "{'Ukraine': '43.7M',\n",
       " 'Russia': '143.8M',\n",
       " 'Poland': '38.1M',\n",
       " 'Romania': '19.5M',\n",
       " 'Bulgaria': '6.9M',\n",
       " 'Hungary': '9.6M',\n",
       " 'Moldova': '4.1M'}"
      ]
     },
     "execution_count": 21,
     "metadata": {},
     "output_type": "execute_result"
    }
   ],
   "source": [
    "ee_countries"
   ]
  },
  {
   "cell_type": "code",
   "execution_count": 22,
   "id": "59002e03-e689-476c-8ca6-5a9e0fcc08fb",
   "metadata": {},
   "outputs": [],
   "source": [
    "# Question 4:Considering the dictionary below \n",
    "# (showing the population of some of the Eastern European countries) answer the following question.\n",
    "\n",
    "ee_countries = {\"Ukraine\": \"43.7M\", \"Russia\": \"143.8M\", \n",
    "                \"Poland\": \"38.1M\", \"Romania\": \"19.5M\", \n",
    "                \"Bulgaria\": \"6.9M\", \"Hungary\": \"9.6M\", \n",
    "                \"Moldova\": \"4.1M\", \"Estonia\": \"1.3M\"}\n",
    "\n",
    "\n",
    "\n",
    "# What is the result of max(ee_countries.keys()) ?"
   ]
  },
  {
   "cell_type": "code",
   "execution_count": 25,
   "id": "b93c754a-172b-4cf7-8036-61b50b069475",
   "metadata": {},
   "outputs": [
    {
     "data": {
      "text/plain": [
       "dict_keys(['Ukraine', 'Russia', 'Poland', 'Romania', 'Bulgaria', 'Hungary', 'Moldova', 'Estonia'])"
      ]
     },
     "execution_count": 25,
     "metadata": {},
     "output_type": "execute_result"
    }
   ],
   "source": [
    "(ee_countries.keys())"
   ]
  },
  {
   "cell_type": "code",
   "execution_count": 26,
   "id": "0bdfaf6a-5dae-4c4d-a51c-3ec162962460",
   "metadata": {},
   "outputs": [],
   "source": [
    "# Question 5:Considering the dictionary below \n",
    "# (showing the population of some of the Eastern European countries) \n",
    "# answer the following question.\n",
    "\n",
    "ee_countries = {\"Ukraine\": \"43.7M\", \"Russia\": \"143.8M\", \n",
    "                \"Poland\": \"38.1M\", \"Romania\": \"19.5M\", \n",
    "                \"Bulgaria\": \"6.9M\", \"Hungary\": \"9.6M\", \"Moldova\": \"4.1M\", \n",
    "                \"Estonia\": \"1.3M\"}\n",
    "\n",
    "\n",
    "\n",
    "# What is the result of len(ee_countries.items()) % 3 ?"
   ]
  },
  {
   "cell_type": "code",
   "execution_count": 27,
   "id": "e70ea584-797a-4507-a715-f32d9a208a88",
   "metadata": {},
   "outputs": [
    {
     "data": {
      "text/plain": [
       "dict_items([('Ukraine', '43.7M'), ('Russia', '143.8M'), ('Poland', '38.1M'), ('Romania', '19.5M'), ('Bulgaria', '6.9M'), ('Hungary', '9.6M'), ('Moldova', '4.1M'), ('Estonia', '1.3M')])"
      ]
     },
     "execution_count": 27,
     "metadata": {},
     "output_type": "execute_result"
    }
   ],
   "source": [
    "ee_countries.items()"
   ]
  },
  {
   "cell_type": "code",
   "execution_count": 29,
   "id": "b67c377d-6bf0-4e2d-b144-7e3e7b076e58",
   "metadata": {},
   "outputs": [
    {
     "data": {
      "text/plain": [
       "2"
      ]
     },
     "execution_count": 29,
     "metadata": {},
     "output_type": "execute_result"
    }
   ],
   "source": [
    "len(ee_countries.items()) % 3"
   ]
  },
  {
   "cell_type": "code",
   "execution_count": 30,
   "id": "7a75b199-0008-4621-b2c0-afc48576bfe2",
   "metadata": {},
   "outputs": [],
   "source": [
    "# Question 6:Considering the dictionary below \n",
    "# (showing the population of some of the Eastern European countries) \n",
    "# answer the following question.\n",
    "\n",
    "ee_countries = {\"Ukraine\": \"43.7M\", \"Russia\": \"143.8M\",\n",
    "                \"Poland\": \"38.1M\", \"Romania\": \"19.5M\", \n",
    "                \"Bulgaria\": \"6.9M\", \"Hungary\": \"9.6M\",\n",
    "                \"Moldova\": \"4.1M\", \"Estonia\": \"1.3M\"}\n",
    "\n",
    "\n",
    "\n",
    "# What is the correct way of removing all the\n",
    "# key-value pairs from the dictionary (result should be an empty dictionary) ?"
   ]
  },
  {
   "cell_type": "code",
   "execution_count": 31,
   "id": "1c6eb788-0b36-4cd4-a469-f3bc165e4906",
   "metadata": {},
   "outputs": [
    {
     "data": {
      "text/plain": [
       "{'Ukraine': '43.7M',\n",
       " 'Russia': '143.8M',\n",
       " 'Poland': '38.1M',\n",
       " 'Romania': '19.5M',\n",
       " 'Bulgaria': '6.9M',\n",
       " 'Hungary': '9.6M',\n",
       " 'Moldova': '4.1M',\n",
       " 'Estonia': '1.3M'}"
      ]
     },
     "execution_count": 31,
     "metadata": {},
     "output_type": "execute_result"
    }
   ],
   "source": [
    "ee_countries"
   ]
  },
  {
   "cell_type": "code",
   "execution_count": 32,
   "id": "76ab9e54-9361-4b65-b76d-cf1d95fc692f",
   "metadata": {},
   "outputs": [],
   "source": [
    "ee_countries.clear()"
   ]
  },
  {
   "cell_type": "code",
   "execution_count": 33,
   "id": "d7b1a499-9374-4382-b07d-25d9d5025aaf",
   "metadata": {},
   "outputs": [
    {
     "data": {
      "text/plain": [
       "{}"
      ]
     },
     "execution_count": 33,
     "metadata": {},
     "output_type": "execute_result"
    }
   ],
   "source": [
    "ee_countries"
   ]
  },
  {
   "cell_type": "code",
   "execution_count": 34,
   "id": "974dcd88-6dd0-4fc2-8b75-b90da923d280",
   "metadata": {},
   "outputs": [],
   "source": [
    "# Question 7:\n",
    "# Considering the dictionary below \n",
    "# (showing the population of some of the Eastern European countries) \n",
    "# answer the following question.\n",
    "\n",
    "ee_countries = {\"Ukraine\": \"43.7M\", \"Russia\": \"143.8M\", \n",
    "                \"Poland\": \"38.1M\", \"Romania\": \"19.5M\", \n",
    "                \"Bulgaria\": \"6.9M\", \"Hungary\": \"9.6M\", \n",
    "                \"Moldova\": \"4.1M\", \"Estonia\": \"1.3M\"}\n",
    "\n",
    "\n",
    "\n",
    "# How can you add multiple key-value pairs to the dictionary,\n",
    "# at the same time (using a single line of code) ?\n",
    "\n",
    "# Example: 'Latvia': '1.9M', 'Lithuania': '2.8M', 'Belarus': '9.4M'"
   ]
  },
  {
   "cell_type": "code",
   "execution_count": 36,
   "id": "21a7beef-7447-4a83-80d0-682b4d641b5f",
   "metadata": {},
   "outputs": [],
   "source": [
    "ee_countries.update([['Latvia', '1.9M'],['Lithuania', '2.8M'],['Belarus','9.4M']])"
   ]
  },
  {
   "cell_type": "code",
   "execution_count": 37,
   "id": "6ffb4e4b-45b1-4ed9-a930-ba2a9ee3dd0b",
   "metadata": {},
   "outputs": [
    {
     "data": {
      "text/plain": [
       "{'Ukraine': '43.7M',\n",
       " 'Russia': '143.8M',\n",
       " 'Poland': '38.1M',\n",
       " 'Romania': '19.5M',\n",
       " 'Bulgaria': '6.9M',\n",
       " 'Hungary': '9.6M',\n",
       " 'Moldova': '4.1M',\n",
       " 'Estonia': '1.3M',\n",
       " 'Latvia': '1.9M',\n",
       " 'Lithuania': '2.8M',\n",
       " 'Belarus': '9.4M'}"
      ]
     },
     "execution_count": 37,
     "metadata": {},
     "output_type": "execute_result"
    }
   ],
   "source": [
    "ee_countries\n"
   ]
  },
  {
   "cell_type": "code",
   "execution_count": 38,
   "id": "a6c3d6e5-a9df-4216-a8a3-ba83c86736d8",
   "metadata": {},
   "outputs": [],
   "source": [
    "# Question 8:Considering the dictionary below \n",
    "# (showing the population of some of the Eastern European countries) \n",
    "# answer the following question.\n",
    "\n",
    "ee_countries = {\"Ukraine\": \"43.7M\", \"Russia\": \"143.8M\",\n",
    "                \"Poland\": \"38.1M\", \"Romania\": \"19.5M\", \n",
    "                \"Bulgaria\": \"6.9M\", \"Hungary\": \"9.6M\", \n",
    "                \"Moldova\": \"4.1M\", \"Estonia\": \"1.3M\"}\n",
    "\n",
    "\n",
    "\n",
    "# What is the result of min(ee_countries.items()) ?"
   ]
  },
  {
   "cell_type": "code",
   "execution_count": 39,
   "id": "2833afe2-4955-4f44-a98b-a2282321bcce",
   "metadata": {},
   "outputs": [
    {
     "data": {
      "text/plain": [
       "('Bulgaria', '6.9M')"
      ]
     },
     "execution_count": 39,
     "metadata": {},
     "output_type": "execute_result"
    }
   ],
   "source": [
    "min(ee_countries.items())"
   ]
  },
  {
   "cell_type": "code",
   "execution_count": 41,
   "id": "0ffa46cf-4532-4628-a6d3-526e1a6c20bf",
   "metadata": {},
   "outputs": [],
   "source": [
    "# Question 9:Considering the dictionary below \n",
    "# (showing the population of some of the Eastern European countries) \n",
    "# answer the following question.\n",
    "\n",
    "ee_countries = {\"Ukraine\": \"43.7M\", \"Russia\": \"143.8M\",\n",
    "                \"Poland\": \"38.1M\", \"Romania\": \"19.5M\", \n",
    "                \"Bulgaria\": \"6.9M\", \"Hungary\": \"9.6M\", \n",
    "                \"Moldova\": \"4.1M\", \"Estonia\": \"1.3M\"}\n",
    "\n",
    "\n",
    "\n",
    "# What is the result of sorted(ee_countries.values())[-2] ?"
   ]
  },
  {
   "cell_type": "code",
   "execution_count": 43,
   "id": "6e269342-49ec-43aa-acce-fc7db7698117",
   "metadata": {},
   "outputs": [
    {
     "data": {
      "text/plain": [
       "['1.3M', '143.8M', '19.5M', '38.1M', '4.1M', '43.7M', '6.9M', '9.6M']"
      ]
     },
     "execution_count": 43,
     "metadata": {},
     "output_type": "execute_result"
    }
   ],
   "source": [
    "sorted(ee_countries.values())"
   ]
  },
  {
   "cell_type": "markdown",
   "id": "e9d2354c-782f-46d3-bb0b-3ad79309dbfa",
   "metadata": {},
   "source": [
    "## Conversion Between Data Types"
   ]
  },
  {
   "cell_type": "code",
   "execution_count": null,
   "id": "c29a3a92-ec98-4f63-a2e6-8606dd9a1e5c",
   "metadata": {},
   "outputs": [],
   "source": [
    "Question 1:\n",
    "What is the result of the code below?\n",
    "\n",
    ">>> value = \"25\"\n",
    ">>> float(value)"
   ]
  },
  {
   "cell_type": "code",
   "execution_count": 45,
   "id": "552fc598-1458-4b33-ac46-3f44c73124bc",
   "metadata": {},
   "outputs": [
    {
     "data": {
      "text/plain": [
       "25.0"
      ]
     },
     "execution_count": 45,
     "metadata": {},
     "output_type": "execute_result"
    }
   ],
   "source": [
    "value=\"25\"\n",
    "# type(value)\n",
    "float(value)"
   ]
  },
  {
   "cell_type": "code",
   "execution_count": 46,
   "id": "e40424c3-3f6e-4e94-86fc-a4ef55dcbb3d",
   "metadata": {},
   "outputs": [
    {
     "data": {
      "text/plain": [
       "25"
      ]
     },
     "execution_count": 46,
     "metadata": {},
     "output_type": "execute_result"
    }
   ],
   "source": [
    "value=\"25\"\n",
    "# type(value)\n",
    "int(value)"
   ]
  },
  {
   "cell_type": "code",
   "execution_count": null,
   "id": "9a3265aa-997e-4f53-9c0e-4c856e46ed35",
   "metadata": {},
   "outputs": [],
   "source": [
    "Question 2:\n",
    "What is the result of the code below?\n",
    "\n",
    ">>> value = 10\n",
    ">>> bin(value)"
   ]
  },
  {
   "cell_type": "code",
   "execution_count": 49,
   "id": "80d269f7-d7ac-4f37-bfa4-92b152813801",
   "metadata": {},
   "outputs": [
    {
     "data": {
      "text/plain": [
       "'0b1111'"
      ]
     },
     "execution_count": 49,
     "metadata": {},
     "output_type": "execute_result"
    }
   ],
   "source": [
    "value=15\n",
    "bin(value)"
   ]
  },
  {
   "cell_type": "code",
   "execution_count": null,
   "id": "9fc4c323-c8d6-4ba7-b0df-d04fef8d2037",
   "metadata": {},
   "outputs": [],
   "source": [
    "Question 3:What is the result of the code below?\n",
    "\n",
    ">>> mylist = ['1.3M', '143.8M', '19.5M', '38.1M', '4.1M', '43.7M', '6.9M', '9.6M']\n",
    ">>> str(mylist)"
   ]
  },
  {
   "cell_type": "code",
   "execution_count": 50,
   "id": "bc57efd1-628a-415b-98a3-426065956cee",
   "metadata": {},
   "outputs": [
    {
     "data": {
      "text/plain": [
       "\"['1.3M', '143.8M', '19.5M', '38.1M', '4.1M', '43.7M', '6.9M', '9.6M']\""
      ]
     },
     "execution_count": 50,
     "metadata": {},
     "output_type": "execute_result"
    }
   ],
   "source": [
    "mylist = ['1.3M', '143.8M', '19.5M', '38.1M', '4.1M', '43.7M', '6.9M', '9.6M']\n",
    "str(mylist)"
   ]
  },
  {
   "cell_type": "code",
   "execution_count": null,
   "id": "43934e27-7dc8-49ae-b3a0-5480faa3dbfe",
   "metadata": {},
   "outputs": [],
   "source": [
    "Question 4:\n",
    "What is the result of the code below?\n",
    "\n",
    ">>> int('a', 16)"
   ]
  },
  {
   "cell_type": "code",
   "execution_count": 55,
   "id": "5d4c1ff5-d15e-443e-b3fa-c911af4dd492",
   "metadata": {},
   "outputs": [
    {
     "data": {
      "text/plain": [
       "15"
      ]
     },
     "execution_count": 55,
     "metadata": {},
     "output_type": "execute_result"
    }
   ],
   "source": [
    "int('f', 16)"
   ]
  },
  {
   "cell_type": "code",
   "execution_count": 62,
   "id": "7608528e-fa1e-4813-ac86-b08a840031db",
   "metadata": {},
   "outputs": [
    {
     "data": {
      "text/plain": [
       "9"
      ]
     },
     "execution_count": 62,
     "metadata": {},
     "output_type": "execute_result"
    }
   ],
   "source": [
    "int('1001', 2)"
   ]
  },
  {
   "cell_type": "code",
   "execution_count": 63,
   "id": "cac7ae9a-62a8-426c-9a74-f1db70b80b53",
   "metadata": {},
   "outputs": [
    {
     "ename": "SyntaxError",
     "evalue": "invalid syntax (2232183679.py, line 3)",
     "output_type": "error",
     "traceback": [
      "\u001b[1;36m  Cell \u001b[1;32mIn[63], line 3\u001b[1;36m\u001b[0m\n\u001b[1;33m    >>> int('0011', 2)\u001b[0m\n\u001b[1;37m    ^\u001b[0m\n\u001b[1;31mSyntaxError\u001b[0m\u001b[1;31m:\u001b[0m invalid syntax\n"
     ]
    }
   ],
   "source": [
    "Question 5: What is the result of the code below?\n",
    "\n",
    ">>> int('0011', 2)"
   ]
  },
  {
   "cell_type": "code",
   "execution_count": 64,
   "id": "1d50cd92-2f7e-40ad-a112-75edd5b9c78d",
   "metadata": {},
   "outputs": [
    {
     "data": {
      "text/plain": [
       "3"
      ]
     },
     "execution_count": 64,
     "metadata": {},
     "output_type": "execute_result"
    }
   ],
   "source": [
    "int('0011', 2)"
   ]
  },
  {
   "cell_type": "markdown",
   "id": "7f50cc83-17d3-4e8f-b786-ac26a5b4cd3d",
   "metadata": {},
   "source": [
    "## if elif else Condition"
   ]
  },
  {
   "cell_type": "code",
   "execution_count": 12,
   "id": "c48a8804-0543-460a-b629-a74dfeac263c",
   "metadata": {},
   "outputs": [
    {
     "name": "stdin",
     "output_type": "stream",
     "text": [
      "Enter your salary....  45000\n"
     ]
    },
    {
     "name": "stdout",
     "output_type": "stream",
     "text": [
      "Okay !!! your salary is  45000\n"
     ]
    }
   ],
   "source": [
    "salary=int(input(\"Enter your salary.... \"))\n",
    "print(\"Okay !!! your salary is \",salary)"
   ]
  },
  {
   "cell_type": "code",
   "execution_count": 6,
   "id": "5a63ef81-4446-4cbb-9e04-f9a6873397c0",
   "metadata": {},
   "outputs": [
    {
     "data": {
      "text/plain": [
       "21000"
      ]
     },
     "execution_count": 6,
     "metadata": {},
     "output_type": "execute_result"
    }
   ],
   "source": [
    "salary+12500"
   ]
  },
  {
   "cell_type": "code",
   "execution_count": null,
   "id": "569af98f-6a23-4267-9d30-caa97be0535e",
   "metadata": {},
   "outputs": [],
   "source": [
    "    0<salary<25000 ---->>> Junior Engineer\n",
    "25000<salary<50000 ---->>> Mid Level Engineer\n",
    "50000<salary<100000 ---->>> Senior Engineer\n",
    "100000<salary<200000 ---->>> CEO"
   ]
  },
  {
   "cell_type": "code",
   "execution_count": 8,
   "id": "ba9eb734-b1ac-4b36-b6b4-c5eeecea640e",
   "metadata": {},
   "outputs": [
    {
     "data": {
      "text/plain": [
       "8500"
      ]
     },
     "execution_count": 8,
     "metadata": {},
     "output_type": "execute_result"
    }
   ],
   "source": [
    "salary"
   ]
  },
  {
   "cell_type": "code",
   "execution_count": 16,
   "id": "f7072aba-9462-471c-abb0-56c6ae69365b",
   "metadata": {},
   "outputs": [
    {
     "name": "stdin",
     "output_type": "stream",
     "text": [
      "Enter your salary....  15000\n"
     ]
    },
    {
     "name": "stdout",
     "output_type": "stream",
     "text": [
      "Okay !!! your salary is  15000\n",
      "Employee is Junior Engineer\n"
     ]
    }
   ],
   "source": [
    "salary=int(input(\"Enter your salary.... \"))\n",
    "print(\"Okay !!! your salary is \",salary)\n",
    "\n",
    "if salary<=25000:\n",
    "    print(\"Employee is Junior Engineer\")\n",
    "elif salary>25000 and salary<=55000:\n",
    "    print(\"Employee is Mid Level Engineer\")\n",
    "elif salary>55000 and salary<=100000:\n",
    "    print(\"Employee is Senior Level Engineer\")\n",
    "elif salary>100000 and salary<=200000:\n",
    "    print(\"Employee is CEO\")"
   ]
  },
  {
   "cell_type": "code",
   "execution_count": 25,
   "id": "cade0de0-e14c-4539-a32a-fae8e2c9080a",
   "metadata": {},
   "outputs": [
    {
     "name": "stdin",
     "output_type": "stream",
     "text": [
      "do you want to quit?  Enter your choice.... ythvhj\n"
     ]
    },
    {
     "name": "stdout",
     "output_type": "stream",
     "text": [
      "Enter your correct choice Yes/No\n"
     ]
    }
   ],
   "source": [
    "# Game of Mario\n",
    "quit=input(\"do you want to quit?  Enter your choice....\")\n",
    "\n",
    "if quit== 'yes' or quit=='Yes':\n",
    "    print(\"Thanks for playing this Game!!!!\")\n",
    "elif quit=='no' or quit=='No':\n",
    "    print(\"Welcome again in the Game!!!\")\n",
    "else:\n",
    "    print(\"Enter your correct choice Yes/No\")"
   ]
  },
  {
   "cell_type": "code",
   "execution_count": null,
   "id": "41d174e9-d1b4-4687-a897-e9bd653ae7c1",
   "metadata": {},
   "outputs": [],
   "source": [
    "if quit== 'yes' ---->> \"Thanks for playing this Game!!!!\"\n",
    "\"Enter your correct choice Yes/No\""
   ]
  },
  {
   "cell_type": "code",
   "execution_count": 31,
   "id": "68f29750-7606-4841-99b8-e54b5698c2db",
   "metadata": {},
   "outputs": [
    {
     "name": "stdout",
     "output_type": "stream",
     "text": [
      "Object `below` not found.\n",
      "Great job!\n"
     ]
    }
   ],
   "source": [
    "Question 1: What is the result of the code below?\n",
    "\n",
    "mystring = \"Solving Python quizzes is awesome. Can I have more, please?\"\n",
    " \n",
    "if mystring.endswith(\"?\") and len(mystring) != 60:\n",
    "    print(\"Great job!\")"
   ]
  },
  {
   "cell_type": "code",
   "execution_count": 40,
   "id": "330bc7c0-ae7e-43ef-9003-4ca3507b7702",
   "metadata": {},
   "outputs": [
    {
     "name": "stdout",
     "output_type": "stream",
     "text": [
      "Great job!\n"
     ]
    }
   ],
   "source": [
    "# Question 2:What is the result of the code below?\n",
    "\n",
    "mystring = \"Solving Python quizzes is awesome. Can I have more, please?\"\n",
    " \n",
    "if \" \" not in mystring and mystring.find(\"zz\") <= 25:\n",
    "    print(\"Great job!\")"
   ]
  },
  {
   "cell_type": "code",
   "execution_count": 47,
   "id": "a5c03369-75ae-40c1-9d1e-a132cc4a7620",
   "metadata": {},
   "outputs": [
    {
     "data": {
      "text/plain": [
       "''"
      ]
     },
     "execution_count": 47,
     "metadata": {},
     "output_type": "execute_result"
    }
   ],
   "source": [
    "mystring = \"Solving Python quizzes is awesome. Can I have more, please?\"\n",
    "\n",
    "(mystring.count(\",\") )"
   ]
  },
  {
   "cell_type": "code",
   "execution_count": 44,
   "id": "6d5071f0-fa11-4fdd-8fd8-2a0d7b7d2a32",
   "metadata": {},
   "outputs": [
    {
     "name": "stdout",
     "output_type": "stream",
     "text": [
      "Great job!\n"
     ]
    }
   ],
   "source": [
    "# Question 3:What is the result of the code below?\n",
    "\n",
    "mystring = \"Solving Python quizzes is awesome. Can I have more, please?\"\n",
    " \n",
    "if mystring[5:8].endswith(\" \") or (mystring.count(\",\") > mystring.index(\"o\")):\n",
    "    print(\"Great job!\")\n",
    "else:\n",
    "    print(\"Great job again!\")"
   ]
  },
  {
   "cell_type": "code",
   "execution_count": 45,
   "id": "ae5088ba-6a28-47f1-8478-6f85cc94d925",
   "metadata": {},
   "outputs": [
    {
     "name": "stdout",
     "output_type": "stream",
     "text": [
      "Great job once again!\n"
     ]
    }
   ],
   "source": [
    "# Question 4: What is the result of the code below?\n",
    "\n",
    "mystring = \"Solving Python quizzes is awesome. Can I have more, please?\"\n",
    " \n",
    "if mystring[5:8].startswith(\"i\") and (mystring[::2][2] == \"i\"):\n",
    "    print(\"Great job!\")\n",
    "elif \"a\" in mystring[-7:-4] or mystring[-2:] == \"e?\":\n",
    "    print(\"Great job once again!\")\n",
    "else:\n",
    "    print(\"Great job again!\")"
   ]
  },
  {
   "cell_type": "code",
   "execution_count": 48,
   "id": "8e0c18f7-1f6a-4ec5-8a9d-a7803fb148bd",
   "metadata": {},
   "outputs": [
    {
     "name": "stdout",
     "output_type": "stream",
     "text": [
      "Awesome!\n"
     ]
    }
   ],
   "source": [
    "# Question 5:What is the result of the code below?\n",
    "\n",
    "mynum = 2500\n",
    " \n",
    "if mynum % 25 == 0 and mynum // 25 == 10 ** 2:\n",
    "    print(\"Awesome!\")"
   ]
  },
  {
   "cell_type": "code",
   "execution_count": 52,
   "id": "dc72b1da-2d33-45ed-be77-9ccfc357ce4e",
   "metadata": {},
   "outputs": [
    {
     "data": {
      "text/plain": [
       "100"
      ]
     },
     "execution_count": 52,
     "metadata": {},
     "output_type": "execute_result"
    }
   ],
   "source": [
    "10**2"
   ]
  },
  {
   "cell_type": "code",
   "execution_count": 54,
   "id": "889566c0-add0-49c9-b0db-bc5d49166441",
   "metadata": {},
   "outputs": [
    {
     "name": "stdout",
     "output_type": "stream",
     "text": [
      "Amazing!\n"
     ]
    }
   ],
   "source": [
    "# Question 6: What is the result of the code below?\n",
    "\n",
    "mynum = 2500\n",
    " \n",
    "if (100 - 5 ** 2 * 2 ** 2):\n",
    "    print(\"Awesome!\")\n",
    "elif mynum / (100 - 5 ** 2 / 5 * 2 + 10) < 29:\n",
    "    print(\"Amazing!\")"
   ]
  },
  {
   "cell_type": "markdown",
   "id": "cd4f82d7-8d3a-4827-b428-37441dbaa501",
   "metadata": {},
   "source": [
    "## For and While Loops"
   ]
  },
  {
   "cell_type": "markdown",
   "id": "69a3e13c-02bd-4ab3-a386-a0a2931c5d55",
   "metadata": {},
   "source": [
    "#### For Loop"
   ]
  },
  {
   "cell_type": "code",
   "execution_count": 3,
   "id": "61af701b-d773-42e0-9ccc-a9fbef45dc8f",
   "metadata": {},
   "outputs": [
    {
     "name": "stdout",
     "output_type": "stream",
     "text": [
      "1 Machine Learning\n",
      "2 Machine Learning\n",
      "3 Machine Learning\n",
      "4 Machine Learning\n",
      "5 Machine Learning\n"
     ]
    }
   ],
   "source": [
    "print(\"1 Machine Learning\")\n",
    "print(\"2 Machine Learning\")\n",
    "print(\"3 Machine Learning\")\n",
    "print(\"4 Machine Learning\")\n",
    "print(\"5 Machine Learning\")"
   ]
  },
  {
   "cell_type": "code",
   "execution_count": 7,
   "id": "21850f02-d69d-4e0c-910b-2ac26128e9c9",
   "metadata": {},
   "outputs": [
    {
     "name": "stdout",
     "output_type": "stream",
     "text": [
      "1  Machine Learning\n",
      "2  Machine Learning\n",
      "3  Machine Learning\n",
      "4  Machine Learning\n",
      "5  Machine Learning\n",
      "6  Machine Learning\n",
      "7  Machine Learning\n",
      "8  Machine Learning\n",
      "9  Machine Learning\n",
      "10  Machine Learning\n",
      "11  Machine Learning\n",
      "12  Machine Learning\n",
      "13  Machine Learning\n",
      "14  Machine Learning\n",
      "15  Machine Learning\n",
      "16  Machine Learning\n",
      "17  Machine Learning\n",
      "18  Machine Learning\n",
      "19  Machine Learning\n",
      "20  Machine Learning\n",
      "21  Machine Learning\n",
      "22  Machine Learning\n",
      "23  Machine Learning\n",
      "24  Machine Learning\n",
      "25  Machine Learning\n"
     ]
    }
   ],
   "source": [
    "for i in range(25):\n",
    "    print(i+1,\" Machine Learning\")"
   ]
  },
  {
   "cell_type": "code",
   "execution_count": 9,
   "id": "03fcd13e-ce45-43ed-8115-efdce34249fd",
   "metadata": {},
   "outputs": [
    {
     "name": "stdout",
     "output_type": "stream",
     "text": [
      "5  Machine Learning\n",
      "6  Machine Learning\n",
      "7  Machine Learning\n",
      "8  Machine Learning\n",
      "9  Machine Learning\n",
      "10  Machine Learning\n",
      "11  Machine Learning\n",
      "12  Machine Learning\n",
      "13  Machine Learning\n",
      "14  Machine Learning\n",
      "15  Machine Learning\n",
      "16  Machine Learning\n",
      "17  Machine Learning\n",
      "18  Machine Learning\n",
      "19  Machine Learning\n",
      "20  Machine Learning\n",
      "21  Machine Learning\n",
      "22  Machine Learning\n",
      "23  Machine Learning\n",
      "24  Machine Learning\n"
     ]
    }
   ],
   "source": [
    "for i in range(5,25):\n",
    "    print(i,\" Machine Learning\")"
   ]
  },
  {
   "cell_type": "code",
   "execution_count": 10,
   "id": "2349421e-5d9a-4c51-99b7-eb99b4d12dac",
   "metadata": {},
   "outputs": [
    {
     "name": "stdout",
     "output_type": "stream",
     "text": [
      "5\n",
      "9\n",
      "Sachin\n",
      "58.6\n",
      "P\n"
     ]
    }
   ],
   "source": [
    "list1=[5,9,'Sachin',58.6,'P']\n",
    "for i in list1:\n",
    "    print(i)"
   ]
  },
  {
   "cell_type": "code",
   "execution_count": 11,
   "id": "a3b5a79d-a056-468d-978f-d83127a4e042",
   "metadata": {},
   "outputs": [
    {
     "name": "stdout",
     "output_type": "stream",
     "text": [
      "S\n",
      "a\n",
      "c\n",
      "h\n",
      "i\n",
      "n\n",
      " \n",
      "i\n",
      "s\n",
      " \n",
      "l\n",
      "e\n",
      "a\n",
      "r\n",
      "n\n",
      "i\n",
      "n\n",
      "g\n",
      " \n",
      "D\n",
      "a\n",
      "t\n",
      "a\n",
      " \n",
      "S\n",
      "c\n",
      "i\n",
      "e\n",
      "n\n",
      "c\n",
      "e\n",
      " \n",
      "c\n",
      "o\n",
      "u\n",
      "r\n",
      "s\n",
      "e\n"
     ]
    }
   ],
   "source": [
    "string='Sachin is learning Data Science course'\n",
    "for i in string:\n",
    "    print(i)"
   ]
  },
  {
   "cell_type": "code",
   "execution_count": 14,
   "id": "f4a08be7-b3ec-4984-93bf-f3d632ad6739",
   "metadata": {},
   "outputs": [
    {
     "name": "stdout",
     "output_type": "stream",
     "text": [
      "0  Amarjeet\n",
      "2  Amarjeet\n",
      "4  Amarjeet\n"
     ]
    }
   ],
   "source": [
    "i=0\n",
    "while i<5:\n",
    "    print(i, \" Amarjeet\")\n",
    "    i=i+2"
   ]
  },
  {
   "cell_type": "code",
   "execution_count": 16,
   "id": "bcbfe423-c1b0-4013-9fc0-18294559b0c4",
   "metadata": {},
   "outputs": [
    {
     "name": "stdout",
     "output_type": "stream",
     "text": [
      "10\n",
      "10\n",
      "10\n",
      "10\n",
      "10\n",
      "10\n",
      "10\n",
      "10\n",
      "10\n",
      "10\n"
     ]
    }
   ],
   "source": [
    "# Question 1: What is the result of the code below?\n",
    "\n",
    "mylist = [10, 50, 78.13, 99.9, 2020, 35000, \"Python\", \"Java\", \"SQL\", \"C++\"]\n",
    " \n",
    "for element in mylist:\n",
    "    print(mylist[0])"
   ]
  },
  {
   "cell_type": "code",
   "execution_count": 20,
   "id": "8ebeadff-fa3c-4516-ac05-72420dfc9cc6",
   "metadata": {},
   "outputs": [
    {
     "name": "stdout",
     "output_type": "stream",
     "text": [
      "This is an element of mylist: Python\n",
      "This is an element of mylist: Java\n",
      "This is an element of mylist: SQL\n",
      "This is an element of mylist: C++\n"
     ]
    }
   ],
   "source": [
    "# Question 2: What is the result of the code below?\n",
    "\n",
    "mylist = [ \"Python\", \"Java\", \"SQL\", \"C++\"]\n",
    " \n",
    "for element in mylist:\n",
    "    print(\"This is an element of mylist: \" + element)"
   ]
  },
  {
   "cell_type": "code",
   "execution_count": 26,
   "id": "24f50279-7f83-4d53-83a7-9d63ea0859bf",
   "metadata": {},
   "outputs": [
    {
     "name": "stdout",
     "output_type": "stream",
     "text": [
      "0\n",
      "10\n",
      "20\n",
      "30\n",
      "40\n",
      "50\n",
      "60\n",
      "70\n",
      "80\n",
      "90\n"
     ]
    }
   ],
   "source": [
    "# Question 3: What is the result of the code below?\n",
    "\n",
    "mylist = [10, 50, 78.13, 99.9, 2020, 35000, \"Python\", \"Java\", \"SQL\", \"C++\"]\n",
    " \n",
    "for i in range(len(mylist)):\n",
    "    print(i * 10)"
   ]
  },
  {
   "cell_type": "code",
   "execution_count": 25,
   "id": "7a9d7e11-894e-476d-bd9b-1bd5700ff667",
   "metadata": {},
   "outputs": [
    {
     "name": "stdout",
     "output_type": "stream",
     "text": [
      "6  Shiv\n",
      "7  Shiv\n",
      "8  Shiv\n",
      "9  Shiv\n"
     ]
    }
   ],
   "source": [
    "for i in range(10):\n",
    "    print(i,\" Shiv\")"
   ]
  },
  {
   "cell_type": "code",
   "execution_count": 32,
   "id": "656a6255-ade3-4ed8-9bb5-69dceeaf0a10",
   "metadata": {},
   "outputs": [
    {
     "name": "stdout",
     "output_type": "stream",
     "text": [
      "10\n",
      "10\n",
      "10\n",
      "10\n",
      "10\n",
      "10\n",
      "10\n",
      "10\n",
      "10\n",
      "10\n"
     ]
    }
   ],
   "source": [
    "# Question 4: What is the result of the code below?\n",
    "\n",
    "mylist = [10, 50, 78.13, 99.9, 2020, 35000, \"Python\", \"Java\", \"SQL\", \"C++\"]\n",
    " \n",
    "for i in mylist:\n",
    "    print(mylist[0])"
   ]
  },
  {
   "cell_type": "code",
   "execution_count": 35,
   "id": "f3c296cd-ec44-4450-ae27-2e7bffa48416",
   "metadata": {},
   "outputs": [
    {
     "name": "stdout",
     "output_type": "stream",
     "text": [
      "0\n",
      "78\n",
      "0\n",
      "99\n"
     ]
    }
   ],
   "source": [
    "# Question 5: What is the result of the code below?\n",
    "\n",
    "mylist = [10, 50, 78.13, 99.9, 2020, 35000, \"Python\", \"Java\", \"SQL\", \"C++\"]\n",
    " \n",
    "for i in mylist:\n",
    "    for j in range(2):\n",
    "        if isinstance(i, float):\n",
    "            print(int(i) * j)"
   ]
  },
  {
   "cell_type": "code",
   "execution_count": 33,
   "id": "d5df8803-b50a-4465-8463-ed096010d0cc",
   "metadata": {},
   "outputs": [
    {
     "name": "stdout",
     "output_type": "stream",
     "text": [
      "0 0  Jay\n",
      "0 1  Jay\n",
      "0 2  Jay\n",
      "1 0  Jay\n",
      "1 1  Jay\n",
      "1 2  Jay\n",
      "2 0  Jay\n",
      "2 1  Jay\n",
      "2 2  Jay\n",
      "3 0  Jay\n",
      "3 1  Jay\n",
      "3 2  Jay\n",
      "4 0  Jay\n",
      "4 1  Jay\n",
      "4 2  Jay\n"
     ]
    }
   ],
   "source": [
    "for i in range(5):\n",
    "    for j in range(3):\n",
    "        print(i,j,\" Jay\")"
   ]
  },
  {
   "cell_type": "code",
   "execution_count": 46,
   "id": "f953be6e-1e45-423e-b887-110462e62e2e",
   "metadata": {},
   "outputs": [
    {
     "name": "stdout",
     "output_type": "stream",
     "text": [
      "0 5\n",
      "1 6\n",
      "2 7\n",
      "3 8\n",
      "4 9\n"
     ]
    }
   ],
   "source": [
    "# Question 6: What is the result of the code below?\n",
    "\n",
    "for i, e in enumerate(range(5, 10)):\n",
    "    print(i, e )"
   ]
  },
  {
   "cell_type": "code",
   "execution_count": 44,
   "id": "3d1f43bd-5bb1-48fd-9c68-b0ec66266f71",
   "metadata": {},
   "outputs": [
    {
     "name": "stdout",
     "output_type": "stream",
     "text": [
      "0 1\n",
      "1 2\n",
      "2 3\n",
      "3 4\n",
      "4 5\n",
      "5 6\n",
      "6 7\n",
      "7 8\n",
      "8 9\n"
     ]
    }
   ],
   "source": [
    "for i, e in enumerate(range(1, 10)):\n",
    "    print(i, e)"
   ]
  },
  {
   "cell_type": "code",
   "execution_count": null,
   "id": "37e7cc35-6377-4ac3-82c7-74a455136df5",
   "metadata": {},
   "outputs": [],
   "source": [
    "Question 7: Are the two blocks of code below equivalent? True or false?\n",
    "---------------------------------------\n",
    "\n",
    "i = 100\n",
    "j = 200\n",
    " \n",
    "if i < j:\n",
    "    if i < 100:\n",
    "        print(i)\n",
    "    else:\n",
    "        print(j)\n",
    "---------------------------------------\n",
    "and:\n",
    "\n",
    "i = 100\n",
    "j = 200\n",
    " \n",
    "if i < j or i < 100:\n",
    "    print(i)\n",
    "else:\n",
    "    print(j)"
   ]
  },
  {
   "cell_type": "code",
   "execution_count": 47,
   "id": "6ff6023b-3834-4c29-a557-6c71ec5430bc",
   "metadata": {},
   "outputs": [
    {
     "name": "stdout",
     "output_type": "stream",
     "text": [
      "200\n"
     ]
    }
   ],
   "source": [
    "\n",
    "i = 100\n",
    "j = 200\n",
    " \n",
    "if i < j:\n",
    "    if i < 100:\n",
    "        print(i)\n",
    "    else:\n",
    "        print(j)"
   ]
  },
  {
   "cell_type": "code",
   "execution_count": 48,
   "id": "0d811b55-4696-461d-86bf-74f3d4d09633",
   "metadata": {},
   "outputs": [
    {
     "name": "stdout",
     "output_type": "stream",
     "text": [
      "100\n"
     ]
    }
   ],
   "source": [
    "i = 100\n",
    "j = 200\n",
    " \n",
    "if i < j or i < 100:\n",
    "    print(i)\n",
    "else:\n",
    "    print(j)"
   ]
  },
  {
   "cell_type": "code",
   "execution_count": 51,
   "id": "e6a041f4-839d-48fc-a203-9fa031a47406",
   "metadata": {},
   "outputs": [],
   "source": [
    "# Question 8: What is the result of the code below?\n",
    "\n",
    "# x = 1\n",
    " \n",
    "# while x <= 10:\n",
    "#     print(x + 1)"
   ]
  },
  {
   "cell_type": "code",
   "execution_count": 52,
   "id": "909f7b7d-0aad-4033-9364-843f304338e6",
   "metadata": {},
   "outputs": [
    {
     "name": "stdout",
     "output_type": "stream",
     "text": [
      "1\n",
      "3\n",
      "5\n",
      "7\n",
      "9\n",
      "Python is the best!\n"
     ]
    }
   ],
   "source": [
    "# Question 9: What is the result of the code below?\n",
    "\n",
    "x = 1\n",
    " \n",
    "while x <= 10:\n",
    "    print(x)\n",
    "    x += 2\n",
    "else:\n",
    "    print(\"Python is the best!\")"
   ]
  },
  {
   "cell_type": "code",
   "execution_count": null,
   "id": "3db660c0-3e82-40c2-ac1a-f99efb0f47a4",
   "metadata": {},
   "outputs": [],
   "source": []
  }
 ],
 "metadata": {
  "kernelspec": {
   "display_name": "Python 3 (ipykernel)",
   "language": "python",
   "name": "python3"
  },
  "language_info": {
   "codemirror_mode": {
    "name": "ipython",
    "version": 3
   },
   "file_extension": ".py",
   "mimetype": "text/x-python",
   "name": "python",
   "nbconvert_exporter": "python",
   "pygments_lexer": "ipython3",
   "version": "3.11.7"
  }
 },
 "nbformat": 4,
 "nbformat_minor": 5
}
