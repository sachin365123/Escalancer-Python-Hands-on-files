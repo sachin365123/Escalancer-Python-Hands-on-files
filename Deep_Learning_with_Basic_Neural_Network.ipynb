{
  "cells": [
    {
      "cell_type": "code",
      "execution_count": null,
      "id": "d2d1e35e",
      "metadata": {
        "id": "d2d1e35e"
      },
      "outputs": [],
      "source": [
        "# https://app.datacamp.com/learn/courses/introduction-to-deep-learning-in-python\n",
        "# Introduction to Deep Learning in Python"
      ]
    },
    {
      "cell_type": "code",
      "execution_count": 15,
      "id": "38328375",
      "metadata": {
        "id": "38328375"
      },
      "outputs": [],
      "source": [
        "import numpy as np\n",
        "input_data=np.array([2,3])"
      ]
    },
    {
      "cell_type": "code",
      "execution_count": 2,
      "id": "a0b1fc51",
      "metadata": {
        "colab": {
          "base_uri": "https://localhost:8080/"
        },
        "id": "a0b1fc51",
        "outputId": "57dc519b-fb5f-4290-c5b9-0a414d6926cd"
      },
      "outputs": [
        {
          "output_type": "execute_result",
          "data": {
            "text/plain": [
              "array([2, 3])"
            ]
          },
          "metadata": {},
          "execution_count": 2
        }
      ],
      "source": [
        "input_data"
      ]
    },
    {
      "cell_type": "code",
      "execution_count": 16,
      "id": "935cf561",
      "metadata": {
        "id": "935cf561"
      },
      "outputs": [],
      "source": [
        "weights={'node_0':np.array([1,1]),\n",
        "         'node_1':np.array([-1,1]),\n",
        "         'output':np.array([2,-1])}"
      ]
    },
    {
      "cell_type": "code",
      "execution_count": 17,
      "id": "a877b85a",
      "metadata": {
        "colab": {
          "base_uri": "https://localhost:8080/"
        },
        "id": "a877b85a",
        "outputId": "0fcf2d2f-98b3-4da8-ca8e-6dc653e004b9"
      },
      "outputs": [
        {
          "output_type": "execute_result",
          "data": {
            "text/plain": [
              "{'node_0': array([1, 1]), 'node_1': array([-1,  1]), 'output': array([ 2, -1])}"
            ]
          },
          "metadata": {},
          "execution_count": 17
        }
      ],
      "source": [
        "weights"
      ]
    },
    {
      "cell_type": "code",
      "execution_count": 18,
      "id": "d7ddd5f6",
      "metadata": {
        "id": "d7ddd5f6"
      },
      "outputs": [],
      "source": [
        "node_0_value=(input_data*weights['node_0']).sum()\n",
        "node_1_value=(input_data*weights['node_1']).sum()"
      ]
    },
    {
      "cell_type": "code",
      "source": [
        "node_0_value"
      ],
      "metadata": {
        "colab": {
          "base_uri": "https://localhost:8080/"
        },
        "id": "5okpTVH52-uA",
        "outputId": "d69ed54e-f064-4955-cef4-3f60b87a1c59"
      },
      "id": "5okpTVH52-uA",
      "execution_count": 19,
      "outputs": [
        {
          "output_type": "execute_result",
          "data": {
            "text/plain": [
              "5"
            ]
          },
          "metadata": {},
          "execution_count": 19
        }
      ]
    },
    {
      "cell_type": "code",
      "source": [
        "node_1_value"
      ],
      "metadata": {
        "colab": {
          "base_uri": "https://localhost:8080/"
        },
        "id": "ZiXLE83j3DH7",
        "outputId": "d041342d-ab9e-43ae-d993-ff02238c4c34"
      },
      "id": "ZiXLE83j3DH7",
      "execution_count": 20,
      "outputs": [
        {
          "output_type": "execute_result",
          "data": {
            "text/plain": [
              "1"
            ]
          },
          "metadata": {},
          "execution_count": 20
        }
      ]
    },
    {
      "cell_type": "code",
      "execution_count": 21,
      "id": "b0691ac4",
      "metadata": {
        "colab": {
          "base_uri": "https://localhost:8080/"
        },
        "id": "b0691ac4",
        "outputId": "e01a8d41-1523-4f6e-9f4d-a3cbf8783cd2"
      },
      "outputs": [
        {
          "output_type": "stream",
          "name": "stdout",
          "text": [
            "[5 1]\n"
          ]
        }
      ],
      "source": [
        "hidden_layer_values=np.array([node_0_value,node_1_value])\n",
        "print(hidden_layer_values)"
      ]
    },
    {
      "cell_type": "code",
      "execution_count": 22,
      "id": "a248396d",
      "metadata": {
        "colab": {
          "base_uri": "https://localhost:8080/"
        },
        "id": "a248396d",
        "outputId": "b604232a-e3a7-41bf-bcf4-6c5331620842"
      },
      "outputs": [
        {
          "output_type": "stream",
          "name": "stdout",
          "text": [
            "9\n"
          ]
        }
      ],
      "source": [
        "output=(hidden_layer_values*weights['output']).sum()\n",
        "print(output)"
      ]
    },
    {
      "cell_type": "code",
      "execution_count": 23,
      "id": "c0e5ee23",
      "metadata": {
        "colab": {
          "base_uri": "https://localhost:8080/"
        },
        "id": "c0e5ee23",
        "outputId": "9061c64f-c79d-488e-f473-058cda6be4e1"
      },
      "outputs": [
        {
          "output_type": "stream",
          "name": "stdout",
          "text": [
            "9\n"
          ]
        }
      ],
      "source": [
        "def relu(input):\n",
        "    '''Define your relu activation function here'''\n",
        "    # Calculate the value for the output of the relu function: output\n",
        "    output = max(0, input)\n",
        "\n",
        "    # Return the value just calculated\n",
        "    return(output)\n",
        "\n",
        "# Calculate node 0 value: node_0_output\n",
        "node_0_input = (input_data * weights['node_0']).sum()\n",
        "node_0_output = relu(node_0_input)\n",
        "\n",
        "# Calculate node 1 value: node_1_output\n",
        "node_1_input = (input_data * weights['node_1']).sum()\n",
        "node_1_output = relu(node_1_input)\n",
        "\n",
        "# Put node values into array: hidden_layer_outputs\n",
        "hidden_layer_outputs = np.array([node_0_output, node_1_output])\n",
        "\n",
        "\n",
        "# Calculate model output (do not apply relu)\n",
        "model_output = (hidden_layer_outputs * weights['output']).sum()\n",
        "\n",
        "# Print model output\n",
        "print(model_output)"
      ]
    },
    {
      "cell_type": "code",
      "source": [
        "input_data"
      ],
      "metadata": {
        "colab": {
          "base_uri": "https://localhost:8080/"
        },
        "id": "GLE1CThb8nfx",
        "outputId": "c431c6e5-5073-48a1-dd53-3247438bb356"
      },
      "id": "GLE1CThb8nfx",
      "execution_count": 24,
      "outputs": [
        {
          "output_type": "execute_result",
          "data": {
            "text/plain": [
              "array([2, 3])"
            ]
          },
          "metadata": {},
          "execution_count": 24
        }
      ]
    },
    {
      "cell_type": "code",
      "source": [
        "node_0_input = (input_data*weights['node_0']).sum()\n",
        "node_0_output = relu(node_0_input)"
      ],
      "metadata": {
        "id": "JUGu7O7L8eEc"
      },
      "id": "JUGu7O7L8eEc",
      "execution_count": 25,
      "outputs": []
    },
    {
      "cell_type": "code",
      "source": [
        "node_0_output"
      ],
      "metadata": {
        "colab": {
          "base_uri": "https://localhost:8080/"
        },
        "id": "KnNXLVoY8svt",
        "outputId": "13410252-d7fe-434c-f30d-26af92f8881d"
      },
      "id": "KnNXLVoY8svt",
      "execution_count": 27,
      "outputs": [
        {
          "output_type": "execute_result",
          "data": {
            "text/plain": [
              "5"
            ]
          },
          "metadata": {},
          "execution_count": 27
        }
      ]
    },
    {
      "cell_type": "code",
      "execution_count": 28,
      "id": "852272b8",
      "metadata": {
        "colab": {
          "base_uri": "https://localhost:8080/"
        },
        "id": "852272b8",
        "outputId": "5373d421-1cbd-4f66-f2b7-72e1c00f64d9"
      },
      "outputs": [
        {
          "output_type": "stream",
          "name": "stdout",
          "text": [
            "[8, 12]\n"
          ]
        }
      ],
      "source": [
        "# # Define predict_with_network()\n",
        "# def predict_with_network(input_data_row, weights):\n",
        "\n",
        "#     # Calculate node 0 value\n",
        "#     node_0_input = (input_data_row*weights['node_0']).sum()\n",
        "#     node_0_output = relu(node_0_input)\n",
        "\n",
        "#     # Calculate node 1 value\n",
        "#     node_1_input = (input_data_row*weights['node_1']).sum()\n",
        "#     node_1_output =relu(node_1_input)\n",
        "\n",
        "#     # Put node values into array: hidden_layer_outputs\n",
        "#     hidden_layer_outputs = np.array([node_0_output, node_1_output])\n",
        "\n",
        "#     # Calculate model output\n",
        "#     input_to_final_layer = (hidden_layer_outputs*weights['output']).sum()\n",
        "#     model_output = relu( input_to_final_layer)\n",
        "\n",
        "#     # Return model output\n",
        "#     return(model_output)\n",
        "\n",
        "# # Create empty list to store prediction results\n",
        "# results = []\n",
        "# for input_data_row in input_data:\n",
        "#     # Append prediction to results\n",
        "#     results.append(predict_with_network(input_data_row,weights))\n",
        "\n",
        "# # Print results\n",
        "# print(results)"
      ]
    },
    {
      "cell_type": "code",
      "execution_count": 11,
      "id": "c8bc1e91",
      "metadata": {
        "colab": {
          "base_uri": "https://localhost:8080/"
        },
        "id": "c8bc1e91",
        "outputId": "1032364f-340d-49dd-a98a-fad9fa32377d"
      },
      "outputs": [
        {
          "output_type": "stream",
          "name": "stdout",
          "text": [
            "9\n"
          ]
        }
      ],
      "source": [
        "# Calculate node 0 value: node_0_value\n",
        "node_0_value = (input_data* weights['node_0']).sum()\n",
        "\n",
        "# Calculate node 1 value: node_1_value\n",
        "node_1_value = (input_data* weights['node_1']).sum()\n",
        "\n",
        "\n",
        "# Put node values into array: hidden_layer_outputs\n",
        "hidden_layer_outputs = np.array([node_0_value, node_1_value])\n",
        "\n",
        "# Calculate output: output\n",
        "output =( hidden_layer_outputs*weights['output']).sum()\n",
        "\n",
        "# Print output\n",
        "print(output)\n"
      ]
    },
    {
      "cell_type": "code",
      "execution_count": 12,
      "id": "9a6cfb38",
      "metadata": {
        "id": "9a6cfb38"
      },
      "outputs": [],
      "source": [
        "# Multi-layer neural networks\n",
        "\n",
        "# In this exercise, you'll write code to do forward propagation for a neural network with 2\n",
        "# hidden layers. Each hidden layer has two nodes. The input data has been preloaded as input_data. The nodes in the first hidden layer are called node_0_0 and node_0_1. Their weights are pre-loaded as weights['node_0_0'] and weights['node_0_1'] respectively.\n",
        "\n",
        "# The nodes in the second hidden layer are called node_1_0 and node_1_1.\n",
        "# Their weights are pre-loaded as weights['node_1_0'] and weights['node_1_1'] respectively.\n",
        "\n",
        "# We then create a model output from the hidden nodes using weights pre-loaded as weights['output'].\n",
        "\n",
        "\n",
        "input_data=np.array([3,5])"
      ]
    },
    {
      "cell_type": "code",
      "execution_count": 13,
      "id": "b8d3b719",
      "metadata": {
        "id": "b8d3b719"
      },
      "outputs": [],
      "source": [
        "weights={'node_0_0':np.array([2,4]),\n",
        "         'node_0_1':np.array([4,-5]),\n",
        "         'node_1_0':np.array([0,1]),\n",
        "         'node_1_1':np.array([1,1]),\n",
        "         'output':np.array([2,7])}"
      ]
    },
    {
      "cell_type": "code",
      "execution_count": 14,
      "id": "4b6d7576",
      "metadata": {
        "colab": {
          "base_uri": "https://localhost:8080/"
        },
        "id": "4b6d7576",
        "outputId": "baeb6013-e861-497b-bebe-40c6f704252e"
      },
      "outputs": [
        {
          "output_type": "stream",
          "name": "stdout",
          "text": [
            "182\n"
          ]
        }
      ],
      "source": [
        "def predict_with_network(input_data):\n",
        "    # Calculate node 0 in the first hidden layer\n",
        "    node_0_0_input = (input_data * weights['node_0_0']).sum()\n",
        "    node_0_0_output = relu(node_0_0_input)\n",
        "\n",
        "    # Calculate node 1 in the first hidden layer\n",
        "    node_0_1_input = (input_data * weights['node_0_1']).sum()\n",
        "    node_0_1_output = relu(node_0_1_input)\n",
        "\n",
        "    # Put node values into array: hidden_0_outputs\n",
        "    hidden_0_outputs = np.array([node_0_0_output, node_0_1_output])\n",
        "\n",
        "    # Calculate node 0 in the second hidden layer\n",
        "    node_1_0_input = (hidden_0_outputs * weights['node_1_0']).sum()\n",
        "    node_1_0_output = relu(node_1_0_input)\n",
        "\n",
        "    # Calculate node 1 in the second hidden layer\n",
        "    node_1_1_input = (hidden_0_outputs * weights['node_1_1']).sum()\n",
        "    node_1_1_output = relu(node_1_1_input)\n",
        "\n",
        "    # Put node values into array: hidden_1_outputs\n",
        "    hidden_1_outputs = np.array([node_1_0_output, node_1_1_output])\n",
        "\n",
        "    # Calculate output here: model_output\n",
        "    model_output = (hidden_1_outputs * weights['output']).sum()\n",
        "\n",
        "    # Return model_output\n",
        "    return(model_output)\n",
        "\n",
        "output = predict_with_network(input_data)\n",
        "print(output)"
      ]
    },
    {
      "cell_type": "code",
      "execution_count": null,
      "id": "cf0bea62",
      "metadata": {
        "id": "cf0bea62"
      },
      "outputs": [],
      "source": []
    }
  ],
  "metadata": {
    "kernelspec": {
      "display_name": "Python 3 (ipykernel)",
      "language": "python",
      "name": "python3"
    },
    "language_info": {
      "codemirror_mode": {
        "name": "ipython",
        "version": 3
      },
      "file_extension": ".py",
      "mimetype": "text/x-python",
      "name": "python",
      "nbconvert_exporter": "python",
      "pygments_lexer": "ipython3",
      "version": "3.9.13"
    },
    "colab": {
      "provenance": []
    }
  },
  "nbformat": 4,
  "nbformat_minor": 5
}