{
 "cells": [
  {
   "cell_type": "markdown",
   "id": "69cad9e0",
   "metadata": {},
   "source": [
    "# condition in Python"
   ]
  },
  {
   "cell_type": "code",
   "execution_count": 20,
   "id": "dd9bdc1b",
   "metadata": {},
   "outputs": [
    {
     "name": "stdout",
     "output_type": "stream",
     "text": [
      "What is your age??  21\n",
      "Ok your age is  21\n",
      "Fine, you are Adult\n"
     ]
    }
   ],
   "source": [
    "age=int(input(\"What is your age??  \"))\n",
    "print(\"Ok your age is \",age)\n",
    "if age>18:\n",
    "    print(\"Fine, you are Adult\")"
   ]
  },
  {
   "cell_type": "code",
   "execution_count": 21,
   "id": "52e4dc90",
   "metadata": {},
   "outputs": [
    {
     "name": "stdout",
     "output_type": "stream",
     "text": [
      "What is your age??  15\n",
      "Ok your age is  15\n",
      "Sorry you are not allowed\n"
     ]
    }
   ],
   "source": [
    "age=int(input(\"What is your age??  \"))\n",
    "print(\"Ok your age is \",age)\n",
    "if age>18:\n",
    "    print(\"Fine, you are Adult\")\n",
    "else:\n",
    "    print(\"Sorry you are not allowed\")"
   ]
  },
  {
   "cell_type": "code",
   "execution_count": 24,
   "id": "6217fac3",
   "metadata": {},
   "outputs": [
    {
     "name": "stdout",
     "output_type": "stream",
     "text": [
      "What is your age??  78\n",
      "Ok your age is  78\n",
      "Namaste, you are Senior citizen\n"
     ]
    }
   ],
   "source": [
    "# Customize software or App\n",
    "\n",
    "age=int(input(\"What is your age??  \"))\n",
    "print(\"Ok your age is \",age)\n",
    "if age>18 and age<=60:\n",
    "    print(\"Fine, you are Adult\")\n",
    "elif age>60:\n",
    "    print(\"Namaste, you are Senior citizen\")\n",
    "else:\n",
    "    print(\"Sorry you are not allowed\")"
   ]
  },
  {
   "cell_type": "code",
   "execution_count": 28,
   "id": "f350343e",
   "metadata": {},
   "outputs": [
    {
     "name": "stdout",
     "output_type": "stream",
     "text": [
      "What is your Name??  Kanhahiya\n",
      "Ok your name is  Kanhahiya\n",
      "Fine, you are  Kanhahiya\n"
     ]
    }
   ],
   "source": [
    "\n",
    "name=(input(\"What is your Name??  \"))\n",
    "print(\"Ok your name is \",name)\n",
    "if name=='Kanhahiya':\n",
    "    print(\"Fine, you are \",name)\n",
    "else:\n",
    "    print(\"Sorry you are not allowed to use mobile\")"
   ]
  },
  {
   "cell_type": "code",
   "execution_count": 30,
   "id": "a13bf18d",
   "metadata": {},
   "outputs": [
    {
     "name": "stdout",
     "output_type": "stream",
     "text": [
      "What is your Pin??  5487\n",
      " \n",
      "Sorry you are not allowed to use mobile\n"
     ]
    }
   ],
   "source": [
    "# if pin is 1234, then it should unlock, otherwise locked. \n",
    "\n",
    "pin=int(input(\"What is your Pin??  \"))\n",
    "print(\" \")\n",
    "if pin==1234:\n",
    "    print(\"Ok you are Unlocked\")\n",
    "else:\n",
    "    print(\"Sorry you are not allowed to use mobile\")"
   ]
  },
  {
   "cell_type": "code",
   "execution_count": 32,
   "id": "0f9f9ab1",
   "metadata": {},
   "outputs": [
    {
     "name": "stdout",
     "output_type": "stream",
     "text": [
      "True\n"
     ]
    }
   ],
   "source": [
    "# Exercise 1 - Conditionals\n",
    "# Considering the code below, write code that\n",
    "# prints out True! if x has 50 characters or more.\n",
    "\n",
    "\n",
    "x = \"The days of Python 2 are almost over. Python 3 is the king now.\"\n",
    "if len(x)>=50:\n",
    "    print(True)\n",
    "else:\n",
    "    print(False)\n",
    "\n"
   ]
  },
  {
   "cell_type": "code",
   "execution_count": null,
   "id": "b8f77452",
   "metadata": {},
   "outputs": [],
   "source": []
  },
  {
   "cell_type": "code",
   "execution_count": 56,
   "id": "69882a42",
   "metadata": {},
   "outputs": [
    {
     "name": "stdout",
     "output_type": "stream",
     "text": [
      "False\n"
     ]
    }
   ],
   "source": [
    "# Exercise 2 - Conditionals\n",
    "# Considering the code below, write code that prints out \n",
    "# True! if x is a string and the first character in the string is T.\n",
    "\n",
    "\n",
    "x = \"he days of Python 2 are almost over. Python 3 is the king now.\"\n",
    "\n",
    "if type(x) is str and x.startswith('T') or x.startswith('t'):\n",
    "    print(True)\n",
    "else:\n",
    "    print(False)\n",
    "\n"
   ]
  },
  {
   "cell_type": "code",
   "execution_count": 44,
   "id": "b86fee30",
   "metadata": {},
   "outputs": [
    {
     "name": "stdout",
     "output_type": "stream",
     "text": [
      "True\n"
     ]
    }
   ],
   "source": [
    "# Exercise 3 - Conditionals\n",
    "# Considering the code below, write code\n",
    "# that prints out True! if at least one of the following conditions occurs:\n",
    "\n",
    "# 1. the string contains the character z\n",
    "\n",
    "# 2. the string contains the character y at least twice\n",
    "\n",
    "x = \"The zdays of Python 2 are almost over. Python 3 is the king now.\"\n",
    "\n",
    "if 'z' in x or x.count('y')>1:\n",
    "     print(True)\n",
    "else:\n",
    "    print(False)\n",
    "\n",
    "\n",
    "\n"
   ]
  },
  {
   "cell_type": "code",
   "execution_count": 54,
   "id": "f0368f75",
   "metadata": {},
   "outputs": [
    {
     "name": "stdout",
     "output_type": "stream",
     "text": [
      "True\n"
     ]
    }
   ],
   "source": [
    "# Exercise 4 - Conditionals\n",
    "# Considering the code below, write code that\n",
    "# prints out True! if the index of the first \n",
    "# occurrence of letter f is less than 10 and prints out\n",
    "# False! if the same condition is not satisfied.\n",
    "\n",
    "\n",
    "x = \"The days of Python 2 are almost over. Python 3 is the king now.\"\n",
    "if x.index('f')<10:\n",
    "     print(False)\n",
    "else:\n",
    "    print(True)\n",
    "    \n"
   ]
  },
  {
   "cell_type": "code",
   "execution_count": 52,
   "id": "8d0a5723",
   "metadata": {},
   "outputs": [
    {
     "data": {
      "text/plain": [
       "4"
      ]
     },
     "execution_count": 52,
     "metadata": {},
     "output_type": "execute_result"
    }
   ],
   "source": [
    "\n",
    "x = \"The days of Python 2 are almost over. Python 3 is the king now.\"\n",
    "x.index('d')"
   ]
  },
  {
   "cell_type": "code",
   "execution_count": 61,
   "id": "bbf513ce",
   "metadata": {},
   "outputs": [
    {
     "name": "stdout",
     "output_type": "stream",
     "text": [
      "True\n"
     ]
    }
   ],
   "source": [
    "# Exercise 5 - Conditionals\n",
    "# Considering the code below, write code that prints out True! \n",
    "# if the last 3 characters of the string are all digits and\n",
    "# prints out False! otherwise.\n",
    "\n",
    "# Hint! Use the appropriate method to check if the\n",
    "# requested string slice contains digits only.\n",
    "\n",
    "\n",
    "\n",
    "x = \"The days of Python 2 are almost over. Python 3 is the king now.786\"\n",
    "if x[-3:].isdigit():\n",
    "    print(True)\n",
    "else:\n",
    "    print(False)\n",
    "\n"
   ]
  },
  {
   "cell_type": "code",
   "execution_count": 75,
   "id": "9d7bad8a",
   "metadata": {},
   "outputs": [
    {
     "name": "stdout",
     "output_type": "stream",
     "text": [
      "True\n"
     ]
    }
   ],
   "source": [
    "# Exercise 6 - Conditionals\n",
    "# Considering the code below, write code that prints out True! \n",
    "# if x has at least 8 elements and the element positioned at\n",
    "# index 6 is a floating-point number and prints out False! otherwise.\n",
    "\n",
    "\n",
    "x = [115, 115.9, 116.01, [\"length\", \"width\", \"height\"], 109, 115, 119.5, [\"length\", \"width\", \"height\"]]\n",
    "if len(x)>=8 and type(x[3][2]) == str:\n",
    "    print(True)\n",
    "\n"
   ]
  },
  {
   "cell_type": "code",
   "execution_count": 72,
   "id": "a87d5a39",
   "metadata": {},
   "outputs": [
    {
     "data": {
      "text/plain": [
       "['length', 'width', 'height']"
      ]
     },
     "execution_count": 72,
     "metadata": {},
     "output_type": "execute_result"
    }
   ],
   "source": [
    "x[3]"
   ]
  },
  {
   "cell_type": "code",
   "execution_count": 74,
   "id": "35e6dbe2",
   "metadata": {},
   "outputs": [
    {
     "data": {
      "text/plain": [
       "'height'"
      ]
     },
     "execution_count": 74,
     "metadata": {},
     "output_type": "execute_result"
    }
   ],
   "source": [
    "x[3][2]"
   ]
  },
  {
   "cell_type": "code",
   "execution_count": 83,
   "id": "bf941b99",
   "metadata": {},
   "outputs": [
    {
     "name": "stdout",
     "output_type": "stream",
     "text": [
      "True\n"
     ]
    }
   ],
   "source": [
    "# Exercise 7 - Conditionals\n",
    "# Considering the code below, write code that prints out True! \n",
    "# if the second string of the first list in x ends with the letter h \n",
    "# and the first string of the second list in x also ends with the letter h, \n",
    "# and prints out False! otherwise.\n",
    "\n",
    "\n",
    "x = [115, 115.9, 116.01, [\"length\", \"width\", \"height\"], 109, 115, 119.5, [\"length\", \"width\", \"height\"]]\n",
    "\n",
    "if x[3][1].endswith('h') or x[7][0].endswith('h'):\n",
    "    print(True)"
   ]
  },
  {
   "cell_type": "code",
   "execution_count": 88,
   "id": "3c7958c5",
   "metadata": {},
   "outputs": [
    {
     "name": "stdout",
     "output_type": "stream",
     "text": [
      "True\n"
     ]
    }
   ],
   "source": [
    "# Exercise 8 - Conditionals\n",
    "# Considering the code below, write code that prints out True! \n",
    "# if 115 appears at least Thrice inside the list or \n",
    "# if it is the first element in the list. Otherwise, print out False!\n",
    "\n",
    "x = [450,115, 115.9, 116.01, 109, 119.5, [\"length\", \"width\", \"height\"]]\n",
    "\n",
    "if x.count(115)>=1 or x[0]==115 :\n",
    "    print(True)"
   ]
  },
  {
   "cell_type": "code",
   "execution_count": 87,
   "id": "fd9998fa",
   "metadata": {},
   "outputs": [
    {
     "name": "stdout",
     "output_type": "stream",
     "text": [
      "True\n"
     ]
    }
   ],
   "source": [
    "x = [450,115, 115.9, 116.01, 109, 115, 119.5, [\"length\", \"width\", \"height\"]]\n",
    "\n",
    "if x.count(115)>=1 or x.index(115)==0 :\n",
    "    print(True)"
   ]
  },
  {
   "cell_type": "code",
   "execution_count": null,
   "id": "34d746cb",
   "metadata": {},
   "outputs": [],
   "source": []
  },
  {
   "cell_type": "code",
   "execution_count": null,
   "id": "41046793",
   "metadata": {},
   "outputs": [],
   "source": []
  }
 ],
 "metadata": {
  "kernelspec": {
   "display_name": "Python 3 (ipykernel)",
   "language": "python",
   "name": "python3"
  },
  "language_info": {
   "codemirror_mode": {
    "name": "ipython",
    "version": 3
   },
   "file_extension": ".py",
   "mimetype": "text/x-python",
   "name": "python",
   "nbconvert_exporter": "python",
   "pygments_lexer": "ipython3",
   "version": "3.11.5"
  }
 },
 "nbformat": 4,
 "nbformat_minor": 5
}
