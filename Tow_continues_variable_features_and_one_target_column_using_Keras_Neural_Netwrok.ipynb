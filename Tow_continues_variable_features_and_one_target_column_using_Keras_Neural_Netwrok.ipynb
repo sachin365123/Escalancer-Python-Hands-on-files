{
  "nbformat": 4,
  "nbformat_minor": 0,
  "metadata": {
    "colab": {
      "provenance": []
    },
    "kernelspec": {
      "name": "python3",
      "display_name": "Python 3"
    },
    "language_info": {
      "name": "python"
    }
  },
  "cells": [
    {
      "cell_type": "code",
      "execution_count": 22,
      "metadata": {
        "colab": {
          "base_uri": "https://localhost:8080/"
        },
        "id": "weLDJhzrM6D3",
        "outputId": "e3750edb-b40a-4464-877e-6f355d4c3f5e"
      },
      "outputs": [
        {
          "output_type": "stream",
          "name": "stdout",
          "text": [
            "Epoch 1/10\n",
            "4/4 [==============================] - 1s 5ms/step - loss: 0.7192 - accuracy: 0.2500\n",
            "Epoch 2/10\n",
            "4/4 [==============================] - 0s 5ms/step - loss: 0.7165 - accuracy: 0.2500\n",
            "Epoch 3/10\n",
            "4/4 [==============================] - 0s 4ms/step - loss: 0.7142 - accuracy: 0.2500\n",
            "Epoch 4/10\n",
            "4/4 [==============================] - 0s 5ms/step - loss: 0.7139 - accuracy: 0.2500\n",
            "Epoch 5/10\n",
            "4/4 [==============================] - 0s 5ms/step - loss: 0.7124 - accuracy: 0.2500\n",
            "Epoch 6/10\n",
            "4/4 [==============================] - 0s 4ms/step - loss: 0.7095 - accuracy: 0.5000\n",
            "Epoch 7/10\n",
            "4/4 [==============================] - 0s 4ms/step - loss: 0.7080 - accuracy: 0.5000\n",
            "Epoch 8/10\n",
            "4/4 [==============================] - 0s 6ms/step - loss: 0.7072 - accuracy: 0.5000\n",
            "Epoch 9/10\n",
            "4/4 [==============================] - 0s 6ms/step - loss: 0.7068 - accuracy: 0.5000\n",
            "Epoch 10/10\n",
            "4/4 [==============================] - 0s 5ms/step - loss: 0.7055 - accuracy: 0.5000\n"
          ]
        },
        {
          "output_type": "stream",
          "name": "stderr",
          "text": [
            "WARNING:tensorflow:6 out of the last 6 calls to <function Model.make_predict_function.<locals>.predict_function at 0x7f8e4b45dbd0> triggered tf.function retracing. Tracing is expensive and the excessive number of tracings could be due to (1) creating @tf.function repeatedly in a loop, (2) passing tensors with different shapes, (3) passing Python objects instead of tensors. For (1), please define your @tf.function outside of the loop. For (2), @tf.function has reduce_retracing=True option that can avoid unnecessary retracing. For (3), please refer to https://www.tensorflow.org/guide/function#controlling_retracing and https://www.tensorflow.org/api_docs/python/tf/function for  more details.\n"
          ]
        },
        {
          "output_type": "stream",
          "name": "stdout",
          "text": [
            "Test loss: 0.5554\n",
            "Test accuracy: 1.0000\n",
            "1/1 [==============================] - 0s 77ms/step\n",
            "Predictions:\n",
            "[[0.5080425 ]\n",
            " [0.5309474 ]\n",
            " [0.40860638]]\n"
          ]
        }
      ],
      "source": [
        "import pandas as pd\n",
        "import tensorflow as tf\n",
        "from sklearn.model_selection import train_test_split\n",
        "\n",
        "# Load the dataset from a CSV file\n",
        "data = {\n",
        "    'feature1': [1.2, 2.1, 3.5, 4.0, 5.8],\n",
        "    'feature2': [0.5, 1.1, 2.6, 3.2, 4.9],\n",
        "    'label': [0, 1, 0, 1, 0]\n",
        "}\n",
        "\n",
        "df = pd.DataFrame(data)\n",
        "\n",
        "# Split the dataset into training and testing sets\n",
        "train_df, test_df = train_test_split(df, test_size=0.2)\n",
        "\n",
        "# Prepare the input features and target labels\n",
        "train_features = train_df[['feature1', 'feature2']].values\n",
        "train_labels = train_df['label'].values\n",
        "test_features = test_df[['feature1', 'feature2']].values\n",
        "test_labels = test_df['label'].values\n",
        "\n",
        "# Create the neural network model\n",
        "model = tf.keras.Sequential([\n",
        "    tf.keras.layers.Dense(16, activation='relu', input_shape=(2,)),\n",
        "    tf.keras.layers.Dense(1, activation='sigmoid')\n",
        "])\n",
        "\n",
        "# Compile the model\n",
        "model.compile(optimizer='adam',\n",
        "              loss='binary_crossentropy',\n",
        "              metrics=['accuracy'])\n",
        "\n",
        "# Train the model\n",
        "model.fit(train_features, train_labels, epochs=10, batch_size=1, verbose=1)\n",
        "\n",
        "# Evaluate the model on the testing set\n",
        "loss, accuracy = model.evaluate(test_features, test_labels, verbose=0)\n",
        "print(f'Test loss: {loss:.4f}')\n",
        "print(f'Test accuracy: {accuracy:.4f}')\n",
        "\n",
        "# Make predictions on new data\n",
        "new_data = {\n",
        "    'feature1': [3.2, 5.1, 2.7],\n",
        "    'feature2': [1.8, 2.5, 4.0]\n",
        "}\n",
        "\n",
        "new_df = pd.DataFrame(new_data)\n",
        "predictions = model.predict(new_df.values)\n",
        "print('Predictions:')\n",
        "print(predictions)\n"
      ]
    },
    {
      "cell_type": "code",
      "source": [
        "import pandas as pd\n",
        "import tensorflow as tf\n",
        "from sklearn.model_selection import train_test_split\n",
        "\n",
        "# Load the dataset from a CSV file\n",
        "data = {\n",
        "    'feature1': [1.2, 2.1, 3.5, 4.0, 5.8],\n",
        "    'feature2': [0.5, 1.1, 2.6, 3.2, 4.9],\n",
        "    'label': [0, 1, 0, 1, 0]\n",
        "}\n",
        "\n",
        "df = pd.DataFrame(data)\n",
        "\n",
        "# Split the dataset into training and testing sets\n",
        "train_df, test_df = train_test_split(df, test_size=0.2)\n",
        "\n",
        "# Prepare the input features and target labels\n",
        "train_features = train_df[['feature1', 'feature2']].values\n",
        "train_labels = train_df['label'].values\n",
        "test_features = test_df[['feature1', 'feature2']].values\n",
        "test_labels = test_df['label'].values\n",
        "\n",
        "# Create the neural network model\n",
        "model = tf.keras.Sequential([\n",
        "    tf.keras.layers.Dense(16, activation='relu', input_shape=(2,)),\n",
        "    tf.keras.layers.Dense(1, activation='sigmoid')\n",
        "])\n",
        "\n",
        "# Compile the model\n",
        "model.compile(optimizer='adam',\n",
        "              loss='binary_crossentropy',\n",
        "              metrics=['accuracy'])\n",
        "\n",
        "# Train the model\n",
        "model.fit(train_features, train_labels, epochs=10, batch_size=1, verbose=1)\n",
        "\n",
        "# Evaluate the model on the testing set\n",
        "loss, accuracy = model.evaluate(test_features, test_labels, verbose=0)\n",
        "print(f'Test loss: {loss:.4f}')\n",
        "print(f'Test accuracy: {accuracy:.4f}')\n",
        "\n",
        "# Make predictions on new data\n",
        "new_data = {\n",
        "    'feature1': [3.2, 5.1, 2.7],\n",
        "    'feature2': [1.8, 2.5, 4.0]\n",
        "}\n",
        "\n",
        "new_df = pd.DataFrame(new_data)\n",
        "\n",
        "\n",
        "# Make predictions\n",
        "predictions = model.predict(new_df.values)\n",
        "rounded_predictions = np.round(predictions)\n",
        "print(rounded_predictions)\n"
      ],
      "metadata": {
        "colab": {
          "base_uri": "https://localhost:8080/"
        },
        "id": "7pm848mVS9QD",
        "outputId": "8943ff16-cf42-4d82-9b3d-e9946c130c00"
      },
      "execution_count": 23,
      "outputs": [
        {
          "output_type": "stream",
          "name": "stdout",
          "text": [
            "Epoch 1/10\n",
            "4/4 [==============================] - 1s 4ms/step - loss: 0.6562 - accuracy: 0.7500\n",
            "Epoch 2/10\n",
            "4/4 [==============================] - 0s 4ms/step - loss: 0.6156 - accuracy: 0.7500\n",
            "Epoch 3/10\n",
            "4/4 [==============================] - 0s 4ms/step - loss: 0.5952 - accuracy: 0.7500\n",
            "Epoch 4/10\n",
            "4/4 [==============================] - 0s 4ms/step - loss: 0.5877 - accuracy: 0.7500\n",
            "Epoch 5/10\n",
            "4/4 [==============================] - 0s 4ms/step - loss: 0.5713 - accuracy: 0.7500\n",
            "Epoch 6/10\n",
            "4/4 [==============================] - 0s 4ms/step - loss: 0.5526 - accuracy: 0.7500\n",
            "Epoch 7/10\n",
            "4/4 [==============================] - 0s 4ms/step - loss: 0.5484 - accuracy: 0.7500\n",
            "Epoch 8/10\n",
            "4/4 [==============================] - 0s 4ms/step - loss: 0.5359 - accuracy: 0.7500\n",
            "Epoch 9/10\n",
            "4/4 [==============================] - 0s 4ms/step - loss: 0.5239 - accuracy: 0.7500\n",
            "Epoch 10/10\n",
            "4/4 [==============================] - 0s 5ms/step - loss: 0.5232 - accuracy: 0.7500\n",
            "Test loss: 1.3764\n",
            "Test accuracy: 0.0000\n",
            "1/1 [==============================] - 0s 59ms/step\n",
            "[[0.]\n",
            " [0.]\n",
            " [0.]]\n"
          ]
        }
      ]
    },
    {
      "cell_type": "code",
      "source": [],
      "metadata": {
        "id": "g79xYuKFTNJV"
      },
      "execution_count": null,
      "outputs": []
    },
    {
      "cell_type": "code",
      "source": [],
      "metadata": {
        "id": "WNkNR5OqPRC8"
      },
      "execution_count": 23,
      "outputs": []
    },
    {
      "cell_type": "code",
      "source": [
        "\n",
        "from keras.utils.vis_utils import plot_model\n",
        "\n",
        "\n",
        "plot_model(model, to_file='model.png', show_shapes=True)\n"
      ],
      "metadata": {
        "colab": {
          "base_uri": "https://localhost:8080/",
          "height": 312
        },
        "id": "4gjHZopQNUZ7",
        "outputId": "a9a4e8a0-a065-4fce-a416-9538c7713247"
      },
      "execution_count": 24,
      "outputs": [
        {
          "output_type": "execute_result",
          "data": {
            "image/png": "[encoded data removed]",
            "text/plain": [
              "<IPython.core.display.Image object>"
            ]
          },
          "metadata": {},
          "execution_count": 24
        }
      ]
    },
    {
      "cell_type": "code",
      "source": [
        "# tf.keras.layers.Dense(16, activation='relu', input_shape=(2,))\n",
        "# This line creates a dense layer in the neural network with 16 units.\n",
        "# The Dense layer is a fully connected layer, where each neuron is connected to every neuron in\n",
        "# the previous layer. The activation='relu' argument specifies that the rectified linear unit (ReLU)\n",
        "#  activation function should be applied to the outputs of this layer. ReLU is\n",
        "#  a commonly used activation function that introduces non-linearity into the neural network.\n",
        "\n",
        "# The input_shape=(2,) argument indicates that the layer expects input data with a shape of\n",
        "#  (batch_size, 2), where batch_size represents the number of samples in each batch.\n",
        "#  In this case, the input data should have two features.\n",
        "\n",
        "\n",
        "\n",
        "\n",
        "\n",
        "# ######################################################3\n",
        "# tf.keras.layers.Dense(1, activation='sigmoid')\n",
        "# This line creates the output layer of the neural network with a single neuron.\n",
        "# The Dense layer has 1 unit, which corresponds to the output dimension of the layer.\n",
        "#  In this case, since it's a binary classification problem, we have one output neuron that represents\n",
        "#  the probability of the input belonging to the positive class. The activation='sigmoid' argument applies\n",
        "#  the sigmoid activation function to the output of this layer. The sigmoid function squashes the output\n",
        "#  values between 0 and 1, providing a probability interpretation for binary classification problems.\n",
        "\n",
        "# In summary, the first line creates a hidden layer with 16 neurons and ReLU activation,\n",
        "# while the second line creates the output layer with 1 neuron and sigmoid activation.\n",
        "\n",
        "\n",
        "\n",
        "\n",
        "\n"
      ],
      "metadata": {
        "id": "-ZvxSfD6RBTf"
      },
      "execution_count": 25,
      "outputs": []
    },
    {
      "cell_type": "code",
      "source": [
        "print(model.summary())"
      ],
      "metadata": {
        "colab": {
          "base_uri": "https://localhost:8080/"
        },
        "id": "EwRQhUtEQrVx",
        "outputId": "56ec5d2c-41eb-45c2-f17b-6c9fd825b6be"
      },
      "execution_count": 26,
      "outputs": [
        {
          "output_type": "stream",
          "name": "stdout",
          "text": [
            "Model: \"sequential_11\"\n",
            "_________________________________________________________________\n",
            " Layer (type)                Output Shape              Param #   \n",
            "=================================================================\n",
            " dense_21 (Dense)            (None, 16)                48        \n",
            "                                                                 \n",
            " dense_22 (Dense)            (None, 1)                 17        \n",
            "                                                                 \n",
            "=================================================================\n",
            "Total params: 65\n",
            "Trainable params: 65\n",
            "Non-trainable params: 0\n",
            "_________________________________________________________________\n",
            "None\n"
          ]
        }
      ]
    },
    {
      "cell_type": "code",
      "source": [
        "# Parameters:\n",
        "# number_of_parameters = (number_of_inputs + 1) * number_of_neurons\n",
        "number_of_parameters = (2 + 1) * 8"
      ],
      "metadata": {
        "id": "WnCtrx-mRe-d"
      },
      "execution_count": 18,
      "outputs": []
    },
    {
      "cell_type": "code",
      "source": [
        "number_of_parameters"
      ],
      "metadata": {
        "colab": {
          "base_uri": "https://localhost:8080/"
        },
        "id": "-DbRVcwURzIc",
        "outputId": "e7353002-f065-47c2-dae7-889dfc98f82b"
      },
      "execution_count": 19,
      "outputs": [
        {
          "output_type": "execute_result",
          "data": {
            "text/plain": [
              "24"
            ]
          },
          "metadata": {},
          "execution_count": 19
        }
      ]
    },
    {
      "cell_type": "code",
      "source": [
        "# In this formula, number_of_inputs represents the number of neurons in the previous layer\n",
        "#  (or the input layer for the first hidden layer), and number_of_neurons represents the number\n",
        "#  of neurons in the current layer.\n",
        "\n",
        "# Let's calculate the number of parameters for each layer in the example code you provided:"
      ],
      "metadata": {
        "id": "NNP0v1W7R448"
      },
      "execution_count": 20,
      "outputs": []
    },
    {
      "cell_type": "code",
      "source": [
        "\n",
        "\n",
        "# Calculate number of parameters for each layer\n",
        "for layer in model.layers:\n",
        "    layer_parameters = layer.count_params()\n",
        "    print(f\"Layer {layer.name} has {layer_parameters} parameters.\")\n"
      ],
      "metadata": {
        "colab": {
          "base_uri": "https://localhost:8080/"
        },
        "id": "mYpgV_UlSDWh",
        "outputId": "9575d814-7f80-4d43-f5ae-8c57054833f4"
      },
      "execution_count": 27,
      "outputs": [
        {
          "output_type": "stream",
          "name": "stdout",
          "text": [
            "Layer dense_21 has 48 parameters.\n",
            "Layer dense_22 has 17 parameters.\n"
          ]
        }
      ]
    },
    {
      "cell_type": "code",
      "source": [
        "import pandas as pd\n",
        "from sklearn.model_selection import train_test_split\n",
        "from sklearn.preprocessing import LabelEncoder\n",
        "from keras.models import Sequential\n",
        "from keras.layers import Conv2D, MaxPooling2D, Flatten, Dense\n",
        "\n",
        "# Load the CSV dataset using pandas\n",
        "df = pd.DataFrame({\n",
        "    'feature1': [1.0, 2.0, 3.0, 4.0, 5.0],\n",
        "    'feature2': [2.0, 3.0, 4.0, 5.0, 6.0],\n",
        "    'target': ['A', 'B', 'A', 'B', 'B']\n",
        "})\n",
        "\n",
        "# Preprocess the dataset\n",
        "X = df[['feature1', 'feature2']]\n",
        "y = df['target']\n",
        "encoder = LabelEncoder()\n",
        "y = encoder.fit_transform(y)\n",
        "num_classes = len(encoder.classes_)\n",
        "\n",
        "# Split the dataset into train and test sets\n",
        "X_train, X_test, y_train, y_test = train_test_split(X, y, test_size=0.2, random_state=42)\n",
        "\n",
        "# Reshape the input data\n",
        "input_shape = (X.shape[1],)\n",
        "X_train = X_train.values.reshape(-1, *input_shape)\n",
        "X_test = X_test.values.reshape(-1, *input_shape)\n",
        "\n",
        "# Define the model\n",
        "model = Sequential()\n",
        "model.add(Dense(32, activation='relu', input_shape=input_shape))\n",
        "model.add(Dense(64, activation='relu'))\n",
        "model.add(Dense(num_classes, activation='softmax'))\n",
        "\n",
        "# Compile and train the model\n",
        "model.compile(loss='sparse_categorical_crossentropy', optimizer='adam', metrics=['accuracy'])\n",
        "model.fit(X_train, y_train, epochs=10, batch_size=1, verbose=1)\n",
        "\n",
        "# Evaluate the model\n",
        "loss, accuracy = model.evaluate(X_test, y_test, verbose=0)\n",
        "print('Test loss:', loss)\n",
        "print('Test accuracy:', accuracy)\n"
      ],
      "metadata": {
        "colab": {
          "base_uri": "https://localhost:8080/"
        },
        "id": "j_KhrWMyRgY2",
        "outputId": "a766ddad-06c1-490e-c168-6757c0d7d069"
      },
      "execution_count": 28,
      "outputs": [
        {
          "output_type": "stream",
          "name": "stdout",
          "text": [
            "Epoch 1/10\n",
            "4/4 [==============================] - 1s 5ms/step - loss: 0.9221 - accuracy: 0.5000\n",
            "Epoch 2/10\n",
            "4/4 [==============================] - 0s 5ms/step - loss: 0.8761 - accuracy: 0.5000\n",
            "Epoch 3/10\n",
            "4/4 [==============================] - 0s 5ms/step - loss: 0.7953 - accuracy: 0.5000\n",
            "Epoch 4/10\n",
            "4/4 [==============================] - 0s 4ms/step - loss: 0.7389 - accuracy: 0.5000\n",
            "Epoch 5/10\n",
            "4/4 [==============================] - 0s 5ms/step - loss: 0.6937 - accuracy: 0.5000\n",
            "Epoch 6/10\n",
            "4/4 [==============================] - 0s 5ms/step - loss: 0.6784 - accuracy: 0.5000\n",
            "Epoch 7/10\n",
            "4/4 [==============================] - 0s 5ms/step - loss: 0.6482 - accuracy: 0.5000\n",
            "Epoch 8/10\n",
            "4/4 [==============================] - 0s 4ms/step - loss: 0.6291 - accuracy: 0.5000\n",
            "Epoch 9/10\n",
            "4/4 [==============================] - 0s 5ms/step - loss: 0.6193 - accuracy: 0.5000\n",
            "Epoch 10/10\n",
            "4/4 [==============================] - 0s 4ms/step - loss: 0.6134 - accuracy: 0.5000\n"
          ]
        },
        {
          "output_type": "stream",
          "name": "stderr",
          "text": [
            "WARNING:tensorflow:5 out of the last 5 calls to <function Model.make_test_function.<locals>.test_function at 0x7f8e550b23b0> triggered tf.function retracing. Tracing is expensive and the excessive number of tracings could be due to (1) creating @tf.function repeatedly in a loop, (2) passing tensors with different shapes, (3) passing Python objects instead of tensors. For (1), please define your @tf.function outside of the loop. For (2), @tf.function has reduce_retracing=True option that can avoid unnecessary retracing. For (3), please refer to https://www.tensorflow.org/guide/function#controlling_retracing and https://www.tensorflow.org/api_docs/python/tf/function for  more details.\n"
          ]
        },
        {
          "output_type": "stream",
          "name": "stdout",
          "text": [
            "Test loss: 0.5420396327972412\n",
            "Test accuracy: 1.0\n"
          ]
        }
      ]
    },
    {
      "cell_type": "code",
      "source": [
        "import numpy as np\n",
        "\n",
        "# Define the sample test data\n",
        "test_data = np.array([[3.5, 4.5], [1.2, 2.3], [4.7, 5.9]])\n",
        "\n",
        "# Reshape the test data\n",
        "test_data = test_data.reshape(-1, *input_shape)\n",
        "\n",
        "\n",
        "# Certainly! Let's break down the line of code `test_data = test_data.reshape(-1, *input_shape)`:\n",
        "\n",
        "# In this line, `test_data` refers to the sample test data that you want to evaluate using the trained model.\n",
        "# It is assumed that `test_data` is a NumPy array.\n",
        "\n",
        "# The `reshape()` function in NumPy allows you to change the shape of an array without changing its data.\n",
        "# It takes the new desired shape as an argument.\n",
        "\n",
        "# In the line of code, `input_shape` is a tuple that represents the shape of the input data that the model expects.\n",
        "#  For example, if the model expects input data with shape `(2,)`,\n",
        "# it means it expects input samples with two features.\n",
        "\n",
        "# The `*` operator is used to unpack the elements of the `input_shape` tuple.\n",
        "# So, if `input_shape` is `(2,)`, the `*input_shape` will be equivalent to `2`.\n",
        "\n",
        "# The `reshape()` function is then called on `test_data` with the argument `-1` followed by `*input_shape`.\n",
        "# The `-1` argument is used to infer the size of one dimension based on the size of the other dimensions\n",
        "# and the total number of elements in the array.\n",
        "\n",
        "# By reshaping `test_data` in this way, you ensure that it matches the expected input shape of the model.\n",
        "# The `-1` argument indicates that the size of that dimension is automatically determined based on the\n",
        "# other dimensions and the total number of elements in the array.\n",
        "# The `*input_shape` part unpacks the elements of the `input_shape` tuple to specify the desired shape\n",
        "#  of the remaining dimensions.\n",
        "\n",
        "# Overall, the line of code `test_data = test_data.reshape(-1, *input_shape)`\n",
        "#  reshapes the `test_data` array to match the input shape expected by the model,\n",
        "# allowing you to pass the test data to the model for prediction.\n",
        "\n",
        "# Make predictions on the test data\n",
        "predictions = model.predict(test_data)\n",
        "\n",
        "# Convert predictions to class labels\n",
        "predicted_labels = np.argmax(predictions, axis=1)\n",
        "predicted_classes = encoder.inverse_transform(predicted_labels)\n",
        "\n",
        "# Print the predicted class labels\n",
        "print('Predicted class labels:')\n",
        "print(predicted_classes)\n"
      ],
      "metadata": {
        "colab": {
          "base_uri": "https://localhost:8080/"
        },
        "id": "_Of8l_DjjHYO",
        "outputId": "9afecb35-07e3-464f-9245-754ffef70776"
      },
      "execution_count": 30,
      "outputs": [
        {
          "output_type": "stream",
          "name": "stdout",
          "text": [
            "1/1 [==============================] - 0s 28ms/step\n",
            "Predicted class labels:\n",
            "['B' 'B' 'B']\n"
          ]
        }
      ]
    }
  ]
}