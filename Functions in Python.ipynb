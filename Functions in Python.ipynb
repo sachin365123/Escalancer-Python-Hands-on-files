{
 "cells": [
  {
   "cell_type": "code",
   "execution_count": 6,
   "id": "ec97a774",
   "metadata": {},
   "outputs": [],
   "source": [
    "def sum():\n",
    "    x=int(input(\"Enter your number....\"))\n",
    "    y=int(input(\"Enter your number....\"))\n",
    "    z=x+y\n",
    "    print(z)\n",
    "    "
   ]
  },
  {
   "cell_type": "code",
   "execution_count": 12,
   "id": "b496936e",
   "metadata": {},
   "outputs": [],
   "source": [
    "def sum(t):\n",
    "    print(t*25)"
   ]
  },
  {
   "cell_type": "code",
   "execution_count": 13,
   "id": "4db81d61",
   "metadata": {},
   "outputs": [
    {
     "name": "stdout",
     "output_type": "stream",
     "text": [
      "500\n"
     ]
    }
   ],
   "source": [
    "# calling the function\n",
    "sum(20)"
   ]
  },
  {
   "cell_type": "code",
   "execution_count": 5,
   "id": "d9d4380a",
   "metadata": {},
   "outputs": [
    {
     "data": {
      "text/plain": [
       "62"
      ]
     },
     "execution_count": 5,
     "metadata": {},
     "output_type": "execute_result"
    }
   ],
   "source": [
    "15+47"
   ]
  },
  {
   "cell_type": "code",
   "execution_count": null,
   "id": "20a02cbe",
   "metadata": {},
   "outputs": [],
   "source": [
    "# Q.1. Implement a function called my_func() \n",
    "# that simply prints out Hello Python! \n",
    "# to the screen and call the function."
   ]
  },
  {
   "cell_type": "code",
   "execution_count": 8,
   "id": "b77f5dc9",
   "metadata": {},
   "outputs": [],
   "source": [
    "def my_func():\n",
    "    print(\"Hello Python!\")"
   ]
  },
  {
   "cell_type": "code",
   "execution_count": 9,
   "id": "80bcb2dd",
   "metadata": {},
   "outputs": [
    {
     "name": "stdout",
     "output_type": "stream",
     "text": [
      "Hello Python!\n"
     ]
    }
   ],
   "source": [
    "my_func()"
   ]
  },
  {
   "cell_type": "code",
   "execution_count": 10,
   "id": "9855f82e",
   "metadata": {},
   "outputs": [
    {
     "name": "stdout",
     "output_type": "stream",
     "text": [
      "70\n"
     ]
    }
   ],
   "source": [
    "# Q.2. \n",
    "# Implement a function called my_func() \n",
    "# that takes a single parameter x and \n",
    "# multiplies it with 10, \n",
    "# also returning the result when the function is called.\n",
    "\n",
    "def my_func(x):\n",
    "    x*=10  #     x=x*10\n",
    "    return x\n",
    "    \n",
    "\n",
    "\n",
    "result = my_func(7)\n",
    "print(result)"
   ]
  },
  {
   "cell_type": "code",
   "execution_count": 11,
   "id": "d5536449",
   "metadata": {},
   "outputs": [
    {
     "name": "stdout",
     "output_type": "stream",
     "text": [
      "2.0\n"
     ]
    }
   ],
   "source": [
    "# Q.3. Implement a function called my_func() \n",
    "# that takes two parameters x and y and \n",
    "# divides x by y, also returning the result \n",
    "# when the function is called.\n",
    "\n",
    "def my_func(x,y):\n",
    "    return x/y\n",
    "\n",
    "\n",
    "result = my_func(38,19)\n",
    "print(result)"
   ]
  },
  {
   "cell_type": "code",
   "execution_count": 19,
   "id": "88fb2271",
   "metadata": {},
   "outputs": [
    {
     "name": "stdout",
     "output_type": "stream",
     "text": [
      "[25, 50, 75, 100, 125, 150, 175, 200, 225, 250]\n"
     ]
    }
   ],
   "source": [
    "# Q.4. Implement a function called my_func() that takes\n",
    "# a single parameter x and multiplies it with \n",
    "# each element of range(5), also adding each\n",
    "# multiplication result to a new (initially empty) \n",
    "# list called my_new_list. Finally, the list should\n",
    "# be printed out to the screen after the function is called.\n",
    "\n",
    "def my_func(x):\n",
    "    my_new_list = [x * i for i in range(1,11)]\n",
    "    return my_new_list\n",
    "\n",
    "result = my_func(25)\n",
    "print(result)"
   ]
  },
  {
   "cell_type": "code",
   "execution_count": 15,
   "id": "af5821f7",
   "metadata": {},
   "outputs": [
    {
     "name": "stdout",
     "output_type": "stream",
     "text": [
      "[0, 2, 4, 6, 8]\n"
     ]
    }
   ],
   "source": [
    "def my_func(x):\n",
    "    my_new_list = []\n",
    "    for i in range(5):\n",
    "        my_new_list.append(i * x)\n",
    "    return my_new_list\n",
    " \n",
    "result = my_func(2)\n",
    "print(result)"
   ]
  },
  {
   "cell_type": "code",
   "execution_count": 20,
   "id": "015e2468",
   "metadata": {},
   "outputs": [
    {
     "name": "stdout",
     "output_type": "stream",
     "text": [
      "[11, 12, 13, 15, 16, 18, 20, 22]\n"
     ]
    }
   ],
   "source": [
    "# Q.5. Implement a function called my_func()\n",
    "# that takes a single parameter x (a list) \n",
    "# and eliminates all duplicates from the list,\n",
    "# also returning the result when the function is called.\n",
    "\n",
    "def my_func(x):\n",
    "    return list(set(x))\n",
    "\n",
    "result = my_func([11, 12, 13, 11, 15, 18, 18, 22, 20, 16, 12])\n",
    "print(result)"
   ]
  },
  {
   "cell_type": "code",
   "execution_count": 32,
   "id": "3f3b7eb1",
   "metadata": {},
   "outputs": [
    {
     "name": "stdout",
     "output_type": "stream",
     "text": [
      "72\n"
     ]
    }
   ],
   "source": [
    "# Q.6. \n",
    "# Implement a function called my_func() \n",
    "# that takes a single parameter x (a dictionary) \n",
    "# and multiplies the number of elements in the \n",
    "# dictionary with the largest key in the dictionary, \n",
    "# also returning the result when the function is called.\n",
    "\n",
    "def my_func(x):\n",
    "    return len(x)*sorted(x.keys())[-1]\n",
    "\n",
    "result = my_func({1: 3, 2: 3, 4: 5, 5: 9, 6: 8, 3: 7, 7: 0,9:1})\n",
    "print(result)"
   ]
  },
  {
   "cell_type": "code",
   "execution_count": 37,
   "id": "2a30f563",
   "metadata": {},
   "outputs": [
    {
     "data": {
      "text/plain": [
       "25"
      ]
     },
     "execution_count": 37,
     "metadata": {},
     "output_type": "execute_result"
    }
   ],
   "source": [
    "t={1: 3, 2: 3, 4: 5, 5: 9,25:8, 6: 8, 3: 7, 7: 0,9:1,15:7}\n",
    "max(t)"
   ]
  },
  {
   "cell_type": "code",
   "execution_count": 44,
   "id": "22b25ae9",
   "metadata": {},
   "outputs": [
    {
     "name": "stdout",
     "output_type": "stream",
     "text": [
      "600\n"
     ]
    }
   ],
   "source": [
    "# Q.7. Implement a function called my_func() \n",
    "# that takes a single positional parameter x \n",
    "# and two default parameters y and z which \n",
    "# are equal to 100 and 200 respectively, \n",
    "# and adds them together, also returning the \n",
    "# result when the function is called.\n",
    "\n",
    "def gst(x=100, roi=25):\n",
    "#     18% 25% 5% 10%\n",
    "    return (1+year)**time\n",
    "\n",
    "result = my_func()\n",
    "print(result)"
   ]
  },
  {
   "cell_type": "code",
   "execution_count": 48,
   "id": "d3dad365",
   "metadata": {},
   "outputs": [
    {
     "name": "stdout",
     "output_type": "stream",
     "text": [
      "Enter your amount....750\n",
      "Rate of Interest...2\n",
      "1502.0\n"
     ]
    }
   ],
   "source": [
    "def gst(amout, roi):\n",
    "    \n",
    "    return (1+amout)*roi\n",
    "\n",
    "amount=float(input(\"Enter your amount....\"))\n",
    "roi=int(input(\"Rate of Interest...\"))\n",
    "result = gst(amount,roi)\n",
    "\n",
    "print(result)"
   ]
  },
  {
   "cell_type": "code",
   "execution_count": 54,
   "id": "d47ef0ff",
   "metadata": {},
   "outputs": [
    {
     "name": "stdout",
     "output_type": "stream",
     "text": [
      "210\n"
     ]
    }
   ],
   "source": [
    "# Q.8. Implement a function called my_func() \n",
    "# that takes a positional parameter x and \n",
    "# a variable-length tuple of parameters and \n",
    "# returns the result of multiplying x with \n",
    "# the second element in the tuple, also \n",
    "# returning the result when the function is called.\n",
    "\n",
    "def my_func(x,*args):\n",
    "    return x*args[3]\n",
    "# x=7\n",
    "# args=(10, 20, 30, 50,60,84,15)\n",
    "# args[3]=50\n",
    "# 7*50\n",
    "\n",
    "result = my_func(7, 10, 20,20, 30, 50,60,84,15,20, 30, 50,60,84,15)\n",
    "print(result)"
   ]
  },
  {
   "cell_type": "code",
   "execution_count": 57,
   "id": "de9af225",
   "metadata": {},
   "outputs": [
    {
     "data": {
      "text/plain": [
       "56"
      ]
     },
     "execution_count": 57,
     "metadata": {},
     "output_type": "execute_result"
    }
   ],
   "source": [
    "# Q.9. Add the correct line(s) of \n",
    "# code inside the function in order \n",
    "# to get 200 as a result of calling \n",
    "# my_func() and have the result printed out to the screen.\n",
    "\n",
    "var = 8\n",
    "\n",
    "def my_func(x):\n",
    "    return x*var\n",
    "\t\n",
    "\t\n",
    "my_func(7)"
   ]
  },
  {
   "cell_type": "code",
   "execution_count": 60,
   "id": "18edc299",
   "metadata": {},
   "outputs": [
    {
     "name": "stdout",
     "output_type": "stream",
     "text": [
      "120\n"
     ]
    }
   ],
   "source": [
    "# Q.10. Make the necessary adjustment \n",
    "# inside the function in order to get \n",
    "# 120 as a result of calling my_func() \n",
    "# and have the result printed out to the screen.\n",
    "\n",
    "def my_func(x):\n",
    "    var = 12\n",
    "    print(x * var)\n",
    "\t\n",
    "\t\n",
    "my_func(10)"
   ]
  },
  {
   "cell_type": "code",
   "execution_count": 73,
   "id": "d1a7d1b4",
   "metadata": {},
   "outputs": [
    {
     "name": "stdout",
     "output_type": "stream",
     "text": [
      "8\n",
      "50\n",
      "50\n",
      "5\n"
     ]
    }
   ],
   "source": [
    "# Q.11. Add the necessary line of code inside \n",
    "# the function in order to get 80 \n",
    "# as a result of calling my_func() \n",
    "# and have the result printed out to the screen.\n",
    "\n",
    "var = 8\n",
    "print(var)\n",
    "def my_func(x):\n",
    "    global var\n",
    "    print(x * var)\n",
    "#     global var \n",
    "    print(x * var)\n",
    "\n",
    "var=5\n",
    "my_func(10)\n",
    "print(var)"
   ]
  },
  {
   "cell_type": "code",
   "execution_count": null,
   "id": "e4f20b0c",
   "metadata": {},
   "outputs": [],
   "source": [
    "Q.12. Write code that will import only the pi variable \n",
    "from the math module and then it will format it \n",
    "in order to have only 4 digits after the floating point.\n",
    "Of course, \n",
    "print out the result to the screen using the print() function."
   ]
  },
  {
   "cell_type": "code",
   "execution_count": 75,
   "id": "21243628",
   "metadata": {},
   "outputs": [
    {
     "name": "stdout",
     "output_type": "stream",
     "text": [
      "3.1416\n"
     ]
    }
   ],
   "source": [
    "from math import pi\n",
    "print('%.4f'%pi)"
   ]
  }
 ],
 "metadata": {
  "kernelspec": {
   "display_name": "Python 3 (ipykernel)",
   "language": "python",
   "name": "python3"
  },
  "language_info": {
   "codemirror_mode": {
    "name": "ipython",
    "version": 3
   },
   "file_extension": ".py",
   "mimetype": "text/x-python",
   "name": "python",
   "nbconvert_exporter": "python",
   "pygments_lexer": "ipython3",
   "version": "3.11.5"
  }
 },
 "nbformat": 4,
 "nbformat_minor": 5
}
