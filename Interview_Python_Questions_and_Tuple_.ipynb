{
  "nbformat": 4,
  "nbformat_minor": 0,
  "metadata": {
    "colab": {
      "provenance": []
    },
    "kernelspec": {
      "name": "python3",
      "display_name": "Python 3"
    },
    "language_info": {
      "name": "python"
    }
  },
  "cells": [
    {
      "cell_type": "markdown",
      "source": [
        "#Interview Python Questions.ipynb"
      ],
      "metadata": {
        "id": "QLsnyv1D4-sJ"
      }
    },
    {
      "cell_type": "markdown",
      "source": [
        "##Question 1. Find the Missing Number"
      ],
      "metadata": {
        "id": "wo40quqg5B7r"
      }
    },
    {
      "cell_type": "code",
      "execution_count": 2,
      "metadata": {
        "id": "DCLvsbwX4Kvo"
      },
      "outputs": [],
      "source": [
        "my_list = [1, 2, 3, 4, 5, 6, 7, 8, 9, 10, 11, 12, 13, 14,\n",
        "           15, 16, 17, 18, 19, 20, 21, 22, 23, 24,\n",
        "           25, 26, 27, 28, 29, 30, 31, 32, 33, 34,\n",
        "           35, 36, 37, 38, 39, 40, 41, 42, 43, 44,\n",
        "           45, 46, 47, 48, 49, 50, 51, 52, 53, 54,\n",
        "           55, 56, 57, 58, 59, 60, 61, 62, 63, 64,\n",
        "           65, 66, 67, 68, 69, 70, 71, 72, 74, 75,\n",
        "           76, 77, 78, 79,\n",
        "           80, 81, 82, 83, 84, 85, 86, 87, 88, 89,\n",
        "           90, 91, 92, 93, 94, 95, 96, 97, 98, 99, 100]"
      ]
    },
    {
      "cell_type": "code",
      "source": [
        "my_list = [1, 2, 3, 4, 5, 6, 7, 9, 10]"
      ],
      "metadata": {
        "id": "8n5g7NQO6DUU"
      },
      "execution_count": 5,
      "outputs": []
    },
    {
      "cell_type": "code",
      "source": [
        "# // is used for Floor division\n",
        "n=10\n",
        "total = n * (n + 1) // 2\n",
        "print(total)"
      ],
      "metadata": {
        "colab": {
          "base_uri": "https://localhost:8080/"
        },
        "id": "mLVrCSJf6HjM",
        "outputId": "d5b9caee-8c92-4ade-946f-59b8396cadf5"
      },
      "execution_count": 12,
      "outputs": [
        {
          "output_type": "stream",
          "name": "stdout",
          "text": [
            "55\n"
          ]
        }
      ]
    },
    {
      "cell_type": "code",
      "source": [
        "my_list"
      ],
      "metadata": {
        "colab": {
          "base_uri": "https://localhost:8080/"
        },
        "id": "jbJPVLZc6s-V",
        "outputId": "d1f27797-e984-4e3e-e1b7-8a0a36d763e6"
      },
      "execution_count": 13,
      "outputs": [
        {
          "output_type": "execute_result",
          "data": {
            "text/plain": [
              "[1, 2, 3, 4, 5, 6, 7, 9, 10]"
            ]
          },
          "metadata": {},
          "execution_count": 13
        }
      ]
    },
    {
      "cell_type": "code",
      "source": [
        "sum(my_list)"
      ],
      "metadata": {
        "colab": {
          "base_uri": "https://localhost:8080/"
        },
        "id": "pikTHG3A6vGU",
        "outputId": "c912c245-fbed-4a35-dcad-bfb31a53b626"
      },
      "execution_count": 14,
      "outputs": [
        {
          "output_type": "execute_result",
          "data": {
            "text/plain": [
              "47"
            ]
          },
          "metadata": {},
          "execution_count": 14
        }
      ]
    },
    {
      "cell_type": "code",
      "source": [
        "55-47"
      ],
      "metadata": {
        "colab": {
          "base_uri": "https://localhost:8080/"
        },
        "id": "8MYd73jh61-O",
        "outputId": "128a2eab-3ebf-4f19-f26e-0c2eb790c71f"
      },
      "execution_count": 15,
      "outputs": [
        {
          "output_type": "execute_result",
          "data": {
            "text/plain": [
              "8"
            ]
          },
          "metadata": {},
          "execution_count": 15
        }
      ]
    },
    {
      "cell_type": "code",
      "source": [
        "111//2"
      ],
      "metadata": {
        "colab": {
          "base_uri": "https://localhost:8080/"
        },
        "id": "aVwBuMjD6Ssc",
        "outputId": "8d4e3423-514d-4d59-f591-b232d02f6b3b"
      },
      "execution_count": 10,
      "outputs": [
        {
          "output_type": "execute_result",
          "data": {
            "text/plain": [
              "55"
            ]
          },
          "metadata": {},
          "execution_count": 10
        }
      ]
    },
    {
      "cell_type": "code",
      "source": [
        "def missing_nuber(arr, n):\n",
        "  # Calculate the sum of first n natural numbers\n",
        "    total = n * (n + 1) // 2\n",
        "\n",
        "    # Calculate the sum of numbers in the array\n",
        "    sum_arr = sum(arr)\n",
        "\n",
        "    # Find the missing number by subtracting sum_arr from total\n",
        "    missing = total - sum_arr\n",
        "\n",
        "    return missing\n",
        "\n",
        "\n",
        "\n",
        "\n",
        "\n"
      ],
      "metadata": {
        "id": "Lbeqe1c95aGj"
      },
      "execution_count": 3,
      "outputs": []
    },
    {
      "cell_type": "markdown",
      "source": [
        "##Question 2: Find a number in List\n"
      ],
      "metadata": {
        "id": "WUIV0ELu6_-1"
      }
    },
    {
      "cell_type": "code",
      "source": [
        "import numpy as np\n",
        "my_array = np.array([1, 2, 3, 4, 5, 6, 7, 8, 9, 10, 11, 12, 13, 14, 15, 16, 17, 18, 19, 20])\n",
        "\n",
        "number=15\n"
      ],
      "metadata": {
        "id": "b3Pc2Ypx6_er"
      },
      "execution_count": 16,
      "outputs": []
    },
    {
      "cell_type": "code",
      "source": [
        "def find_number(arr, number):\n",
        "  for i in range(len(arr)):\n",
        "    if arr[i]==number:\n",
        "      print(i)\n",
        ""
      ],
      "metadata": {
        "id": "2ziuGJzq7P5K"
      },
      "execution_count": 17,
      "outputs": []
    },
    {
      "cell_type": "code",
      "source": [
        "find_number(my_array, number)"
      ],
      "metadata": {
        "colab": {
          "base_uri": "https://localhost:8080/"
        },
        "id": "GI0p9L707kiP",
        "outputId": "49b4a54d-17b1-47dd-a6bc-d2f816690a73"
      },
      "execution_count": 18,
      "outputs": [
        {
          "output_type": "stream",
          "name": "stdout",
          "text": [
            "14\n"
          ]
        }
      ]
    },
    {
      "cell_type": "markdown",
      "source": [
        "#Tuple"
      ],
      "metadata": {
        "id": "1jxaFzfj8Pfl"
      }
    },
    {
      "cell_type": "markdown",
      "source": [
        "##  How to create a Tuple?\n"
      ],
      "metadata": {
        "id": "Sbb6UYQO8TE0"
      }
    },
    {
      "cell_type": "code",
      "source": [
        "newTuple = ('a', 'b', 'c', 'd', 'e')\n"
      ],
      "metadata": {
        "id": "1OBucbii7qiN"
      },
      "execution_count": 19,
      "outputs": []
    },
    {
      "cell_type": "code",
      "source": [
        "type(newTuple)"
      ],
      "metadata": {
        "colab": {
          "base_uri": "https://localhost:8080/"
        },
        "id": "mDIL_43784pX",
        "outputId": "cd5f418f-ca6c-47d5-fc16-345e45cfa6f2"
      },
      "execution_count": 22,
      "outputs": [
        {
          "output_type": "execute_result",
          "data": {
            "text/plain": [
              "tuple"
            ]
          },
          "metadata": {},
          "execution_count": 22
        }
      ]
    },
    {
      "cell_type": "code",
      "source": [
        "my_tuple=(1)\n",
        "type(my_tuple)"
      ],
      "metadata": {
        "colab": {
          "base_uri": "https://localhost:8080/"
        },
        "id": "HD3sStiE8fVN",
        "outputId": "2c34ed62-0c41-478e-f632-f7f688e18701"
      },
      "execution_count": 23,
      "outputs": [
        {
          "output_type": "execute_result",
          "data": {
            "text/plain": [
              "int"
            ]
          },
          "metadata": {},
          "execution_count": 23
        }
      ]
    },
    {
      "cell_type": "code",
      "source": [
        "my_tuple=(1,)\n",
        "type(my_tuple)"
      ],
      "metadata": {
        "colab": {
          "base_uri": "https://localhost:8080/"
        },
        "id": "j1zn2ia79C-V",
        "outputId": "dad0fe97-5184-4352-aaa0-bb0ed68a9aff"
      },
      "execution_count": 24,
      "outputs": [
        {
          "output_type": "execute_result",
          "data": {
            "text/plain": [
              "tuple"
            ]
          },
          "metadata": {},
          "execution_count": 24
        }
      ]
    },
    {
      "cell_type": "code",
      "source": [
        "newTuple1 = tuple('abcde')"
      ],
      "metadata": {
        "id": "IYnT42dN8Xvc"
      },
      "execution_count": 20,
      "outputs": []
    },
    {
      "cell_type": "code",
      "source": [
        "newTuple1"
      ],
      "metadata": {
        "colab": {
          "base_uri": "https://localhost:8080/"
        },
        "id": "L86a1glx8bF9",
        "outputId": "70917c44-e51c-4f1d-cb40-9d1dcdc96265"
      },
      "execution_count": 21,
      "outputs": [
        {
          "output_type": "execute_result",
          "data": {
            "text/plain": [
              "('a', 'b', 'c', 'd', 'e')"
            ]
          },
          "metadata": {},
          "execution_count": 21
        }
      ]
    },
    {
      "cell_type": "markdown",
      "source": [
        "# Access Tuple elements"
      ],
      "metadata": {
        "id": "t7FQJFLp9Yuy"
      }
    },
    {
      "cell_type": "code",
      "source": [
        "print(newTuple[0])"
      ],
      "metadata": {
        "colab": {
          "base_uri": "https://localhost:8080/"
        },
        "id": "Uyfc3wLA9ZjU",
        "outputId": "0c3fdb44-0764-4444-b768-8f054a92532d"
      },
      "execution_count": 25,
      "outputs": [
        {
          "output_type": "stream",
          "name": "stdout",
          "text": [
            "a\n"
          ]
        }
      ]
    },
    {
      "cell_type": "markdown",
      "source": [
        "#  Traverse through tuple"
      ],
      "metadata": {
        "id": "B3UiXY4C9l4p"
      }
    },
    {
      "cell_type": "code",
      "source": [
        "for i in newTuple:\n",
        "    print(i)"
      ],
      "metadata": {
        "colab": {
          "base_uri": "https://localhost:8080/"
        },
        "id": "VIodLlDV9mmU",
        "outputId": "9e1acf3f-5ca9-461f-f33e-71f7f4afd5b5"
      },
      "execution_count": 26,
      "outputs": [
        {
          "output_type": "stream",
          "name": "stdout",
          "text": [
            "a\n",
            "b\n",
            "c\n",
            "d\n",
            "e\n"
          ]
        }
      ]
    },
    {
      "cell_type": "code",
      "source": [
        "for index in range(len(newTuple)):\n",
        "    print(newTuple[index])"
      ],
      "metadata": {
        "colab": {
          "base_uri": "https://localhost:8080/"
        },
        "id": "SmTyNqK99sfs",
        "outputId": "8dc59280-0960-42f8-866b-37b4eb5ed69e"
      },
      "execution_count": 27,
      "outputs": [
        {
          "output_type": "stream",
          "name": "stdout",
          "text": [
            "a\n",
            "b\n",
            "c\n",
            "d\n",
            "e\n"
          ]
        }
      ]
    },
    {
      "cell_type": "markdown",
      "source": [
        "#  How to search for an element in Tuple?"
      ],
      "metadata": {
        "id": "iMFXMf-89qrB"
      }
    },
    {
      "cell_type": "code",
      "source": [
        "print('a' in newTuple)\n"
      ],
      "metadata": {
        "colab": {
          "base_uri": "https://localhost:8080/"
        },
        "id": "8LeQKKCY9yhE",
        "outputId": "b460d777-e5ea-4743-f1ba-c75e6a1e3a62"
      },
      "execution_count": 28,
      "outputs": [
        {
          "output_type": "stream",
          "name": "stdout",
          "text": [
            "True\n"
          ]
        }
      ]
    },
    {
      "cell_type": "code",
      "source": [
        "def searchInTuple(pTuple, element):\n",
        "    for i in pTuple:\n",
        "      if i == element:\n",
        "        return pTuple.index(i)\n",
        "\n",
        "    return 'The element does not exist'\n",
        "\n",
        "\n"
      ],
      "metadata": {
        "id": "O64rFseT94uD"
      },
      "execution_count": 29,
      "outputs": []
    },
    {
      "cell_type": "code",
      "source": [
        "print(searchInTuple(newTuple, 'c'))"
      ],
      "metadata": {
        "colab": {
          "base_uri": "https://localhost:8080/"
        },
        "id": "l_yYaZ7Q-Gdn",
        "outputId": "b7151cd5-535a-4d0b-d2b0-f9da4306ff75"
      },
      "execution_count": 31,
      "outputs": [
        {
          "output_type": "stream",
          "name": "stdout",
          "text": [
            "2\n"
          ]
        }
      ]
    },
    {
      "cell_type": "markdown",
      "source": [
        "# Tuple Operations / Functions"
      ],
      "metadata": {
        "id": "Oq4Lck9Q-N-I"
      }
    },
    {
      "cell_type": "code",
      "source": [
        "myTuple = (1,4,3,2,5)\n",
        "myTuple1 = (1,2,6,9,8,7)"
      ],
      "metadata": {
        "id": "1R9ekYlz-LKT"
      },
      "execution_count": 32,
      "outputs": []
    },
    {
      "cell_type": "code",
      "source": [
        "print(myTuple + myTuple1)"
      ],
      "metadata": {
        "colab": {
          "base_uri": "https://localhost:8080/"
        },
        "id": "0oYA3quD-Rb2",
        "outputId": "851bb963-ac26-4399-8217-0f87b9629a8e"
      },
      "execution_count": 33,
      "outputs": [
        {
          "output_type": "stream",
          "name": "stdout",
          "text": [
            "(1, 4, 3, 2, 5, 1, 2, 6, 9, 8, 7)\n"
          ]
        }
      ]
    },
    {
      "cell_type": "code",
      "source": [
        "print(myTuple * 4)"
      ],
      "metadata": {
        "colab": {
          "base_uri": "https://localhost:8080/"
        },
        "id": "8O22T5cn-tAS",
        "outputId": "32701be1-f855-48d0-8803-6d513cd77248"
      },
      "execution_count": 34,
      "outputs": [
        {
          "output_type": "stream",
          "name": "stdout",
          "text": [
            "(1, 4, 3, 2, 5, 1, 4, 3, 2, 5, 1, 4, 3, 2, 5, 1, 4, 3, 2, 5)\n"
          ]
        }
      ]
    },
    {
      "cell_type": "code",
      "source": [
        "myTuple1 = (1,2,6,9,8,7,4,1,2,1,2,1,1,1)"
      ],
      "metadata": {
        "id": "3eL_Eo3d-3sb"
      },
      "execution_count": 39,
      "outputs": []
    },
    {
      "cell_type": "code",
      "source": [
        "myTuple1.count(1)\n"
      ],
      "metadata": {
        "colab": {
          "base_uri": "https://localhost:8080/"
        },
        "id": "swsDpdTl-zOe",
        "outputId": "8b349960-6bf7-4810-cfed-3d4bb70a635a"
      },
      "execution_count": 40,
      "outputs": [
        {
          "output_type": "execute_result",
          "data": {
            "text/plain": [
              "6"
            ]
          },
          "metadata": {},
          "execution_count": 40
        }
      ]
    },
    {
      "cell_type": "code",
      "source": [
        "myTuple1.index(9)"
      ],
      "metadata": {
        "colab": {
          "base_uri": "https://localhost:8080/"
        },
        "id": "CTrgHqj0_DgA",
        "outputId": "390c873f-8451-467b-8cc0-f37d5a7ce389"
      },
      "execution_count": 42,
      "outputs": [
        {
          "output_type": "execute_result",
          "data": {
            "text/plain": [
              "3"
            ]
          },
          "metadata": {},
          "execution_count": 42
        }
      ]
    },
    {
      "cell_type": "markdown",
      "source": [
        "# Tuple Interview Questions\n",
        "\n",
        "\n",
        "\n",
        "# Q-1. What will be the output of the following code block?\n"
      ],
      "metadata": {
        "id": "24g-NZpf_hde"
      }
    },
    {
      "cell_type": "code",
      "source": [
        "sachin_tuple = ()\n",
        "print (sachin_tuple.__len__())\n",
        "# A. None\n",
        "# B.  1\n",
        "# C. 0\n",
        "# D. Exception"
      ],
      "metadata": {
        "colab": {
          "base_uri": "https://localhost:8080/"
        },
        "id": "VQtzXHMa_iOy",
        "outputId": "458fbdcc-eb8e-45c1-b000-86d776be6b37"
      },
      "execution_count": 44,
      "outputs": [
        {
          "output_type": "stream",
          "name": "stdout",
          "text": [
            "3\n"
          ]
        }
      ]
    },
    {
      "cell_type": "markdown",
      "source": [
        "\n",
        "# Q-2. What will be the output of the following code block?"
      ],
      "metadata": {
        "id": "n0e0_rNuAEWH"
      }
    },
    {
      "cell_type": "code",
      "source": [
        "anuj_tuple_a = 'a', 'b'\n",
        "jyoti_tuple_b = ('a', 'b')\n",
        "\n",
        "print (anuj_tuple_a == jyoti_tuple_b)\n",
        "# A. 0\n",
        "# B.  1\n",
        "# C. False\n",
        "# D. True"
      ],
      "metadata": {
        "colab": {
          "base_uri": "https://localhost:8080/"
        },
        "id": "lVd-PRRY_9wh",
        "outputId": "ad018358-212d-47b9-cbdd-868508afc3d2"
      },
      "execution_count": 47,
      "outputs": [
        {
          "output_type": "stream",
          "name": "stdout",
          "text": [
            "True\n"
          ]
        }
      ]
    },
    {
      "cell_type": "code",
      "source": [
        "init_tuple_a = 'a', 'b'\n",
        "print(type(init_tuple_a))"
      ],
      "metadata": {
        "colab": {
          "base_uri": "https://localhost:8080/"
        },
        "id": "n_Dcmf_tAZpQ",
        "outputId": "ca0651d9-b397-4e2d-a065-6c6829c5c302"
      },
      "execution_count": 45,
      "outputs": [
        {
          "output_type": "stream",
          "name": "stdout",
          "text": [
            "<class 'tuple'>\n"
          ]
        }
      ]
    },
    {
      "cell_type": "markdown",
      "source": [
        "# Q-3. What will be the output of the following code block?\n"
      ],
      "metadata": {
        "id": "cbUcmefiAvzN"
      }
    },
    {
      "cell_type": "code",
      "source": [
        "init_tuple_a = '1', '2'\n",
        "init_tuple_b = ('3', '4')\n",
        "\n",
        "print (init_tuple_a + init_tuple_b)\n",
        "# A. (1, 2, 3, 4)\n",
        "# B.  (‘1’, ‘2’, ‘3’, ‘4’)\n",
        "# C. [‘1’, ‘2’, ‘3’, ‘4’]\n",
        "# D. None"
      ],
      "metadata": {
        "colab": {
          "base_uri": "https://localhost:8080/"
        },
        "id": "n21qNjXqAcuE",
        "outputId": "2b40467c-0126-4130-9cce-501df9c6a5d3"
      },
      "execution_count": 48,
      "outputs": [
        {
          "output_type": "stream",
          "name": "stdout",
          "text": [
            "('1', '2', '3', '4')\n"
          ]
        }
      ]
    },
    {
      "cell_type": "markdown",
      "source": [
        "# Q-4. What will be the output of the following code block?"
      ],
      "metadata": {
        "id": "Zv2lEBe4BGSq"
      }
    },
    {
      "cell_type": "code",
      "source": [
        "init_tuple_a = 1, 2\n",
        "init_tuple_b = (3, 4)\n",
        "\n",
        "[print(sum(x)) for x in [init_tuple_a + init_tuple_b]]\n",
        "# A. Nothing gets printed.\n",
        "# B.  4\n",
        "# C. 10\n",
        "# D. TypeError: unsupported operand type\n"
      ],
      "metadata": {
        "colab": {
          "base_uri": "https://localhost:8080/"
        },
        "id": "hH2YaXXSBHHb",
        "outputId": "bb62f805-4f1d-4b58-ea68-62f873b7d777"
      },
      "execution_count": 50,
      "outputs": [
        {
          "output_type": "stream",
          "name": "stdout",
          "text": [
            "10\n"
          ]
        },
        {
          "output_type": "execute_result",
          "data": {
            "text/plain": [
              "[None]"
            ]
          },
          "metadata": {},
          "execution_count": 50
        }
      ]
    },
    {
      "cell_type": "code",
      "source": [
        "init_tuple_b = (3, 4)\n",
        "init_tuple_b[1]=8\n",
        "print(init_tuple_b[1])\n",
        "# sum(init_tuple_b)"
      ],
      "metadata": {
        "colab": {
          "base_uri": "https://localhost:8080/",
          "height": 193
        },
        "id": "7ks_mJ8EBcuS",
        "outputId": "7998accb-0113-460e-850b-04d19166dd74"
      },
      "execution_count": 55,
      "outputs": [
        {
          "output_type": "error",
          "ename": "TypeError",
          "evalue": "'tuple' object does not support item assignment",
          "traceback": [
            "\u001b[0;31m---------------------------------------------------------------------------\u001b[0m",
            "\u001b[0;31mTypeError\u001b[0m                                 Traceback (most recent call last)",
            "\u001b[0;32m<ipython-input-55-d3007dc2ffe2>\u001b[0m in \u001b[0;36m<cell line: 2>\u001b[0;34m()\u001b[0m\n\u001b[1;32m      1\u001b[0m \u001b[0minit_tuple_b\u001b[0m \u001b[0;34m=\u001b[0m \u001b[0;34m(\u001b[0m\u001b[0;36m3\u001b[0m\u001b[0;34m,\u001b[0m \u001b[0;36m4\u001b[0m\u001b[0;34m)\u001b[0m\u001b[0;34m\u001b[0m\u001b[0;34m\u001b[0m\u001b[0m\n\u001b[0;32m----> 2\u001b[0;31m \u001b[0minit_tuple_b\u001b[0m\u001b[0;34m[\u001b[0m\u001b[0;36m1\u001b[0m\u001b[0;34m]\u001b[0m\u001b[0;34m=\u001b[0m\u001b[0;36m8\u001b[0m\u001b[0;34m\u001b[0m\u001b[0;34m\u001b[0m\u001b[0m\n\u001b[0m\u001b[1;32m      3\u001b[0m \u001b[0mprint\u001b[0m\u001b[0;34m(\u001b[0m\u001b[0minit_tuple_b\u001b[0m\u001b[0;34m[\u001b[0m\u001b[0;36m1\u001b[0m\u001b[0;34m]\u001b[0m\u001b[0;34m)\u001b[0m\u001b[0;34m\u001b[0m\u001b[0;34m\u001b[0m\u001b[0m\n\u001b[1;32m      4\u001b[0m \u001b[0;31m# sum(init_tuple_b)\u001b[0m\u001b[0;34m\u001b[0m\u001b[0;34m\u001b[0m\u001b[0m\n",
            "\u001b[0;31mTypeError\u001b[0m: 'tuple' object does not support item assignment"
          ]
        }
      ]
    },
    {
      "cell_type": "markdown",
      "source": [
        "# Q-5. What will be the output of the following code block?"
      ],
      "metadata": {
        "id": "k93iE_QJBxrD"
      }
    },
    {
      "cell_type": "code",
      "source": [
        "init_tuple = [(0, 1), (1, 2), (2, 3)]\n",
        "result = sum(n for n, _ in init_tuple)\n",
        "\n",
        "print(result)\n",
        "# A. 3\n",
        "# B. 6\n",
        "# C. 9\n",
        "# D. Nothing gets printed."
      ],
      "metadata": {
        "colab": {
          "base_uri": "https://localhost:8080/"
        },
        "id": "up5GDv49Bhu9",
        "outputId": "285199ee-5572-43c9-bcb9-b099accf6cf9"
      },
      "execution_count": 52,
      "outputs": [
        {
          "output_type": "stream",
          "name": "stdout",
          "text": [
            "3\n"
          ]
        }
      ]
    },
    {
      "cell_type": "markdown",
      "source": [
        "# Q-6. Which of the following statements given below is/are true?\n",
        "\n",
        "# A. Tuples have structure, lists have an order.\n",
        "# B. Tuples are homogeneous, lists are heterogeneous.\n",
        "# C. Tuples are immutable, lists are mutable.\n",
        "# D. All of them."
      ],
      "metadata": {
        "id": "8POOZIxMCa9t"
      }
    },
    {
      "cell_type": "markdown",
      "source": [
        "# Q-7. What will be the output of the following code block?"
      ],
      "metadata": {
        "id": "Wspfr0QcDHXG"
      }
    },
    {
      "cell_type": "code",
      "source": [
        "l = [1, 2, 3]\n",
        "init_tuple = ('Python',) * (l.__len__() - l[::-1][0])\n",
        "\n",
        "print(init_tuple)\n",
        "# A. ()\n",
        "# B. (‘Python’)\n",
        "# C. (‘Python’, ‘Python’)\n",
        "# D. Runtime Exception."
      ],
      "metadata": {
        "colab": {
          "base_uri": "https://localhost:8080/"
        },
        "id": "RE9VUMvRCbqE",
        "outputId": "41669bd0-df9c-40fc-e8a2-cad7d51d532e"
      },
      "execution_count": 59,
      "outputs": [
        {
          "output_type": "stream",
          "name": "stdout",
          "text": [
            "()\n"
          ]
        }
      ]
    },
    {
      "cell_type": "markdown",
      "source": [
        "# Q-8. What will be the output of the following code block?"
      ],
      "metadata": {
        "id": "e9pF_KGGDmqy"
      }
    },
    {
      "cell_type": "code",
      "source": [
        "init_tuple = ('Python') * 3\n",
        "\n",
        "print(type(init_tuple))\n",
        "# A. <class ‘tuple’>\n",
        "# B. <class ‘str’>\n",
        "# C. <class ‘list’>\n",
        "# D. <class ‘function’>"
      ],
      "metadata": {
        "colab": {
          "base_uri": "https://localhost:8080/"
        },
        "id": "Ce63PC0jDoKz",
        "outputId": "a93e5d4b-b3b1-4868-d719-3b0139e7f448"
      },
      "execution_count": 60,
      "outputs": [
        {
          "output_type": "stream",
          "name": "stdout",
          "text": [
            "<class 'str'>\n"
          ]
        }
      ]
    },
    {
      "cell_type": "markdown",
      "source": [
        "# Q-9. What will be the output of the following code block?"
      ],
      "metadata": {
        "id": "pVhWraZIDwbl"
      }
    },
    {
      "cell_type": "code",
      "source": [
        "init_tuple = (1,) * 3\n",
        "init_tuple[0] = 2\n",
        "print(init_tuple)\n",
        "# A. (1, 1, 1)\n",
        "# B. (2, 2, 2)\n",
        "# C. (2, 1, 1)\n",
        "# D. TypeError: ‘tuple’ object does not support item assignment"
      ],
      "metadata": {
        "colab": {
          "base_uri": "https://localhost:8080/",
          "height": 211
        },
        "id": "JpNhO-2pDxzV",
        "outputId": "1c6ba99e-1780-486c-9410-407224cb77c0"
      },
      "execution_count": 61,
      "outputs": [
        {
          "output_type": "error",
          "ename": "TypeError",
          "evalue": "'tuple' object does not support item assignment",
          "traceback": [
            "\u001b[0;31m---------------------------------------------------------------------------\u001b[0m",
            "\u001b[0;31mTypeError\u001b[0m                                 Traceback (most recent call last)",
            "\u001b[0;32m<ipython-input-61-08c4f420a911>\u001b[0m in \u001b[0;36m<cell line: 2>\u001b[0;34m()\u001b[0m\n\u001b[1;32m      1\u001b[0m \u001b[0minit_tuple\u001b[0m \u001b[0;34m=\u001b[0m \u001b[0;34m(\u001b[0m\u001b[0;36m1\u001b[0m\u001b[0;34m,\u001b[0m\u001b[0;34m)\u001b[0m \u001b[0;34m*\u001b[0m \u001b[0;36m3\u001b[0m\u001b[0;34m\u001b[0m\u001b[0;34m\u001b[0m\u001b[0m\n\u001b[0;32m----> 2\u001b[0;31m \u001b[0minit_tuple\u001b[0m\u001b[0;34m[\u001b[0m\u001b[0;36m0\u001b[0m\u001b[0;34m]\u001b[0m \u001b[0;34m=\u001b[0m \u001b[0;36m2\u001b[0m\u001b[0;34m\u001b[0m\u001b[0;34m\u001b[0m\u001b[0m\n\u001b[0m\u001b[1;32m      3\u001b[0m \u001b[0mprint\u001b[0m\u001b[0;34m(\u001b[0m\u001b[0minit_tuple\u001b[0m\u001b[0;34m)\u001b[0m\u001b[0;34m\u001b[0m\u001b[0;34m\u001b[0m\u001b[0m\n\u001b[1;32m      4\u001b[0m \u001b[0;31m# A. (1, 1, 1)\u001b[0m\u001b[0;34m\u001b[0m\u001b[0;34m\u001b[0m\u001b[0m\n\u001b[1;32m      5\u001b[0m \u001b[0;31m# B. (2, 2, 2)\u001b[0m\u001b[0;34m\u001b[0m\u001b[0;34m\u001b[0m\u001b[0m\n",
            "\u001b[0;31mTypeError\u001b[0m: 'tuple' object does not support item assignment"
          ]
        }
      ]
    },
    {
      "cell_type": "markdown",
      "source": [
        "# Q-10. What will be the output of the following code block?"
      ],
      "metadata": {
        "id": "wtPCTwO6D65w"
      }
    },
    {
      "cell_type": "code",
      "source": [
        "init_tuple = ((1, 2),) * 7\n",
        "print(len(init_tuple[3:8]))\n",
        "# A. Exception\n",
        "# B. 5\n",
        "# C. 4\n",
        "# D. None"
      ],
      "metadata": {
        "colab": {
          "base_uri": "https://localhost:8080/"
        },
        "id": "e19q-hw2D7gQ",
        "outputId": "24a01d7d-65c2-4bb2-8de7-e9c4d2c84e96"
      },
      "execution_count": 63,
      "outputs": [
        {
          "output_type": "stream",
          "name": "stdout",
          "text": [
            "4\n"
          ]
        }
      ]
    },
    {
      "cell_type": "code",
      "source": [
        "init_tuple = ((1, 2),) * 7\n",
        "init_tuple"
      ],
      "metadata": {
        "colab": {
          "base_uri": "https://localhost:8080/"
        },
        "id": "mmoP67MjEGBR",
        "outputId": "155ad526-5148-4acd-957d-d4307ea9c62e"
      },
      "execution_count": 62,
      "outputs": [
        {
          "output_type": "execute_result",
          "data": {
            "text/plain": [
              "((1, 2), (1, 2), (1, 2), (1, 2), (1, 2), (1, 2), (1, 2))"
            ]
          },
          "metadata": {},
          "execution_count": 62
        }
      ]
    },
    {
      "cell_type": "code",
      "source": [],
      "metadata": {
        "id": "x30uEMveEHmz"
      },
      "execution_count": null,
      "outputs": []
    }
  ]
}