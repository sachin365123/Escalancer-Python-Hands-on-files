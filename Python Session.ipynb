{
 "cells": [
  {
   "cell_type": "markdown",
   "id": "9cafbbed",
   "metadata": {},
   "source": [
    "# Print any statement "
   ]
  },
  {
   "cell_type": "code",
   "execution_count": 1,
   "id": "bdbc433e",
   "metadata": {},
   "outputs": [
    {
     "name": "stdout",
     "output_type": "stream",
     "text": [
      "Delhi\n"
     ]
    }
   ],
   "source": [
    "print(\"Delhi\")"
   ]
  },
  {
   "cell_type": "markdown",
   "id": "89190a1f",
   "metadata": {},
   "source": [
    "# Variable"
   ]
  },
  {
   "cell_type": "code",
   "execution_count": 3,
   "id": "e75f2439",
   "metadata": {},
   "outputs": [
    {
     "data": {
      "text/plain": [
       "'Vipin'"
      ]
     },
     "execution_count": 3,
     "metadata": {},
     "output_type": "execute_result"
    }
   ],
   "source": [
    "# string datatype: Address, Name, Section, Place\n",
    "name='Vipin'\n",
    "name"
   ]
  },
  {
   "cell_type": "code",
   "execution_count": 4,
   "id": "662c31cf",
   "metadata": {},
   "outputs": [
    {
     "data": {
      "text/plain": [
       "str"
      ]
     },
     "execution_count": 4,
     "metadata": {},
     "output_type": "execute_result"
    }
   ],
   "source": [
    "type(name)"
   ]
  },
  {
   "cell_type": "code",
   "execution_count": 5,
   "id": "d3ef4d47",
   "metadata": {},
   "outputs": [
    {
     "data": {
      "text/plain": [
       "18"
      ]
     },
     "execution_count": 5,
     "metadata": {},
     "output_type": "execute_result"
    }
   ],
   "source": [
    "# integer data type: Age, Mobile number, PinCode, No of people, Yes/No\n",
    "age=18\n",
    "age"
   ]
  },
  {
   "cell_type": "code",
   "execution_count": 6,
   "id": "909ecf82",
   "metadata": {},
   "outputs": [
    {
     "data": {
      "text/plain": [
       "int"
      ]
     },
     "execution_count": 6,
     "metadata": {},
     "output_type": "execute_result"
    }
   ],
   "source": [
    "type(age)"
   ]
  },
  {
   "cell_type": "code",
   "execution_count": 7,
   "id": "0d6ad029",
   "metadata": {},
   "outputs": [
    {
     "data": {
      "text/plain": [
       "75.81"
      ]
     },
     "execution_count": 7,
     "metadata": {},
     "output_type": "execute_result"
    }
   ],
   "source": [
    "# float data type: Salary, Time, Weight, Percetage, Height, Distance, Temprature\n",
    "salary=75.81\n",
    "salary"
   ]
  },
  {
   "cell_type": "code",
   "execution_count": 8,
   "id": "5bf9678c",
   "metadata": {},
   "outputs": [
    {
     "data": {
      "text/plain": [
       "float"
      ]
     },
     "execution_count": 8,
     "metadata": {},
     "output_type": "execute_result"
    }
   ],
   "source": [
    "type(salary)"
   ]
  },
  {
   "cell_type": "code",
   "execution_count": 13,
   "id": "25cb8a2d",
   "metadata": {},
   "outputs": [],
   "source": [
    "#Boolean datatype: only True or Flase: Fan Off/On, Bulb: Off/On, \n",
    "# electric circuit: Off/On, Signal Light, Consumer Status: Buy/not Buy\n",
    "on=True\n",
    "off=False"
   ]
  },
  {
   "cell_type": "code",
   "execution_count": 14,
   "id": "d48a4eb5",
   "metadata": {},
   "outputs": [
    {
     "data": {
      "text/plain": [
       "True"
      ]
     },
     "execution_count": 14,
     "metadata": {},
     "output_type": "execute_result"
    }
   ],
   "source": [
    "on"
   ]
  },
  {
   "cell_type": "markdown",
   "id": "a1592cd1",
   "metadata": {},
   "source": [
    "# String"
   ]
  },
  {
   "cell_type": "code",
   "execution_count": 15,
   "id": "515fb649",
   "metadata": {},
   "outputs": [
    {
     "name": "stdout",
     "output_type": "stream",
     "text": [
      "I\n"
     ]
    }
   ],
   "source": [
    "# Exercise 1 - Strings\n",
    "# Given the code below, \n",
    "# insert the correct negative index on line 2 in order to \n",
    "# get the last character in the string.\n",
    "\n",
    "my_string = \"In 2010, someone paid 10k Bitcoin for two pizzas\"\n",
    "\n",
    "print(my_string[0])"
   ]
  },
  {
   "cell_type": "code",
   "execution_count": 30,
   "id": "d9c560da",
   "metadata": {},
   "outputs": [],
   "source": [
    "# my_string = \"In 2010, someone paid 10k Bitcoin for two pizzas\"\n",
    "my_string = 45.8\n",
    "# print(my_string[-6])"
   ]
  },
  {
   "cell_type": "code",
   "execution_count": null,
   "id": "cff6ab81",
   "metadata": {},
   "outputs": [],
   "source": []
  },
  {
   "cell_type": "code",
   "execution_count": null,
   "id": "cfd38868",
   "metadata": {},
   "outputs": [],
   "source": []
  },
  {
   "cell_type": "code",
   "execution_count": 31,
   "id": "0f01d4e4",
   "metadata": {},
   "outputs": [
    {
     "data": {
      "text/plain": [
       "float"
      ]
     },
     "execution_count": 31,
     "metadata": {},
     "output_type": "execute_result"
    }
   ],
   "source": [
    "type(my_string)"
   ]
  },
  {
   "cell_type": "code",
   "execution_count": 23,
   "id": "b5f87563",
   "metadata": {},
   "outputs": [
    {
     "name": "stdout",
     "output_type": "stream",
     "text": [
      ",\n"
     ]
    }
   ],
   "source": [
    "my_string = \"In 2010, someone paid 10k Bitcoin for two pizzas.\"\n",
    "\n",
    "print(my_string[7])"
   ]
  },
  {
   "cell_type": "code",
   "execution_count": 21,
   "id": "f8c15cb1",
   "metadata": {},
   "outputs": [
    {
     "name": "stdout",
     "output_type": "stream",
     "text": [
      "49\n"
     ]
    }
   ],
   "source": [
    "print(len(my_string))"
   ]
  },
  {
   "cell_type": "code",
   "execution_count": 32,
   "id": "b1be9c3f",
   "metadata": {},
   "outputs": [
    {
     "name": "stdout",
     "output_type": "stream",
     "text": [
      "w\n"
     ]
    }
   ],
   "source": [
    "# Exercise 2 - Strings\n",
    "# Given the code below, \n",
    "# insert the correct negative index on line 2\n",
    "# in order to return the w character from the string.\n",
    "\n",
    "my_string = \"In 2010, someone paid 10k Bitcoin for two pizzas.\"\n",
    "\n",
    "print(my_string[-10])"
   ]
  },
  {
   "cell_type": "markdown",
   "id": "42710240",
   "metadata": {},
   "source": [
    "# List"
   ]
  },
  {
   "cell_type": "code",
   "execution_count": 33,
   "id": "cc731c24",
   "metadata": {},
   "outputs": [
    {
     "data": {
      "text/plain": [
       "['Milk', 'Bread', 'Chapati', 2, 'Apples', 4.8]"
      ]
     },
     "execution_count": 33,
     "metadata": {},
     "output_type": "execute_result"
    }
   ],
   "source": [
    "tiffin=['Milk','Bread','Chapati',2,'Apples',4.8]\n",
    "tiffin"
   ]
  },
  {
   "cell_type": "code",
   "execution_count": 34,
   "id": "a24b8322",
   "metadata": {},
   "outputs": [
    {
     "data": {
      "text/plain": [
       "'Milk'"
      ]
     },
     "execution_count": 34,
     "metadata": {},
     "output_type": "execute_result"
    }
   ],
   "source": [
    "tiffin[0]"
   ]
  },
  {
   "cell_type": "code",
   "execution_count": 35,
   "id": "0d757d2e",
   "metadata": {},
   "outputs": [
    {
     "data": {
      "text/plain": [
       "'Bread'"
      ]
     },
     "execution_count": 35,
     "metadata": {},
     "output_type": "execute_result"
    }
   ],
   "source": [
    "tiffin[1]"
   ]
  },
  {
   "cell_type": "code",
   "execution_count": 36,
   "id": "04563e9b",
   "metadata": {},
   "outputs": [
    {
     "data": {
      "text/plain": [
       "4.8"
      ]
     },
     "execution_count": 36,
     "metadata": {},
     "output_type": "execute_result"
    }
   ],
   "source": [
    "tiffin[-1]"
   ]
  },
  {
   "cell_type": "code",
   "execution_count": 37,
   "id": "3e829fed",
   "metadata": {},
   "outputs": [
    {
     "name": "stdout",
     "output_type": "stream",
     "text": [
      "[10, 10.5, 20, 30, 'Python', 'Java', 'Ruby', 'C++']\n"
     ]
    }
   ],
   "source": [
    "# Exercise 3 - Lists\n",
    "# Given the code below, \n",
    "# use the correct method on line 3 in order to add the element \n",
    "# 'C++' at the end of my_list.\n",
    "\n",
    "\n",
    "my_list = [10, 10.5, 20, 30, 'Python', 'Java', 'Ruby']\n",
    "\n",
    "my_list.append('C++')\n",
    "\n",
    "print(my_list)"
   ]
  },
  {
   "cell_type": "code",
   "execution_count": 38,
   "id": "89e04070",
   "metadata": {},
   "outputs": [
    {
     "name": "stdout",
     "output_type": "stream",
     "text": [
      "[10, 10.5, 20, 30, 'Python', 'Java', 'Ruby', 'C++', 'R Language']\n"
     ]
    }
   ],
   "source": [
    "my_list.append('R Language')\n",
    "\n",
    "print(my_list)"
   ]
  },
  {
   "cell_type": "code",
   "execution_count": 39,
   "id": "c0e2c4d4",
   "metadata": {},
   "outputs": [
    {
     "name": "stdout",
     "output_type": "stream",
     "text": [
      "[10, 10.5, 20, 30, 'Python', 'Java', 'Ruby', 'C++', 'R Language', 25]\n"
     ]
    }
   ],
   "source": [
    "my_list.append(25)\n",
    "\n",
    "print(my_list)"
   ]
  },
  {
   "cell_type": "code",
   "execution_count": 42,
   "id": "96f9cc6d",
   "metadata": {},
   "outputs": [
    {
     "name": "stdout",
     "output_type": "stream",
     "text": [
      "[10, 10.5, 20, 'Python', 'Java', 'Ruby']\n"
     ]
    }
   ],
   "source": [
    "# Exercise 4 - Lists\n",
    "# Given the code below, use the correct \n",
    "# method on line 3 in order to remove the element 30 from my_list.\n",
    "\n",
    "my_list = [10, 10.5, 20, 30, 'Python', 'Java', 'Ruby']\n",
    "\n",
    "my_list.remove(30)\n",
    "\n",
    "print(my_list)"
   ]
  },
  {
   "cell_type": "code",
   "execution_count": 44,
   "id": "8899ce8e",
   "metadata": {},
   "outputs": [
    {
     "name": "stdout",
     "output_type": "stream",
     "text": [
      "4\n"
     ]
    }
   ],
   "source": [
    "# Exercise 5  - Lists\n",
    "# Given the code below, use the correct \n",
    "# method on line 3 in order to return the index of the element 10.5 in my_list.\n",
    "\n",
    "my_list = [10, 10.5, 20, 30, 'Python', 'Java', 'Ruby']\n",
    "\n",
    "index = my_list.index('Python')\n",
    "\n",
    "print(index)"
   ]
  },
  {
   "cell_type": "code",
   "execution_count": 46,
   "id": "2b77b0d5",
   "metadata": {},
   "outputs": [
    {
     "name": "stdout",
     "output_type": "stream",
     "text": [
      "[10, 10.5, 20, 30, 77, 'Python', 'Java', 'Ruby']\n"
     ]
    }
   ],
   "source": [
    "# Exercise 6 - Lists\n",
    "# Given the code below, \n",
    "# use the correct method on line 3 in order \n",
    "# to insert the element 77 at index 4 in my_list.\n",
    "\n",
    "my_list = [10, 10.5, 20, 30, 'Python', 'Java', 'Ruby']\n",
    "\n",
    "my_list.insert(4,77)\n",
    "\n",
    "print(my_list)"
   ]
  },
  {
   "cell_type": "code",
   "execution_count": 58,
   "id": "b23bf78f",
   "metadata": {},
   "outputs": [
    {
     "name": "stdout",
     "output_type": "stream",
     "text": [
      "[10, 10.5, 20, 30, 'Python', 'Java', 7, 'Ruby']\n"
     ]
    }
   ],
   "source": [
    "my_list = [10, 10.5, 20, 30, 'Python', 'Java', 'Ruby']\n",
    "\n",
    "my_list.insert(6,7)\n",
    "\n",
    "print(my_list)"
   ]
  },
  {
   "cell_type": "code",
   "execution_count": 55,
   "id": "2aa3ec05",
   "metadata": {},
   "outputs": [
    {
     "name": "stdout",
     "output_type": "stream",
     "text": [
      "[10, 10.5, 20, 30, 'Python', 'Java', 'Ruby', 99, 98, 97]\n"
     ]
    }
   ],
   "source": [
    "# Exercise 7  - Lists\n",
    "# Given the code below, use the correct method on line 3 \n",
    "# in order to concatenate my_list with [100, 101, 102], \n",
    "# by adding the latter at the end of my_list.\n",
    "\n",
    "my_list = [10, 10.5, 20, 30, 'Python', 'Java', 'Ruby']\n",
    "\n",
    "my_list.extend([99,98,97])\n",
    "\n",
    "print(my_list)"
   ]
  },
  {
   "cell_type": "code",
   "execution_count": 1,
   "id": "244e16f4",
   "metadata": {},
   "outputs": [
    {
     "name": "stdout",
     "output_type": "stream",
     "text": [
      "[10, 10.5, 20, 30, 'Python', [100, 101, 102], 'Java', 'Ruby']\n"
     ]
    }
   ],
   "source": [
    "my_list = [10, 10.5, 20, 30, 'Python', 'Java', 'Ruby']\n",
    "my_list.insert(5, [100, 101, 102])\n",
    "print(my_list)\n"
   ]
  },
  {
   "cell_type": "code",
   "execution_count": 53,
   "id": "5b9c9084",
   "metadata": {},
   "outputs": [
    {
     "name": "stdout",
     "output_type": "stream",
     "text": [
      "[10, 10.5, 20, 30, 'Python', 'Java', 'Ruby', 100, 101, 102]\n"
     ]
    }
   ],
   "source": [
    "my_list = [10, 10.5, 20, 30, 'Python', 'Java', 'Ruby']\n",
    "sarthak=[100, 101, 102]\n",
    "\n",
    "\n",
    "my_list=my_list+sarthak\n",
    "\n",
    "print(my_list)"
   ]
  },
  {
   "cell_type": "code",
   "execution_count": null,
   "id": "1cf212f2",
   "metadata": {},
   "outputs": [],
   "source": [
    "my_list = [10, 10.5, 20, 30, 'Python', 'Java', 'Ruby']\n",
    "\n",
    "my_list.append([100, 101, 102])\n",
    "\n",
    "print(my_list)"
   ]
  },
  {
   "cell_type": "code",
   "execution_count": 52,
   "id": "baca079c",
   "metadata": {},
   "outputs": [
    {
     "data": {
      "text/plain": [
       "[100, 101, 102]"
      ]
     },
     "execution_count": 52,
     "metadata": {},
     "output_type": "execute_result"
    }
   ],
   "source": [
    "# sub list\n",
    "my_list[7]"
   ]
  },
  {
   "cell_type": "markdown",
   "id": "7649d1ac",
   "metadata": {},
   "source": [
    "# Dataset"
   ]
  },
  {
   "cell_type": "code",
   "execution_count": 3,
   "id": "51db8607",
   "metadata": {},
   "outputs": [
    {
     "name": "stdout",
     "output_type": "stream",
     "text": [
      "7\n",
      "<class 'int'>\n"
     ]
    }
   ],
   "source": [
    "# integer\n",
    "int_var=7\n",
    "print(int_var)\n",
    "print(type(int_var))\n",
    "\n",
    "# OOPS languge---> Class or Object"
   ]
  },
  {
   "cell_type": "code",
   "execution_count": 4,
   "id": "d7561dce",
   "metadata": {},
   "outputs": [
    {
     "name": "stdout",
     "output_type": "stream",
     "text": [
      "8.5\n",
      "<class 'float'>\n"
     ]
    }
   ],
   "source": [
    "# float\n",
    "float_var=8.5\n",
    "print(float_var)\n",
    "print(type(float_var))"
   ]
  },
  {
   "cell_type": "code",
   "execution_count": 5,
   "id": "cad0a10d",
   "metadata": {},
   "outputs": [
    {
     "name": "stdout",
     "output_type": "stream",
     "text": [
      "T\n",
      "<class 'str'>\n"
     ]
    }
   ],
   "source": [
    "# Character or String\n",
    "char_var='T'\n",
    "print(char_var)\n",
    "print(type(char_var))"
   ]
  },
  {
   "cell_type": "code",
   "execution_count": 6,
   "id": "769f2172",
   "metadata": {},
   "outputs": [
    {
     "name": "stdout",
     "output_type": "stream",
     "text": [
      "[8, 1, 'P', 'Address']\n",
      "<class 'list'>\n"
     ]
    }
   ],
   "source": [
    "# List\n",
    "list_var=[8,1,'P','Address']\n",
    "print(list_var)\n",
    "print(type(list_var))"
   ]
  },
  {
   "cell_type": "code",
   "execution_count": 9,
   "id": "48edf385",
   "metadata": {},
   "outputs": [
    {
     "data": {
      "text/plain": [
       "'P'"
      ]
     },
     "execution_count": 9,
     "metadata": {},
     "output_type": "execute_result"
    }
   ],
   "source": [
    "list_var[2]"
   ]
  },
  {
   "cell_type": "code",
   "execution_count": 10,
   "id": "270540b0",
   "metadata": {},
   "outputs": [
    {
     "name": "stdout",
     "output_type": "stream",
     "text": [
      "[10, 10.5, 20, 30, 'Python', 'Java', 'Ruby', 99, 98, 97]\n"
     ]
    }
   ],
   "source": [
    "# Exercise 8  - Lists\n",
    "# Given the code below, use the correct method on line 3 \n",
    "# in order to add my_list with [100, 101, 102], \n",
    "# by adding the latter at the index 4 of my_list.\n",
    "\n",
    "my_list = [10, 10.5, 20, 30, 'Python', 'Java', 'Ruby']\n",
    "\n",
    "my_list.extend([100,101,102])\n",
    "\n",
    "print(my_list)"
   ]
  },
  {
   "cell_type": "code",
   "execution_count": 17,
   "id": "4d34efca",
   "metadata": {},
   "outputs": [
    {
     "data": {
      "text/plain": [
       "[10, 10.5, 20, 30, 'Python', 'Java', 'Ruby', 99, 98, 97]"
      ]
     },
     "execution_count": 17,
     "metadata": {},
     "output_type": "execute_result"
    }
   ],
   "source": [
    "my_list"
   ]
  },
  {
   "cell_type": "code",
   "execution_count": 42,
   "id": "7f819aab",
   "metadata": {},
   "outputs": [
    {
     "name": "stdout",
     "output_type": "stream",
     "text": [
      "[100, 101, 102, 10, 10.5, 20, 30, 'Python', 'Java', 'Ruby']\n"
     ]
    }
   ],
   "source": [
    "my_list = [10, 10.5, 20, 30, 'Python', 'Java', 'Ruby']\n",
    "\n",
    "elements = [100, 101, 102]\n",
    "elements=elements[::-1]\n",
    "for i in elements:\n",
    "    my_list.insert(0, i)\n",
    "\n",
    "print(my_list)\n",
    "# [10, 10.5, 20, 30, 'Python', 102, 101, 100, 'Java', 'Ruby']"
   ]
  },
  {
   "cell_type": "code",
   "execution_count": 41,
   "id": "535fdf29",
   "metadata": {},
   "outputs": [
    {
     "data": {
      "text/plain": [
       "[102, 101, 100, 'DS', 'ML', 'Kapil', 'Ritesh', 'Sarthak', 'Kanayeya']"
      ]
     },
     "execution_count": 41,
     "metadata": {},
     "output_type": "execute_result"
    }
   ],
   "source": [
    "# List Slicing\n",
    "elements = ['Kanayeya','Sarthak','Ritesh','Kapil','ML','DS',100, 101, 102]\n",
    "elements=elements[::-1]\n",
    "elements"
   ]
  },
  {
   "cell_type": "code",
   "execution_count": 29,
   "id": "784b7f0b",
   "metadata": {},
   "outputs": [
    {
     "data": {
      "text/plain": [
       "[102, 101, 100]"
      ]
     },
     "execution_count": 29,
     "metadata": {},
     "output_type": "execute_result"
    }
   ],
   "source": [
    "elements = [100, 101, 102]\n",
    "elements=elements[::-1]\n",
    "elements"
   ]
  },
  {
   "cell_type": "code",
   "execution_count": 26,
   "id": "8fea88f3",
   "metadata": {},
   "outputs": [
    {
     "name": "stdout",
     "output_type": "stream",
     "text": [
      "[10, 10.5, 20, 30, 'Python', 'Sachin', 'Java', 'Ruby']\n"
     ]
    }
   ],
   "source": [
    "my_list = [10, 10.5, 20, 30, 'Python', 'Java', 'Ruby']\n",
    "# my_list.append('Sachin')\n",
    "my_list.insert(5,'Sachin')\n",
    "print(my_list)"
   ]
  },
  {
   "cell_type": "code",
   "execution_count": 15,
   "id": "26309b14",
   "metadata": {},
   "outputs": [
    {
     "name": "stdout",
     "output_type": "stream",
     "text": [
      "1 Data Science\n",
      "2 Data Science\n",
      "3 Data Science\n",
      "4 Data Science\n",
      "5 Data Science\n",
      "6 Data Science\n",
      "7 Data Science\n",
      "8 Data Science\n",
      "9 Data Science\n",
      "10 Data Science\n",
      "11 Data Science\n",
      "12 Data Science\n",
      "13 Data Science\n",
      "14 Data Science\n",
      "15 Data Science\n",
      "16 Data Science\n",
      "17 Data Science\n",
      "18 Data Science\n",
      "19 Data Science\n",
      "20 Data Science\n"
     ]
    }
   ],
   "source": [
    "# loop in Python\n",
    "for i in range(20):\n",
    "    print(i+1, \"Data Science\")"
   ]
  },
  {
   "cell_type": "code",
   "execution_count": 45,
   "id": "545260b5",
   "metadata": {},
   "outputs": [
    {
     "name": "stdout",
     "output_type": "stream",
     "text": [
      "[30, 29.99, 25.6, 20, 19.25, 11.01, 10.5, 10]\n"
     ]
    }
   ],
   "source": [
    "# Exercise 8  - Lists\n",
    "# Given the code below, use the correct function on line 3\n",
    "# in order to sort the elements of my_list in ascending order.\n",
    "\n",
    "my_list = [10, 10.5, 20, 30, 25.6, 19.25, 11.01, 29.99]\n",
    "\n",
    "asc = sorted(my_list, reverse=True)\n",
    "\n",
    "print(asc)"
   ]
  }
 ],
 "metadata": {
  "kernelspec": {
   "display_name": "Python 3 (ipykernel)",
   "language": "python",
   "name": "python3"
  },
  "language_info": {
   "codemirror_mode": {
    "name": "ipython",
    "version": 3
   },
   "file_extension": ".py",
   "mimetype": "text/x-python",
   "name": "python",
   "nbconvert_exporter": "python",
   "pygments_lexer": "ipython3",
   "version": "3.11.5"
  }
 },
 "nbformat": 4,
 "nbformat_minor": 5
}
