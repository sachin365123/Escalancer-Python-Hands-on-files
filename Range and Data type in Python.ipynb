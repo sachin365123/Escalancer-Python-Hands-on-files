{
 "cells": [
  {
   "cell_type": "markdown",
   "id": "2042377f",
   "metadata": {},
   "source": [
    "## Range in Python "
   ]
  },
  {
   "cell_type": "code",
   "execution_count": 7,
   "id": "c7ebc81d",
   "metadata": {},
   "outputs": [
    {
     "name": "stdout",
     "output_type": "stream",
     "text": [
      "Data Science\n",
      "Data Science\n",
      "Data Science\n",
      "Data Science\n",
      "Data Science\n",
      "Data Science\n",
      "Data Science\n",
      "Data Science\n",
      "Data Science\n",
      "Data Science\n",
      "Data Science\n",
      "Data Science\n",
      "Data Science\n",
      "Data Science\n",
      "Data Science\n",
      "Data Science\n",
      "Data Science\n",
      "Data Science\n",
      "Data Science\n",
      "Data Science\n"
     ]
    }
   ],
   "source": [
    "# print \"Data Science\" 10 times\n",
    "print(\"Data Science\")\n",
    "print(\"Data Science\")\n",
    "print(\"Data Science\")\n",
    "print(\"Data Science\")\n",
    "print(\"Data Science\")\n",
    "print(\"Data Science\")\n",
    "print(\"Data Science\")\n",
    "print(\"Data Science\")\n",
    "print(\"Data Science\")\n",
    "print(\"Data Science\")\n",
    "print(\"Data Science\")\n",
    "print(\"Data Science\")\n",
    "print(\"Data Science\")\n",
    "print(\"Data Science\")\n",
    "print(\"Data Science\")\n",
    "print(\"Data Science\")\n",
    "print(\"Data Science\")\n",
    "print(\"Data Science\")\n",
    "print(\"Data Science\")\n",
    "print(\"Data Science\")"
   ]
  },
  {
   "cell_type": "code",
   "execution_count": 33,
   "id": "acf7626f",
   "metadata": {},
   "outputs": [
    {
     "name": "stdout",
     "output_type": "stream",
     "text": [
      "0 1 2 3 4 5 6 7 8 9 "
     ]
    }
   ],
   "source": [
    "for i in range(10):\n",
    "#     range(start_vlaue, last_value-1,skip_numbers-1)\n",
    "    print(i, end=\" \")\n"
   ]
  },
  {
   "cell_type": "code",
   "execution_count": 10,
   "id": "664d37ec",
   "metadata": {},
   "outputs": [
    {
     "name": "stdout",
     "output_type": "stream",
     "text": [
      "range(1, 10)\n"
     ]
    }
   ],
   "source": [
    "r=range(1,10)\n",
    "print(r)"
   ]
  },
  {
   "cell_type": "code",
   "execution_count": 25,
   "id": "564c253a",
   "metadata": {},
   "outputs": [
    {
     "name": "stdout",
     "output_type": "stream",
     "text": [
      "[0, 1, 2, 3, 4, 5, 6, 7, 8, 9]\n"
     ]
    }
   ],
   "source": [
    "# Exercise 1 - Ranges\n",
    "# Given the code below, use the correct argument(s) \n",
    "# for the range() function on line 1 in order to \n",
    "# return a range of consecutive integers from 0 to 9 inclusively. \n",
    "# Use a single argument inside the parentheses of range()!\n",
    "\n",
    "my_range = range(10)\n",
    "\n",
    "print(list(my_range)) #[0, 1, 2, 3, 4, 5, 6, 7, 8, 9]"
   ]
  },
  {
   "cell_type": "code",
   "execution_count": 34,
   "id": "6306ad42",
   "metadata": {},
   "outputs": [
    {
     "name": "stdout",
     "output_type": "stream",
     "text": [
      "[0, 1, 2, 3, 4, 5, 6, 7, 8, 9]\n"
     ]
    }
   ],
   "source": [
    "# Exercise 2 - Ranges\n",
    "# Given the code below, use the correct argument(s) \n",
    "# for the range() function on line 1 in order to return a\n",
    "# range of consecutive integers from 0 to 9 inclusively. \n",
    "# Use two arguments inside the parentheses of range()!\n",
    "\n",
    "my_range = range(0,11)\n",
    "\n",
    "print(list(my_range)) #[0, 1, 2, 3, 4, 5, 6, 7, 8, 9,10]"
   ]
  },
  {
   "cell_type": "code",
   "execution_count": 36,
   "id": "88322e36",
   "metadata": {},
   "outputs": [
    {
     "name": "stdout",
     "output_type": "stream",
     "text": [
      "[117, 118, 119, 120, 121, 122, 123, 124, 125, 126, 127, 128]\n"
     ]
    }
   ],
   "source": [
    "# Exercise 3  - Ranges\n",
    "# Given the code below, use the correct argument(s) \n",
    "# for the range() function on line 1 in order to return \n",
    "# a range of consecutive integers from 117 to 129 exclusively.\n",
    "\n",
    "my_range = range(117,129)\n",
    "\n",
    "print(list(my_range)) #[117, 118, 119, 120, 121, 122, 123, 124, 125, 126, 127, 128]"
   ]
  },
  {
   "cell_type": "code",
   "execution_count": 40,
   "id": "0d7dbd57",
   "metadata": {},
   "outputs": [
    {
     "name": "stdout",
     "output_type": "stream",
     "text": [
      "[10, 13, 16, 19]\n"
     ]
    }
   ],
   "source": [
    "# Exercise 4 - Ranges\n",
    "# Given the code below, use the correct argument(s) \n",
    "# for the range() function on line 1 in order to \n",
    "# return [10, 13, 16, 19] when converted to a list.\n",
    "\n",
    "\n",
    "my_range = range(10,20,3)\n",
    "\n",
    "print(list(my_range)) #[10, 13, 16, 19]"
   ]
  },
  {
   "cell_type": "code",
   "execution_count": 46,
   "id": "edb34f24",
   "metadata": {},
   "outputs": [
    {
     "name": "stdout",
     "output_type": "stream",
     "text": [
      "[115, 120]\n"
     ]
    }
   ],
   "source": [
    "# Exercise 5 - Ranges\n",
    "# Given the code below, add the correct step\n",
    "# as the third argument of the range() function on \n",
    "# line 1 in order to return [115, 120] when converted to a list.\n",
    "\n",
    "\n",
    "my_range = range(115, 125,5 )\n",
    "\n",
    "print(list(my_range)) #[115, 120]"
   ]
  },
  {
   "cell_type": "code",
   "execution_count": 49,
   "id": "35e5bb06",
   "metadata": {},
   "outputs": [
    {
     "name": "stdout",
     "output_type": "stream",
     "text": [
      "[-75, -60, -45, -30]\n"
     ]
    }
   ],
   "source": [
    "# Exercise 6  - Ranges\n",
    "# Given the code below, add the correct step as the \n",
    "# third argument of the range() function on line 1 \n",
    "# in order to return [-75, -60, -45, -30] when converted to a list.\n",
    "\n",
    "my_range = range(-75, -25,15 )\n",
    "\n",
    "print(list(my_range)) #[-75, -60, -45, -30]"
   ]
  },
  {
   "cell_type": "code",
   "execution_count": 52,
   "id": "9a9db7b4",
   "metadata": {},
   "outputs": [
    {
     "name": "stdout",
     "output_type": "stream",
     "text": [
      "[-25, 5, 35, 65, 95, 125]\n"
     ]
    }
   ],
   "source": [
    "# Exercise 7 - Ranges\n",
    "# Given the code below, add the correct step as the\n",
    "# third argument of the range() function on line 1\n",
    "# in order to return [-25, 5, 35, 65, 95, 125] when converted to a list.\n",
    "\n",
    "my_range = range(-25, 139,30)\n",
    "\n",
    "print(list(my_range)) #[-25, 5, 35, 65, 95, 125]"
   ]
  },
  {
   "cell_type": "code",
   "execution_count": 60,
   "id": "57458cc9",
   "metadata": {},
   "outputs": [
    {
     "name": "stdout",
     "output_type": "stream",
     "text": [
      "[-10]\n"
     ]
    }
   ],
   "source": [
    "# Exercise 8 - Ranges\n",
    "# Given the code below, write the correct range on \n",
    "# line 1 in order to return [-10] when converted to a list.\n",
    "\n",
    "\n",
    "\n",
    "my_range = range(-10,-9)\n",
    "\n",
    "print(list(my_range)) #[-10]"
   ]
  },
  {
   "cell_type": "code",
   "execution_count": 57,
   "id": "01db6f4a",
   "metadata": {},
   "outputs": [
    {
     "name": "stdout",
     "output_type": "stream",
     "text": [
      "[9]\n"
     ]
    }
   ],
   "source": [
    "\n",
    "my_range = range(9,10)\n",
    "\n",
    "print(list(my_range)) "
   ]
  },
  {
   "cell_type": "markdown",
   "id": "10f6bd6c",
   "metadata": {},
   "source": [
    "# Data Type"
   ]
  },
  {
   "cell_type": "code",
   "execution_count": 68,
   "id": "08c84cc2",
   "metadata": {},
   "outputs": [
    {
     "data": {
      "text/plain": [
       "dict"
      ]
     },
     "execution_count": 68,
     "metadata": {},
     "output_type": "execute_result"
    }
   ],
   "source": [
    "# var=15\n",
    "# var=9.3\n",
    "# var='Ranjeet'\n",
    "# var=True\n",
    "# var=[2,'Sachin',7.8]\n",
    "# var=(2,'Sachin',7.8)\n",
    "# var={2,'Sachin',7.8}\n",
    "# var={'roll_no':2,'name':'Sachin','weight':7.8}\n",
    "\n",
    "# ctr +'/'\n",
    "\n",
    "type(var)"
   ]
  },
  {
   "cell_type": "markdown",
   "id": "2aa61081",
   "metadata": {},
   "source": [
    "### Question 1 "
   ]
  },
  {
   "cell_type": "code",
   "execution_count": 69,
   "id": "785c4bcc",
   "metadata": {},
   "outputs": [
    {
     "name": "stdout",
     "output_type": "stream",
     "text": [
      "<class 'str'>\n"
     ]
    }
   ],
   "source": [
    "# Exercise 1 - Data Type Conversions\n",
    "# Given the code below, use the correct function on\n",
    "# line 3 in order to convert value to a string.\n",
    "\n",
    "\n",
    "value = 10\n",
    "\n",
    "conv = str(value)\n",
    "\n",
    "print(type(conv))"
   ]
  },
  {
   "cell_type": "code",
   "execution_count": 70,
   "id": "e453d2d6",
   "metadata": {},
   "outputs": [
    {
     "name": "stdout",
     "output_type": "stream",
     "text": [
      "<class 'int'>\n"
     ]
    }
   ],
   "source": [
    "# Exercise 2 - Data Type Conversions\n",
    "# Given the code below, use the correct function on \n",
    "# line 3 in order to convert value to an integer.\n",
    "\n",
    "\n",
    "value = \"10\"\n",
    "\n",
    "conv = int(value)\n",
    "\n",
    "print(type(conv))"
   ]
  },
  {
   "cell_type": "code",
   "execution_count": 71,
   "id": "9908fe31",
   "metadata": {},
   "outputs": [
    {
     "name": "stdout",
     "output_type": "stream",
     "text": [
      "<class 'float'>\n"
     ]
    }
   ],
   "source": [
    "# Exercise 3 - Data Type Conversions\n",
    "# Given the code below, use the correct \n",
    "# function on line 3 in order to convert value \n",
    "# to a floating-point number.\n",
    "\n",
    "\n",
    "value = 10\n",
    "\n",
    "conv = float(value)\n",
    "\n",
    "print(type(conv))"
   ]
  },
  {
   "cell_type": "code",
   "execution_count": 73,
   "id": "1253d5de",
   "metadata": {},
   "outputs": [
    {
     "name": "stdout",
     "output_type": "stream",
     "text": [
      "<class 'list'>\n"
     ]
    }
   ],
   "source": [
    "# Exercise 4 - Data Type Conversions\n",
    "# Given the code below, use the correct function on \n",
    "# line 3 in order to convert value to a list.\n",
    "\n",
    "\n",
    "\n",
    "value = \"Hello!\"\n",
    "\n",
    "conv = list(value)\n",
    "\n",
    "print(type(conv))"
   ]
  },
  {
   "cell_type": "code",
   "execution_count": 75,
   "id": "7d503525",
   "metadata": {},
   "outputs": [
    {
     "name": "stdout",
     "output_type": "stream",
     "text": [
      "<class 'tuple'>\n"
     ]
    }
   ],
   "source": [
    "# Exercise 5 - Data Type Conversions\n",
    "# Given the code below, use the correct function on\n",
    "# line 3 in order to convert value to a tuple.\n",
    "\n",
    "value = [1, 2, 3, 10, 20, 30]\n",
    "\n",
    "conv = tuple(value)\n",
    "\n",
    "print(type(conv))"
   ]
  },
  {
   "cell_type": "code",
   "execution_count": 76,
   "id": "2cff8c47",
   "metadata": {},
   "outputs": [
    {
     "name": "stdout",
     "output_type": "stream",
     "text": [
      "<class 'frozenset'>\n"
     ]
    }
   ],
   "source": [
    "# Exercise 6 - Data Type Conversions\n",
    "# Given the code below, use the correct function on \n",
    "# line 3 in order to convert value to a frozen set.\n",
    "\n",
    "\n",
    "value = (10, 20, 40, 10, 25, 30, 45)\n",
    "\n",
    "conv = frozenset(value)\n",
    "\n",
    "print(type(conv))"
   ]
  },
  {
   "cell_type": "code",
   "execution_count": 80,
   "id": "ff114fb5",
   "metadata": {},
   "outputs": [
    {
     "name": "stdout",
     "output_type": "stream",
     "text": [
      "0b1101\n"
     ]
    }
   ],
   "source": [
    "# Exercise 7 - Data Type Conversions\n",
    "# Given the code below, use the correct function on \n",
    "# line 3 in order to convert value to a binary representation.\n",
    "\n",
    "\n",
    "value = 13\n",
    "\n",
    "conv = bin(value)\n",
    "\n",
    "print(conv)"
   ]
  },
  {
   "cell_type": "code",
   "execution_count": 101,
   "id": "b672e745",
   "metadata": {},
   "outputs": [
    {
     "name": "stdout",
     "output_type": "stream",
     "text": [
      "0b101011\n"
     ]
    }
   ],
   "source": [
    "value = 43\n",
    "\n",
    "conv = bin(value)\n",
    "\n",
    "print(conv)\n",
    "\n",
    "# 1*(2^2)+0*(2^1)+1*(2^0)=4+0+1=5\n",
    "\n",
    "# 0 --> 0 volt or False\n",
    "# 1 --> +5 volt or True"
   ]
  },
  {
   "cell_type": "code",
   "execution_count": 91,
   "id": "213ea682",
   "metadata": {},
   "outputs": [
    {
     "name": "stdout",
     "output_type": "stream",
     "text": [
      "10\n"
     ]
    }
   ],
   "source": [
    "# Exercise 9 - Data Type Conversions\n",
    "# Given the code below, use the correct function on \n",
    "# line 3 in order to convert value from binary to decimal notation.\n",
    "\n",
    "value = '0b1010'\n",
    "\n",
    "conv = int(value,2)\n",
    "\n",
    "print(conv)"
   ]
  },
  {
   "cell_type": "code",
   "execution_count": 98,
   "id": "fd438119",
   "metadata": {},
   "outputs": [
    {
     "name": "stdout",
     "output_type": "stream",
     "text": [
      "31\n"
     ]
    }
   ],
   "source": [
    "# Exercise 10 - Data Type Conversions\n",
    "# Given the code below, use the correct function on line \n",
    "# 3 in order to convert value from hexadecimal to decimal notation.\n",
    "\n",
    "\n",
    "value = '0x1f'\n",
    "\n",
    "conv = int(value,16)\n",
    "\n",
    "print(conv)"
   ]
  },
  {
   "cell_type": "code",
   "execution_count": null,
   "id": "2f170dd7",
   "metadata": {},
   "outputs": [],
   "source": []
  }
 ],
 "metadata": {
  "kernelspec": {
   "display_name": "Python 3 (ipykernel)",
   "language": "python",
   "name": "python3"
  },
  "language_info": {
   "codemirror_mode": {
    "name": "ipython",
    "version": 3
   },
   "file_extension": ".py",
   "mimetype": "text/x-python",
   "name": "python",
   "nbconvert_exporter": "python",
   "pygments_lexer": "ipython3",
   "version": "3.11.5"
  }
 },
 "nbformat": 4,
 "nbformat_minor": 5
}
