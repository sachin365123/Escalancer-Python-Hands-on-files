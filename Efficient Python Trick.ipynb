{
 "cells": [
  {
   "cell_type": "markdown",
   "id": "57f243ad",
   "metadata": {},
   "source": [
    "# Efficient Python Trick"
   ]
  },
  {
   "cell_type": "markdown",
   "id": "8eac4e2c",
   "metadata": {},
   "source": [
    "# Tip 1: F String"
   ]
  },
  {
   "cell_type": "code",
   "execution_count": 1,
   "id": "e080e063",
   "metadata": {},
   "outputs": [
    {
     "name": "stdout",
     "output_type": "stream",
     "text": [
      "2.3\n"
     ]
    }
   ],
   "source": [
    "# f-strings\n",
    "num=2.3154879\n",
    "print(f'{num:.1f}')"
   ]
  },
  {
   "cell_type": "code",
   "execution_count": 2,
   "id": "ecc2cb7c",
   "metadata": {},
   "outputs": [
    {
     "name": "stdout",
     "output_type": "stream",
     "text": [
      "2.315\n"
     ]
    }
   ],
   "source": [
    "# f-strings\n",
    "num=2.3154879\n",
    "print(f'{num:.3f}')"
   ]
  },
  {
   "cell_type": "markdown",
   "id": "6a5fdd9b",
   "metadata": {},
   "source": [
    "# Tip 2: Date and Time"
   ]
  },
  {
   "cell_type": "code",
   "execution_count": 6,
   "id": "1aa9969b",
   "metadata": {},
   "outputs": [
    {
     "name": "stdout",
     "output_type": "stream",
     "text": [
      "You need to here at 03:30 PM on Monday\n"
     ]
    }
   ],
   "source": [
    "# https://www.w3schools.com/python/python_datetime.asp\n",
    "from datetime import datetime\n",
    "ritesh=datetime(2024,1,1,15,30,45)\n",
    "print(f'You need to here at 'f'{ritesh:%I:%M %p} on {ritesh:%A}')"
   ]
  },
  {
   "cell_type": "code",
   "execution_count": 9,
   "id": "7d5dea7e",
   "metadata": {},
   "outputs": [
    {
     "name": "stdout",
     "output_type": "stream",
     "text": [
      "03:30 PM Monday\n"
     ]
    }
   ],
   "source": [
    "print(f'{ritesh:%I:%M %p} {ritesh:%A}')"
   ]
  },
  {
   "cell_type": "code",
   "execution_count": 10,
   "id": "985d02ac",
   "metadata": {},
   "outputs": [
    {
     "name": "stdout",
     "output_type": "stream",
     "text": [
      "01 01 24 Monday\n"
     ]
    }
   ],
   "source": [
    "print(f'{ritesh:%d %m %y} {ritesh:%A}')"
   ]
  },
  {
   "cell_type": "code",
   "execution_count": 12,
   "id": "5f8f5efd",
   "metadata": {},
   "outputs": [
    {
     "name": "stdout",
     "output_type": "stream",
     "text": [
      "01 January 2024, Monday\n"
     ]
    }
   ],
   "source": [
    "print(f'{ritesh:%d %B %Y}, {ritesh:%A}')"
   ]
  },
  {
   "cell_type": "code",
   "execution_count": 13,
   "id": "9d35d7b6",
   "metadata": {},
   "outputs": [
    {
     "name": "stdout",
     "output_type": "stream",
     "text": [
      "2024-02-29 20:39:20.137254\n"
     ]
    }
   ],
   "source": [
    "print(datetime.now())"
   ]
  },
  {
   "cell_type": "code",
   "execution_count": 14,
   "id": "d0b746c4",
   "metadata": {},
   "outputs": [
    {
     "name": "stdout",
     "output_type": "stream",
     "text": [
      "It is 08 AM! Wake up !!!\n",
      "It is 09 AM! Wake up !!!\n",
      "It is 10 AM! Wake up !!!\n",
      "It is 11 AM! Wake up !!!\n"
     ]
    }
   ],
   "source": [
    "for hour in range(8,12):\n",
    "    print(f'It is {hour:02} AM! Wake up !!!')"
   ]
  },
  {
   "cell_type": "markdown",
   "id": "fe0bf6e9",
   "metadata": {},
   "source": [
    "# Tip 3: calculations"
   ]
  },
  {
   "cell_type": "code",
   "execution_count": 15,
   "id": "a89f8854",
   "metadata": {},
   "outputs": [
    {
     "name": "stdout",
     "output_type": "stream",
     "text": [
      "The total price will be 12\n"
     ]
    }
   ],
   "source": [
    "mangos=5\n",
    "bananas=7\n",
    "print(f'The total price will be {mangos+bananas}')"
   ]
  },
  {
   "cell_type": "markdown",
   "id": "9f2afafb",
   "metadata": {},
   "source": [
    "# Tip 4: Iteration with f string"
   ]
  },
  {
   "cell_type": "code",
   "execution_count": 16,
   "id": "80b657e0",
   "metadata": {},
   "outputs": [
    {
     "name": "stdout",
     "output_type": "stream",
     "text": [
      "i=1,j=2\n",
      "i=1,j=3\n",
      "i=1,j=4\n",
      "i=1,j=5\n",
      "i=1,j=6\n",
      "i=2,j=1\n",
      "i=2,j=3\n",
      "i=2,j=4\n",
      "i=2,j=5\n",
      "i=2,j=6\n",
      "i=3,j=1\n",
      "i=3,j=2\n",
      "i=3,j=4\n",
      "i=3,j=5\n",
      "i=3,j=6\n",
      "i=4,j=1\n",
      "i=4,j=2\n",
      "i=4,j=3\n",
      "i=4,j=5\n",
      "i=4,j=6\n",
      "i=5,j=1\n",
      "i=5,j=2\n",
      "i=5,j=3\n",
      "i=5,j=4\n",
      "i=5,j=6\n",
      "i=6,j=1\n",
      "i=6,j=2\n",
      "i=6,j=3\n",
      "i=6,j=4\n",
      "i=6,j=5\n"
     ]
    }
   ],
   "source": [
    "from itertools import permutations \n",
    "num=[1,2,3,4,5,6]\n",
    "for i , j in permutations(num,2):\n",
    "    print(f'i={i},j={j}')"
   ]
  }
 ],
 "metadata": {
  "kernelspec": {
   "display_name": "Python 3 (ipykernel)",
   "language": "python",
   "name": "python3"
  },
  "language_info": {
   "codemirror_mode": {
    "name": "ipython",
    "version": 3
   },
   "file_extension": ".py",
   "mimetype": "text/x-python",
   "name": "python",
   "nbconvert_exporter": "python",
   "pygments_lexer": "ipython3",
   "version": "3.11.5"
  }
 },
 "nbformat": 4,
 "nbformat_minor": 5
}
