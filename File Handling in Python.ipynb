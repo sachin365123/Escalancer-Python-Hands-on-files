{
 "cells": [
  {
   "cell_type": "code",
   "execution_count": 23,
   "id": "8226e2ab",
   "metadata": {},
   "outputs": [
    {
     "name": "stdout",
     "output_type": "stream",
     "text": [
      "hourly sales Profit Sachin Arjun\n",
      "This course is Data Science and ML\n",
      "\n",
      "\n",
      "\n"
     ]
    }
   ],
   "source": [
    "f = open(\"test.txt\", \"r\")\n",
    "\n",
    "print(f.read())\n",
    "print(f.read())"
   ]
  },
  {
   "cell_type": "code",
   "execution_count": 19,
   "id": "51c59bad",
   "metadata": {},
   "outputs": [
    {
     "name": "stdout",
     "output_type": "stream",
     "text": [
      "This course is Data Science and ML\n",
      "\n"
     ]
    }
   ],
   "source": [
    "# Add the necessary code in between print's\n",
    "# parentheses in order to read the content of test.txt as a list \n",
    "# where each element of the list is a row in the file, \n",
    "# and have the result printed out to the screen.\n",
    "\n",
    "f = open(\"test.txt\", \"r\")\n",
    " \n",
    "print(f.readlines()[1])\n",
    "# f.readlines()\n"
   ]
  },
  {
   "cell_type": "code",
   "execution_count": 9,
   "id": "3c9480b7",
   "metadata": {},
   "outputs": [
    {
     "data": {
      "text/plain": [
       "list"
      ]
     },
     "execution_count": 9,
     "metadata": {},
     "output_type": "execute_result"
    }
   ],
   "source": [
    "type(f.readlines())"
   ]
  },
  {
   "cell_type": "code",
   "execution_count": 10,
   "id": "2eda7e74",
   "metadata": {},
   "outputs": [
    {
     "data": {
      "text/plain": [
       "_io.TextIOWrapper"
      ]
     },
     "execution_count": 10,
     "metadata": {},
     "output_type": "execute_result"
    }
   ],
   "source": [
    "type(f)"
   ]
  },
  {
   "cell_type": "code",
   "execution_count": 28,
   "id": "b91e1abc",
   "metadata": {},
   "outputs": [
    {
     "name": "stdout",
     "output_type": "stream",
     "text": [
      "hourly sales Profit Sachin Arjun\n",
      "This course is Data Science and ML\n",
      "\n",
      "\n",
      "hourly sales Profit Sachin Arjun\n",
      "This course is Data Science and ML\n",
      "\n",
      "\n",
      "hourly sales Profit Sachin Arjun\n",
      "This course is Data Science and ML\n",
      "\n",
      "\n",
      "hourly sales Profit Sachin Arjun\n",
      "This course is Data Science and ML\n",
      "\n",
      "\n"
     ]
    }
   ],
   "source": [
    "# Add the necessary code on line 5 in \n",
    "# order to bring back the cursor at the very beginning \n",
    "# of test.txt before reading from the file once again.\n",
    "\n",
    "f = open(\"test.txt\", \"r\")\n",
    "\n",
    "print(f.read()) # 1\n",
    "f.seek(0)\n",
    "print(f.read()) #2\n",
    "f.seek(0)\n",
    "print(f.read()) #3\n",
    "f.seek(0)\n",
    "print(f.read()) #4 "
   ]
  },
  {
   "cell_type": "code",
   "execution_count": 36,
   "id": "1e01d04f",
   "metadata": {},
   "outputs": [
    {
     "name": "stdout",
     "output_type": "stream",
     "text": [
      "11\n",
      " subject is Maths.\n",
      "This course is Data Science and ML\n",
      "\n",
      "\n"
     ]
    },
    {
     "data": {
      "text/plain": [
       "0"
      ]
     },
     "execution_count": 36,
     "metadata": {},
     "output_type": "execute_result"
    }
   ],
   "source": [
    "# Add the necessary code on line 5 (in between the parentheses of print())\n",
    "# in order to get the current \n",
    "# position of the cursor inside test.txt \n",
    "# and have the result printed out to the screen.\n",
    "\n",
    "f = open(\"test.txt\", \"r\")\n",
    "\n",
    "f.read(11)\n",
    "\n",
    "print(f.tell())\n",
    "print(f.read()) # 1\n",
    "f.seek(0)"
   ]
  },
  {
   "cell_type": "code",
   "execution_count": 43,
   "id": "bcf61ff1",
   "metadata": {},
   "outputs": [
    {
     "name": "stdout",
     "output_type": "stream",
     "text": [
      "r+\n",
      "\n"
     ]
    }
   ],
   "source": [
    "# Add the necessary code on line 5 (in between the parentheses of print()) \n",
    "# in order to get the current mode in which test.txt is open (read, write etc.)\n",
    "# and have the result printed out to the screen.\n",
    "\n",
    "\n",
    "f = open(\"test.txt\", \"r+\")\n",
    "\n",
    "f.read(5)\n",
    "print(f.mode)\n",
    "\n",
    "print()"
   ]
  },
  {
   "cell_type": "code",
   "execution_count": 45,
   "id": "b6e91df1",
   "metadata": {},
   "outputs": [
    {
     "name": "stdout",
     "output_type": "stream",
     "text": [
      "My course is DS and ML\n"
     ]
    }
   ],
   "source": [
    "# Add the necessary code on lines 3 and 4 in \n",
    "# order to write the string python to test.txt and \n",
    "# have the result of reading the file printed out to the screen.\n",
    "\n",
    "\n",
    "f = open(\"test.txt\", \"w\")\n",
    " \n",
    "f.write(\"My course is DS and ML\")\n",
    "f.close()\n",
    " \n",
    "f = open(\"test.txt\", \"r\")\n",
    " \n",
    "print(f.read())"
   ]
  },
  {
   "cell_type": "code",
   "execution_count": 47,
   "id": "c970c848",
   "metadata": {},
   "outputs": [
    {
     "name": "stdout",
     "output_type": "stream",
     "text": [
      "pythonandjava\n"
     ]
    }
   ],
   "source": [
    "# Add the necessary code on lines 3 and 4 in \n",
    "# order to write a list of strings ['python', ' ', 'and', ' ', 'java'] \n",
    "# to test.txt and have the result of reading the file printed out to the screen.\n",
    "\n",
    "f = open(\"test.txt\", \"w\")\n",
    " \n",
    "f.writelines(['python',  'and', 'java'])\n",
    "f.close()\n",
    " \n",
    "f = open(\"test.txt\", \"r\")\n",
    " \n",
    "print(f.read())"
   ]
  },
  {
   "cell_type": "code",
   "execution_count": 49,
   "id": "95a20bc6",
   "metadata": {},
   "outputs": [
    {
     "name": "stdout",
     "output_type": "stream",
     "text": [
      "python\n"
     ]
    }
   ],
   "source": [
    "# Add the necessary code starting at line 1 in \n",
    "# order to write the string python and \n",
    "# also close test.txt properly using the with statement.\n",
    "\n",
    "\n",
    "\n",
    "with open(\"test.txt\", \"w\") as f:\n",
    "    f.write(\"python\")\n",
    " \n",
    "f = open(\"test.txt\", \"r\")\n",
    " \n",
    "print(f.read())"
   ]
  },
  {
   "cell_type": "code",
   "execution_count": null,
   "id": "40e29031",
   "metadata": {},
   "outputs": [],
   "source": []
  }
 ],
 "metadata": {
  "kernelspec": {
   "display_name": "Python 3 (ipykernel)",
   "language": "python",
   "name": "python3"
  },
  "language_info": {
   "codemirror_mode": {
    "name": "ipython",
    "version": 3
   },
   "file_extension": ".py",
   "mimetype": "text/x-python",
   "name": "python",
   "nbconvert_exporter": "python",
   "pygments_lexer": "ipython3",
   "version": "3.11.5"
  }
 },
 "nbformat": 4,
 "nbformat_minor": 5
}
