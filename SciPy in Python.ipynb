{
 "cells": [
  {
   "cell_type": "markdown",
   "id": "6b6513e9",
   "metadata": {},
   "source": [
    "# SciPy in Python"
   ]
  },
  {
   "cell_type": "markdown",
   "id": "2d82e17c",
   "metadata": {},
   "source": [
    "## 1. Basic Polynomial "
   ]
  },
  {
   "cell_type": "code",
   "execution_count": 2,
   "id": "3803dd21",
   "metadata": {},
   "outputs": [
    {
     "name": "stdout",
     "output_type": "stream",
     "text": [
      "   2\n",
      "3 x + 6 x + 9\n"
     ]
    }
   ],
   "source": [
    "from numpy import poly1d\n",
    "p=poly1d([3,6,9])\n",
    "print(p)"
   ]
  },
  {
   "cell_type": "code",
   "execution_count": 4,
   "id": "7065c0a9",
   "metadata": {},
   "outputs": [
    {
     "name": "stdout",
     "output_type": "stream",
     "text": [
      "   2\n",
      "3 x + 6 x + 9\n"
     ]
    }
   ],
   "source": [
    "print(p)"
   ]
  },
  {
   "cell_type": "code",
   "execution_count": 5,
   "id": "68802f9a",
   "metadata": {},
   "outputs": [
    {
     "name": "stdout",
     "output_type": "stream",
     "text": [
      "   4      3      2\n",
      "9 x + 36 x + 90 x + 108 x + 81\n"
     ]
    }
   ],
   "source": [
    "print(p*p)"
   ]
  },
  {
   "cell_type": "code",
   "execution_count": 7,
   "id": "8e77830e",
   "metadata": {},
   "outputs": [
    {
     "data": {
      "text/plain": [
       "poly1d([3, 6, 9])"
      ]
     },
     "execution_count": 7,
     "metadata": {},
     "output_type": "execute_result"
    }
   ],
   "source": [
    "p"
   ]
  },
  {
   "cell_type": "code",
   "execution_count": 6,
   "id": "b498a050",
   "metadata": {},
   "outputs": [
    {
     "name": "stdout",
     "output_type": "stream",
     "text": [
      "p(2)=  33\n"
     ]
    }
   ],
   "source": [
    "print(\"p(2)= \",p(2))"
   ]
  },
  {
   "cell_type": "code",
   "execution_count": 9,
   "id": "e83e2dbc",
   "metadata": {},
   "outputs": [
    {
     "name": "stdout",
     "output_type": "stream",
     "text": [
      "p(2) and p(3)=  [33 54]\n"
     ]
    }
   ],
   "source": [
    "print(\"p(2) and p(3)= \",p([2,3]))"
   ]
  },
  {
   "cell_type": "code",
   "execution_count": 10,
   "id": "0ea2ab64",
   "metadata": {},
   "outputs": [
    {
     "data": {
      "text/plain": [
       "array([-1.+1.41421356j, -1.-1.41421356j])"
      ]
     },
     "execution_count": 10,
     "metadata": {},
     "output_type": "execute_result"
    }
   ],
   "source": [
    "# roots of p\n",
    "p.r"
   ]
  },
  {
   "cell_type": "code",
   "execution_count": 11,
   "id": "3b4aa109",
   "metadata": {},
   "outputs": [
    {
     "data": {
      "text/plain": [
       "poly1d([3, 6, 9])"
      ]
     },
     "execution_count": 11,
     "metadata": {},
     "output_type": "execute_result"
    }
   ],
   "source": [
    "# Coefiicients of p\n",
    "p"
   ]
  },
  {
   "cell_type": "code",
   "execution_count": 15,
   "id": "a918f0fe",
   "metadata": {},
   "outputs": [
    {
     "name": "stdout",
     "output_type": "stream",
     "text": [
      "With respect to Velocity\n",
      "   2\n",
      "3 x + 6 x + 9\n",
      "\n",
      "With respect to Time\n",
      "   2\n",
      "3 t + 6 t + 9\n"
     ]
    }
   ],
   "source": [
    "from numpy import poly1d\n",
    "p=poly1d([3,6,9])\n",
    "\n",
    "print(\"With respect to Velocity\")\n",
    "print(p)\n",
    "p1=poly1d([3,6,9],variable='t')\n",
    "print()\n",
    "print(\"With respect to Time\")\n",
    "print(p1)"
   ]
  },
  {
   "cell_type": "code",
   "execution_count": 20,
   "id": "ff2638cc",
   "metadata": {},
   "outputs": [
    {
     "name": "stdout",
     "output_type": "stream",
     "text": [
      "With respect to Accelearte\n",
      "   2\n",
      "3 a + 6 a + 9\n",
      "------------\n",
      "\n",
      "------------\n",
      "\n",
      "With respect to Time\n",
      "   2\n",
      "3 t + 6 t + 9\n"
     ]
    }
   ],
   "source": [
    "from numpy import poly1d\n",
    "p=poly1d([3,6,9])\n",
    "\n",
    "print(\"With respect to Accelearte\")\n",
    "p1=poly1d([3,6,9],variable='a')\n",
    "print(p1)\n",
    "p2=poly1d([3,6,9],variable='t')\n",
    "print('-'*12)\n",
    "print()\n",
    "print('-'*12)\n",
    "print()\n",
    "print(\"With respect to Time\")\n",
    "print(p2)"
   ]
  },
  {
   "cell_type": "markdown",
   "id": "866d4c5b",
   "metadata": {},
   "source": [
    "## 2. Special Function "
   ]
  },
  {
   "cell_type": "code",
   "execution_count": 21,
   "id": "f6e1ae94",
   "metadata": {},
   "outputs": [
    {
     "data": {
      "text/plain": [
       "array([ 1,  2,  3,  4,  5,  6,  7,  8,  9, 10])"
      ]
     },
     "execution_count": 21,
     "metadata": {},
     "output_type": "execute_result"
    }
   ],
   "source": [
    "import scipy.special \n",
    "import numpy as np\n",
    "a=np.arange(1,11)\n",
    "a"
   ]
  },
  {
   "cell_type": "code",
   "execution_count": 22,
   "id": "f5338561",
   "metadata": {},
   "outputs": [
    {
     "data": {
      "text/plain": [
       "array([1.        , 1.25992105, 1.44224957, 1.58740105, 1.70997595,\n",
       "       1.81712059, 1.91293118, 2.        , 2.08008382, 2.15443469])"
      ]
     },
     "execution_count": 22,
     "metadata": {},
     "output_type": "execute_result"
    }
   ],
   "source": [
    "# Cube Root\n",
    "scipy.special.cbrt(a)"
   ]
  },
  {
   "cell_type": "code",
   "execution_count": 23,
   "id": "fa511b8d",
   "metadata": {},
   "outputs": [
    {
     "data": {
      "text/plain": [
       "1000.0"
      ]
     },
     "execution_count": 23,
     "metadata": {},
     "output_type": "execute_result"
    }
   ],
   "source": [
    "# Exponent of 10 (exp10())\n",
    "x=3\n",
    "scipy.special.exp10(x)"
   ]
  },
  {
   "cell_type": "code",
   "execution_count": 25,
   "id": "9a280385",
   "metadata": {},
   "outputs": [
    {
     "data": {
      "text/plain": [
       "8.0"
      ]
     },
     "execution_count": 25,
     "metadata": {},
     "output_type": "execute_result"
    }
   ],
   "source": [
    "# Exponent of 2 (exp2())\n",
    "x=3\n",
    "scipy.special.exp2(x)"
   ]
  },
  {
   "cell_type": "code",
   "execution_count": 26,
   "id": "9233e0e7",
   "metadata": {},
   "outputs": [
    {
     "data": {
      "text/plain": [
       "0.5267500645255109"
      ]
     },
     "execution_count": 26,
     "metadata": {},
     "output_type": "execute_result"
    }
   ],
   "source": [
    "# Degree of Radian (radian(d,m,s))\n",
    "# Convert from degrees to radians. \n",
    "# Returns the angle given in (d)egrees, (m)inutes, and (s)econds in radian\n",
    "d=30\n",
    "m=10\n",
    "s=50\n",
    "scipy.special.radian(d,m,s)"
   ]
  },
  {
   "cell_type": "code",
   "execution_count": 27,
   "id": "45e01eb0",
   "metadata": {},
   "outputs": [
    {
     "data": {
      "text/plain": [
       "20.0"
      ]
     },
     "execution_count": 27,
     "metadata": {},
     "output_type": "execute_result"
    }
   ],
   "source": [
    "# Permutation\n",
    "scipy.special.perm(5,2)   # 5P2=20"
   ]
  },
  {
   "cell_type": "code",
   "execution_count": 28,
   "id": "dc1d6683",
   "metadata": {},
   "outputs": [
    {
     "data": {
      "text/plain": [
       "10.0"
      ]
     },
     "execution_count": 28,
     "metadata": {},
     "output_type": "execute_result"
    }
   ],
   "source": [
    "# Combination\n",
    "scipy.special.comb(5,2)   # 5C2=20"
   ]
  },
  {
   "cell_type": "markdown",
   "id": "5f056ca4",
   "metadata": {},
   "source": [
    "## 3. Integration "
   ]
  },
  {
   "cell_type": "code",
   "execution_count": 29,
   "id": "c2e6a647",
   "metadata": {},
   "outputs": [
    {
     "data": {
      "text/plain": [
       "9"
      ]
     },
     "execution_count": 29,
     "metadata": {},
     "output_type": "execute_result"
    }
   ],
   "source": [
    "import scipy.integrate\n",
    "f=lambda x:x**2\n",
    "f(3)"
   ]
  },
  {
   "cell_type": "code",
   "execution_count": 30,
   "id": "99a5fc4c",
   "metadata": {},
   "outputs": [
    {
     "data": {
      "text/plain": [
       "36"
      ]
     },
     "execution_count": 30,
     "metadata": {},
     "output_type": "execute_result"
    }
   ],
   "source": [
    "f(6)"
   ]
  },
  {
   "cell_type": "code",
   "execution_count": 31,
   "id": "aea94358",
   "metadata": {},
   "outputs": [
    {
     "data": {
      "text/plain": [
       "15"
      ]
     },
     "execution_count": 31,
     "metadata": {},
     "output_type": "execute_result"
    }
   ],
   "source": [
    "f=lambda x,y:x*y\n",
    "f(3,5)"
   ]
  },
  {
   "cell_type": "code",
   "execution_count": 33,
   "id": "f0dbefa2",
   "metadata": {},
   "outputs": [
    {
     "data": {
      "text/plain": [
       "(2.3333333333333335, 2.590520390792032e-14)"
      ]
     },
     "execution_count": 33,
     "metadata": {},
     "output_type": "execute_result"
    }
   ],
   "source": [
    "f=lambda x:x**2\n",
    "i=scipy.integrate.quad(f,1,2)\n",
    "i"
   ]
  },
  {
   "cell_type": "markdown",
   "id": "7470f95a",
   "metadata": {},
   "source": [
    "## 4. Matrix Manipulations "
   ]
  },
  {
   "cell_type": "code",
   "execution_count": 35,
   "id": "77e1e977",
   "metadata": {},
   "outputs": [
    {
     "data": {
      "text/plain": [
       "array([[1, 2, 3],\n",
       "       [5, 6, 7],\n",
       "       [9, 3, 5]])"
      ]
     },
     "execution_count": 35,
     "metadata": {},
     "output_type": "execute_result"
    }
   ],
   "source": [
    "A=np.array([[1,2,3],[5,6,7],[9,3,5]])\n",
    "A"
   ]
  },
  {
   "cell_type": "code",
   "execution_count": 39,
   "id": "1ff03ace",
   "metadata": {},
   "outputs": [],
   "source": [
    "from scipy import linalg"
   ]
  },
  {
   "cell_type": "code",
   "execution_count": 40,
   "id": "b9ece6bd",
   "metadata": {},
   "outputs": [
    {
     "data": {
      "text/plain": [
       "array([[-0.28125,  0.03125,  0.125  ],\n",
       "       [-1.1875 ,  0.6875 , -0.25   ],\n",
       "       [ 1.21875, -0.46875,  0.125  ]])"
      ]
     },
     "execution_count": 40,
     "metadata": {},
     "output_type": "execute_result"
    }
   ],
   "source": [
    "linalg.inv(A)"
   ]
  },
  {
   "cell_type": "code",
   "execution_count": 48,
   "id": "c2ca4b8a",
   "metadata": {},
   "outputs": [
    {
     "name": "stdout",
     "output_type": "stream",
     "text": [
      "[[ 1.  0.  0.]\n",
      " [-0.  1.  0.]\n",
      " [-0.  0.  1.]]\n"
     ]
    }
   ],
   "source": [
    "# Cross Check A*inv(A)=I\n",
    "I=A.dot(linalg.inv(A))\n",
    "# print(I)\n",
    "print(np.around(I))"
   ]
  },
  {
   "cell_type": "code",
   "execution_count": null,
   "id": "90b5a196",
   "metadata": {},
   "outputs": [],
   "source": []
  }
 ],
 "metadata": {
  "kernelspec": {
   "display_name": "Python 3 (ipykernel)",
   "language": "python",
   "name": "python3"
  },
  "language_info": {
   "codemirror_mode": {
    "name": "ipython",
    "version": 3
   },
   "file_extension": ".py",
   "mimetype": "text/x-python",
   "name": "python",
   "nbconvert_exporter": "python",
   "pygments_lexer": "ipython3",
   "version": "3.11.5"
  }
 },
 "nbformat": 4,
 "nbformat_minor": 5
}
