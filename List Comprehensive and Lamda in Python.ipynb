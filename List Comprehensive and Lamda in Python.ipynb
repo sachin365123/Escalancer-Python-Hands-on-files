{
 "cells": [
  {
   "cell_type": "code",
   "execution_count": 19,
   "id": "40d5cca6",
   "metadata": {},
   "outputs": [
    {
     "name": "stdout",
     "output_type": "stream",
     "text": [
      "[0, 1, 4, 9, 16]\n"
     ]
    }
   ],
   "source": [
    "# Method 2 lines=4  App=4000\n",
    "\n",
    "your_list=[]\n",
    "for i in range(5):\n",
    "    j=i*i\n",
    "    your_list.append(j)\n",
    "    \n",
    "print(your_list)"
   ]
  },
  {
   "cell_type": "code",
   "execution_count": 17,
   "id": "36c93c0f",
   "metadata": {},
   "outputs": [],
   "source": [
    "del your_list\n",
    "# deleting my variable"
   ]
  },
  {
   "cell_type": "markdown",
   "id": "d74d98b5",
   "metadata": {},
   "source": [
    "# List comprehensive"
   ]
  },
  {
   "cell_type": "code",
   "execution_count": 12,
   "id": "d25b924b",
   "metadata": {},
   "outputs": [
    {
     "data": {
      "text/plain": [
       "[0, 1, 2, 3, 4, 5, 6, 7, 8, 9, 10, 11, 12, 13, 14]"
      ]
     },
     "execution_count": 12,
     "metadata": {},
     "output_type": "execute_result"
    }
   ],
   "source": [
    "# Method 1 lines=2  App=2000\n",
    "\n",
    "#List comprehensive\n",
    "mylist=[i for i in range(15)]\n",
    "mylist"
   ]
  },
  {
   "cell_type": "code",
   "execution_count": 13,
   "id": "97c1763e",
   "metadata": {},
   "outputs": [
    {
     "data": {
      "text/plain": [
       "[0, 1, 4, 9, 16]"
      ]
     },
     "execution_count": 13,
     "metadata": {},
     "output_type": "execute_result"
    }
   ],
   "source": [
    "#List comprehensive\n",
    "mylist=[i*i for i in range(5)]\n",
    "mylist"
   ]
  },
  {
   "cell_type": "markdown",
   "id": "7308a2fc",
   "metadata": {},
   "source": [
    "# List Comprehensive in String "
   ]
  },
  {
   "cell_type": "code",
   "execution_count": 20,
   "id": "726fb869",
   "metadata": {},
   "outputs": [
    {
     "data": {
      "text/plain": [
       "['ram', 'shyam', 'vipin']"
      ]
     },
     "execution_count": 20,
     "metadata": {},
     "output_type": "execute_result"
    }
   ],
   "source": [
    "# Limes=2\n",
    "out=[i.lower() for i in [\"RAM\", \"SHYAM\", \"VIPIN\"]]\n",
    "out"
   ]
  },
  {
   "cell_type": "code",
   "execution_count": 23,
   "id": "5c8e87a4",
   "metadata": {},
   "outputs": [
    {
     "name": "stdout",
     "output_type": "stream",
     "text": [
      "['ram', 'shyam', 'vipin']\n"
     ]
    }
   ],
   "source": [
    "# Limes=5\n",
    "\n",
    "your_list=[\"RAM\", \"SHYAM\", \"VIPIN\"]\n",
    "changed_list=[]\n",
    "for i in your_list:\n",
    "#     print(i.lower())\n",
    "    changed_list.append(i.lower())\n",
    "    \n",
    "print(changed_list)"
   ]
  },
  {
   "cell_type": "markdown",
   "id": "fa7bd310",
   "metadata": {},
   "source": [
    "# Math function in List Comprehensive"
   ]
  },
  {
   "cell_type": "code",
   "execution_count": 24,
   "id": "fe384638",
   "metadata": {},
   "outputs": [
    {
     "data": {
      "text/plain": [
       "[2, 4, 6, 8, 10, 12]"
      ]
     },
     "execution_count": 24,
     "metadata": {},
     "output_type": "execute_result"
    }
   ],
   "source": [
    "out1=[i for i in range(2,13) if i%2==0]\n",
    "out1"
   ]
  },
  {
   "cell_type": "code",
   "execution_count": 25,
   "id": "1a6b4d1c",
   "metadata": {},
   "outputs": [
    {
     "name": "stdout",
     "output_type": "stream",
     "text": [
      "[2, 4, 6, 8, 10, 12]\n"
     ]
    }
   ],
   "source": [
    "your_list=[]\n",
    "\n",
    "for i in range(2,13):\n",
    "    if i%2==0:\n",
    "        your_list.append(i)\n",
    "    \n",
    "\n",
    "    \n",
    "print(your_list)"
   ]
  },
  {
   "cell_type": "code",
   "execution_count": 31,
   "id": "cb719e9c",
   "metadata": {},
   "outputs": [
    {
     "name": "stdout",
     "output_type": "stream",
     "text": [
      "2\n",
      "3\n",
      "5\n",
      "9\n",
      "[[1, 3, 5], [2, 2, 5], [2, 3, 4]]\n"
     ]
    }
   ],
   "source": [
    "x = int(input())\n",
    "y = int(input())\n",
    "z = int(input())\n",
    "n = int(input())\n",
    "r = [[i,j,k] for i in range(x+1) for j in range(y+1) for k in range(z+1) if i+j+k == n]\n",
    "print(r)"
   ]
  },
  {
   "cell_type": "markdown",
   "id": "105ad546",
   "metadata": {},
   "source": [
    "### Conventional method "
   ]
  },
  {
   "cell_type": "code",
   "execution_count": 43,
   "id": "4550917c",
   "metadata": {},
   "outputs": [],
   "source": [
    "# Function definition    Lines=3\n",
    "\n",
    "def sachin(x):\n",
    "    x=x**2\n",
    "    return x"
   ]
  },
  {
   "cell_type": "code",
   "execution_count": 38,
   "id": "a8b0fa98",
   "metadata": {},
   "outputs": [
    {
     "name": "stdout",
     "output_type": "stream",
     "text": [
      "49\n"
     ]
    }
   ],
   "source": [
    "# Function calling\n",
    "print(sachin(7))"
   ]
  },
  {
   "cell_type": "code",
   "execution_count": 59,
   "id": "87d41ab0",
   "metadata": {},
   "outputs": [
    {
     "data": {
      "text/plain": [
       "['Pranjal', 'Pathan']"
      ]
     },
     "execution_count": 59,
     "metadata": {},
     "output_type": "execute_result"
    }
   ],
   "source": [
    "movie=[\"Gangswasepur\",\"Avatar\",\"Gangajal\",\"Pranjal\",\"Ganga\",\"Jawan\",\"Gazni\",\"Pathan\",\"Track\",\"Uri\",\"Fighter\"]\n",
    "gmovie=[title for title in movie if title.startswith(\"P\")]\n",
    "gmovie"
   ]
  },
  {
   "cell_type": "code",
   "execution_count": 62,
   "id": "879ccc9c",
   "metadata": {},
   "outputs": [
    {
     "data": {
      "text/plain": [
       "['Gangswasepur', 'Avatar']"
      ]
     },
     "execution_count": 62,
     "metadata": {},
     "output_type": "execute_result"
    }
   ],
   "source": [
    "movie=[(\"Gangswasepur\",2013),(\"Avatar\",2022),(\"Gangajal\",1998),(\"Pranjal\",2012),(\"Ganga\",2012)]\n",
    "gmovie_=[title for (title,year) in movie if year>2012]\n",
    "gmovie_"
   ]
  },
  {
   "cell_type": "code",
   "execution_count": 69,
   "id": "4e1a8aaa",
   "metadata": {},
   "outputs": [
    {
     "data": {
      "text/plain": [
       "[2, 5, 7, 1, 2, 5, 7, 1, 2, 5, 7, 1, 2, 5, 7, 1]"
      ]
     },
     "execution_count": 69,
     "metadata": {},
     "output_type": "execute_result"
    }
   ],
   "source": [
    "v=[2,5,7,1]\n",
    "v=v*4\n",
    "v"
   ]
  },
  {
   "cell_type": "code",
   "execution_count": 70,
   "id": "d82d5ae5",
   "metadata": {},
   "outputs": [
    {
     "data": {
      "text/plain": [
       "[8, 20, 28, 4]"
      ]
     },
     "execution_count": 70,
     "metadata": {},
     "output_type": "execute_result"
    }
   ],
   "source": [
    "v=[2,5,7,1]\n",
    "\n",
    "out2=[4*x for x in v]\n",
    "out2"
   ]
  },
  {
   "cell_type": "code",
   "execution_count": 76,
   "id": "8ef98449",
   "metadata": {},
   "outputs": [
    {
     "name": "stdout",
     "output_type": "stream",
     "text": [
      "[1.0, 5.0, 8.0, 2.0, 5.0, 7.0, 1.0]\n"
     ]
    }
   ],
   "source": [
    "print(list(map(float,[1,5,8,2,5,7,1])))"
   ]
  },
  {
   "cell_type": "code",
   "execution_count": 77,
   "id": "a2c0abdb",
   "metadata": {},
   "outputs": [
    {
     "name": "stdout",
     "output_type": "stream",
     "text": [
      "['1', '5', '8', '2', '5', '7', '1']\n"
     ]
    }
   ],
   "source": [
    "print(list(map(str,[1,5,8,2,5,7,1])))"
   ]
  },
  {
   "cell_type": "code",
   "execution_count": 78,
   "id": "6dec418c",
   "metadata": {},
   "outputs": [
    {
     "data": {
      "text/plain": [
       "['1', '5', '8']"
      ]
     },
     "execution_count": 78,
     "metadata": {},
     "output_type": "execute_result"
    }
   ],
   "source": [
    "y=[str(x) for x in [1,5,8]]\n",
    "y"
   ]
  },
  {
   "cell_type": "code",
   "execution_count": 74,
   "id": "7d044b38",
   "metadata": {},
   "outputs": [
    {
     "data": {
      "text/plain": [
       "5.0"
      ]
     },
     "execution_count": 74,
     "metadata": {},
     "output_type": "execute_result"
    }
   ],
   "source": [
    "var=5\n",
    "float(var)"
   ]
  },
  {
   "cell_type": "markdown",
   "id": "a67811e1",
   "metadata": {},
   "source": [
    "# Lamda in Python"
   ]
  },
  {
   "cell_type": "code",
   "execution_count": 54,
   "id": "836bac4e",
   "metadata": {},
   "outputs": [
    {
     "data": {
      "text/plain": [
       "22"
      ]
     },
     "execution_count": 54,
     "metadata": {},
     "output_type": "execute_result"
    }
   ],
   "source": [
    "# Anonymous function    Lines=1 \n",
    "\n",
    "my_func=lambda x:x+15\n",
    "my_func(7)"
   ]
  },
  {
   "cell_type": "code",
   "execution_count": 51,
   "id": "30f1cfea",
   "metadata": {},
   "outputs": [
    {
     "data": {
      "text/plain": [
       "[8, 125, 512, 1000, 216, 1728, 64, 729]"
      ]
     },
     "execution_count": 51,
     "metadata": {},
     "output_type": "execute_result"
    }
   ],
   "source": [
    "#map function \n",
    "list(map(my_func,[2,5,8,10,6,12,4,9]))"
   ]
  },
  {
   "cell_type": "code",
   "execution_count": null,
   "id": "6de09a0e",
   "metadata": {},
   "outputs": [],
   "source": [
    "#map function \n",
    "list(map(lambda x:x+15,[2,5,8,10,6,12,4,9]))"
   ]
  },
  {
   "cell_type": "code",
   "execution_count": 55,
   "id": "81ad9c56",
   "metadata": {},
   "outputs": [
    {
     "data": {
      "text/plain": [
       "[7, 10, 5, 3, 9]"
      ]
     },
     "execution_count": 55,
     "metadata": {},
     "output_type": "execute_result"
    }
   ],
   "source": [
    "list(map(lambda x:x+2,[5,8,3,1,7]))"
   ]
  },
  {
   "cell_type": "code",
   "execution_count": 56,
   "id": "a823416c",
   "metadata": {},
   "outputs": [
    {
     "data": {
      "text/plain": [
       "[2, 6, 8, 3, 9]"
      ]
     },
     "execution_count": 56,
     "metadata": {},
     "output_type": "execute_result"
    }
   ],
   "source": [
    "my_lis=[1,5,7,2,8]\n",
    "y=list(map(lambda x:x+1, my_lis))\n",
    "y"
   ]
  },
  {
   "cell_type": "markdown",
   "id": "bf211436",
   "metadata": {},
   "source": [
    "## Filter "
   ]
  },
  {
   "cell_type": "code",
   "execution_count": 80,
   "id": "3321b4a6",
   "metadata": {},
   "outputs": [
    {
     "data": {
      "text/plain": [
       "[8, 7, 15, 14, 8]"
      ]
     },
     "execution_count": 80,
     "metadata": {},
     "output_type": "execute_result"
    }
   ],
   "source": [
    "#filter function\n",
    "list(filter(lambda x:x>5,map(int,[1,2,0,5,8,7,15,14,8,2,3])))"
   ]
  },
  {
   "cell_type": "code",
   "execution_count": 81,
   "id": "d3f05535",
   "metadata": {},
   "outputs": [
    {
     "data": {
      "text/plain": [
       "0.5474141999729909"
      ]
     },
     "execution_count": 81,
     "metadata": {},
     "output_type": "execute_result"
    }
   ],
   "source": [
    "from timeit import timeit\n",
    "# List comprehensive\n",
    "timeit(\"[str(x) for x in [1,5,8]]\")"
   ]
  },
  {
   "cell_type": "code",
   "execution_count": 82,
   "id": "28ff2591",
   "metadata": {},
   "outputs": [
    {
     "data": {
      "text/plain": [
       "0.8204779000370763"
      ]
     },
     "execution_count": 82,
     "metadata": {},
     "output_type": "execute_result"
    }
   ],
   "source": [
    "# map function\n",
    "timeit(\"list(map(str,[1,5,8]))\")"
   ]
  },
  {
   "cell_type": "code",
   "execution_count": 83,
   "id": "959bd02e",
   "metadata": {},
   "outputs": [
    {
     "data": {
      "text/plain": [
       "1.9465620999690145"
      ]
     },
     "execution_count": 83,
     "metadata": {},
     "output_type": "execute_result"
    }
   ],
   "source": [
    "timeit(\"list(filter(lambda x:x>5,map(int,[1,2,0,5,8,7,15,14,8,2,3])))\")"
   ]
  }
 ],
 "metadata": {
  "kernelspec": {
   "display_name": "Python 3 (ipykernel)",
   "language": "python",
   "name": "python3"
  },
  "language_info": {
   "codemirror_mode": {
    "name": "ipython",
    "version": 3
   },
   "file_extension": ".py",
   "mimetype": "text/x-python",
   "name": "python",
   "nbconvert_exporter": "python",
   "pygments_lexer": "ipython3",
   "version": "3.11.5"
  }
 },
 "nbformat": 4,
 "nbformat_minor": 5
}
