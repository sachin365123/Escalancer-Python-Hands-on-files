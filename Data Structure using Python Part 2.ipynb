{
 "cells": [
  {
   "cell_type": "markdown",
   "id": "9096c00a",
   "metadata": {},
   "source": [
    "# Take an input of n and return the sum of the numbers from 0 to n"
   ]
  },
  {
   "cell_type": "code",
   "execution_count": null,
   "id": "6153d565",
   "metadata": {},
   "outputs": [],
   "source": []
  },
  {
   "cell_type": "code",
   "execution_count": 35,
   "id": "5bf0a3af",
   "metadata": {},
   "outputs": [],
   "source": [
    "# https://github.com/jmportilla/Python-for-Algorithms--Data-Structures--and-Interviews/tree/master\n",
    "# https://github.com/codebasics/data-structures-algorithms-python"
   ]
  },
  {
   "cell_type": "markdown",
   "id": "ef75fb40",
   "metadata": {},
   "source": [
    "# Big O for Python Data Structures "
   ]
  },
  {
   "cell_type": "markdown",
   "id": "facb5880",
   "metadata": {},
   "source": [
    "## List "
   ]
  },
  {
   "cell_type": "code",
   "execution_count": 17,
   "id": "75772f9c",
   "metadata": {},
   "outputs": [],
   "source": [
    "def method1():\n",
    "    l = []\n",
    "    for n in range(10000):\n",
    "        l = l + [n]\n",
    "#     print(l)\n",
    "\n"
   ]
  },
  {
   "cell_type": "code",
   "execution_count": 5,
   "id": "653172a6",
   "metadata": {},
   "outputs": [],
   "source": [
    "# method1()"
   ]
  },
  {
   "cell_type": "code",
   "execution_count": 18,
   "id": "1ed590ae",
   "metadata": {},
   "outputs": [],
   "source": [
    "def method2():\n",
    "    l = []\n",
    "    for n in range(10000):\n",
    "        l.append(n)\n",
    "#     print(l)\n",
    "\n"
   ]
  },
  {
   "cell_type": "code",
   "execution_count": 8,
   "id": "02b23c7c",
   "metadata": {},
   "outputs": [],
   "source": [
    "# method2()"
   ]
  },
  {
   "cell_type": "code",
   "execution_count": 19,
   "id": "a73ba0e9",
   "metadata": {},
   "outputs": [],
   "source": [
    "def method3():\n",
    "    l = [n for n in range(10000)]\n",
    "#     print(l)\n",
    "\n"
   ]
  },
  {
   "cell_type": "code",
   "execution_count": 11,
   "id": "05bcfa96",
   "metadata": {},
   "outputs": [],
   "source": [
    "# method3()"
   ]
  },
  {
   "cell_type": "code",
   "execution_count": 20,
   "id": "0e24bef2",
   "metadata": {},
   "outputs": [],
   "source": [
    "def method4():\n",
    "    l = list(range(10000))\n",
    "#     print(l)"
   ]
  },
  {
   "cell_type": "code",
   "execution_count": 14,
   "id": "7c370c9a",
   "metadata": {},
   "outputs": [],
   "source": [
    "# method4()"
   ]
  },
  {
   "cell_type": "code",
   "execution_count": 21,
   "id": "7e5056a7",
   "metadata": {},
   "outputs": [
    {
     "name": "stdout",
     "output_type": "stream",
     "text": [
      "191 ms ± 26.7 ms per loop (mean ± std. dev. of 7 runs, 1 loop each)\n",
      "619 µs ± 66.4 µs per loop (mean ± std. dev. of 7 runs, 1,000 loops each)\n",
      "386 µs ± 24.3 µs per loop (mean ± std. dev. of 7 runs, 1,000 loops each)\n",
      "211 µs ± 17.7 µs per loop (mean ± std. dev. of 7 runs, 1,000 loops each)\n"
     ]
    }
   ],
   "source": [
    "%timeit method1()\n",
    "%timeit method2()\n",
    "%timeit method3()\n",
    "%timeit method4()"
   ]
  },
  {
   "cell_type": "code",
   "execution_count": null,
   "id": "3fee2e1e",
   "metadata": {},
   "outputs": [],
   "source": [
    "# method1() < method4() < method3() < method2()"
   ]
  },
  {
   "cell_type": "markdown",
   "id": "69f1ab0a",
   "metadata": {},
   "source": [
    "## Dictionary "
   ]
  },
  {
   "cell_type": "code",
   "execution_count": 22,
   "id": "86ddcadc",
   "metadata": {},
   "outputs": [],
   "source": [
    "d = {'k1':1,'k2':2}"
   ]
  },
  {
   "cell_type": "code",
   "execution_count": 23,
   "id": "e235acca",
   "metadata": {},
   "outputs": [
    {
     "data": {
      "text/plain": [
       "1"
      ]
     },
     "execution_count": 23,
     "metadata": {},
     "output_type": "execute_result"
    }
   ],
   "source": [
    "d['k1']"
   ]
  },
  {
   "cell_type": "markdown",
   "id": "747474d4",
   "metadata": {},
   "source": [
    "# Singly Linked List"
   ]
  },
  {
   "cell_type": "code",
   "execution_count": 24,
   "id": "c79d7380",
   "metadata": {},
   "outputs": [],
   "source": [
    "class Node(object):\n",
    "    \n",
    "    def __init__(self,value):\n",
    "        \n",
    "        self.value = value\n",
    "        self.nextnode = None"
   ]
  },
  {
   "cell_type": "code",
   "execution_count": 25,
   "id": "d3a86595",
   "metadata": {},
   "outputs": [],
   "source": [
    "a = Node(1)\n",
    "b = Node(2)\n",
    "c = Node(3)"
   ]
  },
  {
   "cell_type": "code",
   "execution_count": 26,
   "id": "0fc55ba7",
   "metadata": {},
   "outputs": [],
   "source": [
    "a.nextnode = b"
   ]
  },
  {
   "cell_type": "code",
   "execution_count": 27,
   "id": "7d0c5dba",
   "metadata": {},
   "outputs": [],
   "source": [
    "b.nextnode = c"
   ]
  },
  {
   "cell_type": "code",
   "execution_count": 31,
   "id": "344f7645",
   "metadata": {},
   "outputs": [
    {
     "name": "stdout",
     "output_type": "stream",
     "text": [
      "1\n"
     ]
    }
   ],
   "source": [
    "print(a.value)"
   ]
  },
  {
   "cell_type": "code",
   "execution_count": 38,
   "id": "f5d9e028",
   "metadata": {},
   "outputs": [
    {
     "name": "stdout",
     "output_type": "stream",
     "text": [
      "2\n"
     ]
    }
   ],
   "source": [
    "print(a.nextnode.value)"
   ]
  },
  {
   "cell_type": "code",
   "execution_count": 39,
   "id": "76cee96d",
   "metadata": {},
   "outputs": [
    {
     "name": "stdout",
     "output_type": "stream",
     "text": [
      "3\n"
     ]
    }
   ],
   "source": [
    "print(b.nextnode.value)"
   ]
  },
  {
   "cell_type": "code",
   "execution_count": 40,
   "id": "1083a072",
   "metadata": {},
   "outputs": [
    {
     "name": "stdout",
     "output_type": "stream",
     "text": [
      "3\n"
     ]
    }
   ],
   "source": [
    "print(a.nextnode.nextnode.value)"
   ]
  },
  {
   "cell_type": "code",
   "execution_count": 41,
   "id": "35292f82",
   "metadata": {},
   "outputs": [
    {
     "name": "stdout",
     "output_type": "stream",
     "text": [
      "3\n",
      "3\n",
      "3\n"
     ]
    }
   ],
   "source": [
    "print(a.nextnode.nextnode.value)\n",
    "print(b.nextnode.value)\n",
    "print(c.value)"
   ]
  },
  {
   "cell_type": "code",
   "execution_count": 42,
   "id": "70dfe509",
   "metadata": {},
   "outputs": [
    {
     "name": "stdout",
     "output_type": "stream",
     "text": [
      "None\n"
     ]
    }
   ],
   "source": [
    "print(c.nextnode)"
   ]
  },
  {
   "cell_type": "code",
   "execution_count": 32,
   "id": "7626f373",
   "metadata": {},
   "outputs": [
    {
     "name": "stdout",
     "output_type": "stream",
     "text": [
      "2\n"
     ]
    }
   ],
   "source": [
    "print(b.value)"
   ]
  },
  {
   "cell_type": "code",
   "execution_count": 33,
   "id": "98262fc1",
   "metadata": {},
   "outputs": [
    {
     "name": "stdout",
     "output_type": "stream",
     "text": [
      "3\n"
     ]
    }
   ],
   "source": [
    "print(c.value)"
   ]
  },
  {
   "cell_type": "markdown",
   "id": "a2cf8481",
   "metadata": {},
   "source": [
    "# Doubly Linked List Implementation"
   ]
  },
  {
   "cell_type": "code",
   "execution_count": 43,
   "id": "2fce4ac1",
   "metadata": {},
   "outputs": [],
   "source": [
    "class DoublyLinkedListNode(object):\n",
    "    \n",
    "    def __init__(self,value):\n",
    "        \n",
    "        self.value = value\n",
    "        self.next_node = None\n",
    "        self.prev_node = None"
   ]
  },
  {
   "cell_type": "code",
   "execution_count": 44,
   "id": "28fa7bef",
   "metadata": {},
   "outputs": [],
   "source": [
    "a = DoublyLinkedListNode(55)\n",
    "b = DoublyLinkedListNode(98)\n",
    "c = DoublyLinkedListNode(74)"
   ]
  },
  {
   "cell_type": "code",
   "execution_count": 45,
   "id": "a7705a0c",
   "metadata": {},
   "outputs": [],
   "source": [
    "# Setting b after a\n",
    "b.prev_node = a\n",
    "a.next_node = b"
   ]
  },
  {
   "cell_type": "code",
   "execution_count": 46,
   "id": "154bb0f4",
   "metadata": {},
   "outputs": [],
   "source": [
    "# Setting c after a\n",
    "b.next_node = c\n",
    "c.prev_node = b"
   ]
  },
  {
   "cell_type": "code",
   "execution_count": 48,
   "id": "1d819b9f",
   "metadata": {},
   "outputs": [
    {
     "name": "stdout",
     "output_type": "stream",
     "text": [
      "55\n"
     ]
    }
   ],
   "source": [
    "print(a.value)"
   ]
  },
  {
   "cell_type": "code",
   "execution_count": 50,
   "id": "0e39b6c0",
   "metadata": {},
   "outputs": [
    {
     "name": "stdout",
     "output_type": "stream",
     "text": [
      "98\n"
     ]
    }
   ],
   "source": [
    "print(a.next_node.value)"
   ]
  },
  {
   "cell_type": "code",
   "execution_count": 54,
   "id": "72f0e889",
   "metadata": {},
   "outputs": [
    {
     "name": "stdout",
     "output_type": "stream",
     "text": [
      "74\n"
     ]
    }
   ],
   "source": [
    "print(b.next_node.value)"
   ]
  },
  {
   "cell_type": "code",
   "execution_count": null,
   "id": "05c3654f",
   "metadata": {},
   "outputs": [],
   "source": [
    "# FAANG DSA Questions"
   ]
  },
  {
   "cell_type": "code",
   "execution_count": null,
   "id": "c0c1856e",
   "metadata": {},
   "outputs": [],
   "source": []
  }
 ],
 "metadata": {
  "kernelspec": {
   "display_name": "Python 3 (ipykernel)",
   "language": "python",
   "name": "python3"
  },
  "language_info": {
   "codemirror_mode": {
    "name": "ipython",
    "version": 3
   },
   "file_extension": ".py",
   "mimetype": "text/x-python",
   "name": "python",
   "nbconvert_exporter": "python",
   "pygments_lexer": "ipython3",
   "version": "3.11.5"
  }
 },
 "nbformat": 4,
 "nbformat_minor": 5
}
