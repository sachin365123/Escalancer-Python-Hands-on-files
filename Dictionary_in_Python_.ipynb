{
  "nbformat": 4,
  "nbformat_minor": 0,
  "metadata": {
    "colab": {
      "provenance": []
    },
    "kernelspec": {
      "name": "python3",
      "display_name": "Python 3"
    },
    "language_info": {
      "name": "python"
    }
  },
  "cells": [
    {
      "cell_type": "markdown",
      "source": [
        "# Dictionary in Python"
      ],
      "metadata": {
        "id": "OwiV8B80T2M4"
      }
    },
    {
      "cell_type": "code",
      "execution_count": 1,
      "metadata": {
        "id": "i2QKF3rGPmn-"
      },
      "outputs": [],
      "source": [
        "order = {\"cost\":3.5,\"quantity\":12}"
      ]
    },
    {
      "cell_type": "markdown",
      "source": [
        "# .keys, .values, .items"
      ],
      "metadata": {
        "id": "EAAIU2rkWALy"
      }
    },
    {
      "cell_type": "code",
      "source": [
        "order.keys()"
      ],
      "metadata": {
        "colab": {
          "base_uri": "https://localhost:8080/"
        },
        "id": "V_UsSpIXT4Pr",
        "outputId": "68e2e022-1d53-49fe-f0df-f47a7dc35086"
      },
      "execution_count": 2,
      "outputs": [
        {
          "output_type": "execute_result",
          "data": {
            "text/plain": [
              "dict_keys(['cost', 'quantity'])"
            ]
          },
          "metadata": {},
          "execution_count": 2
        }
      ]
    },
    {
      "cell_type": "code",
      "source": [
        "order.values()"
      ],
      "metadata": {
        "colab": {
          "base_uri": "https://localhost:8080/"
        },
        "id": "IxZCZPdpUCiM",
        "outputId": "730bdc75-39fe-4326-ae86-e3d9a3d06d97"
      },
      "execution_count": 3,
      "outputs": [
        {
          "output_type": "execute_result",
          "data": {
            "text/plain": [
              "dict_values([3.5, 12])"
            ]
          },
          "metadata": {},
          "execution_count": 3
        }
      ]
    },
    {
      "cell_type": "code",
      "source": [
        "order.items()"
      ],
      "metadata": {
        "colab": {
          "base_uri": "https://localhost:8080/"
        },
        "id": "Zjkxu2sEUFD5",
        "outputId": "06fd52d7-c560-4f40-82dc-2cd85ae69f8b"
      },
      "execution_count": 4,
      "outputs": [
        {
          "output_type": "execute_result",
          "data": {
            "text/plain": [
              "dict_items([('cost', 3.5), ('quantity', 12)])"
            ]
          },
          "metadata": {},
          "execution_count": 4
        }
      ]
    },
    {
      "cell_type": "code",
      "source": [
        "order[\"quantity\"]"
      ],
      "metadata": {
        "colab": {
          "base_uri": "https://localhost:8080/"
        },
        "id": "Y-3eWetVUWCX",
        "outputId": "c2238bd3-8930-48fb-e254-c868b9764a74"
      },
      "execution_count": 5,
      "outputs": [
        {
          "output_type": "execute_result",
          "data": {
            "text/plain": [
              "12"
            ]
          },
          "metadata": {},
          "execution_count": 5
        }
      ]
    },
    {
      "cell_type": "markdown",
      "source": [
        "# append in Dictionary"
      ],
      "metadata": {
        "id": "IYt2EpDcVDg9"
      }
    },
    {
      "cell_type": "code",
      "source": [
        "order[\"reviews\"]=4.2\n"
      ],
      "metadata": {
        "id": "SUKfaC4SUu-W"
      },
      "execution_count": 6,
      "outputs": []
    },
    {
      "cell_type": "code",
      "source": [
        "order"
      ],
      "metadata": {
        "colab": {
          "base_uri": "https://localhost:8080/"
        },
        "id": "u2QCKKeYU3gj",
        "outputId": "50481e90-69a7-404a-fac5-95e70e767843"
      },
      "execution_count": 7,
      "outputs": [
        {
          "output_type": "execute_result",
          "data": {
            "text/plain": [
              "{'cost': 3.5, 'quantity': 12, 'reviews': 4.2}"
            ]
          },
          "metadata": {},
          "execution_count": 7
        }
      ]
    },
    {
      "cell_type": "code",
      "source": [
        "order[\"type\"]='Cosmatic'"
      ],
      "metadata": {
        "id": "pjkvv6BbU43e"
      },
      "execution_count": 8,
      "outputs": []
    },
    {
      "cell_type": "code",
      "source": [
        "order"
      ],
      "metadata": {
        "colab": {
          "base_uri": "https://localhost:8080/"
        },
        "id": "p7CGoiy6U_5X",
        "outputId": "dcfe8312-f83d-42ab-f808-2384f4378ce3"
      },
      "execution_count": 9,
      "outputs": [
        {
          "output_type": "execute_result",
          "data": {
            "text/plain": [
              "{'cost': 3.5, 'quantity': 12, 'reviews': 4.2, 'type': 'Cosmatic'}"
            ]
          },
          "metadata": {},
          "execution_count": 9
        }
      ]
    },
    {
      "cell_type": "markdown",
      "source": [
        "#change Distionary"
      ],
      "metadata": {
        "id": "3SXnG50vVJhx"
      }
    },
    {
      "cell_type": "code",
      "source": [
        "order[\"quantity\"]=99"
      ],
      "metadata": {
        "id": "5NtkpavNVLMY"
      },
      "execution_count": 10,
      "outputs": []
    },
    {
      "cell_type": "code",
      "source": [
        "order"
      ],
      "metadata": {
        "colab": {
          "base_uri": "https://localhost:8080/"
        },
        "id": "_zPTHrTbVQvQ",
        "outputId": "1c579366-4bb5-4231-a1fd-5ffc1c105135"
      },
      "execution_count": 11,
      "outputs": [
        {
          "output_type": "execute_result",
          "data": {
            "text/plain": [
              "{'cost': 3.5, 'quantity': 99, 'reviews': 4.2, 'type': 'Cosmatic'}"
            ]
          },
          "metadata": {},
          "execution_count": 11
        }
      ]
    },
    {
      "cell_type": "markdown",
      "source": [
        "# Get function"
      ],
      "metadata": {
        "id": "TAQvMd6TVhDR"
      }
    },
    {
      "cell_type": "code",
      "source": [
        "order.get(\"reviews\")"
      ],
      "metadata": {
        "colab": {
          "base_uri": "https://localhost:8080/"
        },
        "id": "ah9trbLdVRtb",
        "outputId": "443e0646-6748-47fc-ef07-c423554d7282"
      },
      "execution_count": 12,
      "outputs": [
        {
          "output_type": "execute_result",
          "data": {
            "text/plain": [
              "4.2"
            ]
          },
          "metadata": {},
          "execution_count": 12
        }
      ]
    },
    {
      "cell_type": "markdown",
      "source": [
        "# in works with dictionaries too!"
      ],
      "metadata": {
        "id": "9sOFKafsVrXB"
      }
    },
    {
      "cell_type": "code",
      "source": [
        "99 in order"
      ],
      "metadata": {
        "colab": {
          "base_uri": "https://localhost:8080/"
        },
        "id": "pzRr6RM5VgMP",
        "outputId": "99cce062-5195-401b-ef97-517516bc070e"
      },
      "execution_count": 13,
      "outputs": [
        {
          "output_type": "execute_result",
          "data": {
            "text/plain": [
              "False"
            ]
          },
          "metadata": {},
          "execution_count": 13
        }
      ]
    },
    {
      "cell_type": "code",
      "source": [
        "\"quantity\" in order"
      ],
      "metadata": {
        "colab": {
          "base_uri": "https://localhost:8080/"
        },
        "id": "tcFZ8oV3Vwo8",
        "outputId": "c3f31edd-c8b7-4d2a-ac38-cb76f6031871"
      },
      "execution_count": 14,
      "outputs": [
        {
          "output_type": "execute_result",
          "data": {
            "text/plain": [
              "True"
            ]
          },
          "metadata": {},
          "execution_count": 14
        }
      ]
    },
    {
      "cell_type": "markdown",
      "source": [
        "# Update"
      ],
      "metadata": {
        "id": "hG0o5nrZWIHS"
      }
    },
    {
      "cell_type": "code",
      "source": [
        "order.update({\"product\":\"taco\",\"date\":\"03/14/2019\"})"
      ],
      "metadata": {
        "id": "ZdaG_YpsV3bj"
      },
      "execution_count": 15,
      "outputs": []
    },
    {
      "cell_type": "code",
      "source": [
        "order"
      ],
      "metadata": {
        "colab": {
          "base_uri": "https://localhost:8080/"
        },
        "id": "vdD9oV5lWLXE",
        "outputId": "de19beee-2a0f-4906-af58-b29e406740a1"
      },
      "execution_count": 16,
      "outputs": [
        {
          "output_type": "execute_result",
          "data": {
            "text/plain": [
              "{'cost': 3.5,\n",
              " 'quantity': 99,\n",
              " 'reviews': 4.2,\n",
              " 'type': 'Cosmatic',\n",
              " 'product': 'taco',\n",
              " 'date': '03/14/2019'}"
            ]
          },
          "metadata": {},
          "execution_count": 16
        }
      ]
    },
    {
      "cell_type": "markdown",
      "source": [
        "# copy"
      ],
      "metadata": {
        "id": "0MUOJQR0WZbD"
      }
    },
    {
      "cell_type": "code",
      "source": [
        "order2=order.copy()"
      ],
      "metadata": {
        "id": "-mBa8-vWWMgZ"
      },
      "execution_count": 17,
      "outputs": []
    },
    {
      "cell_type": "code",
      "source": [
        "order2"
      ],
      "metadata": {
        "colab": {
          "base_uri": "https://localhost:8080/"
        },
        "id": "PkJ9GVnqWeSR",
        "outputId": "47080561-bc97-4eca-c459-beac378a300e"
      },
      "execution_count": 18,
      "outputs": [
        {
          "output_type": "execute_result",
          "data": {
            "text/plain": [
              "{'cost': 3.5,\n",
              " 'quantity': 99,\n",
              " 'reviews': 4.2,\n",
              " 'type': 'Cosmatic',\n",
              " 'product': 'taco',\n",
              " 'date': '03/14/2019'}"
            ]
          },
          "metadata": {},
          "execution_count": 18
        }
      ]
    },
    {
      "cell_type": "markdown",
      "source": [
        "# pop"
      ],
      "metadata": {
        "id": "70kv1DFuW2_1"
      }
    },
    {
      "cell_type": "code",
      "source": [
        "order.pop(\"product\")"
      ],
      "metadata": {
        "colab": {
          "base_uri": "https://localhost:8080/",
          "height": 35
        },
        "id": "ZL_vcGNDWfb3",
        "outputId": "991da621-dddb-4d29-bcb1-afa129ec415a"
      },
      "execution_count": 19,
      "outputs": [
        {
          "output_type": "execute_result",
          "data": {
            "text/plain": [
              "'taco'"
            ],
            "application/vnd.google.colaboratory.intrinsic+json": {
              "type": "string"
            }
          },
          "metadata": {},
          "execution_count": 19
        }
      ]
    },
    {
      "cell_type": "code",
      "source": [
        "order"
      ],
      "metadata": {
        "colab": {
          "base_uri": "https://localhost:8080/"
        },
        "id": "_8bhfGSfW39G",
        "outputId": "877c1b03-3568-4781-f324-a8ac0c390b26"
      },
      "execution_count": 20,
      "outputs": [
        {
          "output_type": "execute_result",
          "data": {
            "text/plain": [
              "{'cost': 3.5,\n",
              " 'quantity': 99,\n",
              " 'reviews': 4.2,\n",
              " 'type': 'Cosmatic',\n",
              " 'date': '03/14/2019'}"
            ]
          },
          "metadata": {},
          "execution_count": 20
        }
      ]
    },
    {
      "cell_type": "markdown",
      "source": [
        "#  Update / add an element to the dictionary\n"
      ],
      "metadata": {
        "id": "GRHM-ER4XHhz"
      }
    },
    {
      "cell_type": "code",
      "source": [
        "myDict = {'name': 'Sachin', 'age': 26}\n",
        "myDict['address'] = 'Noida'\n",
        "print(myDict)"
      ],
      "metadata": {
        "colab": {
          "base_uri": "https://localhost:8080/"
        },
        "id": "isSerwHqW9Mi",
        "outputId": "dea5ec54-a3c6-4f79-b429-bf46cd15033c"
      },
      "execution_count": 21,
      "outputs": [
        {
          "output_type": "stream",
          "name": "stdout",
          "text": [
            "{'name': 'Sachin', 'age': 26, 'address': 'Noida'}\n"
          ]
        }
      ]
    },
    {
      "cell_type": "markdown",
      "source": [
        "#  Traverse through a dictionary"
      ],
      "metadata": {
        "id": "cejdtj89XWrb"
      }
    },
    {
      "cell_type": "code",
      "source": [
        "def traverseDict(dict):\n",
        "  for priya in dict:\n",
        "    print(priya,dict[priya])\n",
        "\n",
        "traverseDict(myDict)"
      ],
      "metadata": {
        "colab": {
          "base_uri": "https://localhost:8080/"
        },
        "id": "BGT8yl4HXTsf",
        "outputId": "ed255b52-7a87-4307-a14f-882049263a58"
      },
      "execution_count": 23,
      "outputs": [
        {
          "output_type": "stream",
          "name": "stdout",
          "text": [
            "name Sachin\n",
            "age 26\n",
            "address Noida\n"
          ]
        }
      ]
    },
    {
      "cell_type": "markdown",
      "source": [
        "#  Searching a dictionary"
      ],
      "metadata": {
        "id": "GKO02nkSYM50"
      }
    },
    {
      "cell_type": "code",
      "source": [
        "def searchDict(dict, value):\n",
        "  for key in dict:\n",
        "    if dict[key] == value:\n",
        "      return key, value\n",
        "\n",
        "  return value,' The value does not exist'\n",
        "\n",
        "print(myDict)\n",
        "print(searchDict(myDict, 'Jyoti'))\n"
      ],
      "metadata": {
        "colab": {
          "base_uri": "https://localhost:8080/"
        },
        "id": "LCXlOFjfXz8O",
        "outputId": "1c065df3-7a71-4658-d168-1f6f6695b5f8"
      },
      "execution_count": 30,
      "outputs": [
        {
          "output_type": "stream",
          "name": "stdout",
          "text": [
            "{'name': 'Sachin', 'age': 26, 'address': 'Noida'}\n",
            "('Jyoti', ' The value does not exist')\n"
          ]
        }
      ]
    },
    {
      "cell_type": "markdown",
      "source": [
        "#  Delete or remove a dictionary"
      ],
      "metadata": {
        "id": "fwMvB2IMZHyt"
      }
    },
    {
      "cell_type": "code",
      "source": [
        "\n",
        "myDict.pop('name')"
      ],
      "metadata": {
        "colab": {
          "base_uri": "https://localhost:8080/",
          "height": 35
        },
        "id": "-4II_vmoY0fW",
        "outputId": "e9b6f5e9-71a0-4e57-fa07-792fc00d12f0"
      },
      "execution_count": 31,
      "outputs": [
        {
          "output_type": "execute_result",
          "data": {
            "text/plain": [
              "'Sachin'"
            ],
            "application/vnd.google.colaboratory.intrinsic+json": {
              "type": "string"
            }
          },
          "metadata": {},
          "execution_count": 31
        }
      ]
    },
    {
      "cell_type": "code",
      "source": [
        "myDict"
      ],
      "metadata": {
        "colab": {
          "base_uri": "https://localhost:8080/"
        },
        "id": "-xzL48-YZMgJ",
        "outputId": "59dde08b-e68e-47fd-a434-0aa7acd99e2e"
      },
      "execution_count": 32,
      "outputs": [
        {
          "output_type": "execute_result",
          "data": {
            "text/plain": [
              "{'age': 26, 'address': 'Noida'}"
            ]
          },
          "metadata": {},
          "execution_count": 32
        }
      ]
    },
    {
      "cell_type": "markdown",
      "source": [
        "# sorted method"
      ],
      "metadata": {
        "id": "GOtiNZkIZPey"
      }
    },
    {
      "cell_type": "code",
      "source": [
        "myDict = {'eooooa': 1, 'aas': 2, 'udd': 3, 'sseo': 4, 'werwi': 5,'s': 6,'kt': 7}\n",
        "print(sorted(myDict,key=len))"
      ],
      "metadata": {
        "colab": {
          "base_uri": "https://localhost:8080/"
        },
        "id": "0neSAkqLZM_F",
        "outputId": "7c163d49-86e5-450c-f130-2826193605d0"
      },
      "execution_count": 35,
      "outputs": [
        {
          "output_type": "stream",
          "name": "stdout",
          "text": [
            "['s', 'kt', 'aas', 'udd', 'sseo', 'werwi', 'eooooa']\n"
          ]
        }
      ]
    },
    {
      "cell_type": "markdown",
      "source": [
        "# Dictionary Interview Questions\n",
        "\n",
        "\n",
        "# Q-1. What will be the output of the following code snippet?\n",
        "\n",
        "\n"
      ],
      "metadata": {
        "id": "xOCPD8suaFz6"
      }
    },
    {
      "cell_type": "code",
      "source": [
        "a = {(1,2):1,(2,3):2}\n",
        "print(a[1,2])\n",
        "# A. Key Error\n",
        "# B.  1\n",
        "# C. {(2,3):2}\n",
        "# D. {(1,2):1}"
      ],
      "metadata": {
        "id": "9Twx-DAuZZdv"
      },
      "execution_count": null,
      "outputs": []
    },
    {
      "cell_type": "code",
      "source": [
        "a = {(1,2):1,(2,3):2}"
      ],
      "metadata": {
        "id": "0-mnNObsabKu"
      },
      "execution_count": 36,
      "outputs": []
    },
    {
      "cell_type": "code",
      "source": [
        "print(a[2,3])"
      ],
      "metadata": {
        "colab": {
          "base_uri": "https://localhost:8080/"
        },
        "id": "T7QQ2_gyabyd",
        "outputId": "aaf2e85e-6aba-472e-909c-ff892dcdae53"
      },
      "execution_count": 40,
      "outputs": [
        {
          "output_type": "stream",
          "name": "stdout",
          "text": [
            "2\n"
          ]
        }
      ]
    },
    {
      "cell_type": "markdown",
      "source": [
        "# Q-2. What will be the output of the following code snippet?\n",
        "\n"
      ],
      "metadata": {
        "id": "gB6vehPlauNa"
      }
    },
    {
      "cell_type": "code",
      "source": [
        "a = {'a':1,'b':2,'c':3}\n",
        "# print (a['a','b'])\n",
        "# A. Key Error\n",
        "# B. [1,2]\n",
        "# C. {‘a’:1,’b’:2}\n",
        "# D. (1,2)"
      ],
      "metadata": {
        "id": "rc1Bs37Yacgj"
      },
      "execution_count": null,
      "outputs": []
    },
    {
      "cell_type": "code",
      "source": [
        "a = {'a':1,'b':2,'c':3}\n",
        "print (a['a'])"
      ],
      "metadata": {
        "colab": {
          "base_uri": "https://localhost:8080/"
        },
        "id": "yxBI7yyJa51t",
        "outputId": "71fa4feb-eb06-4353-caa3-72245c181445"
      },
      "execution_count": 42,
      "outputs": [
        {
          "output_type": "stream",
          "name": "stdout",
          "text": [
            "1\n"
          ]
        }
      ]
    },
    {
      "cell_type": "code",
      "source": [],
      "metadata": {
        "id": "Ay4N_eoDbBqS"
      },
      "execution_count": null,
      "outputs": []
    }
  ]
}